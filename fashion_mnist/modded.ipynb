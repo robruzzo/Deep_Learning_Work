{
 "cells": [
  {
   "cell_type": "code",
   "execution_count": 1,
   "metadata": {},
   "outputs": [
    {
     "name": "stderr",
     "output_type": "stream",
     "text": [
      "Using TensorFlow backend.\n"
     ]
    }
   ],
   "source": [
    "import keras\n",
    "from keras.layers import Conv2D, MaxPool2D, Flatten\n",
    "from keras.layers import Dense, Dropout\n",
    "from keras.callbacks import TensorBoard, ModelCheckpoint\n",
    "import os\n"
   ]
  },
  {
   "cell_type": "code",
   "execution_count": 2,
   "metadata": {},
   "outputs": [],
   "source": [
    "def load_mnist(path, kind='train'):\n",
    "    import os\n",
    "    import gzip\n",
    "    import numpy as np\n",
    "\n",
    "    \"\"\"Load MNIST data from `path`\"\"\"\n",
    "    labels_path = os.path.join(path,\n",
    "                               '%s-labels-idx1-ubyte.gz'\n",
    "                               % kind)\n",
    "    images_path = os.path.join(path,\n",
    "                               '%s-images-idx3-ubyte.gz'\n",
    "                               % kind)\n",
    "\n",
    "    with gzip.open(labels_path, 'rb') as lbpath:\n",
    "        labels = np.frombuffer(lbpath.read(), dtype=np.uint8,\n",
    "                               offset=8)\n",
    "\n",
    "    with gzip.open(images_path, 'rb') as imgpath:\n",
    "        images = np.frombuffer(imgpath.read(), dtype=np.uint8,\n",
    "                               offset=16).reshape(len(labels), 784)\n",
    "\n",
    "    return images, labels"
   ]
  },
  {
   "cell_type": "code",
   "execution_count": 3,
   "metadata": {},
   "outputs": [],
   "source": [
    "X_train, y_train = load_mnist('../input/mnist_fashion', kind='train')\n",
    "X_test, y_test = load_mnist('../input/mnist_fashion', kind='t10k')"
   ]
  },
  {
   "cell_type": "code",
   "execution_count": 4,
   "metadata": {},
   "outputs": [],
   "source": [
    "model = keras.models.Sequential([\n",
    "    keras.layers.Conv2D(32, (5, 5), padding=\"same\", input_shape=[28, 28, 1]),\n",
    "    keras.layers.MaxPool2D((2,2)),\n",
    "    keras.layers.Conv2D(64, (5, 5), padding=\"same\"),\n",
    "    keras.layers.MaxPool2D((2,2)),\n",
    "    keras.layers.Flatten(),\n",
    "    keras.layers.Dense(1024, activation='relu'),\n",
    "    keras.layers.Dropout(0.5),\n",
    "    keras.layers.Dense(10, activation='softmax')\n",
    "])\n"
   ]
  },
  {
   "cell_type": "code",
   "execution_count": 5,
   "metadata": {},
   "outputs": [
    {
     "name": "stdout",
     "output_type": "stream",
     "text": [
      "_________________________________________________________________\n",
      "Layer (type)                 Output Shape              Param #   \n",
      "=================================================================\n",
      "conv2d_1 (Conv2D)            (None, 28, 28, 32)        832       \n",
      "_________________________________________________________________\n",
      "max_pooling2d_1 (MaxPooling2 (None, 14, 14, 32)        0         \n",
      "_________________________________________________________________\n",
      "conv2d_2 (Conv2D)            (None, 14, 14, 64)        51264     \n",
      "_________________________________________________________________\n",
      "max_pooling2d_2 (MaxPooling2 (None, 7, 7, 64)          0         \n",
      "_________________________________________________________________\n",
      "flatten_1 (Flatten)          (None, 3136)              0         \n",
      "_________________________________________________________________\n",
      "dense_1 (Dense)              (None, 1024)              3212288   \n",
      "_________________________________________________________________\n",
      "dropout_1 (Dropout)          (None, 1024)              0         \n",
      "_________________________________________________________________\n",
      "dense_2 (Dense)              (None, 10)                10250     \n",
      "=================================================================\n",
      "Total params: 3,274,634\n",
      "Trainable params: 3,274,634\n",
      "Non-trainable params: 0\n",
      "_________________________________________________________________\n",
      "None\n"
     ]
    }
   ],
   "source": [
    "print(model.summary())"
   ]
  },
  {
   "cell_type": "code",
   "execution_count": 12,
   "metadata": {},
   "outputs": [],
   "source": [
    "def create_callbacks(name):\n",
    "    tensorboard_callback = TensorBoard(log_dir=os.path.join(os.getcwd(), \"tensorboard_log\", name), write_graph=True, write_grads=False)\n",
    "    checkpoint_callback = ModelCheckpoint(filepath=\"./model-weights-\" + name + \".{epoch:02d}-{val_loss:.6f}.hdf5\", monitor='val_loss',\n",
    "                                          verbose=0, save_best_only=True)\n",
    "    return [tensorboard_callback]"
   ]
  },
  {
   "cell_type": "code",
   "execution_count": 6,
   "metadata": {},
   "outputs": [
    {
     "data": {
      "text/plain": [
       "(60000, 784)"
      ]
     },
     "execution_count": 6,
     "metadata": {},
     "output_type": "execute_result"
    }
   ],
   "source": [
    "X_train.shape\n"
   ]
  },
  {
   "cell_type": "code",
   "execution_count": 7,
   "metadata": {},
   "outputs": [],
   "source": [
    "X_train = X_train.reshape([-1, 28, 28, 1])\n",
    "X_test = X_test.reshape([-1, 28, 28, 1])\n",
    "X_train = X_train/255\n",
    "X_test = X_test/255\n"
   ]
  },
  {
   "cell_type": "code",
   "execution_count": 8,
   "metadata": {},
   "outputs": [],
   "source": [
    "y_train = keras.utils.np_utils.to_categorical(y_train)\n",
    "y_test = keras.utils.np_utils.to_categorical(y_test)\n"
   ]
  },
  {
   "cell_type": "code",
   "execution_count": 14,
   "metadata": {},
   "outputs": [
    {
     "name": "stdout",
     "output_type": "stream",
     "text": [
      "Train on 54000 samples, validate on 6000 samples\n",
      "Epoch 1/25\n",
      "54000/54000 [==============================] - 11s 198us/step - loss: 0.0046 - acc: 0.9985 - val_loss: 0.0318 - val_acc: 0.9925\n",
      "Epoch 2/25\n",
      "54000/54000 [==============================] - 10s 193us/step - loss: 0.0043 - acc: 0.9986 - val_loss: 0.0383 - val_acc: 0.9912\n",
      "Epoch 3/25\n",
      "54000/54000 [==============================] - 10s 193us/step - loss: 0.0046 - acc: 0.9986 - val_loss: 0.0368 - val_acc: 0.9920\n",
      "Epoch 4/25\n",
      "54000/54000 [==============================] - 10s 193us/step - loss: 0.0044 - acc: 0.9984 - val_loss: 0.0363 - val_acc: 0.9913\n",
      "Epoch 5/25\n",
      "54000/54000 [==============================] - 10s 192us/step - loss: 0.0034 - acc: 0.9988 - val_loss: 0.0399 - val_acc: 0.9912\n",
      "Epoch 6/25\n",
      "54000/54000 [==============================] - 10s 192us/step - loss: 0.0035 - acc: 0.9989 - val_loss: 0.0346 - val_acc: 0.9927\n",
      "Epoch 7/25\n",
      "54000/54000 [==============================] - 10s 192us/step - loss: 0.0033 - acc: 0.9991 - val_loss: 0.0347 - val_acc: 0.9925\n",
      "Epoch 8/25\n",
      "54000/54000 [==============================] - 10s 192us/step - loss: 0.0040 - acc: 0.9986 - val_loss: 0.0332 - val_acc: 0.9932\n",
      "Epoch 9/25\n",
      "54000/54000 [==============================] - 10s 192us/step - loss: 0.0023 - acc: 0.9993 - val_loss: 0.0367 - val_acc: 0.9923\n",
      "Epoch 10/25\n",
      "54000/54000 [==============================] - 10s 192us/step - loss: 0.0042 - acc: 0.9986 - val_loss: 0.0349 - val_acc: 0.9920\n",
      "Epoch 11/25\n",
      "54000/54000 [==============================] - 10s 193us/step - loss: 0.0032 - acc: 0.9989 - val_loss: 0.0382 - val_acc: 0.9925\n",
      "Epoch 12/25\n",
      "54000/54000 [==============================] - 10s 193us/step - loss: 0.0026 - acc: 0.9993 - val_loss: 0.0464 - val_acc: 0.9923\n",
      "Epoch 13/25\n",
      "54000/54000 [==============================] - 10s 192us/step - loss: 0.0035 - acc: 0.9989 - val_loss: 0.0382 - val_acc: 0.9930\n",
      "Epoch 14/25\n",
      "54000/54000 [==============================] - 10s 193us/step - loss: 0.0029 - acc: 0.9990 - val_loss: 0.0345 - val_acc: 0.9933\n",
      "Epoch 15/25\n",
      "54000/54000 [==============================] - 10s 194us/step - loss: 0.0025 - acc: 0.9993 - val_loss: 0.0337 - val_acc: 0.9935\n",
      "Epoch 16/25\n",
      "54000/54000 [==============================] - 10s 193us/step - loss: 0.0022 - acc: 0.9993 - val_loss: 0.0380 - val_acc: 0.9940\n",
      "Epoch 17/25\n",
      "54000/54000 [==============================] - 10s 193us/step - loss: 0.0025 - acc: 0.9992 - val_loss: 0.0365 - val_acc: 0.9932\n",
      "Epoch 18/25\n",
      "54000/54000 [==============================] - 10s 193us/step - loss: 0.0017 - acc: 0.9995 - val_loss: 0.0493 - val_acc: 0.9915\n",
      "Epoch 19/25\n",
      "54000/54000 [==============================] - 10s 193us/step - loss: 0.0027 - acc: 0.9991 - val_loss: 0.0383 - val_acc: 0.9927\n",
      "Epoch 20/25\n",
      "54000/54000 [==============================] - 10s 193us/step - loss: 0.0022 - acc: 0.9991 - val_loss: 0.0388 - val_acc: 0.9928\n",
      "Epoch 21/25\n",
      "54000/54000 [==============================] - 10s 193us/step - loss: 0.0032 - acc: 0.9990 - val_loss: 0.0361 - val_acc: 0.9930\n",
      "Epoch 22/25\n",
      "54000/54000 [==============================] - 10s 192us/step - loss: 0.0022 - acc: 0.9993 - val_loss: 0.0420 - val_acc: 0.9923\n",
      "Epoch 23/25\n",
      "54000/54000 [==============================] - 10s 192us/step - loss: 0.0019 - acc: 0.9993 - val_loss: 0.0372 - val_acc: 0.9935\n",
      "Epoch 24/25\n",
      "54000/54000 [==============================] - 10s 192us/step - loss: 0.0021 - acc: 0.9993 - val_loss: 0.0396 - val_acc: 0.9923\n",
      "Epoch 25/25\n",
      "54000/54000 [==============================] - 10s 193us/step - loss: 0.0016 - acc: 0.9996 - val_loss: 0.0409 - val_acc: 0.9927\n"
     ]
    },
    {
     "data": {
      "text/plain": [
       "<keras.callbacks.History at 0x7f24b62307b8>"
      ]
     },
     "execution_count": 14,
     "metadata": {},
     "output_type": "execute_result"
    }
   ],
   "source": [
    "model.compile(keras.optimizers.Adam(1e-4), loss='categorical_crossentropy', metrics=['accuracy'])\n",
    "model.fit(X_train, y_train, validation_split=0.10, batch_size=64, epochs=25, verbose=1, callbacks=create_callbacks(\"fashion_mnist\"))\n"
   ]
  },
  {
   "cell_type": "code",
   "execution_count": 10,
   "metadata": {},
   "outputs": [
    {
     "name": "stdout",
     "output_type": "stream",
     "text": [
      "10000/10000 [==============================] - 1s 83us/step\n"
     ]
    }
   ],
   "source": [
    "test_loss, test_accuracy = model.evaluate(X_test, y_test, verbose=1)\n"
   ]
  },
  {
   "cell_type": "code",
   "execution_count": 11,
   "metadata": {},
   "outputs": [
    {
     "name": "stdout",
     "output_type": "stream",
     "text": [
      "0.02750000033098677 0.9934\n"
     ]
    }
   ],
   "source": [
    "print(test_loss, test_accuracy)"
   ]
  },
  {
   "cell_type": "code",
   "execution_count": 15,
   "metadata": {},
   "outputs": [],
   "source": [
    "# Save your model weights\n",
    "model.save(\"fashion_mnist.h5\")"
   ]
  },
  {
   "cell_type": "code",
   "execution_count": null,
   "metadata": {},
   "outputs": [],
   "source": []
  }
 ],
 "metadata": {
  "kernelspec": {
   "display_name": "Python 3",
   "language": "python",
   "name": "python3"
  },
  "language_info": {
   "codemirror_mode": {
    "name": "ipython",
    "version": 3
   },
   "file_extension": ".py",
   "mimetype": "text/x-python",
   "name": "python",
   "nbconvert_exporter": "python",
   "pygments_lexer": "ipython3",
   "version": "3.6.5"
  }
 },
 "nbformat": 4,
 "nbformat_minor": 2
}
