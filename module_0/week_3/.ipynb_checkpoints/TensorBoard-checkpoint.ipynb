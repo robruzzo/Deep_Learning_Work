{
 "cells": [
  {
   "cell_type": "code",
   "execution_count": 1,
   "metadata": {},
   "outputs": [
    {
     "name": "stderr",
     "output_type": "stream",
     "text": [
      "C:\\Users\\rruzzo\\Anaconda3\\lib\\site-packages\\h5py\\__init__.py:36: FutureWarning: Conversion of the second argument of issubdtype from `float` to `np.floating` is deprecated. In future, it will be treated as `np.float64 == np.dtype(float).type`.\n",
      "  from ._conv import register_converters as _register_converters\n"
     ]
    }
   ],
   "source": [
    "import os\n",
    "from tensorboard import default\n",
    "from tensorboard import program"
   ]
  },
  {
   "cell_type": "code",
   "execution_count": null,
   "metadata": {
    "scrolled": false
   },
   "outputs": [
    {
     "name": "stdout",
     "output_type": "stream",
     "text": [
      "INFO:tensorflow:Event Multiplexer initializing.\n",
      "INFO:tensorflow:Event Multiplexer done initializing\n",
      "INFO:tensorflow:TensorBoard reload process beginning\n",
      "INFO:tensorflow:Starting AddRunsFromDirectory: C:\\Users\\rruzzo\\Documents\\GitHub\\Deep_Learning_Work\\module_0\\week_3\\logs\n",
      "INFO:tensorflow:GetLogdirSubdirectories: Starting to list directories via walking.\n",
      "INFO:tensorflow:Done with AddRunsFromDirectory: C:\\Users\\rruzzo\\Documents\\GitHub\\Deep_Learning_Work\\module_0\\week_3\\logs\n",
      "INFO:tensorflow:TensorBoard reload process: Reload the whole Multiplexer\n",
      "INFO:tensorflow:Beginning EventMultiplexer.Reload()\n",
      "INFO:tensorflow:Reloading runs serially (one after another) on the main thread.\n",
      "INFO:tensorflow:Finished with EventMultiplexer.Reload()\n",
      "INFO:tensorflow:TensorBoard done reloading. Load took 0.047 secs\n"
     ]
    },
    {
     "name": "stderr",
     "output_type": "stream",
     "text": [
      "TensorBoard 1.10.0 at http://DESKTOP-V3AEQVL:6006 (Press CTRL+C to quit)\n",
      "172.20.40.81 - - [28/Sep/2018 17:11:38] \"\u001b[37mGET / HTTP/1.1\u001b[0m\" 200 -\n"
     ]
    },
    {
     "name": "stdout",
     "output_type": "stream",
     "text": [
      "WARNING:tensorflow:path /[[_dataImageSrc]] not found, sending 404\n"
     ]
    },
    {
     "name": "stderr",
     "output_type": "stream",
     "text": [
      "172.20.40.81 - - [28/Sep/2018 17:11:38] \"\u001b[33mGET /[[_dataImageSrc]] HTTP/1.1\u001b[0m\" 404 -\n"
     ]
    },
    {
     "name": "stdout",
     "output_type": "stream",
     "text": [
      "WARNING:tensorflow:path /[[_imageURL]] not found, sending 404\n"
     ]
    },
    {
     "name": "stderr",
     "output_type": "stream",
     "text": [
      "172.20.40.81 - - [28/Sep/2018 17:11:38] \"\u001b[33mGET /[[_imageURL]] HTTP/1.1\u001b[0m\" 404 -\n",
      "172.20.40.81 - - [28/Sep/2018 17:11:38] \"\u001b[37mGET /font-roboto/oMMgfZMQthOryQo9n22dcuvvDin1pK8aKteLpeZ5c0A.woff2 HTTP/1.1\u001b[0m\" 200 -\n",
      "172.20.40.81 - - [28/Sep/2018 17:11:40] \"\u001b[37mGET /data/runs HTTP/1.1\u001b[0m\" 200 -\n",
      "172.20.40.81 - - [28/Sep/2018 17:11:40] \"\u001b[37mGET /data/experiments HTTP/1.1\u001b[0m\" 200 -\n",
      "172.20.40.81 - - [28/Sep/2018 17:11:40] \"\u001b[37mGET /data/environment HTTP/1.1\u001b[0m\" 200 -\n"
     ]
    },
    {
     "name": "stdout",
     "output_type": "stream",
     "text": [
      "INFO:tensorflow:Plugin listing: is_active() for core took 0.000 seconds\n",
      "INFO:tensorflow:Plugin listing: is_active() for beholder took 0.000 seconds\n"
     ]
    },
    {
     "name": "stderr",
     "output_type": "stream",
     "text": [
      "172.20.40.81 - - [28/Sep/2018 17:11:40] \"\u001b[37mGET /font-roboto/RxZJdnzeo3R5zSexge8UUZBw1xU1rKptJj_0jans920.woff2 HTTP/1.1\u001b[0m\" 200 -\n"
     ]
    },
    {
     "name": "stdout",
     "output_type": "stream",
     "text": [
      "INFO:tensorflow:Plugin listing: is_active() for scalars took 0.000 seconds\n",
      "INFO:tensorflow:Plugin listing: is_active() for custom_scalars took 0.000 seconds\n",
      "INFO:tensorflow:Plugin listing: is_active() for images took 0.000 seconds\n",
      "INFO:tensorflow:Plugin listing: is_active() for audio took 0.000 seconds\n",
      "INFO:tensorflow:Plugin listing: is_active() for graphs took 0.000 seconds\n",
      "INFO:tensorflow:Plugin listing: is_active() for distributions took 0.000 seconds\n",
      "INFO:tensorflow:Plugin listing: is_active() for histograms took 0.000 seconds\n",
      "INFO:tensorflow:Plugin listing: is_active() for pr_curves took 0.000 seconds\n",
      "INFO:tensorflow:Plugin listing: is_active() for projector took 0.000 seconds\n",
      "INFO:tensorflow:TextPlugin computing index_impl() in a new thread\n",
      "INFO:tensorflow:Plugin listing: is_active() for text took 0.000 seconds\n",
      "INFO:tensorflow:TextPlugin index_impl() thread ending after 0.000 sec\n",
      "INFO:tensorflow:Plugin listing: is_active() for profile took 0.000 seconds\n"
     ]
    },
    {
     "name": "stderr",
     "output_type": "stream",
     "text": [
      "172.20.40.81 - - [28/Sep/2018 17:11:40] \"\u001b[37mGET /data/plugins_listing HTTP/1.1\u001b[0m\" 200 -\n",
      "172.20.40.81 - - [28/Sep/2018 17:11:40] \"\u001b[37mGET /font-roboto/d-6IYplOFocCacKzxwXSOJBw1xU1rKptJj_0jans920.woff2 HTTP/1.1\u001b[0m\" 200 -\n",
      "172.20.40.81 - - [28/Sep/2018 17:11:40] \"\u001b[37mGET /font-roboto/vPcynSL0qHq_6dX7lKVByXYhjbSpvc47ee6xR_80Hnw.woff2 HTTP/1.1\u001b[0m\" 200 -\n"
     ]
    },
    {
     "name": "stdout",
     "output_type": "stream",
     "text": [
      "INFO:tensorflow:TensorBoard reload process beginning\n",
      "INFO:tensorflow:Starting AddRunsFromDirectory: C:\\Users\\rruzzo\\Documents\\GitHub\\Deep_Learning_Work\\module_0\\week_3\\logs\n",
      "INFO:tensorflow:GetLogdirSubdirectories: Starting to list directories via walking.\n",
      "INFO:tensorflow:Done with AddRunsFromDirectory: C:\\Users\\rruzzo\\Documents\\GitHub\\Deep_Learning_Work\\module_0\\week_3\\logs\n",
      "INFO:tensorflow:TensorBoard reload process: Reload the whole Multiplexer\n",
      "INFO:tensorflow:Beginning EventMultiplexer.Reload()\n",
      "INFO:tensorflow:Reloading runs serially (one after another) on the main thread.\n",
      "INFO:tensorflow:Finished with EventMultiplexer.Reload()\n",
      "INFO:tensorflow:TensorBoard done reloading. Load took 0.000 secs\n"
     ]
    },
    {
     "name": "stderr",
     "output_type": "stream",
     "text": [
      "172.20.40.81 - - [28/Sep/2018 17:11:41] \"\u001b[37mGET /data/environment HTTP/1.1\u001b[0m\" 200 -\n"
     ]
    },
    {
     "name": "stdout",
     "output_type": "stream",
     "text": [
      "INFO:tensorflow:Plugin listing: is_active() for core took 0.000 seconds\n",
      "INFO:tensorflow:Plugin listing: is_active() for beholder took 0.000 seconds\n"
     ]
    },
    {
     "name": "stderr",
     "output_type": "stream",
     "text": [
      "172.20.40.81 - - [28/Sep/2018 17:11:41] \"\u001b[37mGET /data/runs HTTP/1.1\u001b[0m\" 200 -\n",
      "172.20.40.81 - - [28/Sep/2018 17:11:41] \"\u001b[37mGET /data/experiments HTTP/1.1\u001b[0m\" 200 -\n"
     ]
    },
    {
     "name": "stdout",
     "output_type": "stream",
     "text": [
      "INFO:tensorflow:Plugin listing: is_active() for scalars took 0.000 seconds\n",
      "INFO:tensorflow:Plugin listing: is_active() for custom_scalars took 0.000 seconds\n",
      "INFO:tensorflow:Plugin listing: is_active() for images took 0.000 seconds\n",
      "INFO:tensorflow:Plugin listing: is_active() for audio took 0.000 seconds\n",
      "INFO:tensorflow:Plugin listing: is_active() for graphs took 0.000 seconds\n",
      "INFO:tensorflow:Plugin listing: is_active() for distributions took 0.000 seconds\n",
      "INFO:tensorflow:Plugin listing: is_active() for histograms took 0.000 seconds\n",
      "INFO:tensorflow:Plugin listing: is_active() for pr_curves took 0.000 seconds\n",
      "INFO:tensorflow:Plugin listing: is_active() for projector took 0.000 seconds\n",
      "INFO:tensorflow:TextPlugin computing index_impl() in a new thread\n",
      "INFO:tensorflow:Plugin listing: is_active() for text took 0.000 seconds\n",
      "INFO:tensorflow:TextPlugin index_impl() thread ending after 0.000 sec\n",
      "INFO:tensorflow:Plugin listing: is_active() for profile took 0.000 seconds\n"
     ]
    },
    {
     "name": "stderr",
     "output_type": "stream",
     "text": [
      "172.20.40.81 - - [28/Sep/2018 17:11:41] \"\u001b[37mGET /data/plugins_listing HTTP/1.1\u001b[0m\" 200 -\n"
     ]
    },
    {
     "name": "stdout",
     "output_type": "stream",
     "text": [
      "INFO:tensorflow:TensorBoard reload process beginning\n",
      "INFO:tensorflow:Starting AddRunsFromDirectory: C:\\Users\\rruzzo\\Documents\\GitHub\\Deep_Learning_Work\\module_0\\week_3\\logs\n",
      "INFO:tensorflow:GetLogdirSubdirectories: Starting to list directories via walking.\n",
      "INFO:tensorflow:Done with AddRunsFromDirectory: C:\\Users\\rruzzo\\Documents\\GitHub\\Deep_Learning_Work\\module_0\\week_3\\logs\n",
      "INFO:tensorflow:TensorBoard reload process: Reload the whole Multiplexer\n",
      "INFO:tensorflow:Beginning EventMultiplexer.Reload()\n",
      "INFO:tensorflow:Reloading runs serially (one after another) on the main thread.\n",
      "INFO:tensorflow:Finished with EventMultiplexer.Reload()\n",
      "INFO:tensorflow:TensorBoard done reloading. Load took 0.000 secs\n",
      "INFO:tensorflow:TensorBoard reload process beginning\n",
      "INFO:tensorflow:Starting AddRunsFromDirectory: C:\\Users\\rruzzo\\Documents\\GitHub\\Deep_Learning_Work\\module_0\\week_3\\logs\n",
      "INFO:tensorflow:GetLogdirSubdirectories: Starting to list directories via walking.\n",
      "INFO:tensorflow:Done with AddRunsFromDirectory: C:\\Users\\rruzzo\\Documents\\GitHub\\Deep_Learning_Work\\module_0\\week_3\\logs\n",
      "INFO:tensorflow:TensorBoard reload process: Reload the whole Multiplexer\n",
      "INFO:tensorflow:Beginning EventMultiplexer.Reload()\n",
      "INFO:tensorflow:Reloading runs serially (one after another) on the main thread.\n",
      "INFO:tensorflow:Finished with EventMultiplexer.Reload()\n",
      "INFO:tensorflow:TensorBoard done reloading. Load took 0.000 secs\n",
      "INFO:tensorflow:TensorBoard reload process beginning\n",
      "INFO:tensorflow:Starting AddRunsFromDirectory: C:\\Users\\rruzzo\\Documents\\GitHub\\Deep_Learning_Work\\module_0\\week_3\\logs\n",
      "INFO:tensorflow:GetLogdirSubdirectories: Starting to list directories via walking.\n",
      "INFO:tensorflow:Done with AddRunsFromDirectory: C:\\Users\\rruzzo\\Documents\\GitHub\\Deep_Learning_Work\\module_0\\week_3\\logs\n",
      "INFO:tensorflow:TensorBoard reload process: Reload the whole Multiplexer\n",
      "INFO:tensorflow:Beginning EventMultiplexer.Reload()\n",
      "INFO:tensorflow:Reloading runs serially (one after another) on the main thread.\n",
      "INFO:tensorflow:Finished with EventMultiplexer.Reload()\n",
      "INFO:tensorflow:TensorBoard done reloading. Load took 0.016 secs\n",
      "INFO:tensorflow:TensorBoard reload process beginning\n",
      "INFO:tensorflow:Starting AddRunsFromDirectory: C:\\Users\\rruzzo\\Documents\\GitHub\\Deep_Learning_Work\\module_0\\week_3\\logs\n",
      "INFO:tensorflow:GetLogdirSubdirectories: Starting to list directories via walking.\n",
      "INFO:tensorflow:Done with AddRunsFromDirectory: C:\\Users\\rruzzo\\Documents\\GitHub\\Deep_Learning_Work\\module_0\\week_3\\logs\n",
      "INFO:tensorflow:TensorBoard reload process: Reload the whole Multiplexer\n",
      "INFO:tensorflow:Beginning EventMultiplexer.Reload()\n",
      "INFO:tensorflow:Reloading runs serially (one after another) on the main thread.\n",
      "INFO:tensorflow:Finished with EventMultiplexer.Reload()\n",
      "INFO:tensorflow:TensorBoard done reloading. Load took 0.016 secs\n",
      "INFO:tensorflow:TensorBoard reload process beginning\n",
      "INFO:tensorflow:Starting AddRunsFromDirectory: C:\\Users\\rruzzo\\Documents\\GitHub\\Deep_Learning_Work\\module_0\\week_3\\logs\n",
      "INFO:tensorflow:GetLogdirSubdirectories: Starting to list directories via walking.\n",
      "INFO:tensorflow:Done with AddRunsFromDirectory: C:\\Users\\rruzzo\\Documents\\GitHub\\Deep_Learning_Work\\module_0\\week_3\\logs\n",
      "INFO:tensorflow:TensorBoard reload process: Reload the whole Multiplexer\n",
      "INFO:tensorflow:Beginning EventMultiplexer.Reload()\n",
      "INFO:tensorflow:Reloading runs serially (one after another) on the main thread.\n",
      "INFO:tensorflow:Finished with EventMultiplexer.Reload()\n",
      "INFO:tensorflow:TensorBoard done reloading. Load took 0.000 secs\n",
      "INFO:tensorflow:TensorBoard reload process beginning\n",
      "INFO:tensorflow:Starting AddRunsFromDirectory: C:\\Users\\rruzzo\\Documents\\GitHub\\Deep_Learning_Work\\module_0\\week_3\\logs\n",
      "INFO:tensorflow:GetLogdirSubdirectories: Starting to list directories via walking.\n",
      "INFO:tensorflow:Adding run from directory C:\\Users\\rruzzo\\Documents\\GitHub\\Deep_Learning_Work\\module_0\\week_3\\logs\n",
      "INFO:tensorflow:Constructing EventAccumulator for C:\\Users\\rruzzo\\Documents\\GitHub\\Deep_Learning_Work\\module_0\\week_3\\logs\n"
     ]
    },
    {
     "name": "stderr",
     "output_type": "stream",
     "text": [
      "172.20.40.81 - - [28/Sep/2018 17:12:11] \"\u001b[37mGET /data/environment HTTP/1.1\u001b[0m\" 200 -\n"
     ]
    },
    {
     "name": "stdout",
     "output_type": "stream",
     "text": [
      "INFO:tensorflow:Plugin listing: is_active() for core took 0.000 seconds\n"
     ]
    },
    {
     "name": "stderr",
     "output_type": "stream",
     "text": [
      "172.20.40.81 - - [28/Sep/2018 17:12:11] \"\u001b[37mGET /data/runs HTTP/1.1\u001b[0m\" 200 -\n",
      "172.20.40.81 - - [28/Sep/2018 17:12:11] \"\u001b[37mGET /data/experiments HTTP/1.1\u001b[0m\" 200 -\n"
     ]
    },
    {
     "name": "stdout",
     "output_type": "stream",
     "text": [
      "INFO:tensorflow:Plugin listing: is_active() for beholder took 0.047 seconds\n",
      "INFO:tensorflow:Plugin listing: is_active() for scalars took 0.000 seconds\n",
      "INFO:tensorflow:Plugin listing: is_active() for custom_scalars took 0.000 seconds\n",
      "INFO:tensorflow:Plugin listing: is_active() for images took 0.000 seconds\n",
      "INFO:tensorflow:Plugin listing: is_active() for audio took 0.000 seconds\n",
      "INFO:tensorflow:Plugin listing: is_active() for graphs took 0.000 seconds\n",
      "INFO:tensorflow:Plugin listing: is_active() for distributions took 0.234 seconds\n",
      "INFO:tensorflow:Plugin listing: is_active() for histograms took 0.000 seconds\n",
      "INFO:tensorflow:Plugin listing: is_active() for pr_curves took 0.000 seconds\n",
      "INFO:tensorflow:Plugin listing: is_active() for projector took 0.031 seconds\n",
      "INFO:tensorflow:TextPlugin computing index_impl() in a new thread\n",
      "INFO:tensorflow:Plugin listing: is_active() for text took 0.016 seconds\n",
      "INFO:tensorflow:TextPlugin index_impl() thread ending after 0.000 sec\n",
      "INFO:tensorflow:Plugin listing: is_active() for profile took 0.016 seconds\n"
     ]
    },
    {
     "name": "stderr",
     "output_type": "stream",
     "text": [
      "172.20.40.81 - - [28/Sep/2018 17:12:12] \"\u001b[37mGET /data/plugins_listing HTTP/1.1\u001b[0m\" 200 -\n"
     ]
    },
    {
     "name": "stdout",
     "output_type": "stream",
     "text": [
      "INFO:tensorflow:Plugin listing: is_active() for core took 0.000 seconds\n"
     ]
    },
    {
     "name": "stderr",
     "output_type": "stream",
     "text": [
      "172.20.40.81 - - [28/Sep/2018 17:12:12] \"\u001b[37mGET /data/plugin/graphs/runs HTTP/1.1\u001b[0m\" 200 -\n"
     ]
    },
    {
     "name": "stdout",
     "output_type": "stream",
     "text": [
      "INFO:tensorflow:Plugin listing: is_active() for beholder took 0.031 seconds\n",
      "INFO:tensorflow:Plugin listing: is_active() for scalars took 0.000 seconds\n"
     ]
    },
    {
     "name": "stderr",
     "output_type": "stream",
     "text": [
      "172.20.40.81 - - [28/Sep/2018 17:12:12] \"\u001b[37mGET /data/plugin/graphs/run_metadata_tags HTTP/1.1\u001b[0m\" 200 -\n"
     ]
    },
    {
     "name": "stdout",
     "output_type": "stream",
     "text": [
      "INFO:tensorflow:Plugin listing: is_active() for core took 0.000 seconds\n",
      "INFO:tensorflow:Plugin listing: is_active() for custom_scalars took 0.000 seconds\n",
      "INFO:tensorflow:Plugin listing: is_active() for beholder took 0.016 seconds\n",
      "INFO:tensorflow:Plugin listing: is_active() for images took 0.000 seconds\n",
      "INFO:tensorflow:Plugin listing: is_active() for scalars took 0.000 seconds\n",
      "INFO:tensorflow:Plugin listing: is_active() for audio took 0.000 seconds\n",
      "INFO:tensorflow:Plugin listing: is_active() for custom_scalars took 0.000 seconds\n",
      "INFO:tensorflow:Plugin listing: is_active() for graphs took 0.000 seconds\n",
      "INFO:tensorflow:Plugin listing: is_active() for images took 0.000 seconds\n",
      "INFO:tensorflow:Plugin listing: is_active() for distributions took 0.000 seconds\n"
     ]
    },
    {
     "name": "stderr",
     "output_type": "stream",
     "text": [
      "172.20.40.81 - - [28/Sep/2018 17:12:14] \"\u001b[37mGET /data/plugin/graphs/graph?large_attrs_key=_too_large_attrs&limit_attr_size=1024&run=. HTTP/1.1\u001b[0m\" 200 -\n"
     ]
    },
    {
     "name": "stdout",
     "output_type": "stream",
     "text": [
      "INFO:tensorflow:Plugin listing: is_active() for audio took 0.000 seconds\n",
      "INFO:tensorflow:Plugin listing: is_active() for graphs took 0.000 seconds\n",
      "INFO:tensorflow:Plugin listing: is_active() for histograms took 0.000 seconds\n",
      "INFO:tensorflow:Plugin listing: is_active() for distributions took 0.000 seconds\n",
      "INFO:tensorflow:Plugin listing: is_active() for pr_curves took 0.000 seconds\n",
      "INFO:tensorflow:Plugin listing: is_active() for histograms took 0.047 seconds\n",
      "INFO:tensorflow:Plugin listing: is_active() for projector took 0.031 seconds\n",
      "INFO:tensorflow:Plugin listing: is_active() for pr_curves took 0.000 seconds\n",
      "INFO:tensorflow:TextPlugin computing index_impl() in a new thread\n",
      "INFO:tensorflow:Plugin listing: is_active() for text took 0.016 seconds\n",
      "INFO:tensorflow:Plugin listing: is_active() for projector took 0.016 seconds\n",
      "INFO:tensorflow:TextPlugin index_impl() thread ending after 0.187 sec\n",
      "INFO:tensorflow:Plugin listing: is_active() for profile took 0.000 seconds\n",
      "INFO:tensorflow:TextPlugin computing index_impl() in a new thread\n",
      "INFO:tensorflow:Plugin listing: is_active() for text took 0.000 seconds\n"
     ]
    },
    {
     "name": "stderr",
     "output_type": "stream",
     "text": [
      "172.20.40.81 - - [28/Sep/2018 17:12:14] \"\u001b[37mGET /data/plugins_listing HTTP/1.1\u001b[0m\" 200 -\n"
     ]
    },
    {
     "name": "stdout",
     "output_type": "stream",
     "text": [
      "INFO:tensorflow:TextPlugin index_impl() thread ending after 0.062 sec\n",
      "INFO:tensorflow:Plugin listing: is_active() for profile took 0.000 seconds\n"
     ]
    },
    {
     "name": "stderr",
     "output_type": "stream",
     "text": [
      "172.20.40.81 - - [28/Sep/2018 17:12:15] \"\u001b[37mGET /data/plugins_listing HTTP/1.1\u001b[0m\" 200 -\n"
     ]
    },
    {
     "name": "stdout",
     "output_type": "stream",
     "text": [
      "INFO:tensorflow:Plugin listing: is_active() for core took 0.000 seconds\n",
      "INFO:tensorflow:Plugin listing: is_active() for beholder took 0.016 seconds\n",
      "INFO:tensorflow:Plugin listing: is_active() for scalars took 0.000 seconds\n",
      "INFO:tensorflow:Plugin listing: is_active() for custom_scalars took 0.000 seconds\n",
      "INFO:tensorflow:Plugin listing: is_active() for images took 0.000 seconds\n",
      "INFO:tensorflow:Plugin listing: is_active() for audio took 0.000 seconds\n",
      "INFO:tensorflow:Plugin listing: is_active() for graphs took 0.000 seconds\n",
      "INFO:tensorflow:Plugin listing: is_active() for distributions took 0.000 seconds\n",
      "INFO:tensorflow:Plugin listing: is_active() for histograms took 0.000 seconds\n",
      "INFO:tensorflow:Plugin listing: is_active() for pr_curves took 0.000 seconds\n",
      "INFO:tensorflow:Plugin listing: is_active() for projector took 0.016 seconds\n",
      "INFO:tensorflow:TextPlugin computing index_impl() in a new thread\n",
      "INFO:tensorflow:Plugin listing: is_active() for text took 0.016 seconds\n",
      "INFO:tensorflow:TextPlugin index_impl() thread ending after 0.047 sec\n",
      "INFO:tensorflow:Plugin listing: is_active() for profile took 0.016 seconds\n"
     ]
    },
    {
     "name": "stderr",
     "output_type": "stream",
     "text": [
      "172.20.40.81 - - [28/Sep/2018 17:12:32] \"\u001b[37mGET /data/plugins_listing HTTP/1.1\u001b[0m\" 200 -\n"
     ]
    }
   ],
   "source": [
    "my_directory = os.getcwd()+'\\\\logs'\n",
    "tb = program.TensorBoard(default.PLUGIN_LOADERS, default.get_assets_zip_provider())\n",
    "tb.configure(argv=['--logdir', my_directory])\n",
    "tb.main()"
   ]
  },
  {
   "cell_type": "code",
   "execution_count": null,
   "metadata": {},
   "outputs": [],
   "source": []
  }
 ],
 "metadata": {
  "kernelspec": {
   "display_name": "Python 3",
   "language": "python",
   "name": "python3"
  },
  "language_info": {
   "codemirror_mode": {
    "name": "ipython",
    "version": 3
   },
   "file_extension": ".py",
   "mimetype": "text/x-python",
   "name": "python",
   "nbconvert_exporter": "python",
   "pygments_lexer": "ipython3",
   "version": "3.6.5"
  }
 },
 "nbformat": 4,
 "nbformat_minor": 2
}
