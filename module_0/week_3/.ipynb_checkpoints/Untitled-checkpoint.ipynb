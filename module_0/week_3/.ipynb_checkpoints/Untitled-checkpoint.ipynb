{
 "cells": [
  {
   "cell_type": "code",
   "execution_count": 1,
   "metadata": {},
   "outputs": [
    {
     "name": "stderr",
     "output_type": "stream",
     "text": [
      "C:\\Users\\rruzzo\\Anaconda3\\lib\\site-packages\\h5py\\__init__.py:36: FutureWarning: Conversion of the second argument of issubdtype from `float` to `np.floating` is deprecated. In future, it will be treated as `np.float64 == np.dtype(float).type`.\n",
      "  from ._conv import register_converters as _register_converters\n"
     ]
    }
   ],
   "source": [
    "import os\n",
    "from tensorboard import default\n",
    "from tensorboard import program"
   ]
  },
  {
   "cell_type": "code",
   "execution_count": 2,
   "metadata": {
    "scrolled": false
   },
   "outputs": [
    {
     "name": "stdout",
     "output_type": "stream",
     "text": [
      "INFO:tensorflow:Event Multiplexer initializing.\n",
      "INFO:tensorflow:Event Multiplexer done initializing\n",
      "INFO:tensorflow:TensorBoard reload process beginning\n",
      "INFO:tensorflow:Starting AddRunsFromDirectory: C:\\Users\\rruzzo\\Documents\\GitHub\\Deep_Learning_Work\\module_0\\week_3\\logs\n",
      "INFO:tensorflow:GetLogdirSubdirectories: Starting to list directories via walking.\n",
      "INFO:tensorflow:Done with AddRunsFromDirectory: C:\\Users\\rruzzo\\Documents\\GitHub\\Deep_Learning_Work\\module_0\\week_3\\logs\n",
      "INFO:tensorflow:TensorBoard reload process: Reload the whole Multiplexer\n",
      "INFO:tensorflow:Beginning EventMultiplexer.Reload()\n",
      "INFO:tensorflow:Reloading runs serially (one after another) on the main thread.\n",
      "INFO:tensorflow:Finished with EventMultiplexer.Reload()\n",
      "INFO:tensorflow:TensorBoard done reloading. Load took 0.014 secs\n"
     ]
    },
    {
     "name": "stderr",
     "output_type": "stream",
     "text": [
      "TensorBoard 1.10.0 at http://DESKTOP-V3AEQVL:6006 (Press CTRL+C to quit)\n",
      "172.20.40.81 - - [26/Sep/2018 00:12:32] \"\u001b[37mGET / HTTP/1.1\u001b[0m\" 200 -\n"
     ]
    },
    {
     "name": "stdout",
     "output_type": "stream",
     "text": [
      "WARNING:tensorflow:path /[[_dataImageSrc]] not found, sending 404\n"
     ]
    },
    {
     "name": "stderr",
     "output_type": "stream",
     "text": [
      "172.20.40.81 - - [26/Sep/2018 00:12:32] \"\u001b[33mGET /[[_dataImageSrc]] HTTP/1.1\u001b[0m\" 404 -\n"
     ]
    },
    {
     "name": "stdout",
     "output_type": "stream",
     "text": [
      "WARNING:tensorflow:path /[[_imageURL]] not found, sending 404\n"
     ]
    },
    {
     "name": "stderr",
     "output_type": "stream",
     "text": [
      "172.20.40.81 - - [26/Sep/2018 00:12:32] \"\u001b[33mGET /[[_imageURL]] HTTP/1.1\u001b[0m\" 404 -\n",
      "172.20.40.81 - - [26/Sep/2018 00:12:32] \"\u001b[37mGET /font-roboto/oMMgfZMQthOryQo9n22dcuvvDin1pK8aKteLpeZ5c0A.woff2 HTTP/1.1\u001b[0m\" 200 -\n",
      "172.20.40.81 - - [26/Sep/2018 00:12:33] \"\u001b[37mGET /data/runs HTTP/1.1\u001b[0m\" 200 -\n",
      "172.20.40.81 - - [26/Sep/2018 00:12:33] \"\u001b[37mGET /data/experiments HTTP/1.1\u001b[0m\" 200 -\n",
      "172.20.40.81 - - [26/Sep/2018 00:12:33] \"\u001b[37mGET /data/environment HTTP/1.1\u001b[0m\" 200 -\n"
     ]
    },
    {
     "name": "stdout",
     "output_type": "stream",
     "text": [
      "INFO:tensorflow:Plugin listing: is_active() for core took 0.000 seconds\n",
      "INFO:tensorflow:Plugin listing: is_active() for beholder took 0.001 seconds\n",
      "INFO:tensorflow:Plugin listing: is_active() for scalars took 0.000 seconds\n",
      "INFO:tensorflow:Plugin listing: is_active() for custom_scalars took 0.000 seconds\n",
      "INFO:tensorflow:Plugin listing: is_active() for images took 0.000 seconds\n",
      "INFO:tensorflow:Plugin listing: is_active() for audio took 0.000 seconds\n",
      "INFO:tensorflow:Plugin listing: is_active() for graphs took 0.000 seconds\n",
      "INFO:tensorflow:Plugin listing: is_active() for distributions took 0.000 seconds\n"
     ]
    },
    {
     "name": "stderr",
     "output_type": "stream",
     "text": [
      "172.20.40.81 - - [26/Sep/2018 00:12:33] \"\u001b[37mGET /font-roboto/RxZJdnzeo3R5zSexge8UUZBw1xU1rKptJj_0jans920.woff2 HTTP/1.1\u001b[0m\" 200 -\n"
     ]
    },
    {
     "name": "stdout",
     "output_type": "stream",
     "text": [
      "INFO:tensorflow:Plugin listing: is_active() for histograms took 0.000 seconds\n",
      "INFO:tensorflow:Plugin listing: is_active() for pr_curves took 0.000 seconds\n",
      "INFO:tensorflow:Plugin listing: is_active() for projector took 0.006 seconds\n"
     ]
    },
    {
     "name": "stderr",
     "output_type": "stream",
     "text": [
      "172.20.40.81 - - [26/Sep/2018 00:12:33] \"\u001b[37mGET /data/environment HTTP/1.1\u001b[0m\" 200 -\n"
     ]
    },
    {
     "name": "stdout",
     "output_type": "stream",
     "text": [
      "INFO:tensorflow:Plugin listing: is_active() for core took 0.000 seconds\n"
     ]
    },
    {
     "name": "stderr",
     "output_type": "stream",
     "text": [
      "172.20.40.81 - - [26/Sep/2018 00:12:34] \"\u001b[37mGET /data/runs HTTP/1.1\u001b[0m\" 200 -\n"
     ]
    },
    {
     "name": "stdout",
     "output_type": "stream",
     "text": [
      "INFO:tensorflow:TextPlugin computing index_impl() in a new thread\n"
     ]
    },
    {
     "name": "stderr",
     "output_type": "stream",
     "text": [
      "172.20.40.81 - - [26/Sep/2018 00:12:34] \"\u001b[37mGET /data/experiments HTTP/1.1\u001b[0m\" 200 -\n"
     ]
    },
    {
     "name": "stdout",
     "output_type": "stream",
     "text": [
      "INFO:tensorflow:Plugin listing: is_active() for text took 0.019 seconds\n",
      "INFO:tensorflow:Plugin listing: is_active() for beholder took 0.004 seconds\n",
      "INFO:tensorflow:TextPlugin index_impl() thread ending after 0.010 sec\n",
      "INFO:tensorflow:Plugin listing: is_active() for profile took 0.000 seconds\n",
      "INFO:tensorflow:Plugin listing: is_active() for scalars took 0.000 seconds\n"
     ]
    },
    {
     "name": "stderr",
     "output_type": "stream",
     "text": [
      "172.20.40.81 - - [26/Sep/2018 00:12:34] \"\u001b[37mGET /data/plugins_listing HTTP/1.1\u001b[0m\" 200 -\n"
     ]
    },
    {
     "name": "stdout",
     "output_type": "stream",
     "text": [
      "INFO:tensorflow:Plugin listing: is_active() for custom_scalars took 0.000 seconds\n",
      "INFO:tensorflow:Plugin listing: is_active() for images took 0.000 seconds\n",
      "INFO:tensorflow:Plugin listing: is_active() for audio took 0.000 seconds\n",
      "INFO:tensorflow:Plugin listing: is_active() for graphs took 0.000 seconds\n",
      "INFO:tensorflow:Plugin listing: is_active() for distributions took 0.000 seconds\n",
      "INFO:tensorflow:Plugin listing: is_active() for histograms took 0.000 seconds\n",
      "INFO:tensorflow:Plugin listing: is_active() for pr_curves took 0.000 seconds\n",
      "INFO:tensorflow:Plugin listing: is_active() for projector took 0.000 seconds\n",
      "INFO:tensorflow:TextPlugin computing index_impl() in a new thread\n",
      "INFO:tensorflow:Plugin listing: is_active() for text took 0.004 seconds\n",
      "INFO:tensorflow:TextPlugin index_impl() thread ending after 0.003 sec\n",
      "INFO:tensorflow:Plugin listing: is_active() for profile took 0.001 seconds\n"
     ]
    },
    {
     "name": "stderr",
     "output_type": "stream",
     "text": [
      "172.20.40.81 - - [26/Sep/2018 00:12:34] \"\u001b[37mGET /data/plugins_listing HTTP/1.1\u001b[0m\" 200 -\n",
      "172.20.40.81 - - [26/Sep/2018 00:12:34] \"\u001b[37mGET /font-roboto/d-6IYplOFocCacKzxwXSOJBw1xU1rKptJj_0jans920.woff2 HTTP/1.1\u001b[0m\" 200 -\n",
      "172.20.40.81 - - [26/Sep/2018 00:12:34] \"\u001b[37mGET /font-roboto/vPcynSL0qHq_6dX7lKVByXYhjbSpvc47ee6xR_80Hnw.woff2 HTTP/1.1\u001b[0m\" 200 -\n"
     ]
    },
    {
     "name": "stdout",
     "output_type": "stream",
     "text": [
      "INFO:tensorflow:TensorBoard reload process beginning\n",
      "INFO:tensorflow:Starting AddRunsFromDirectory: C:\\Users\\rruzzo\\Documents\\GitHub\\Deep_Learning_Work\\module_0\\week_3\\logs\n",
      "INFO:tensorflow:GetLogdirSubdirectories: Starting to list directories via walking.\n",
      "INFO:tensorflow:Done with AddRunsFromDirectory: C:\\Users\\rruzzo\\Documents\\GitHub\\Deep_Learning_Work\\module_0\\week_3\\logs\n",
      "INFO:tensorflow:TensorBoard reload process: Reload the whole Multiplexer\n",
      "INFO:tensorflow:Beginning EventMultiplexer.Reload()\n",
      "INFO:tensorflow:Reloading runs serially (one after another) on the main thread.\n",
      "INFO:tensorflow:Finished with EventMultiplexer.Reload()\n",
      "INFO:tensorflow:TensorBoard done reloading. Load took 0.012 secs\n",
      "INFO:tensorflow:TensorBoard reload process beginning\n",
      "INFO:tensorflow:Starting AddRunsFromDirectory: C:\\Users\\rruzzo\\Documents\\GitHub\\Deep_Learning_Work\\module_0\\week_3\\logs\n",
      "INFO:tensorflow:GetLogdirSubdirectories: Starting to list directories via walking.\n",
      "INFO:tensorflow:Done with AddRunsFromDirectory: C:\\Users\\rruzzo\\Documents\\GitHub\\Deep_Learning_Work\\module_0\\week_3\\logs\n",
      "INFO:tensorflow:TensorBoard reload process: Reload the whole Multiplexer\n",
      "INFO:tensorflow:Beginning EventMultiplexer.Reload()\n",
      "INFO:tensorflow:Reloading runs serially (one after another) on the main thread.\n",
      "INFO:tensorflow:Finished with EventMultiplexer.Reload()\n",
      "INFO:tensorflow:TensorBoard done reloading. Load took 0.020 secs\n",
      "INFO:tensorflow:TensorBoard reload process beginning\n",
      "INFO:tensorflow:Starting AddRunsFromDirectory: C:\\Users\\rruzzo\\Documents\\GitHub\\Deep_Learning_Work\\module_0\\week_3\\logs\n",
      "INFO:tensorflow:GetLogdirSubdirectories: Starting to list directories via walking.\n",
      "INFO:tensorflow:Adding run from directory C:\\Users\\rruzzo\\Documents\\GitHub\\Deep_Learning_Work\\module_0\\week_3\\logs\n",
      "INFO:tensorflow:Constructing EventAccumulator for C:\\Users\\rruzzo\\Documents\\GitHub\\Deep_Learning_Work\\module_0\\week_3\\logs\n",
      "INFO:tensorflow:No path found after C:\\Users\\rruzzo\\Documents\\GitHub\\Deep_Learning_Work\\module_0\\week_3\\logs\\events.out.tfevents.1537935163.DESKTOP-V3AEQVL\n",
      "INFO:tensorflow:Done with AddRunsFromDirectory: C:\\Users\\rruzzo\\Documents\\GitHub\\Deep_Learning_Work\\module_0\\week_3\\logs\n",
      "INFO:tensorflow:TensorBoard reload process: Reload the whole Multiplexer\n",
      "INFO:tensorflow:Beginning EventMultiplexer.Reload()\n",
      "INFO:tensorflow:Reloading runs serially (one after another) on the main thread.\n",
      "INFO:tensorflow:No path found after C:\\Users\\rruzzo\\Documents\\GitHub\\Deep_Learning_Work\\module_0\\week_3\\logs\\events.out.tfevents.1537935163.DESKTOP-V3AEQVL\n",
      "INFO:tensorflow:Finished with EventMultiplexer.Reload()\n",
      "INFO:tensorflow:TensorBoard done reloading. Load took 7.575 secs\n",
      "INFO:tensorflow:TensorBoard reload process beginning\n",
      "INFO:tensorflow:Starting AddRunsFromDirectory: C:\\Users\\rruzzo\\Documents\\GitHub\\Deep_Learning_Work\\module_0\\week_3\\logs\n",
      "INFO:tensorflow:GetLogdirSubdirectories: Starting to list directories via walking.\n",
      "INFO:tensorflow:Adding run from directory C:\\Users\\rruzzo\\Documents\\GitHub\\Deep_Learning_Work\\module_0\\week_3\\logs\n",
      "INFO:tensorflow:Done with AddRunsFromDirectory: C:\\Users\\rruzzo\\Documents\\GitHub\\Deep_Learning_Work\\module_0\\week_3\\logs\n",
      "INFO:tensorflow:TensorBoard reload process: Reload the whole Multiplexer\n",
      "INFO:tensorflow:Beginning EventMultiplexer.Reload()\n",
      "INFO:tensorflow:Reloading runs serially (one after another) on the main thread.\n",
      "INFO:tensorflow:No path found after C:\\Users\\rruzzo\\Documents\\GitHub\\Deep_Learning_Work\\module_0\\week_3\\logs\\events.out.tfevents.1537935163.DESKTOP-V3AEQVL\n",
      "INFO:tensorflow:Finished with EventMultiplexer.Reload()\n",
      "INFO:tensorflow:TensorBoard done reloading. Load took 0.012 secs\n",
      "INFO:tensorflow:TensorBoard reload process beginning\n",
      "INFO:tensorflow:Starting AddRunsFromDirectory: C:\\Users\\rruzzo\\Documents\\GitHub\\Deep_Learning_Work\\module_0\\week_3\\logs\n",
      "INFO:tensorflow:GetLogdirSubdirectories: Starting to list directories via walking.\n",
      "INFO:tensorflow:Adding run from directory C:\\Users\\rruzzo\\Documents\\GitHub\\Deep_Learning_Work\\module_0\\week_3\\logs\n",
      "INFO:tensorflow:Done with AddRunsFromDirectory: C:\\Users\\rruzzo\\Documents\\GitHub\\Deep_Learning_Work\\module_0\\week_3\\logs\n",
      "INFO:tensorflow:TensorBoard reload process: Reload the whole Multiplexer\n",
      "INFO:tensorflow:Beginning EventMultiplexer.Reload()\n",
      "INFO:tensorflow:Reloading runs serially (one after another) on the main thread.\n",
      "INFO:tensorflow:No path found after C:\\Users\\rruzzo\\Documents\\GitHub\\Deep_Learning_Work\\module_0\\week_3\\logs\\events.out.tfevents.1537935163.DESKTOP-V3AEQVL\n",
      "INFO:tensorflow:Finished with EventMultiplexer.Reload()\n",
      "INFO:tensorflow:TensorBoard done reloading. Load took 0.012 secs\n"
     ]
    },
    {
     "name": "stderr",
     "output_type": "stream",
     "text": [
      "172.20.40.81 - - [26/Sep/2018 00:13:03] \"\u001b[37mGET /data/environment HTTP/1.1\u001b[0m\" 200 -\n"
     ]
    },
    {
     "name": "stdout",
     "output_type": "stream",
     "text": [
      "INFO:tensorflow:Plugin listing: is_active() for core took 0.000 seconds\n"
     ]
    },
    {
     "name": "stderr",
     "output_type": "stream",
     "text": [
      "172.20.40.81 - - [26/Sep/2018 00:13:03] \"\u001b[37mGET /data/runs HTTP/1.1\u001b[0m\" 200 -\n"
     ]
    },
    {
     "name": "stdout",
     "output_type": "stream",
     "text": [
      "INFO:tensorflow:Plugin listing: is_active() for beholder took 0.004 seconds\n",
      "INFO:tensorflow:Plugin listing: is_active() for scalars took 0.001 seconds\n"
     ]
    },
    {
     "name": "stderr",
     "output_type": "stream",
     "text": [
      "172.20.40.81 - - [26/Sep/2018 00:13:03] \"\u001b[37mGET /data/experiments HTTP/1.1\u001b[0m\" 200 -\n"
     ]
    },
    {
     "name": "stdout",
     "output_type": "stream",
     "text": [
      "INFO:tensorflow:Plugin listing: is_active() for custom_scalars took 0.000 seconds\n",
      "INFO:tensorflow:Plugin listing: is_active() for images took 0.000 seconds\n",
      "INFO:tensorflow:Plugin listing: is_active() for audio took 0.000 seconds\n",
      "INFO:tensorflow:Plugin listing: is_active() for graphs took 0.000 seconds\n",
      "INFO:tensorflow:Plugin listing: is_active() for distributions took 0.027 seconds\n",
      "INFO:tensorflow:Plugin listing: is_active() for histograms took 0.005 seconds\n",
      "INFO:tensorflow:Plugin listing: is_active() for pr_curves took 0.000 seconds\n",
      "INFO:tensorflow:Plugin listing: is_active() for projector took 0.000 seconds\n",
      "INFO:tensorflow:TextPlugin computing index_impl() in a new thread\n",
      "INFO:tensorflow:Plugin listing: is_active() for text took 0.003 seconds\n",
      "INFO:tensorflow:TextPlugin index_impl() thread ending after 0.005 sec\n",
      "INFO:tensorflow:Plugin listing: is_active() for profile took 0.000 seconds\n"
     ]
    },
    {
     "name": "stderr",
     "output_type": "stream",
     "text": [
      "172.20.40.81 - - [26/Sep/2018 00:13:04] \"\u001b[37mGET /data/plugins_listing HTTP/1.1\u001b[0m\" 200 -\n",
      "172.20.40.81 - - [26/Sep/2018 00:13:04] \"\u001b[37mGET /data/environment HTTP/1.1\u001b[0m\" 200 -\n",
      "172.20.40.81 - - [26/Sep/2018 00:13:04] \"\u001b[37mGET /data/plugin/scalars/tags HTTP/1.1\u001b[0m\" 200 -\n",
      "172.20.40.81 - - [26/Sep/2018 00:13:04] \"\u001b[37mGET /data/plugin/scalars/tags HTTP/1.1\u001b[0m\" 200 -\n",
      "172.20.40.81 - - [26/Sep/2018 00:13:04] \"\u001b[37mGET /data/plugin/scalars/scalars?run=.&tag=acc HTTP/1.1\u001b[0m\" 200 -\n",
      "172.20.40.81 - - [26/Sep/2018 00:13:04] \"\u001b[37mGET /data/plugin/scalars/scalars?run=.&tag=loss HTTP/1.1\u001b[0m\" 200 -\n"
     ]
    },
    {
     "name": "stdout",
     "output_type": "stream",
     "text": [
      "INFO:tensorflow:TensorBoard reload process beginning\n",
      "INFO:tensorflow:Starting AddRunsFromDirectory: C:\\Users\\rruzzo\\Documents\\GitHub\\Deep_Learning_Work\\module_0\\week_3\\logs\n",
      "INFO:tensorflow:GetLogdirSubdirectories: Starting to list directories via walking.\n",
      "INFO:tensorflow:Adding run from directory C:\\Users\\rruzzo\\Documents\\GitHub\\Deep_Learning_Work\\module_0\\week_3\\logs\n",
      "INFO:tensorflow:Done with AddRunsFromDirectory: C:\\Users\\rruzzo\\Documents\\GitHub\\Deep_Learning_Work\\module_0\\week_3\\logs\n",
      "INFO:tensorflow:TensorBoard reload process: Reload the whole Multiplexer\n",
      "INFO:tensorflow:Beginning EventMultiplexer.Reload()\n",
      "INFO:tensorflow:Reloading runs serially (one after another) on the main thread.\n",
      "INFO:tensorflow:Directory watcher advancing from C:\\Users\\rruzzo\\Documents\\GitHub\\Deep_Learning_Work\\module_0\\week_3\\logs\\events.out.tfevents.1537935163.DESKTOP-V3AEQVL to C:\\Users\\rruzzo\\Documents\\GitHub\\Deep_Learning_Work\\module_0\\week_3\\logs\\events.out.tfevents.1537935184.DESKTOP-V3AEQVL\n",
      "WARNING:tensorflow:Found more than one graph event per run, or there was a metagraph containing a graph_def, as well as one or more graph events.  Overwriting the graph with the newest event.\n",
      "WARNING:tensorflow:Found more than one metagraph event per run. Overwriting the metagraph with the newest event.\n"
     ]
    },
    {
     "name": "stderr",
     "output_type": "stream",
     "text": [
      "172.20.40.81 - - [26/Sep/2018 00:13:33] \"\u001b[37mGET /data/environment HTTP/1.1\u001b[0m\" 200 -\n"
     ]
    },
    {
     "name": "stdout",
     "output_type": "stream",
     "text": [
      "INFO:tensorflow:Plugin listing: is_active() for core took 0.000 seconds\n",
      "INFO:tensorflow:Plugin listing: is_active() for beholder took 0.004 seconds\n"
     ]
    },
    {
     "name": "stderr",
     "output_type": "stream",
     "text": [
      "172.20.40.81 - - [26/Sep/2018 00:13:34] \"\u001b[37mGET /data/runs HTTP/1.1\u001b[0m\" 200 -\n"
     ]
    },
    {
     "name": "stdout",
     "output_type": "stream",
     "text": [
      "INFO:tensorflow:Plugin listing: is_active() for scalars took 0.000 seconds\n"
     ]
    },
    {
     "name": "stderr",
     "output_type": "stream",
     "text": [
      "172.20.40.81 - - [26/Sep/2018 00:13:34] \"\u001b[37mGET /data/experiments HTTP/1.1\u001b[0m\" 200 -\n"
     ]
    },
    {
     "name": "stdout",
     "output_type": "stream",
     "text": [
      "INFO:tensorflow:Plugin listing: is_active() for custom_scalars took 0.000 seconds\n",
      "INFO:tensorflow:Plugin listing: is_active() for images took 0.000 seconds\n",
      "INFO:tensorflow:Plugin listing: is_active() for audio took 0.000 seconds\n",
      "INFO:tensorflow:Plugin listing: is_active() for graphs took 0.000 seconds\n",
      "INFO:tensorflow:Plugin listing: is_active() for distributions took 0.015 seconds\n",
      "INFO:tensorflow:Plugin listing: is_active() for histograms took 0.056 seconds\n",
      "INFO:tensorflow:Plugin listing: is_active() for pr_curves took 0.000 seconds\n",
      "INFO:tensorflow:Plugin listing: is_active() for projector took 0.012 seconds\n",
      "INFO:tensorflow:TextPlugin computing index_impl() in a new thread\n",
      "INFO:tensorflow:Plugin listing: is_active() for text took 0.010 seconds\n",
      "INFO:tensorflow:TextPlugin index_impl() thread ending after 0.064 sec\n",
      "INFO:tensorflow:Plugin listing: is_active() for profile took 0.009 seconds\n"
     ]
    },
    {
     "name": "stderr",
     "output_type": "stream",
     "text": [
      "172.20.40.81 - - [26/Sep/2018 00:13:34] \"\u001b[37mGET /data/plugins_listing HTTP/1.1\u001b[0m\" 200 -\n",
      "172.20.40.81 - - [26/Sep/2018 00:13:34] \"\u001b[37mGET /data/plugin/scalars/tags HTTP/1.1\u001b[0m\" 200 -\n",
      "172.20.40.81 - - [26/Sep/2018 00:13:34] \"\u001b[37mGET /data/plugin/scalars/scalars?run=.&tag=acc HTTP/1.1\u001b[0m\" 200 -\n",
      "172.20.40.81 - - [26/Sep/2018 00:13:34] \"\u001b[37mGET /data/plugin/scalars/scalars?run=.&tag=loss HTTP/1.1\u001b[0m\" 200 -\n"
     ]
    },
    {
     "name": "stdout",
     "output_type": "stream",
     "text": [
      "INFO:tensorflow:Plugin listing: is_active() for core took 0.000 seconds\n"
     ]
    },
    {
     "name": "stderr",
     "output_type": "stream",
     "text": [
      "172.20.40.81 - - [26/Sep/2018 00:14:03] \"\u001b[37mGET /data/environment HTTP/1.1\u001b[0m\" 200 -\n",
      "172.20.40.81 - - [26/Sep/2018 00:14:04] \"\u001b[37mGET /data/runs HTTP/1.1\u001b[0m\" 200 -\n"
     ]
    },
    {
     "name": "stdout",
     "output_type": "stream",
     "text": [
      "INFO:tensorflow:Plugin listing: is_active() for beholder took 0.027 seconds\n"
     ]
    },
    {
     "name": "stderr",
     "output_type": "stream",
     "text": [
      "172.20.40.81 - - [26/Sep/2018 00:14:04] \"\u001b[37mGET /data/experiments HTTP/1.1\u001b[0m\" 200 -\n"
     ]
    },
    {
     "name": "stdout",
     "output_type": "stream",
     "text": [
      "INFO:tensorflow:Plugin listing: is_active() for scalars took 0.000 seconds\n",
      "INFO:tensorflow:Plugin listing: is_active() for custom_scalars took 0.000 seconds\n",
      "INFO:tensorflow:Plugin listing: is_active() for images took 0.000 seconds\n",
      "INFO:tensorflow:Plugin listing: is_active() for audio took 0.000 seconds\n",
      "INFO:tensorflow:Plugin listing: is_active() for graphs took 0.000 seconds\n",
      "INFO:tensorflow:Plugin listing: is_active() for distributions took 0.007 seconds\n",
      "INFO:tensorflow:Plugin listing: is_active() for histograms took 0.005 seconds\n",
      "INFO:tensorflow:Plugin listing: is_active() for pr_curves took 0.000 seconds\n",
      "INFO:tensorflow:Plugin listing: is_active() for projector took 0.011 seconds\n",
      "INFO:tensorflow:TextPlugin computing index_impl() in a new thread\n",
      "INFO:tensorflow:Plugin listing: is_active() for text took 0.007 seconds\n",
      "INFO:tensorflow:TextPlugin index_impl() thread ending after 0.027 sec\n",
      "INFO:tensorflow:Plugin listing: is_active() for profile took 0.012 seconds\n"
     ]
    },
    {
     "name": "stderr",
     "output_type": "stream",
     "text": [
      "172.20.40.81 - - [26/Sep/2018 00:14:04] \"\u001b[37mGET /data/plugins_listing HTTP/1.1\u001b[0m\" 200 -\n",
      "172.20.40.81 - - [26/Sep/2018 00:14:04] \"\u001b[37mGET /data/plugin/scalars/tags HTTP/1.1\u001b[0m\" 200 -\n",
      "172.20.40.81 - - [26/Sep/2018 00:14:04] \"\u001b[37mGET /data/plugin/scalars/scalars?run=.&tag=acc HTTP/1.1\u001b[0m\" 200 -\n",
      "172.20.40.81 - - [26/Sep/2018 00:14:04] \"\u001b[37mGET /data/plugin/scalars/scalars?run=.&tag=loss HTTP/1.1\u001b[0m\" 200 -\n"
     ]
    },
    {
     "name": "stdout",
     "output_type": "stream",
     "text": [
      "INFO:tensorflow:No path found after C:\\Users\\rruzzo\\Documents\\GitHub\\Deep_Learning_Work\\module_0\\week_3\\logs\\events.out.tfevents.1537935184.DESKTOP-V3AEQVL\n",
      "INFO:tensorflow:Finished with EventMultiplexer.Reload()\n",
      "INFO:tensorflow:TensorBoard done reloading. Load took 66.516 secs\n",
      "INFO:tensorflow:TensorBoard reload process beginning\n",
      "INFO:tensorflow:Starting AddRunsFromDirectory: C:\\Users\\rruzzo\\Documents\\GitHub\\Deep_Learning_Work\\module_0\\week_3\\logs\n",
      "INFO:tensorflow:GetLogdirSubdirectories: Starting to list directories via walking.\n",
      "INFO:tensorflow:Adding run from directory C:\\Users\\rruzzo\\Documents\\GitHub\\Deep_Learning_Work\\module_0\\week_3\\logs\n",
      "INFO:tensorflow:Done with AddRunsFromDirectory: C:\\Users\\rruzzo\\Documents\\GitHub\\Deep_Learning_Work\\module_0\\week_3\\logs\n",
      "INFO:tensorflow:TensorBoard reload process: Reload the whole Multiplexer\n",
      "INFO:tensorflow:Beginning EventMultiplexer.Reload()\n",
      "INFO:tensorflow:Reloading runs serially (one after another) on the main thread.\n",
      "INFO:tensorflow:No path found after C:\\Users\\rruzzo\\Documents\\GitHub\\Deep_Learning_Work\\module_0\\week_3\\logs\\events.out.tfevents.1537935184.DESKTOP-V3AEQVL\n",
      "INFO:tensorflow:Finished with EventMultiplexer.Reload()\n",
      "INFO:tensorflow:TensorBoard done reloading. Load took 0.013 secs\n",
      "INFO:tensorflow:TensorBoard reload process beginning\n",
      "INFO:tensorflow:Starting AddRunsFromDirectory: C:\\Users\\rruzzo\\Documents\\GitHub\\Deep_Learning_Work\\module_0\\week_3\\logs\n",
      "INFO:tensorflow:GetLogdirSubdirectories: Starting to list directories via walking.\n",
      "INFO:tensorflow:Adding run from directory C:\\Users\\rruzzo\\Documents\\GitHub\\Deep_Learning_Work\\module_0\\week_3\\logs\n",
      "INFO:tensorflow:Done with AddRunsFromDirectory: C:\\Users\\rruzzo\\Documents\\GitHub\\Deep_Learning_Work\\module_0\\week_3\\logs\n",
      "INFO:tensorflow:TensorBoard reload process: Reload the whole Multiplexer\n",
      "INFO:tensorflow:Beginning EventMultiplexer.Reload()\n",
      "INFO:tensorflow:Reloading runs serially (one after another) on the main thread.\n",
      "INFO:tensorflow:No path found after C:\\Users\\rruzzo\\Documents\\GitHub\\Deep_Learning_Work\\module_0\\week_3\\logs\\events.out.tfevents.1537935184.DESKTOP-V3AEQVL\n",
      "INFO:tensorflow:Finished with EventMultiplexer.Reload()\n",
      "INFO:tensorflow:TensorBoard done reloading. Load took 0.020 secs\n",
      "INFO:tensorflow:TensorBoard reload process beginning\n",
      "INFO:tensorflow:Starting AddRunsFromDirectory: C:\\Users\\rruzzo\\Documents\\GitHub\\Deep_Learning_Work\\module_0\\week_3\\logs\n",
      "INFO:tensorflow:GetLogdirSubdirectories: Starting to list directories via walking.\n",
      "INFO:tensorflow:Adding run from directory C:\\Users\\rruzzo\\Documents\\GitHub\\Deep_Learning_Work\\module_0\\week_3\\logs\n",
      "INFO:tensorflow:Done with AddRunsFromDirectory: C:\\Users\\rruzzo\\Documents\\GitHub\\Deep_Learning_Work\\module_0\\week_3\\logs\n",
      "INFO:tensorflow:TensorBoard reload process: Reload the whole Multiplexer\n",
      "INFO:tensorflow:Beginning EventMultiplexer.Reload()\n",
      "INFO:tensorflow:Reloading runs serially (one after another) on the main thread.\n",
      "INFO:tensorflow:No path found after C:\\Users\\rruzzo\\Documents\\GitHub\\Deep_Learning_Work\\module_0\\week_3\\logs\\events.out.tfevents.1537935184.DESKTOP-V3AEQVL\n",
      "INFO:tensorflow:Finished with EventMultiplexer.Reload()\n",
      "INFO:tensorflow:TensorBoard done reloading. Load took 0.029 secs\n"
     ]
    },
    {
     "name": "stderr",
     "output_type": "stream",
     "text": [
      "172.20.40.81 - - [26/Sep/2018 00:14:33] \"\u001b[37mGET /data/environment HTTP/1.1\u001b[0m\" 200 -\n"
     ]
    },
    {
     "name": "stdout",
     "output_type": "stream",
     "text": [
      "INFO:tensorflow:Plugin listing: is_active() for core took 0.000 seconds\n"
     ]
    },
    {
     "name": "stderr",
     "output_type": "stream",
     "text": [
      "172.20.40.81 - - [26/Sep/2018 00:14:33] \"\u001b[37mGET /data/runs HTTP/1.1\u001b[0m\" 200 -\n"
     ]
    },
    {
     "name": "stdout",
     "output_type": "stream",
     "text": [
      "INFO:tensorflow:Plugin listing: is_active() for beholder took 0.001 seconds\n",
      "INFO:tensorflow:Plugin listing: is_active() for scalars took 0.000 seconds\n"
     ]
    },
    {
     "name": "stderr",
     "output_type": "stream",
     "text": [
      "172.20.40.81 - - [26/Sep/2018 00:14:33] \"\u001b[37mGET /data/experiments HTTP/1.1\u001b[0m\" 200 -\n"
     ]
    },
    {
     "name": "stdout",
     "output_type": "stream",
     "text": [
      "INFO:tensorflow:Plugin listing: is_active() for custom_scalars took 0.000 seconds\n",
      "INFO:tensorflow:Plugin listing: is_active() for images took 0.000 seconds\n",
      "INFO:tensorflow:Plugin listing: is_active() for audio took 0.000 seconds\n",
      "INFO:tensorflow:Plugin listing: is_active() for graphs took 0.000 seconds\n",
      "INFO:tensorflow:Plugin listing: is_active() for distributions took 0.009 seconds\n",
      "INFO:tensorflow:Plugin listing: is_active() for histograms took 0.006 seconds\n",
      "INFO:tensorflow:Plugin listing: is_active() for pr_curves took 0.000 seconds\n",
      "INFO:tensorflow:Plugin listing: is_active() for projector took 0.001 seconds\n",
      "INFO:tensorflow:TextPlugin computing index_impl() in a new thread\n",
      "INFO:tensorflow:Plugin listing: is_active() for text took 0.003 seconds\n",
      "INFO:tensorflow:TextPlugin index_impl() thread ending after 0.004 sec\n",
      "INFO:tensorflow:Plugin listing: is_active() for profile took 0.001 seconds\n"
     ]
    },
    {
     "name": "stderr",
     "output_type": "stream",
     "text": [
      "172.20.40.81 - - [26/Sep/2018 00:14:34] \"\u001b[37mGET /data/plugins_listing HTTP/1.1\u001b[0m\" 200 -\n",
      "172.20.40.81 - - [26/Sep/2018 00:14:34] \"\u001b[37mGET /data/plugin/scalars/tags HTTP/1.1\u001b[0m\" 200 -\n",
      "172.20.40.81 - - [26/Sep/2018 00:14:34] \"\u001b[37mGET /data/plugin/scalars/scalars?run=.&tag=acc HTTP/1.1\u001b[0m\" 200 -\n",
      "172.20.40.81 - - [26/Sep/2018 00:14:34] \"\u001b[37mGET /data/plugin/scalars/scalars?run=.&tag=loss HTTP/1.1\u001b[0m\" 200 -\n"
     ]
    },
    {
     "name": "stdout",
     "output_type": "stream",
     "text": [
      "INFO:tensorflow:TensorBoard reload process beginning\n",
      "INFO:tensorflow:Starting AddRunsFromDirectory: C:\\Users\\rruzzo\\Documents\\GitHub\\Deep_Learning_Work\\module_0\\week_3\\logs\n",
      "INFO:tensorflow:GetLogdirSubdirectories: Starting to list directories via walking.\n",
      "INFO:tensorflow:Adding run from directory C:\\Users\\rruzzo\\Documents\\GitHub\\Deep_Learning_Work\\module_0\\week_3\\logs\n",
      "INFO:tensorflow:Done with AddRunsFromDirectory: C:\\Users\\rruzzo\\Documents\\GitHub\\Deep_Learning_Work\\module_0\\week_3\\logs\n",
      "INFO:tensorflow:TensorBoard reload process: Reload the whole Multiplexer\n",
      "INFO:tensorflow:Beginning EventMultiplexer.Reload()\n",
      "INFO:tensorflow:Reloading runs serially (one after another) on the main thread.\n",
      "INFO:tensorflow:No path found after C:\\Users\\rruzzo\\Documents\\GitHub\\Deep_Learning_Work\\module_0\\week_3\\logs\\events.out.tfevents.1537935184.DESKTOP-V3AEQVL\n",
      "INFO:tensorflow:Finished with EventMultiplexer.Reload()\n",
      "INFO:tensorflow:TensorBoard done reloading. Load took 0.030 secs\n",
      "INFO:tensorflow:TensorBoard reload process beginning\n",
      "INFO:tensorflow:Starting AddRunsFromDirectory: C:\\Users\\rruzzo\\Documents\\GitHub\\Deep_Learning_Work\\module_0\\week_3\\logs\n",
      "INFO:tensorflow:GetLogdirSubdirectories: Starting to list directories via walking.\n",
      "INFO:tensorflow:Adding run from directory C:\\Users\\rruzzo\\Documents\\GitHub\\Deep_Learning_Work\\module_0\\week_3\\logs\n",
      "INFO:tensorflow:Done with AddRunsFromDirectory: C:\\Users\\rruzzo\\Documents\\GitHub\\Deep_Learning_Work\\module_0\\week_3\\logs\n",
      "INFO:tensorflow:TensorBoard reload process: Reload the whole Multiplexer\n",
      "INFO:tensorflow:Beginning EventMultiplexer.Reload()\n",
      "INFO:tensorflow:Reloading runs serially (one after another) on the main thread.\n",
      "INFO:tensorflow:No path found after C:\\Users\\rruzzo\\Documents\\GitHub\\Deep_Learning_Work\\module_0\\week_3\\logs\\events.out.tfevents.1537935184.DESKTOP-V3AEQVL\n",
      "INFO:tensorflow:Finished with EventMultiplexer.Reload()\n",
      "INFO:tensorflow:TensorBoard done reloading. Load took 0.033 secs\n",
      "INFO:tensorflow:TensorBoard reload process beginning\n",
      "INFO:tensorflow:Starting AddRunsFromDirectory: C:\\Users\\rruzzo\\Documents\\GitHub\\Deep_Learning_Work\\module_0\\week_3\\logs\n",
      "INFO:tensorflow:GetLogdirSubdirectories: Starting to list directories via walking.\n",
      "INFO:tensorflow:Adding run from directory C:\\Users\\rruzzo\\Documents\\GitHub\\Deep_Learning_Work\\module_0\\week_3\\logs\n",
      "INFO:tensorflow:Done with AddRunsFromDirectory: C:\\Users\\rruzzo\\Documents\\GitHub\\Deep_Learning_Work\\module_0\\week_3\\logs\n",
      "INFO:tensorflow:TensorBoard reload process: Reload the whole Multiplexer\n",
      "INFO:tensorflow:Beginning EventMultiplexer.Reload()\n",
      "INFO:tensorflow:Reloading runs serially (one after another) on the main thread.\n",
      "INFO:tensorflow:No path found after C:\\Users\\rruzzo\\Documents\\GitHub\\Deep_Learning_Work\\module_0\\week_3\\logs\\events.out.tfevents.1537935184.DESKTOP-V3AEQVL\n",
      "INFO:tensorflow:Finished with EventMultiplexer.Reload()\n",
      "INFO:tensorflow:TensorBoard done reloading. Load took 0.014 secs\n",
      "INFO:tensorflow:TensorBoard reload process beginning\n",
      "INFO:tensorflow:Starting AddRunsFromDirectory: C:\\Users\\rruzzo\\Documents\\GitHub\\Deep_Learning_Work\\module_0\\week_3\\logs\n",
      "INFO:tensorflow:GetLogdirSubdirectories: Starting to list directories via walking.\n",
      "INFO:tensorflow:Adding run from directory C:\\Users\\rruzzo\\Documents\\GitHub\\Deep_Learning_Work\\module_0\\week_3\\logs\n",
      "INFO:tensorflow:Done with AddRunsFromDirectory: C:\\Users\\rruzzo\\Documents\\GitHub\\Deep_Learning_Work\\module_0\\week_3\\logs\n",
      "INFO:tensorflow:TensorBoard reload process: Reload the whole Multiplexer\n",
      "INFO:tensorflow:Beginning EventMultiplexer.Reload()\n",
      "INFO:tensorflow:Reloading runs serially (one after another) on the main thread.\n",
      "INFO:tensorflow:No path found after C:\\Users\\rruzzo\\Documents\\GitHub\\Deep_Learning_Work\\module_0\\week_3\\logs\\events.out.tfevents.1537935184.DESKTOP-V3AEQVL\n",
      "INFO:tensorflow:Finished with EventMultiplexer.Reload()\n",
      "INFO:tensorflow:TensorBoard done reloading. Load took 0.033 secs\n",
      "INFO:tensorflow:TensorBoard reload process beginning\n",
      "INFO:tensorflow:Starting AddRunsFromDirectory: C:\\Users\\rruzzo\\Documents\\GitHub\\Deep_Learning_Work\\module_0\\week_3\\logs\n",
      "INFO:tensorflow:GetLogdirSubdirectories: Starting to list directories via walking.\n",
      "INFO:tensorflow:Adding run from directory C:\\Users\\rruzzo\\Documents\\GitHub\\Deep_Learning_Work\\module_0\\week_3\\logs\n",
      "INFO:tensorflow:Done with AddRunsFromDirectory: C:\\Users\\rruzzo\\Documents\\GitHub\\Deep_Learning_Work\\module_0\\week_3\\logs\n",
      "INFO:tensorflow:TensorBoard reload process: Reload the whole Multiplexer\n",
      "INFO:tensorflow:Beginning EventMultiplexer.Reload()\n",
      "INFO:tensorflow:Reloading runs serially (one after another) on the main thread.\n",
      "INFO:tensorflow:No path found after C:\\Users\\rruzzo\\Documents\\GitHub\\Deep_Learning_Work\\module_0\\week_3\\logs\\events.out.tfevents.1537935184.DESKTOP-V3AEQVL\n",
      "INFO:tensorflow:Finished with EventMultiplexer.Reload()\n",
      "INFO:tensorflow:TensorBoard done reloading. Load took 0.036 secs\n",
      "INFO:tensorflow:TensorBoard reload process beginning\n",
      "INFO:tensorflow:Starting AddRunsFromDirectory: C:\\Users\\rruzzo\\Documents\\GitHub\\Deep_Learning_Work\\module_0\\week_3\\logs\n",
      "INFO:tensorflow:GetLogdirSubdirectories: Starting to list directories via walking.\n",
      "INFO:tensorflow:Adding run from directory C:\\Users\\rruzzo\\Documents\\GitHub\\Deep_Learning_Work\\module_0\\week_3\\logs\n",
      "INFO:tensorflow:Done with AddRunsFromDirectory: C:\\Users\\rruzzo\\Documents\\GitHub\\Deep_Learning_Work\\module_0\\week_3\\logs\n",
      "INFO:tensorflow:TensorBoard reload process: Reload the whole Multiplexer\n",
      "INFO:tensorflow:Beginning EventMultiplexer.Reload()\n",
      "INFO:tensorflow:Reloading runs serially (one after another) on the main thread.\n",
      "INFO:tensorflow:No path found after C:\\Users\\rruzzo\\Documents\\GitHub\\Deep_Learning_Work\\module_0\\week_3\\logs\\events.out.tfevents.1537935184.DESKTOP-V3AEQVL\n",
      "INFO:tensorflow:Finished with EventMultiplexer.Reload()\n",
      "INFO:tensorflow:TensorBoard done reloading. Load took 0.016 secs\n"
     ]
    },
    {
     "name": "stderr",
     "output_type": "stream",
     "text": [
      "172.20.40.81 - - [26/Sep/2018 00:15:03] \"\u001b[37mGET /data/environment HTTP/1.1\u001b[0m\" 200 -\n"
     ]
    },
    {
     "name": "stdout",
     "output_type": "stream",
     "text": [
      "INFO:tensorflow:Plugin listing: is_active() for core took 0.000 seconds\n"
     ]
    },
    {
     "name": "stderr",
     "output_type": "stream",
     "text": [
      "172.20.40.81 - - [26/Sep/2018 00:15:03] \"\u001b[37mGET /data/runs HTTP/1.1\u001b[0m\" 200 -\n"
     ]
    },
    {
     "name": "stdout",
     "output_type": "stream",
     "text": [
      "INFO:tensorflow:Plugin listing: is_active() for beholder took 0.003 seconds\n"
     ]
    },
    {
     "name": "stderr",
     "output_type": "stream",
     "text": [
      "172.20.40.81 - - [26/Sep/2018 00:15:03] \"\u001b[37mGET /data/experiments HTTP/1.1\u001b[0m\" 200 -\n"
     ]
    },
    {
     "name": "stdout",
     "output_type": "stream",
     "text": [
      "INFO:tensorflow:Plugin listing: is_active() for scalars took 0.000 seconds\n",
      "INFO:tensorflow:Plugin listing: is_active() for custom_scalars took 0.001 seconds\n",
      "INFO:tensorflow:Plugin listing: is_active() for images took 0.000 seconds\n",
      "INFO:tensorflow:Plugin listing: is_active() for audio took 0.000 seconds\n",
      "INFO:tensorflow:Plugin listing: is_active() for graphs took 0.000 seconds\n",
      "INFO:tensorflow:Plugin listing: is_active() for distributions took 0.007 seconds\n",
      "INFO:tensorflow:Plugin listing: is_active() for histograms took 0.010 seconds\n",
      "INFO:tensorflow:Plugin listing: is_active() for pr_curves took 0.000 seconds\n",
      "INFO:tensorflow:Plugin listing: is_active() for projector took 0.000 seconds\n",
      "INFO:tensorflow:TextPlugin computing index_impl() in a new thread\n",
      "INFO:tensorflow:Plugin listing: is_active() for text took 0.004 seconds\n",
      "INFO:tensorflow:TextPlugin index_impl() thread ending after 0.003 sec\n",
      "INFO:tensorflow:Plugin listing: is_active() for profile took 0.000 seconds\n"
     ]
    },
    {
     "name": "stderr",
     "output_type": "stream",
     "text": [
      "172.20.40.81 - - [26/Sep/2018 00:15:04] \"\u001b[37mGET /data/plugins_listing HTTP/1.1\u001b[0m\" 200 -\n",
      "172.20.40.81 - - [26/Sep/2018 00:15:04] \"\u001b[37mGET /data/plugin/scalars/tags HTTP/1.1\u001b[0m\" 200 -\n",
      "172.20.40.81 - - [26/Sep/2018 00:15:04] \"\u001b[37mGET /data/plugin/scalars/scalars?run=.&tag=acc HTTP/1.1\u001b[0m\" 200 -\n",
      "172.20.40.81 - - [26/Sep/2018 00:15:04] \"\u001b[37mGET /data/plugin/scalars/scalars?run=.&tag=loss HTTP/1.1\u001b[0m\" 200 -\n"
     ]
    },
    {
     "name": "stdout",
     "output_type": "stream",
     "text": [
      "INFO:tensorflow:TensorBoard reload process beginning\n",
      "INFO:tensorflow:Starting AddRunsFromDirectory: C:\\Users\\rruzzo\\Documents\\GitHub\\Deep_Learning_Work\\module_0\\week_3\\logs\n",
      "INFO:tensorflow:GetLogdirSubdirectories: Starting to list directories via walking.\n",
      "INFO:tensorflow:Adding run from directory C:\\Users\\rruzzo\\Documents\\GitHub\\Deep_Learning_Work\\module_0\\week_3\\logs\n",
      "INFO:tensorflow:Done with AddRunsFromDirectory: C:\\Users\\rruzzo\\Documents\\GitHub\\Deep_Learning_Work\\module_0\\week_3\\logs\n",
      "INFO:tensorflow:TensorBoard reload process: Reload the whole Multiplexer\n",
      "INFO:tensorflow:Beginning EventMultiplexer.Reload()\n",
      "INFO:tensorflow:Reloading runs serially (one after another) on the main thread.\n",
      "INFO:tensorflow:No path found after C:\\Users\\rruzzo\\Documents\\GitHub\\Deep_Learning_Work\\module_0\\week_3\\logs\\events.out.tfevents.1537935184.DESKTOP-V3AEQVL\n",
      "INFO:tensorflow:Finished with EventMultiplexer.Reload()\n",
      "INFO:tensorflow:TensorBoard done reloading. Load took 0.012 secs\n",
      "INFO:tensorflow:TensorBoard reload process beginning\n",
      "INFO:tensorflow:Starting AddRunsFromDirectory: C:\\Users\\rruzzo\\Documents\\GitHub\\Deep_Learning_Work\\module_0\\week_3\\logs\n",
      "INFO:tensorflow:GetLogdirSubdirectories: Starting to list directories via walking.\n",
      "INFO:tensorflow:Adding run from directory C:\\Users\\rruzzo\\Documents\\GitHub\\Deep_Learning_Work\\module_0\\week_3\\logs\n",
      "INFO:tensorflow:Done with AddRunsFromDirectory: C:\\Users\\rruzzo\\Documents\\GitHub\\Deep_Learning_Work\\module_0\\week_3\\logs\n",
      "INFO:tensorflow:TensorBoard reload process: Reload the whole Multiplexer\n",
      "INFO:tensorflow:Beginning EventMultiplexer.Reload()\n",
      "INFO:tensorflow:Reloading runs serially (one after another) on the main thread.\n",
      "INFO:tensorflow:No path found after C:\\Users\\rruzzo\\Documents\\GitHub\\Deep_Learning_Work\\module_0\\week_3\\logs\\events.out.tfevents.1537935184.DESKTOP-V3AEQVL\n",
      "INFO:tensorflow:Finished with EventMultiplexer.Reload()\n",
      "INFO:tensorflow:TensorBoard done reloading. Load took 0.012 secs\n",
      "INFO:tensorflow:TensorBoard reload process beginning\n",
      "INFO:tensorflow:Starting AddRunsFromDirectory: C:\\Users\\rruzzo\\Documents\\GitHub\\Deep_Learning_Work\\module_0\\week_3\\logs\n",
      "INFO:tensorflow:GetLogdirSubdirectories: Starting to list directories via walking.\n",
      "INFO:tensorflow:Adding run from directory C:\\Users\\rruzzo\\Documents\\GitHub\\Deep_Learning_Work\\module_0\\week_3\\logs\n",
      "INFO:tensorflow:Done with AddRunsFromDirectory: C:\\Users\\rruzzo\\Documents\\GitHub\\Deep_Learning_Work\\module_0\\week_3\\logs\n",
      "INFO:tensorflow:TensorBoard reload process: Reload the whole Multiplexer\n",
      "INFO:tensorflow:Beginning EventMultiplexer.Reload()\n",
      "INFO:tensorflow:Reloading runs serially (one after another) on the main thread.\n",
      "INFO:tensorflow:Directory watcher advancing from C:\\Users\\rruzzo\\Documents\\GitHub\\Deep_Learning_Work\\module_0\\week_3\\logs\\events.out.tfevents.1537935184.DESKTOP-V3AEQVL to C:\\Users\\rruzzo\\Documents\\GitHub\\Deep_Learning_Work\\module_0\\week_3\\logs\\events.out.tfevents.1537935312.DESKTOP-V3AEQVL\n",
      "WARNING:tensorflow:Found more than one graph event per run, or there was a metagraph containing a graph_def, as well as one or more graph events.  Overwriting the graph with the newest event.\n",
      "WARNING:tensorflow:Found more than one metagraph event per run. Overwriting the metagraph with the newest event.\n"
     ]
    },
    {
     "name": "stderr",
     "output_type": "stream",
     "text": [
      "172.20.40.81 - - [26/Sep/2018 00:15:24] \"\u001b[37mGET /data/plugin/scalars/scalars?run=.&tag=val_loss HTTP/1.1\u001b[0m\" 200 -\n",
      "172.20.40.81 - - [26/Sep/2018 00:15:34] \"\u001b[37mGET /data/environment HTTP/1.1\u001b[0m\" 200 -\n"
     ]
    },
    {
     "name": "stdout",
     "output_type": "stream",
     "text": [
      "INFO:tensorflow:Plugin listing: is_active() for core took 0.000 seconds\n"
     ]
    },
    {
     "name": "stderr",
     "output_type": "stream",
     "text": [
      "172.20.40.81 - - [26/Sep/2018 00:15:34] \"\u001b[37mGET /data/runs HTTP/1.1\u001b[0m\" 200 -\n",
      "172.20.40.81 - - [26/Sep/2018 00:15:34] \"\u001b[37mGET /data/experiments HTTP/1.1\u001b[0m\" 200 -\n"
     ]
    },
    {
     "name": "stdout",
     "output_type": "stream",
     "text": [
      "INFO:tensorflow:Plugin listing: is_active() for beholder took 0.026 seconds\n",
      "INFO:tensorflow:Plugin listing: is_active() for scalars took 0.000 seconds\n",
      "INFO:tensorflow:Plugin listing: is_active() for custom_scalars took 0.000 seconds\n",
      "INFO:tensorflow:Plugin listing: is_active() for images took 0.000 seconds\n",
      "INFO:tensorflow:Plugin listing: is_active() for audio took 0.000 seconds\n",
      "INFO:tensorflow:Plugin listing: is_active() for graphs took 0.000 seconds\n",
      "INFO:tensorflow:Plugin listing: is_active() for distributions took 0.010 seconds\n",
      "INFO:tensorflow:Plugin listing: is_active() for histograms took 0.005 seconds\n",
      "INFO:tensorflow:Plugin listing: is_active() for pr_curves took 0.000 seconds\n",
      "INFO:tensorflow:Plugin listing: is_active() for projector took 0.011 seconds\n",
      "INFO:tensorflow:TextPlugin computing index_impl() in a new thread\n",
      "INFO:tensorflow:Plugin listing: is_active() for text took 0.013 seconds\n",
      "INFO:tensorflow:TextPlugin index_impl() thread ending after 0.054 sec\n",
      "INFO:tensorflow:Plugin listing: is_active() for profile took 0.000 seconds\n"
     ]
    },
    {
     "name": "stderr",
     "output_type": "stream",
     "text": [
      "172.20.40.81 - - [26/Sep/2018 00:15:34] \"\u001b[37mGET /data/plugins_listing HTTP/1.1\u001b[0m\" 200 -\n",
      "172.20.40.81 - - [26/Sep/2018 00:15:34] \"\u001b[37mGET /data/plugin/scalars/tags HTTP/1.1\u001b[0m\" 200 -\n",
      "172.20.40.81 - - [26/Sep/2018 00:15:34] \"\u001b[37mGET /data/plugin/scalars/scalars?run=.&tag=acc HTTP/1.1\u001b[0m\" 200 -\n",
      "172.20.40.81 - - [26/Sep/2018 00:15:34] \"\u001b[37mGET /data/plugin/scalars/scalars?run=.&tag=loss HTTP/1.1\u001b[0m\" 200 -\n",
      "172.20.40.81 - - [26/Sep/2018 00:15:34] \"\u001b[37mGET /data/plugin/scalars/scalars?run=.&tag=val_loss HTTP/1.1\u001b[0m\" 200 -\n",
      "172.20.40.81 - - [26/Sep/2018 00:16:03] \"\u001b[37mGET /data/environment HTTP/1.1\u001b[0m\" 200 -\n"
     ]
    },
    {
     "name": "stdout",
     "output_type": "stream",
     "text": [
      "INFO:tensorflow:Plugin listing: is_active() for core took 0.000 seconds\n"
     ]
    },
    {
     "name": "stderr",
     "output_type": "stream",
     "text": [
      "172.20.40.81 - - [26/Sep/2018 00:16:04] \"\u001b[37mGET /data/runs HTTP/1.1\u001b[0m\" 200 -\n"
     ]
    },
    {
     "name": "stdout",
     "output_type": "stream",
     "text": [
      "INFO:tensorflow:Plugin listing: is_active() for beholder took 0.017 seconds\n"
     ]
    },
    {
     "name": "stderr",
     "output_type": "stream",
     "text": [
      "172.20.40.81 - - [26/Sep/2018 00:16:04] \"\u001b[37mGET /data/experiments HTTP/1.1\u001b[0m\" 200 -\n"
     ]
    },
    {
     "name": "stdout",
     "output_type": "stream",
     "text": [
      "INFO:tensorflow:Plugin listing: is_active() for scalars took 0.000 seconds\n",
      "INFO:tensorflow:Plugin listing: is_active() for custom_scalars took 0.000 seconds\n",
      "INFO:tensorflow:Plugin listing: is_active() for images took 0.000 seconds\n",
      "INFO:tensorflow:Plugin listing: is_active() for audio took 0.000 seconds\n",
      "INFO:tensorflow:Plugin listing: is_active() for graphs took 0.000 seconds\n",
      "INFO:tensorflow:Plugin listing: is_active() for distributions took 0.008 seconds\n",
      "INFO:tensorflow:Plugin listing: is_active() for histograms took 0.012 seconds\n",
      "INFO:tensorflow:Plugin listing: is_active() for pr_curves took 0.000 seconds\n",
      "INFO:tensorflow:Plugin listing: is_active() for projector took 0.016 seconds\n",
      "INFO:tensorflow:TextPlugin computing index_impl() in a new thread\n",
      "INFO:tensorflow:Plugin listing: is_active() for text took 0.018 seconds\n",
      "INFO:tensorflow:TextPlugin index_impl() thread ending after 0.027 sec\n",
      "INFO:tensorflow:Plugin listing: is_active() for profile took 0.006 seconds\n"
     ]
    },
    {
     "name": "stderr",
     "output_type": "stream",
     "text": [
      "172.20.40.81 - - [26/Sep/2018 00:16:04] \"\u001b[37mGET /data/plugins_listing HTTP/1.1\u001b[0m\" 200 -\n",
      "172.20.40.81 - - [26/Sep/2018 00:16:04] \"\u001b[37mGET /data/plugin/scalars/tags HTTP/1.1\u001b[0m\" 200 -\n",
      "172.20.40.81 - - [26/Sep/2018 00:16:04] \"\u001b[37mGET /data/plugin/scalars/scalars?run=.&tag=acc HTTP/1.1\u001b[0m\" 200 -\n",
      "172.20.40.81 - - [26/Sep/2018 00:16:04] \"\u001b[37mGET /data/plugin/scalars/scalars?run=.&tag=loss HTTP/1.1\u001b[0m\" 200 -\n",
      "172.20.40.81 - - [26/Sep/2018 00:16:04] \"\u001b[37mGET /data/plugin/scalars/scalars?run=.&tag=val_loss HTTP/1.1\u001b[0m\" 200 -\n"
     ]
    },
    {
     "name": "stdout",
     "output_type": "stream",
     "text": [
      "INFO:tensorflow:No path found after C:\\Users\\rruzzo\\Documents\\GitHub\\Deep_Learning_Work\\module_0\\week_3\\logs\\events.out.tfevents.1537935312.DESKTOP-V3AEQVL\n",
      "INFO:tensorflow:Finished with EventMultiplexer.Reload()\n",
      "INFO:tensorflow:TensorBoard done reloading. Load took 72.172 secs\n",
      "INFO:tensorflow:TensorBoard reload process beginning\n",
      "INFO:tensorflow:Starting AddRunsFromDirectory: C:\\Users\\rruzzo\\Documents\\GitHub\\Deep_Learning_Work\\module_0\\week_3\\logs\n",
      "INFO:tensorflow:GetLogdirSubdirectories: Starting to list directories via walking.\n",
      "INFO:tensorflow:Adding run from directory C:\\Users\\rruzzo\\Documents\\GitHub\\Deep_Learning_Work\\module_0\\week_3\\logs\n",
      "INFO:tensorflow:Done with AddRunsFromDirectory: C:\\Users\\rruzzo\\Documents\\GitHub\\Deep_Learning_Work\\module_0\\week_3\\logs\n",
      "INFO:tensorflow:TensorBoard reload process: Reload the whole Multiplexer\n",
      "INFO:tensorflow:Beginning EventMultiplexer.Reload()\n",
      "INFO:tensorflow:Reloading runs serially (one after another) on the main thread.\n",
      "INFO:tensorflow:No path found after C:\\Users\\rruzzo\\Documents\\GitHub\\Deep_Learning_Work\\module_0\\week_3\\logs\\events.out.tfevents.1537935312.DESKTOP-V3AEQVL\n",
      "INFO:tensorflow:Finished with EventMultiplexer.Reload()\n",
      "INFO:tensorflow:TensorBoard done reloading. Load took 0.034 secs\n"
     ]
    },
    {
     "name": "stderr",
     "output_type": "stream",
     "text": [
      "172.20.40.81 - - [26/Sep/2018 00:16:33] \"\u001b[37mGET /data/environment HTTP/1.1\u001b[0m\" 200 -\n"
     ]
    },
    {
     "name": "stdout",
     "output_type": "stream",
     "text": [
      "INFO:tensorflow:Plugin listing: is_active() for core took 0.000 seconds\n"
     ]
    },
    {
     "name": "stderr",
     "output_type": "stream",
     "text": [
      "172.20.40.81 - - [26/Sep/2018 00:16:34] \"\u001b[37mGET /data/runs HTTP/1.1\u001b[0m\" 200 -\n"
     ]
    },
    {
     "name": "stdout",
     "output_type": "stream",
     "text": [
      "INFO:tensorflow:Plugin listing: is_active() for beholder took 0.001 seconds\n"
     ]
    },
    {
     "name": "stderr",
     "output_type": "stream",
     "text": [
      "172.20.40.81 - - [26/Sep/2018 00:16:34] \"\u001b[37mGET /data/experiments HTTP/1.1\u001b[0m\" 200 -\n"
     ]
    },
    {
     "name": "stdout",
     "output_type": "stream",
     "text": [
      "INFO:tensorflow:Plugin listing: is_active() for scalars took 0.000 seconds\n",
      "INFO:tensorflow:Plugin listing: is_active() for custom_scalars took 0.000 seconds\n",
      "INFO:tensorflow:Plugin listing: is_active() for images took 0.000 seconds\n",
      "INFO:tensorflow:Plugin listing: is_active() for audio took 0.000 seconds\n",
      "INFO:tensorflow:Plugin listing: is_active() for graphs took 0.000 seconds\n",
      "INFO:tensorflow:Plugin listing: is_active() for distributions took 0.008 seconds\n",
      "INFO:tensorflow:Plugin listing: is_active() for histograms took 0.005 seconds\n",
      "INFO:tensorflow:Plugin listing: is_active() for pr_curves took 0.000 seconds\n",
      "INFO:tensorflow:Plugin listing: is_active() for projector took 0.001 seconds\n",
      "INFO:tensorflow:TextPlugin computing index_impl() in a new thread\n",
      "INFO:tensorflow:Plugin listing: is_active() for text took 0.003 seconds\n",
      "INFO:tensorflow:TextPlugin index_impl() thread ending after 0.004 sec\n",
      "INFO:tensorflow:Plugin listing: is_active() for profile took 0.001 seconds\n"
     ]
    },
    {
     "name": "stderr",
     "output_type": "stream",
     "text": [
      "172.20.40.81 - - [26/Sep/2018 00:16:34] \"\u001b[37mGET /data/plugins_listing HTTP/1.1\u001b[0m\" 200 -\n",
      "172.20.40.81 - - [26/Sep/2018 00:16:34] \"\u001b[37mGET /data/plugin/scalars/tags HTTP/1.1\u001b[0m\" 200 -\n",
      "172.20.40.81 - - [26/Sep/2018 00:16:34] \"\u001b[37mGET /data/plugin/scalars/scalars?run=.&tag=acc HTTP/1.1\u001b[0m\" 200 -\n",
      "172.20.40.81 - - [26/Sep/2018 00:16:34] \"\u001b[37mGET /data/plugin/scalars/scalars?run=.&tag=loss HTTP/1.1\u001b[0m\" 200 -\n",
      "172.20.40.81 - - [26/Sep/2018 00:16:34] \"\u001b[37mGET /data/plugin/scalars/scalars?run=.&tag=val_loss HTTP/1.1\u001b[0m\" 200 -\n"
     ]
    },
    {
     "name": "stdout",
     "output_type": "stream",
     "text": [
      "INFO:tensorflow:TensorBoard reload process beginning\n",
      "INFO:tensorflow:Starting AddRunsFromDirectory: C:\\Users\\rruzzo\\Documents\\GitHub\\Deep_Learning_Work\\module_0\\week_3\\logs\n",
      "INFO:tensorflow:GetLogdirSubdirectories: Starting to list directories via walking.\n",
      "INFO:tensorflow:Adding run from directory C:\\Users\\rruzzo\\Documents\\GitHub\\Deep_Learning_Work\\module_0\\week_3\\logs\n",
      "INFO:tensorflow:Done with AddRunsFromDirectory: C:\\Users\\rruzzo\\Documents\\GitHub\\Deep_Learning_Work\\module_0\\week_3\\logs\n",
      "INFO:tensorflow:TensorBoard reload process: Reload the whole Multiplexer\n",
      "INFO:tensorflow:Beginning EventMultiplexer.Reload()\n",
      "INFO:tensorflow:Reloading runs serially (one after another) on the main thread.\n",
      "INFO:tensorflow:No path found after C:\\Users\\rruzzo\\Documents\\GitHub\\Deep_Learning_Work\\module_0\\week_3\\logs\\events.out.tfevents.1537935312.DESKTOP-V3AEQVL\n",
      "INFO:tensorflow:Finished with EventMultiplexer.Reload()\n",
      "INFO:tensorflow:TensorBoard done reloading. Load took 0.036 secs\n",
      "INFO:tensorflow:TensorBoard reload process beginning\n",
      "INFO:tensorflow:Starting AddRunsFromDirectory: C:\\Users\\rruzzo\\Documents\\GitHub\\Deep_Learning_Work\\module_0\\week_3\\logs\n",
      "INFO:tensorflow:GetLogdirSubdirectories: Starting to list directories via walking.\n",
      "INFO:tensorflow:Adding run from directory C:\\Users\\rruzzo\\Documents\\GitHub\\Deep_Learning_Work\\module_0\\week_3\\logs\n",
      "INFO:tensorflow:Done with AddRunsFromDirectory: C:\\Users\\rruzzo\\Documents\\GitHub\\Deep_Learning_Work\\module_0\\week_3\\logs\n",
      "INFO:tensorflow:TensorBoard reload process: Reload the whole Multiplexer\n",
      "INFO:tensorflow:Beginning EventMultiplexer.Reload()\n",
      "INFO:tensorflow:Reloading runs serially (one after another) on the main thread.\n",
      "INFO:tensorflow:No path found after C:\\Users\\rruzzo\\Documents\\GitHub\\Deep_Learning_Work\\module_0\\week_3\\logs\\events.out.tfevents.1537935312.DESKTOP-V3AEQVL\n",
      "INFO:tensorflow:Finished with EventMultiplexer.Reload()\n",
      "INFO:tensorflow:TensorBoard done reloading. Load took 0.012 secs\n",
      "INFO:tensorflow:TensorBoard reload process beginning\n",
      "INFO:tensorflow:Starting AddRunsFromDirectory: C:\\Users\\rruzzo\\Documents\\GitHub\\Deep_Learning_Work\\module_0\\week_3\\logs\n",
      "INFO:tensorflow:GetLogdirSubdirectories: Starting to list directories via walking.\n",
      "INFO:tensorflow:Adding run from directory C:\\Users\\rruzzo\\Documents\\GitHub\\Deep_Learning_Work\\module_0\\week_3\\logs\n",
      "INFO:tensorflow:Done with AddRunsFromDirectory: C:\\Users\\rruzzo\\Documents\\GitHub\\Deep_Learning_Work\\module_0\\week_3\\logs\n",
      "INFO:tensorflow:TensorBoard reload process: Reload the whole Multiplexer\n",
      "INFO:tensorflow:Beginning EventMultiplexer.Reload()\n",
      "INFO:tensorflow:Reloading runs serially (one after another) on the main thread.\n",
      "INFO:tensorflow:No path found after C:\\Users\\rruzzo\\Documents\\GitHub\\Deep_Learning_Work\\module_0\\week_3\\logs\\events.out.tfevents.1537935312.DESKTOP-V3AEQVL\n",
      "INFO:tensorflow:Finished with EventMultiplexer.Reload()\n",
      "INFO:tensorflow:TensorBoard done reloading. Load took 0.012 secs\n",
      "INFO:tensorflow:TensorBoard reload process beginning\n",
      "INFO:tensorflow:Starting AddRunsFromDirectory: C:\\Users\\rruzzo\\Documents\\GitHub\\Deep_Learning_Work\\module_0\\week_3\\logs\n",
      "INFO:tensorflow:GetLogdirSubdirectories: Starting to list directories via walking.\n",
      "INFO:tensorflow:Adding run from directory C:\\Users\\rruzzo\\Documents\\GitHub\\Deep_Learning_Work\\module_0\\week_3\\logs\n",
      "INFO:tensorflow:Done with AddRunsFromDirectory: C:\\Users\\rruzzo\\Documents\\GitHub\\Deep_Learning_Work\\module_0\\week_3\\logs\n",
      "INFO:tensorflow:TensorBoard reload process: Reload the whole Multiplexer\n",
      "INFO:tensorflow:Beginning EventMultiplexer.Reload()\n",
      "INFO:tensorflow:Reloading runs serially (one after another) on the main thread.\n",
      "INFO:tensorflow:No path found after C:\\Users\\rruzzo\\Documents\\GitHub\\Deep_Learning_Work\\module_0\\week_3\\logs\\events.out.tfevents.1537935312.DESKTOP-V3AEQVL\n",
      "INFO:tensorflow:Finished with EventMultiplexer.Reload()\n",
      "INFO:tensorflow:TensorBoard done reloading. Load took 0.013 secs\n",
      "INFO:tensorflow:TensorBoard reload process beginning\n",
      "INFO:tensorflow:Starting AddRunsFromDirectory: C:\\Users\\rruzzo\\Documents\\GitHub\\Deep_Learning_Work\\module_0\\week_3\\logs\n",
      "INFO:tensorflow:GetLogdirSubdirectories: Starting to list directories via walking.\n",
      "INFO:tensorflow:Adding run from directory C:\\Users\\rruzzo\\Documents\\GitHub\\Deep_Learning_Work\\module_0\\week_3\\logs\n",
      "INFO:tensorflow:Done with AddRunsFromDirectory: C:\\Users\\rruzzo\\Documents\\GitHub\\Deep_Learning_Work\\module_0\\week_3\\logs\n",
      "INFO:tensorflow:TensorBoard reload process: Reload the whole Multiplexer\n",
      "INFO:tensorflow:Beginning EventMultiplexer.Reload()\n",
      "INFO:tensorflow:Reloading runs serially (one after another) on the main thread.\n",
      "INFO:tensorflow:No path found after C:\\Users\\rruzzo\\Documents\\GitHub\\Deep_Learning_Work\\module_0\\week_3\\logs\\events.out.tfevents.1537935312.DESKTOP-V3AEQVL\n",
      "INFO:tensorflow:Finished with EventMultiplexer.Reload()\n",
      "INFO:tensorflow:TensorBoard done reloading. Load took 0.021 secs\n",
      "INFO:tensorflow:TensorBoard reload process beginning\n",
      "INFO:tensorflow:Starting AddRunsFromDirectory: C:\\Users\\rruzzo\\Documents\\GitHub\\Deep_Learning_Work\\module_0\\week_3\\logs\n",
      "INFO:tensorflow:GetLogdirSubdirectories: Starting to list directories via walking.\n",
      "INFO:tensorflow:Adding run from directory C:\\Users\\rruzzo\\Documents\\GitHub\\Deep_Learning_Work\\module_0\\week_3\\logs\n",
      "INFO:tensorflow:Done with AddRunsFromDirectory: C:\\Users\\rruzzo\\Documents\\GitHub\\Deep_Learning_Work\\module_0\\week_3\\logs\n",
      "INFO:tensorflow:TensorBoard reload process: Reload the whole Multiplexer\n",
      "INFO:tensorflow:Beginning EventMultiplexer.Reload()\n",
      "INFO:tensorflow:Reloading runs serially (one after another) on the main thread.\n",
      "INFO:tensorflow:No path found after C:\\Users\\rruzzo\\Documents\\GitHub\\Deep_Learning_Work\\module_0\\week_3\\logs\\events.out.tfevents.1537935312.DESKTOP-V3AEQVL\n",
      "INFO:tensorflow:Finished with EventMultiplexer.Reload()\n",
      "INFO:tensorflow:TensorBoard done reloading. Load took 0.020 secs\n",
      "INFO:tensorflow:Plugin listing: is_active() for core took 0.000 seconds\n",
      "INFO:tensorflow:Plugin listing: is_active() for beholder took 0.002 seconds\n"
     ]
    },
    {
     "name": "stderr",
     "output_type": "stream",
     "text": [
      "172.20.40.81 - - [26/Sep/2018 00:17:03] \"\u001b[37mGET /data/environment HTTP/1.1\u001b[0m\" 200 -\n"
     ]
    },
    {
     "name": "stdout",
     "output_type": "stream",
     "text": [
      "INFO:tensorflow:Plugin listing: is_active() for scalars took 0.000 seconds\n"
     ]
    },
    {
     "name": "stderr",
     "output_type": "stream",
     "text": [
      "172.20.40.81 - - [26/Sep/2018 00:17:04] \"\u001b[37mGET /data/runs HTTP/1.1\u001b[0m\" 200 -\n"
     ]
    },
    {
     "name": "stdout",
     "output_type": "stream",
     "text": [
      "INFO:tensorflow:Plugin listing: is_active() for custom_scalars took 0.000 seconds\n"
     ]
    },
    {
     "name": "stderr",
     "output_type": "stream",
     "text": [
      "172.20.40.81 - - [26/Sep/2018 00:17:04] \"\u001b[37mGET /data/experiments HTTP/1.1\u001b[0m\" 200 -\n"
     ]
    },
    {
     "name": "stdout",
     "output_type": "stream",
     "text": [
      "INFO:tensorflow:Plugin listing: is_active() for images took 0.000 seconds\n",
      "INFO:tensorflow:Plugin listing: is_active() for audio took 0.000 seconds\n",
      "INFO:tensorflow:Plugin listing: is_active() for graphs took 0.000 seconds\n",
      "INFO:tensorflow:Plugin listing: is_active() for distributions took 0.006 seconds\n",
      "INFO:tensorflow:Plugin listing: is_active() for histograms took 0.006 seconds\n",
      "INFO:tensorflow:Plugin listing: is_active() for pr_curves took 0.000 seconds\n",
      "INFO:tensorflow:Plugin listing: is_active() for projector took 0.001 seconds\n",
      "INFO:tensorflow:TextPlugin computing index_impl() in a new thread\n",
      "INFO:tensorflow:Plugin listing: is_active() for text took 0.003 seconds\n",
      "INFO:tensorflow:TextPlugin index_impl() thread ending after 0.004 sec\n",
      "INFO:tensorflow:Plugin listing: is_active() for profile took 0.000 seconds\n"
     ]
    },
    {
     "name": "stderr",
     "output_type": "stream",
     "text": [
      "172.20.40.81 - - [26/Sep/2018 00:17:04] \"\u001b[37mGET /data/plugins_listing HTTP/1.1\u001b[0m\" 200 -\n",
      "172.20.40.81 - - [26/Sep/2018 00:17:04] \"\u001b[37mGET /data/plugin/scalars/tags HTTP/1.1\u001b[0m\" 200 -\n",
      "172.20.40.81 - - [26/Sep/2018 00:17:04] \"\u001b[37mGET /data/plugin/scalars/scalars?run=.&tag=acc HTTP/1.1\u001b[0m\" 200 -\n",
      "172.20.40.81 - - [26/Sep/2018 00:17:04] \"\u001b[37mGET /data/plugin/scalars/scalars?run=.&tag=loss HTTP/1.1\u001b[0m\" 200 -\n",
      "172.20.40.81 - - [26/Sep/2018 00:17:04] \"\u001b[37mGET /data/plugin/scalars/scalars?run=.&tag=val_loss HTTP/1.1\u001b[0m\" 200 -\n"
     ]
    },
    {
     "name": "stdout",
     "output_type": "stream",
     "text": [
      "INFO:tensorflow:TensorBoard reload process beginning\n",
      "INFO:tensorflow:Starting AddRunsFromDirectory: C:\\Users\\rruzzo\\Documents\\GitHub\\Deep_Learning_Work\\module_0\\week_3\\logs\n",
      "INFO:tensorflow:GetLogdirSubdirectories: Starting to list directories via walking.\n",
      "INFO:tensorflow:Adding run from directory C:\\Users\\rruzzo\\Documents\\GitHub\\Deep_Learning_Work\\module_0\\week_3\\logs\n",
      "INFO:tensorflow:Done with AddRunsFromDirectory: C:\\Users\\rruzzo\\Documents\\GitHub\\Deep_Learning_Work\\module_0\\week_3\\logs\n",
      "INFO:tensorflow:TensorBoard reload process: Reload the whole Multiplexer\n",
      "INFO:tensorflow:Beginning EventMultiplexer.Reload()\n",
      "INFO:tensorflow:Reloading runs serially (one after another) on the main thread.\n",
      "INFO:tensorflow:No path found after C:\\Users\\rruzzo\\Documents\\GitHub\\Deep_Learning_Work\\module_0\\week_3\\logs\\events.out.tfevents.1537935312.DESKTOP-V3AEQVL\n",
      "INFO:tensorflow:Finished with EventMultiplexer.Reload()\n",
      "INFO:tensorflow:TensorBoard done reloading. Load took 0.036 secs\n",
      "INFO:tensorflow:TensorBoard reload process beginning\n",
      "INFO:tensorflow:Starting AddRunsFromDirectory: C:\\Users\\rruzzo\\Documents\\GitHub\\Deep_Learning_Work\\module_0\\week_3\\logs\n",
      "INFO:tensorflow:GetLogdirSubdirectories: Starting to list directories via walking.\n",
      "INFO:tensorflow:Adding run from directory C:\\Users\\rruzzo\\Documents\\GitHub\\Deep_Learning_Work\\module_0\\week_3\\logs\n",
      "INFO:tensorflow:Done with AddRunsFromDirectory: C:\\Users\\rruzzo\\Documents\\GitHub\\Deep_Learning_Work\\module_0\\week_3\\logs\n",
      "INFO:tensorflow:TensorBoard reload process: Reload the whole Multiplexer\n",
      "INFO:tensorflow:Beginning EventMultiplexer.Reload()\n",
      "INFO:tensorflow:Reloading runs serially (one after another) on the main thread.\n",
      "INFO:tensorflow:No path found after C:\\Users\\rruzzo\\Documents\\GitHub\\Deep_Learning_Work\\module_0\\week_3\\logs\\events.out.tfevents.1537935312.DESKTOP-V3AEQVL\n",
      "INFO:tensorflow:Finished with EventMultiplexer.Reload()\n",
      "INFO:tensorflow:TensorBoard done reloading. Load took 0.026 secs\n",
      "INFO:tensorflow:TensorBoard reload process beginning\n",
      "INFO:tensorflow:Starting AddRunsFromDirectory: C:\\Users\\rruzzo\\Documents\\GitHub\\Deep_Learning_Work\\module_0\\week_3\\logs\n",
      "INFO:tensorflow:GetLogdirSubdirectories: Starting to list directories via walking.\n",
      "INFO:tensorflow:Adding run from directory C:\\Users\\rruzzo\\Documents\\GitHub\\Deep_Learning_Work\\module_0\\week_3\\logs\n",
      "INFO:tensorflow:Done with AddRunsFromDirectory: C:\\Users\\rruzzo\\Documents\\GitHub\\Deep_Learning_Work\\module_0\\week_3\\logs\n",
      "INFO:tensorflow:TensorBoard reload process: Reload the whole Multiplexer\n",
      "INFO:tensorflow:Beginning EventMultiplexer.Reload()\n",
      "INFO:tensorflow:Reloading runs serially (one after another) on the main thread.\n",
      "INFO:tensorflow:No path found after C:\\Users\\rruzzo\\Documents\\GitHub\\Deep_Learning_Work\\module_0\\week_3\\logs\\events.out.tfevents.1537935312.DESKTOP-V3AEQVL\n",
      "INFO:tensorflow:Finished with EventMultiplexer.Reload()\n",
      "INFO:tensorflow:TensorBoard done reloading. Load took 0.012 secs\n",
      "INFO:tensorflow:TensorBoard reload process beginning\n",
      "INFO:tensorflow:Starting AddRunsFromDirectory: C:\\Users\\rruzzo\\Documents\\GitHub\\Deep_Learning_Work\\module_0\\week_3\\logs\n",
      "INFO:tensorflow:GetLogdirSubdirectories: Starting to list directories via walking.\n",
      "INFO:tensorflow:Adding run from directory C:\\Users\\rruzzo\\Documents\\GitHub\\Deep_Learning_Work\\module_0\\week_3\\logs\n",
      "INFO:tensorflow:Done with AddRunsFromDirectory: C:\\Users\\rruzzo\\Documents\\GitHub\\Deep_Learning_Work\\module_0\\week_3\\logs\n",
      "INFO:tensorflow:TensorBoard reload process: Reload the whole Multiplexer\n",
      "INFO:tensorflow:Beginning EventMultiplexer.Reload()\n",
      "INFO:tensorflow:Reloading runs serially (one after another) on the main thread.\n",
      "INFO:tensorflow:No path found after C:\\Users\\rruzzo\\Documents\\GitHub\\Deep_Learning_Work\\module_0\\week_3\\logs\\events.out.tfevents.1537935312.DESKTOP-V3AEQVL\n",
      "INFO:tensorflow:Finished with EventMultiplexer.Reload()\n",
      "INFO:tensorflow:TensorBoard done reloading. Load took 0.021 secs\n",
      "INFO:tensorflow:TensorBoard reload process beginning\n",
      "INFO:tensorflow:Starting AddRunsFromDirectory: C:\\Users\\rruzzo\\Documents\\GitHub\\Deep_Learning_Work\\module_0\\week_3\\logs\n",
      "INFO:tensorflow:GetLogdirSubdirectories: Starting to list directories via walking.\n",
      "INFO:tensorflow:Adding run from directory C:\\Users\\rruzzo\\Documents\\GitHub\\Deep_Learning_Work\\module_0\\week_3\\logs\n",
      "INFO:tensorflow:Done with AddRunsFromDirectory: C:\\Users\\rruzzo\\Documents\\GitHub\\Deep_Learning_Work\\module_0\\week_3\\logs\n",
      "INFO:tensorflow:TensorBoard reload process: Reload the whole Multiplexer\n",
      "INFO:tensorflow:Beginning EventMultiplexer.Reload()\n",
      "INFO:tensorflow:Reloading runs serially (one after another) on the main thread.\n",
      "INFO:tensorflow:No path found after C:\\Users\\rruzzo\\Documents\\GitHub\\Deep_Learning_Work\\module_0\\week_3\\logs\\events.out.tfevents.1537935312.DESKTOP-V3AEQVL\n",
      "INFO:tensorflow:Finished with EventMultiplexer.Reload()\n",
      "INFO:tensorflow:TensorBoard done reloading. Load took 0.022 secs\n",
      "INFO:tensorflow:TensorBoard reload process beginning\n",
      "INFO:tensorflow:Starting AddRunsFromDirectory: C:\\Users\\rruzzo\\Documents\\GitHub\\Deep_Learning_Work\\module_0\\week_3\\logs\n",
      "INFO:tensorflow:GetLogdirSubdirectories: Starting to list directories via walking.\n",
      "INFO:tensorflow:Adding run from directory C:\\Users\\rruzzo\\Documents\\GitHub\\Deep_Learning_Work\\module_0\\week_3\\logs\n",
      "INFO:tensorflow:Done with AddRunsFromDirectory: C:\\Users\\rruzzo\\Documents\\GitHub\\Deep_Learning_Work\\module_0\\week_3\\logs\n",
      "INFO:tensorflow:TensorBoard reload process: Reload the whole Multiplexer\n",
      "INFO:tensorflow:Beginning EventMultiplexer.Reload()\n",
      "INFO:tensorflow:Reloading runs serially (one after another) on the main thread.\n",
      "INFO:tensorflow:No path found after C:\\Users\\rruzzo\\Documents\\GitHub\\Deep_Learning_Work\\module_0\\week_3\\logs\\events.out.tfevents.1537935312.DESKTOP-V3AEQVL\n",
      "INFO:tensorflow:Finished with EventMultiplexer.Reload()\n",
      "INFO:tensorflow:TensorBoard done reloading. Load took 0.012 secs\n",
      "INFO:tensorflow:Plugin listing: is_active() for core took 0.000 seconds\n"
     ]
    },
    {
     "name": "stderr",
     "output_type": "stream",
     "text": [
      "172.20.40.81 - - [26/Sep/2018 00:17:33] \"\u001b[37mGET /data/environment HTTP/1.1\u001b[0m\" 200 -\n"
     ]
    },
    {
     "name": "stdout",
     "output_type": "stream",
     "text": [
      "INFO:tensorflow:Plugin listing: is_active() for beholder took 0.001 seconds\n"
     ]
    },
    {
     "name": "stderr",
     "output_type": "stream",
     "text": [
      "172.20.40.81 - - [26/Sep/2018 00:17:34] \"\u001b[37mGET /data/runs HTTP/1.1\u001b[0m\" 200 -\n"
     ]
    },
    {
     "name": "stdout",
     "output_type": "stream",
     "text": [
      "INFO:tensorflow:Plugin listing: is_active() for scalars took 0.000 seconds\n"
     ]
    },
    {
     "name": "stderr",
     "output_type": "stream",
     "text": [
      "172.20.40.81 - - [26/Sep/2018 00:17:34] \"\u001b[37mGET /data/experiments HTTP/1.1\u001b[0m\" 200 -\n"
     ]
    },
    {
     "name": "stdout",
     "output_type": "stream",
     "text": [
      "INFO:tensorflow:Plugin listing: is_active() for custom_scalars took 0.001 seconds\n",
      "INFO:tensorflow:Plugin listing: is_active() for images took 0.001 seconds\n",
      "INFO:tensorflow:Plugin listing: is_active() for audio took 0.000 seconds\n",
      "INFO:tensorflow:Plugin listing: is_active() for graphs took 0.000 seconds\n",
      "INFO:tensorflow:Plugin listing: is_active() for distributions took 0.006 seconds\n",
      "INFO:tensorflow:Plugin listing: is_active() for histograms took 0.006 seconds\n",
      "INFO:tensorflow:Plugin listing: is_active() for pr_curves took 0.000 seconds\n",
      "INFO:tensorflow:Plugin listing: is_active() for projector took 0.001 seconds\n",
      "INFO:tensorflow:TextPlugin computing index_impl() in a new thread\n",
      "INFO:tensorflow:Plugin listing: is_active() for text took 0.002 seconds\n",
      "INFO:tensorflow:TextPlugin index_impl() thread ending after 0.004 sec\n",
      "INFO:tensorflow:Plugin listing: is_active() for profile took 0.000 seconds\n"
     ]
    },
    {
     "name": "stderr",
     "output_type": "stream",
     "text": [
      "172.20.40.81 - - [26/Sep/2018 00:17:34] \"\u001b[37mGET /data/plugins_listing HTTP/1.1\u001b[0m\" 200 -\n",
      "172.20.40.81 - - [26/Sep/2018 00:17:34] \"\u001b[37mGET /data/plugin/scalars/tags HTTP/1.1\u001b[0m\" 200 -\n",
      "172.20.40.81 - - [26/Sep/2018 00:17:34] \"\u001b[37mGET /data/plugin/scalars/scalars?run=.&tag=acc HTTP/1.1\u001b[0m\" 200 -\n",
      "172.20.40.81 - - [26/Sep/2018 00:17:34] \"\u001b[37mGET /data/plugin/scalars/scalars?run=.&tag=loss HTTP/1.1\u001b[0m\" 200 -\n",
      "172.20.40.81 - - [26/Sep/2018 00:17:34] \"\u001b[37mGET /data/plugin/scalars/scalars?run=.&tag=val_loss HTTP/1.1\u001b[0m\" 200 -\n"
     ]
    },
    {
     "name": "stdout",
     "output_type": "stream",
     "text": [
      "INFO:tensorflow:TensorBoard reload process beginning\n",
      "INFO:tensorflow:Starting AddRunsFromDirectory: C:\\Users\\rruzzo\\Documents\\GitHub\\Deep_Learning_Work\\module_0\\week_3\\logs\n",
      "INFO:tensorflow:GetLogdirSubdirectories: Starting to list directories via walking.\n",
      "INFO:tensorflow:Adding run from directory C:\\Users\\rruzzo\\Documents\\GitHub\\Deep_Learning_Work\\module_0\\week_3\\logs\n",
      "INFO:tensorflow:Done with AddRunsFromDirectory: C:\\Users\\rruzzo\\Documents\\GitHub\\Deep_Learning_Work\\module_0\\week_3\\logs\n",
      "INFO:tensorflow:TensorBoard reload process: Reload the whole Multiplexer\n",
      "INFO:tensorflow:Beginning EventMultiplexer.Reload()\n",
      "INFO:tensorflow:Reloading runs serially (one after another) on the main thread.\n",
      "INFO:tensorflow:No path found after C:\\Users\\rruzzo\\Documents\\GitHub\\Deep_Learning_Work\\module_0\\week_3\\logs\\events.out.tfevents.1537935312.DESKTOP-V3AEQVL\n",
      "INFO:tensorflow:Finished with EventMultiplexer.Reload()\n",
      "INFO:tensorflow:TensorBoard done reloading. Load took 0.022 secs\n",
      "INFO:tensorflow:TensorBoard reload process beginning\n",
      "INFO:tensorflow:Starting AddRunsFromDirectory: C:\\Users\\rruzzo\\Documents\\GitHub\\Deep_Learning_Work\\module_0\\week_3\\logs\n",
      "INFO:tensorflow:GetLogdirSubdirectories: Starting to list directories via walking.\n",
      "INFO:tensorflow:Adding run from directory C:\\Users\\rruzzo\\Documents\\GitHub\\Deep_Learning_Work\\module_0\\week_3\\logs\n",
      "INFO:tensorflow:Done with AddRunsFromDirectory: C:\\Users\\rruzzo\\Documents\\GitHub\\Deep_Learning_Work\\module_0\\week_3\\logs\n",
      "INFO:tensorflow:TensorBoard reload process: Reload the whole Multiplexer\n",
      "INFO:tensorflow:Beginning EventMultiplexer.Reload()\n",
      "INFO:tensorflow:Reloading runs serially (one after another) on the main thread.\n",
      "INFO:tensorflow:No path found after C:\\Users\\rruzzo\\Documents\\GitHub\\Deep_Learning_Work\\module_0\\week_3\\logs\\events.out.tfevents.1537935312.DESKTOP-V3AEQVL\n",
      "INFO:tensorflow:Finished with EventMultiplexer.Reload()\n",
      "INFO:tensorflow:TensorBoard done reloading. Load took 0.029 secs\n",
      "INFO:tensorflow:TensorBoard reload process beginning\n",
      "INFO:tensorflow:Starting AddRunsFromDirectory: C:\\Users\\rruzzo\\Documents\\GitHub\\Deep_Learning_Work\\module_0\\week_3\\logs\n",
      "INFO:tensorflow:GetLogdirSubdirectories: Starting to list directories via walking.\n",
      "INFO:tensorflow:Adding run from directory C:\\Users\\rruzzo\\Documents\\GitHub\\Deep_Learning_Work\\module_0\\week_3\\logs\n",
      "INFO:tensorflow:Done with AddRunsFromDirectory: C:\\Users\\rruzzo\\Documents\\GitHub\\Deep_Learning_Work\\module_0\\week_3\\logs\n",
      "INFO:tensorflow:TensorBoard reload process: Reload the whole Multiplexer\n",
      "INFO:tensorflow:Beginning EventMultiplexer.Reload()\n",
      "INFO:tensorflow:Reloading runs serially (one after another) on the main thread.\n",
      "INFO:tensorflow:No path found after C:\\Users\\rruzzo\\Documents\\GitHub\\Deep_Learning_Work\\module_0\\week_3\\logs\\events.out.tfevents.1537935312.DESKTOP-V3AEQVL\n",
      "INFO:tensorflow:Finished with EventMultiplexer.Reload()\n",
      "INFO:tensorflow:TensorBoard done reloading. Load took 0.012 secs\n",
      "INFO:tensorflow:TensorBoard reload process beginning\n",
      "INFO:tensorflow:Starting AddRunsFromDirectory: C:\\Users\\rruzzo\\Documents\\GitHub\\Deep_Learning_Work\\module_0\\week_3\\logs\n",
      "INFO:tensorflow:GetLogdirSubdirectories: Starting to list directories via walking.\n",
      "INFO:tensorflow:Adding run from directory C:\\Users\\rruzzo\\Documents\\GitHub\\Deep_Learning_Work\\module_0\\week_3\\logs\n",
      "INFO:tensorflow:Done with AddRunsFromDirectory: C:\\Users\\rruzzo\\Documents\\GitHub\\Deep_Learning_Work\\module_0\\week_3\\logs\n",
      "INFO:tensorflow:TensorBoard reload process: Reload the whole Multiplexer\n",
      "INFO:tensorflow:Beginning EventMultiplexer.Reload()\n",
      "INFO:tensorflow:Reloading runs serially (one after another) on the main thread.\n",
      "INFO:tensorflow:No path found after C:\\Users\\rruzzo\\Documents\\GitHub\\Deep_Learning_Work\\module_0\\week_3\\logs\\events.out.tfevents.1537935312.DESKTOP-V3AEQVL\n",
      "INFO:tensorflow:Finished with EventMultiplexer.Reload()\n",
      "INFO:tensorflow:TensorBoard done reloading. Load took 0.013 secs\n",
      "INFO:tensorflow:TensorBoard reload process beginning\n",
      "INFO:tensorflow:Starting AddRunsFromDirectory: C:\\Users\\rruzzo\\Documents\\GitHub\\Deep_Learning_Work\\module_0\\week_3\\logs\n",
      "INFO:tensorflow:GetLogdirSubdirectories: Starting to list directories via walking.\n",
      "INFO:tensorflow:Adding run from directory C:\\Users\\rruzzo\\Documents\\GitHub\\Deep_Learning_Work\\module_0\\week_3\\logs\n",
      "INFO:tensorflow:Done with AddRunsFromDirectory: C:\\Users\\rruzzo\\Documents\\GitHub\\Deep_Learning_Work\\module_0\\week_3\\logs\n",
      "INFO:tensorflow:TensorBoard reload process: Reload the whole Multiplexer\n",
      "INFO:tensorflow:Beginning EventMultiplexer.Reload()\n",
      "INFO:tensorflow:Reloading runs serially (one after another) on the main thread.\n",
      "INFO:tensorflow:No path found after C:\\Users\\rruzzo\\Documents\\GitHub\\Deep_Learning_Work\\module_0\\week_3\\logs\\events.out.tfevents.1537935312.DESKTOP-V3AEQVL\n",
      "INFO:tensorflow:Finished with EventMultiplexer.Reload()\n",
      "INFO:tensorflow:TensorBoard done reloading. Load took 0.014 secs\n",
      "INFO:tensorflow:TensorBoard reload process beginning\n",
      "INFO:tensorflow:Starting AddRunsFromDirectory: C:\\Users\\rruzzo\\Documents\\GitHub\\Deep_Learning_Work\\module_0\\week_3\\logs\n",
      "INFO:tensorflow:GetLogdirSubdirectories: Starting to list directories via walking.\n",
      "INFO:tensorflow:Adding run from directory C:\\Users\\rruzzo\\Documents\\GitHub\\Deep_Learning_Work\\module_0\\week_3\\logs\n",
      "INFO:tensorflow:Done with AddRunsFromDirectory: C:\\Users\\rruzzo\\Documents\\GitHub\\Deep_Learning_Work\\module_0\\week_3\\logs\n",
      "INFO:tensorflow:TensorBoard reload process: Reload the whole Multiplexer\n",
      "INFO:tensorflow:Beginning EventMultiplexer.Reload()\n",
      "INFO:tensorflow:Reloading runs serially (one after another) on the main thread.\n",
      "INFO:tensorflow:No path found after C:\\Users\\rruzzo\\Documents\\GitHub\\Deep_Learning_Work\\module_0\\week_3\\logs\\events.out.tfevents.1537935312.DESKTOP-V3AEQVL\n",
      "INFO:tensorflow:Finished with EventMultiplexer.Reload()\n",
      "INFO:tensorflow:TensorBoard done reloading. Load took 0.021 secs\n"
     ]
    },
    {
     "name": "stderr",
     "output_type": "stream",
     "text": [
      "172.20.40.81 - - [26/Sep/2018 00:18:03] \"\u001b[37mGET /data/environment HTTP/1.1\u001b[0m\" 200 -\n"
     ]
    },
    {
     "name": "stdout",
     "output_type": "stream",
     "text": [
      "INFO:tensorflow:Plugin listing: is_active() for core took 0.000 seconds\n"
     ]
    },
    {
     "name": "stderr",
     "output_type": "stream",
     "text": [
      "172.20.40.81 - - [26/Sep/2018 00:18:04] \"\u001b[37mGET /data/runs HTTP/1.1\u001b[0m\" 200 -\n"
     ]
    },
    {
     "name": "stdout",
     "output_type": "stream",
     "text": [
      "INFO:tensorflow:Plugin listing: is_active() for beholder took 0.015 seconds\n"
     ]
    },
    {
     "name": "stderr",
     "output_type": "stream",
     "text": [
      "172.20.40.81 - - [26/Sep/2018 00:18:04] \"\u001b[37mGET /data/experiments HTTP/1.1\u001b[0m\" 200 -\n"
     ]
    },
    {
     "name": "stdout",
     "output_type": "stream",
     "text": [
      "INFO:tensorflow:Plugin listing: is_active() for scalars took 0.000 seconds\n",
      "INFO:tensorflow:Plugin listing: is_active() for custom_scalars took 0.000 seconds\n",
      "INFO:tensorflow:Plugin listing: is_active() for images took 0.000 seconds\n",
      "INFO:tensorflow:Plugin listing: is_active() for audio took 0.000 seconds\n",
      "INFO:tensorflow:Plugin listing: is_active() for graphs took 0.000 seconds\n",
      "INFO:tensorflow:Plugin listing: is_active() for distributions took 0.006 seconds\n",
      "INFO:tensorflow:Plugin listing: is_active() for histograms took 0.006 seconds\n",
      "INFO:tensorflow:Plugin listing: is_active() for pr_curves took 0.000 seconds\n",
      "INFO:tensorflow:Plugin listing: is_active() for projector took 0.000 seconds\n",
      "INFO:tensorflow:TextPlugin computing index_impl() in a new thread\n",
      "INFO:tensorflow:Plugin listing: is_active() for text took 0.004 seconds\n",
      "INFO:tensorflow:TextPlugin index_impl() thread ending after 0.003 sec\n",
      "INFO:tensorflow:Plugin listing: is_active() for profile took 0.001 seconds\n"
     ]
    },
    {
     "name": "stderr",
     "output_type": "stream",
     "text": [
      "172.20.40.81 - - [26/Sep/2018 00:18:04] \"\u001b[37mGET /data/plugins_listing HTTP/1.1\u001b[0m\" 200 -\n",
      "172.20.40.81 - - [26/Sep/2018 00:18:04] \"\u001b[37mGET /data/plugin/scalars/tags HTTP/1.1\u001b[0m\" 200 -\n",
      "172.20.40.81 - - [26/Sep/2018 00:18:04] \"\u001b[37mGET /data/plugin/scalars/scalars?run=.&tag=acc HTTP/1.1\u001b[0m\" 200 -\n",
      "172.20.40.81 - - [26/Sep/2018 00:18:04] \"\u001b[37mGET /data/plugin/scalars/scalars?run=.&tag=loss HTTP/1.1\u001b[0m\" 200 -\n",
      "172.20.40.81 - - [26/Sep/2018 00:18:04] \"\u001b[37mGET /data/plugin/scalars/scalars?run=.&tag=val_loss HTTP/1.1\u001b[0m\" 200 -\n"
     ]
    },
    {
     "name": "stdout",
     "output_type": "stream",
     "text": [
      "INFO:tensorflow:TensorBoard reload process beginning\n",
      "INFO:tensorflow:Starting AddRunsFromDirectory: C:\\Users\\rruzzo\\Documents\\GitHub\\Deep_Learning_Work\\module_0\\week_3\\logs\n",
      "INFO:tensorflow:GetLogdirSubdirectories: Starting to list directories via walking.\n",
      "INFO:tensorflow:Adding run from directory C:\\Users\\rruzzo\\Documents\\GitHub\\Deep_Learning_Work\\module_0\\week_3\\logs\n",
      "INFO:tensorflow:Done with AddRunsFromDirectory: C:\\Users\\rruzzo\\Documents\\GitHub\\Deep_Learning_Work\\module_0\\week_3\\logs\n",
      "INFO:tensorflow:TensorBoard reload process: Reload the whole Multiplexer\n",
      "INFO:tensorflow:Beginning EventMultiplexer.Reload()\n",
      "INFO:tensorflow:Reloading runs serially (one after another) on the main thread.\n",
      "INFO:tensorflow:No path found after C:\\Users\\rruzzo\\Documents\\GitHub\\Deep_Learning_Work\\module_0\\week_3\\logs\\events.out.tfevents.1537935312.DESKTOP-V3AEQVL\n",
      "INFO:tensorflow:Finished with EventMultiplexer.Reload()\n",
      "INFO:tensorflow:TensorBoard done reloading. Load took 0.013 secs\n",
      "INFO:tensorflow:TensorBoard reload process beginning\n",
      "INFO:tensorflow:Starting AddRunsFromDirectory: C:\\Users\\rruzzo\\Documents\\GitHub\\Deep_Learning_Work\\module_0\\week_3\\logs\n",
      "INFO:tensorflow:GetLogdirSubdirectories: Starting to list directories via walking.\n",
      "INFO:tensorflow:Adding run from directory C:\\Users\\rruzzo\\Documents\\GitHub\\Deep_Learning_Work\\module_0\\week_3\\logs\n",
      "INFO:tensorflow:Done with AddRunsFromDirectory: C:\\Users\\rruzzo\\Documents\\GitHub\\Deep_Learning_Work\\module_0\\week_3\\logs\n",
      "INFO:tensorflow:TensorBoard reload process: Reload the whole Multiplexer\n",
      "INFO:tensorflow:Beginning EventMultiplexer.Reload()\n",
      "INFO:tensorflow:Reloading runs serially (one after another) on the main thread.\n",
      "INFO:tensorflow:No path found after C:\\Users\\rruzzo\\Documents\\GitHub\\Deep_Learning_Work\\module_0\\week_3\\logs\\events.out.tfevents.1537935312.DESKTOP-V3AEQVL\n",
      "INFO:tensorflow:Finished with EventMultiplexer.Reload()\n",
      "INFO:tensorflow:TensorBoard done reloading. Load took 0.013 secs\n",
      "INFO:tensorflow:TensorBoard reload process beginning\n",
      "INFO:tensorflow:Starting AddRunsFromDirectory: C:\\Users\\rruzzo\\Documents\\GitHub\\Deep_Learning_Work\\module_0\\week_3\\logs\n",
      "INFO:tensorflow:GetLogdirSubdirectories: Starting to list directories via walking.\n",
      "INFO:tensorflow:Adding run from directory C:\\Users\\rruzzo\\Documents\\GitHub\\Deep_Learning_Work\\module_0\\week_3\\logs\n",
      "INFO:tensorflow:Done with AddRunsFromDirectory: C:\\Users\\rruzzo\\Documents\\GitHub\\Deep_Learning_Work\\module_0\\week_3\\logs\n",
      "INFO:tensorflow:TensorBoard reload process: Reload the whole Multiplexer\n",
      "INFO:tensorflow:Beginning EventMultiplexer.Reload()\n",
      "INFO:tensorflow:Reloading runs serially (one after another) on the main thread.\n",
      "INFO:tensorflow:No path found after C:\\Users\\rruzzo\\Documents\\GitHub\\Deep_Learning_Work\\module_0\\week_3\\logs\\events.out.tfevents.1537935312.DESKTOP-V3AEQVL\n",
      "INFO:tensorflow:Finished with EventMultiplexer.Reload()\n",
      "INFO:tensorflow:TensorBoard done reloading. Load took 0.022 secs\n",
      "INFO:tensorflow:TensorBoard reload process beginning\n",
      "INFO:tensorflow:Starting AddRunsFromDirectory: C:\\Users\\rruzzo\\Documents\\GitHub\\Deep_Learning_Work\\module_0\\week_3\\logs\n",
      "INFO:tensorflow:GetLogdirSubdirectories: Starting to list directories via walking.\n",
      "INFO:tensorflow:Adding run from directory C:\\Users\\rruzzo\\Documents\\GitHub\\Deep_Learning_Work\\module_0\\week_3\\logs\n",
      "INFO:tensorflow:Done with AddRunsFromDirectory: C:\\Users\\rruzzo\\Documents\\GitHub\\Deep_Learning_Work\\module_0\\week_3\\logs\n",
      "INFO:tensorflow:TensorBoard reload process: Reload the whole Multiplexer\n",
      "INFO:tensorflow:Beginning EventMultiplexer.Reload()\n",
      "INFO:tensorflow:Reloading runs serially (one after another) on the main thread.\n",
      "INFO:tensorflow:No path found after C:\\Users\\rruzzo\\Documents\\GitHub\\Deep_Learning_Work\\module_0\\week_3\\logs\\events.out.tfevents.1537935312.DESKTOP-V3AEQVL\n",
      "INFO:tensorflow:Finished with EventMultiplexer.Reload()\n",
      "INFO:tensorflow:TensorBoard done reloading. Load took 0.032 secs\n",
      "INFO:tensorflow:TensorBoard reload process beginning\n",
      "INFO:tensorflow:Starting AddRunsFromDirectory: C:\\Users\\rruzzo\\Documents\\GitHub\\Deep_Learning_Work\\module_0\\week_3\\logs\n",
      "INFO:tensorflow:GetLogdirSubdirectories: Starting to list directories via walking.\n",
      "INFO:tensorflow:Adding run from directory C:\\Users\\rruzzo\\Documents\\GitHub\\Deep_Learning_Work\\module_0\\week_3\\logs\n",
      "INFO:tensorflow:Done with AddRunsFromDirectory: C:\\Users\\rruzzo\\Documents\\GitHub\\Deep_Learning_Work\\module_0\\week_3\\logs\n",
      "INFO:tensorflow:TensorBoard reload process: Reload the whole Multiplexer\n",
      "INFO:tensorflow:Beginning EventMultiplexer.Reload()\n",
      "INFO:tensorflow:Reloading runs serially (one after another) on the main thread.\n",
      "INFO:tensorflow:No path found after C:\\Users\\rruzzo\\Documents\\GitHub\\Deep_Learning_Work\\module_0\\week_3\\logs\\events.out.tfevents.1537935312.DESKTOP-V3AEQVL\n",
      "INFO:tensorflow:Finished with EventMultiplexer.Reload()\n",
      "INFO:tensorflow:TensorBoard done reloading. Load took 0.014 secs\n",
      "INFO:tensorflow:TensorBoard reload process beginning\n",
      "INFO:tensorflow:Starting AddRunsFromDirectory: C:\\Users\\rruzzo\\Documents\\GitHub\\Deep_Learning_Work\\module_0\\week_3\\logs\n",
      "INFO:tensorflow:GetLogdirSubdirectories: Starting to list directories via walking.\n",
      "INFO:tensorflow:Adding run from directory C:\\Users\\rruzzo\\Documents\\GitHub\\Deep_Learning_Work\\module_0\\week_3\\logs\n",
      "INFO:tensorflow:Done with AddRunsFromDirectory: C:\\Users\\rruzzo\\Documents\\GitHub\\Deep_Learning_Work\\module_0\\week_3\\logs\n",
      "INFO:tensorflow:TensorBoard reload process: Reload the whole Multiplexer\n",
      "INFO:tensorflow:Beginning EventMultiplexer.Reload()\n",
      "INFO:tensorflow:Reloading runs serially (one after another) on the main thread.\n",
      "INFO:tensorflow:No path found after C:\\Users\\rruzzo\\Documents\\GitHub\\Deep_Learning_Work\\module_0\\week_3\\logs\\events.out.tfevents.1537935312.DESKTOP-V3AEQVL\n",
      "INFO:tensorflow:Finished with EventMultiplexer.Reload()\n",
      "INFO:tensorflow:TensorBoard done reloading. Load took 0.013 secs\n"
     ]
    },
    {
     "name": "stderr",
     "output_type": "stream",
     "text": [
      "172.20.40.81 - - [26/Sep/2018 00:18:34] \"\u001b[37mGET /data/environment HTTP/1.1\u001b[0m\" 200 -\n",
      "172.20.40.81 - - [26/Sep/2018 00:18:34] \"\u001b[37mGET /data/runs HTTP/1.1\u001b[0m\" 200 -\n"
     ]
    },
    {
     "name": "stdout",
     "output_type": "stream",
     "text": [
      "INFO:tensorflow:Plugin listing: is_active() for core took 0.000 seconds\n"
     ]
    },
    {
     "name": "stderr",
     "output_type": "stream",
     "text": [
      "172.20.40.81 - - [26/Sep/2018 00:18:34] \"\u001b[37mGET /data/experiments HTTP/1.1\u001b[0m\" 200 -\n"
     ]
    },
    {
     "name": "stdout",
     "output_type": "stream",
     "text": [
      "INFO:tensorflow:Plugin listing: is_active() for beholder took 0.001 seconds\n",
      "INFO:tensorflow:Plugin listing: is_active() for scalars took 0.000 seconds\n",
      "INFO:tensorflow:Plugin listing: is_active() for custom_scalars took 0.001 seconds\n",
      "INFO:tensorflow:Plugin listing: is_active() for images took 0.000 seconds\n",
      "INFO:tensorflow:Plugin listing: is_active() for audio took 0.000 seconds\n",
      "INFO:tensorflow:Plugin listing: is_active() for graphs took 0.000 seconds\n",
      "INFO:tensorflow:Plugin listing: is_active() for distributions took 0.009 seconds\n",
      "INFO:tensorflow:Plugin listing: is_active() for histograms took 0.007 seconds\n",
      "INFO:tensorflow:Plugin listing: is_active() for pr_curves took 0.000 seconds\n",
      "INFO:tensorflow:Plugin listing: is_active() for projector took 0.001 seconds\n",
      "INFO:tensorflow:TextPlugin computing index_impl() in a new thread\n",
      "INFO:tensorflow:Plugin listing: is_active() for text took 0.003 seconds\n",
      "INFO:tensorflow:TextPlugin index_impl() thread ending after 0.003 sec\n",
      "INFO:tensorflow:Plugin listing: is_active() for profile took 0.000 seconds\n"
     ]
    },
    {
     "name": "stderr",
     "output_type": "stream",
     "text": [
      "172.20.40.81 - - [26/Sep/2018 00:18:34] \"\u001b[37mGET /data/plugins_listing HTTP/1.1\u001b[0m\" 200 -\n",
      "172.20.40.81 - - [26/Sep/2018 00:18:34] \"\u001b[37mGET /data/plugin/scalars/tags HTTP/1.1\u001b[0m\" 200 -\n",
      "172.20.40.81 - - [26/Sep/2018 00:18:34] \"\u001b[37mGET /data/plugin/scalars/scalars?run=.&tag=acc HTTP/1.1\u001b[0m\" 200 -\n",
      "172.20.40.81 - - [26/Sep/2018 00:18:34] \"\u001b[37mGET /data/plugin/scalars/scalars?run=.&tag=loss HTTP/1.1\u001b[0m\" 200 -\n",
      "172.20.40.81 - - [26/Sep/2018 00:18:34] \"\u001b[37mGET /data/plugin/scalars/scalars?run=.&tag=val_loss HTTP/1.1\u001b[0m\" 200 -\n"
     ]
    },
    {
     "name": "stdout",
     "output_type": "stream",
     "text": [
      "INFO:tensorflow:TensorBoard reload process beginning\n",
      "INFO:tensorflow:Starting AddRunsFromDirectory: C:\\Users\\rruzzo\\Documents\\GitHub\\Deep_Learning_Work\\module_0\\week_3\\logs\n",
      "INFO:tensorflow:GetLogdirSubdirectories: Starting to list directories via walking.\n",
      "INFO:tensorflow:Adding run from directory C:\\Users\\rruzzo\\Documents\\GitHub\\Deep_Learning_Work\\module_0\\week_3\\logs\n",
      "INFO:tensorflow:Done with AddRunsFromDirectory: C:\\Users\\rruzzo\\Documents\\GitHub\\Deep_Learning_Work\\module_0\\week_3\\logs\n",
      "INFO:tensorflow:TensorBoard reload process: Reload the whole Multiplexer\n",
      "INFO:tensorflow:Beginning EventMultiplexer.Reload()\n",
      "INFO:tensorflow:Reloading runs serially (one after another) on the main thread.\n",
      "INFO:tensorflow:No path found after C:\\Users\\rruzzo\\Documents\\GitHub\\Deep_Learning_Work\\module_0\\week_3\\logs\\events.out.tfevents.1537935312.DESKTOP-V3AEQVL\n",
      "INFO:tensorflow:Finished with EventMultiplexer.Reload()\n",
      "INFO:tensorflow:TensorBoard done reloading. Load took 0.039 secs\n",
      "INFO:tensorflow:TensorBoard reload process beginning\n",
      "INFO:tensorflow:Starting AddRunsFromDirectory: C:\\Users\\rruzzo\\Documents\\GitHub\\Deep_Learning_Work\\module_0\\week_3\\logs\n",
      "INFO:tensorflow:GetLogdirSubdirectories: Starting to list directories via walking.\n",
      "INFO:tensorflow:Adding run from directory C:\\Users\\rruzzo\\Documents\\GitHub\\Deep_Learning_Work\\module_0\\week_3\\logs\n",
      "INFO:tensorflow:Done with AddRunsFromDirectory: C:\\Users\\rruzzo\\Documents\\GitHub\\Deep_Learning_Work\\module_0\\week_3\\logs\n",
      "INFO:tensorflow:TensorBoard reload process: Reload the whole Multiplexer\n",
      "INFO:tensorflow:Beginning EventMultiplexer.Reload()\n",
      "INFO:tensorflow:Reloading runs serially (one after another) on the main thread.\n",
      "INFO:tensorflow:No path found after C:\\Users\\rruzzo\\Documents\\GitHub\\Deep_Learning_Work\\module_0\\week_3\\logs\\events.out.tfevents.1537935312.DESKTOP-V3AEQVL\n",
      "INFO:tensorflow:Finished with EventMultiplexer.Reload()\n",
      "INFO:tensorflow:TensorBoard done reloading. Load took 0.011 secs\n",
      "INFO:tensorflow:TensorBoard reload process beginning\n",
      "INFO:tensorflow:Starting AddRunsFromDirectory: C:\\Users\\rruzzo\\Documents\\GitHub\\Deep_Learning_Work\\module_0\\week_3\\logs\n",
      "INFO:tensorflow:GetLogdirSubdirectories: Starting to list directories via walking.\n",
      "INFO:tensorflow:Adding run from directory C:\\Users\\rruzzo\\Documents\\GitHub\\Deep_Learning_Work\\module_0\\week_3\\logs\n",
      "INFO:tensorflow:Done with AddRunsFromDirectory: C:\\Users\\rruzzo\\Documents\\GitHub\\Deep_Learning_Work\\module_0\\week_3\\logs\n",
      "INFO:tensorflow:TensorBoard reload process: Reload the whole Multiplexer\n",
      "INFO:tensorflow:Beginning EventMultiplexer.Reload()\n",
      "INFO:tensorflow:Reloading runs serially (one after another) on the main thread.\n",
      "INFO:tensorflow:No path found after C:\\Users\\rruzzo\\Documents\\GitHub\\Deep_Learning_Work\\module_0\\week_3\\logs\\events.out.tfevents.1537935312.DESKTOP-V3AEQVL\n",
      "INFO:tensorflow:Finished with EventMultiplexer.Reload()\n",
      "INFO:tensorflow:TensorBoard done reloading. Load took 0.028 secs\n",
      "INFO:tensorflow:TensorBoard reload process beginning\n",
      "INFO:tensorflow:Starting AddRunsFromDirectory: C:\\Users\\rruzzo\\Documents\\GitHub\\Deep_Learning_Work\\module_0\\week_3\\logs\n",
      "INFO:tensorflow:GetLogdirSubdirectories: Starting to list directories via walking.\n",
      "INFO:tensorflow:Adding run from directory C:\\Users\\rruzzo\\Documents\\GitHub\\Deep_Learning_Work\\module_0\\week_3\\logs\n",
      "INFO:tensorflow:Done with AddRunsFromDirectory: C:\\Users\\rruzzo\\Documents\\GitHub\\Deep_Learning_Work\\module_0\\week_3\\logs\n",
      "INFO:tensorflow:TensorBoard reload process: Reload the whole Multiplexer\n",
      "INFO:tensorflow:Beginning EventMultiplexer.Reload()\n",
      "INFO:tensorflow:Reloading runs serially (one after another) on the main thread.\n",
      "INFO:tensorflow:No path found after C:\\Users\\rruzzo\\Documents\\GitHub\\Deep_Learning_Work\\module_0\\week_3\\logs\\events.out.tfevents.1537935312.DESKTOP-V3AEQVL\n",
      "INFO:tensorflow:Finished with EventMultiplexer.Reload()\n",
      "INFO:tensorflow:TensorBoard done reloading. Load took 0.022 secs\n",
      "INFO:tensorflow:TensorBoard reload process beginning\n",
      "INFO:tensorflow:Starting AddRunsFromDirectory: C:\\Users\\rruzzo\\Documents\\GitHub\\Deep_Learning_Work\\module_0\\week_3\\logs\n",
      "INFO:tensorflow:GetLogdirSubdirectories: Starting to list directories via walking.\n",
      "INFO:tensorflow:Adding run from directory C:\\Users\\rruzzo\\Documents\\GitHub\\Deep_Learning_Work\\module_0\\week_3\\logs\n",
      "INFO:tensorflow:Done with AddRunsFromDirectory: C:\\Users\\rruzzo\\Documents\\GitHub\\Deep_Learning_Work\\module_0\\week_3\\logs\n",
      "INFO:tensorflow:TensorBoard reload process: Reload the whole Multiplexer\n",
      "INFO:tensorflow:Beginning EventMultiplexer.Reload()\n",
      "INFO:tensorflow:Reloading runs serially (one after another) on the main thread.\n",
      "INFO:tensorflow:No path found after C:\\Users\\rruzzo\\Documents\\GitHub\\Deep_Learning_Work\\module_0\\week_3\\logs\\events.out.tfevents.1537935312.DESKTOP-V3AEQVL\n",
      "INFO:tensorflow:Finished with EventMultiplexer.Reload()\n",
      "INFO:tensorflow:TensorBoard done reloading. Load took 0.032 secs\n",
      "INFO:tensorflow:TensorBoard reload process beginning\n",
      "INFO:tensorflow:Starting AddRunsFromDirectory: C:\\Users\\rruzzo\\Documents\\GitHub\\Deep_Learning_Work\\module_0\\week_3\\logs\n",
      "INFO:tensorflow:GetLogdirSubdirectories: Starting to list directories via walking.\n",
      "INFO:tensorflow:Adding run from directory C:\\Users\\rruzzo\\Documents\\GitHub\\Deep_Learning_Work\\module_0\\week_3\\logs\n",
      "INFO:tensorflow:Done with AddRunsFromDirectory: C:\\Users\\rruzzo\\Documents\\GitHub\\Deep_Learning_Work\\module_0\\week_3\\logs\n",
      "INFO:tensorflow:TensorBoard reload process: Reload the whole Multiplexer\n",
      "INFO:tensorflow:Beginning EventMultiplexer.Reload()\n",
      "INFO:tensorflow:Reloading runs serially (one after another) on the main thread.\n",
      "INFO:tensorflow:No path found after C:\\Users\\rruzzo\\Documents\\GitHub\\Deep_Learning_Work\\module_0\\week_3\\logs\\events.out.tfevents.1537935312.DESKTOP-V3AEQVL\n",
      "INFO:tensorflow:Finished with EventMultiplexer.Reload()\n",
      "INFO:tensorflow:TensorBoard done reloading. Load took 0.034 secs\n",
      "INFO:tensorflow:Plugin listing: is_active() for core took 0.000 seconds\n"
     ]
    },
    {
     "name": "stderr",
     "output_type": "stream",
     "text": [
      "172.20.40.81 - - [26/Sep/2018 00:19:04] \"\u001b[37mGET /data/environment HTTP/1.1\u001b[0m\" 200 -\n"
     ]
    },
    {
     "name": "stdout",
     "output_type": "stream",
     "text": [
      "INFO:tensorflow:Plugin listing: is_active() for beholder took 0.003 seconds\n",
      "INFO:tensorflow:Plugin listing: is_active() for scalars took 0.000 seconds\n"
     ]
    },
    {
     "name": "stderr",
     "output_type": "stream",
     "text": [
      "172.20.40.81 - - [26/Sep/2018 00:19:04] \"\u001b[37mGET /data/runs HTTP/1.1\u001b[0m\" 200 -\n"
     ]
    },
    {
     "name": "stdout",
     "output_type": "stream",
     "text": [
      "INFO:tensorflow:Plugin listing: is_active() for custom_scalars took 0.000 seconds\n"
     ]
    },
    {
     "name": "stderr",
     "output_type": "stream",
     "text": [
      "172.20.40.81 - - [26/Sep/2018 00:19:04] \"\u001b[37mGET /data/experiments HTTP/1.1\u001b[0m\" 200 -\n"
     ]
    },
    {
     "name": "stdout",
     "output_type": "stream",
     "text": [
      "INFO:tensorflow:Plugin listing: is_active() for images took 0.000 seconds\n",
      "INFO:tensorflow:Plugin listing: is_active() for audio took 0.000 seconds\n",
      "INFO:tensorflow:Plugin listing: is_active() for graphs took 0.000 seconds\n",
      "INFO:tensorflow:Plugin listing: is_active() for distributions took 0.007 seconds\n",
      "INFO:tensorflow:Plugin listing: is_active() for histograms took 0.007 seconds\n",
      "INFO:tensorflow:Plugin listing: is_active() for pr_curves took 0.000 seconds\n",
      "INFO:tensorflow:Plugin listing: is_active() for projector took 0.001 seconds\n",
      "INFO:tensorflow:TextPlugin computing index_impl() in a new thread\n",
      "INFO:tensorflow:TextPlugin index_impl() thread ending after 0.003 sec\n",
      "INFO:tensorflow:Plugin listing: is_active() for text took 0.003 seconds\n",
      "INFO:tensorflow:Plugin listing: is_active() for profile took 0.000 seconds\n"
     ]
    },
    {
     "name": "stderr",
     "output_type": "stream",
     "text": [
      "172.20.40.81 - - [26/Sep/2018 00:19:04] \"\u001b[37mGET /data/plugins_listing HTTP/1.1\u001b[0m\" 200 -\n",
      "172.20.40.81 - - [26/Sep/2018 00:19:04] \"\u001b[37mGET /data/plugin/scalars/tags HTTP/1.1\u001b[0m\" 200 -\n",
      "172.20.40.81 - - [26/Sep/2018 00:19:04] \"\u001b[37mGET /data/plugin/scalars/scalars?run=.&tag=acc HTTP/1.1\u001b[0m\" 200 -\n",
      "172.20.40.81 - - [26/Sep/2018 00:19:04] \"\u001b[37mGET /data/plugin/scalars/scalars?run=.&tag=loss HTTP/1.1\u001b[0m\" 200 -\n",
      "172.20.40.81 - - [26/Sep/2018 00:19:04] \"\u001b[37mGET /data/plugin/scalars/scalars?run=.&tag=val_loss HTTP/1.1\u001b[0m\" 200 -\n"
     ]
    },
    {
     "name": "stdout",
     "output_type": "stream",
     "text": [
      "INFO:tensorflow:TensorBoard reload process beginning\n",
      "INFO:tensorflow:Starting AddRunsFromDirectory: C:\\Users\\rruzzo\\Documents\\GitHub\\Deep_Learning_Work\\module_0\\week_3\\logs\n",
      "INFO:tensorflow:GetLogdirSubdirectories: Starting to list directories via walking.\n",
      "INFO:tensorflow:Adding run from directory C:\\Users\\rruzzo\\Documents\\GitHub\\Deep_Learning_Work\\module_0\\week_3\\logs\n",
      "INFO:tensorflow:Done with AddRunsFromDirectory: C:\\Users\\rruzzo\\Documents\\GitHub\\Deep_Learning_Work\\module_0\\week_3\\logs\n",
      "INFO:tensorflow:TensorBoard reload process: Reload the whole Multiplexer\n",
      "INFO:tensorflow:Beginning EventMultiplexer.Reload()\n",
      "INFO:tensorflow:Reloading runs serially (one after another) on the main thread.\n",
      "INFO:tensorflow:No path found after C:\\Users\\rruzzo\\Documents\\GitHub\\Deep_Learning_Work\\module_0\\week_3\\logs\\events.out.tfevents.1537935312.DESKTOP-V3AEQVL\n",
      "INFO:tensorflow:Finished with EventMultiplexer.Reload()\n",
      "INFO:tensorflow:TensorBoard done reloading. Load took 0.041 secs\n",
      "INFO:tensorflow:TensorBoard reload process beginning\n",
      "INFO:tensorflow:Starting AddRunsFromDirectory: C:\\Users\\rruzzo\\Documents\\GitHub\\Deep_Learning_Work\\module_0\\week_3\\logs\n",
      "INFO:tensorflow:GetLogdirSubdirectories: Starting to list directories via walking.\n",
      "INFO:tensorflow:Adding run from directory C:\\Users\\rruzzo\\Documents\\GitHub\\Deep_Learning_Work\\module_0\\week_3\\logs\n",
      "INFO:tensorflow:Done with AddRunsFromDirectory: C:\\Users\\rruzzo\\Documents\\GitHub\\Deep_Learning_Work\\module_0\\week_3\\logs\n",
      "INFO:tensorflow:TensorBoard reload process: Reload the whole Multiplexer\n",
      "INFO:tensorflow:Beginning EventMultiplexer.Reload()\n",
      "INFO:tensorflow:Reloading runs serially (one after another) on the main thread.\n",
      "INFO:tensorflow:No path found after C:\\Users\\rruzzo\\Documents\\GitHub\\Deep_Learning_Work\\module_0\\week_3\\logs\\events.out.tfevents.1537935312.DESKTOP-V3AEQVL\n",
      "INFO:tensorflow:Finished with EventMultiplexer.Reload()\n",
      "INFO:tensorflow:TensorBoard done reloading. Load took 0.022 secs\n",
      "INFO:tensorflow:TensorBoard reload process beginning\n",
      "INFO:tensorflow:Starting AddRunsFromDirectory: C:\\Users\\rruzzo\\Documents\\GitHub\\Deep_Learning_Work\\module_0\\week_3\\logs\n",
      "INFO:tensorflow:GetLogdirSubdirectories: Starting to list directories via walking.\n",
      "INFO:tensorflow:Adding run from directory C:\\Users\\rruzzo\\Documents\\GitHub\\Deep_Learning_Work\\module_0\\week_3\\logs\n",
      "INFO:tensorflow:Done with AddRunsFromDirectory: C:\\Users\\rruzzo\\Documents\\GitHub\\Deep_Learning_Work\\module_0\\week_3\\logs\n",
      "INFO:tensorflow:TensorBoard reload process: Reload the whole Multiplexer\n",
      "INFO:tensorflow:Beginning EventMultiplexer.Reload()\n",
      "INFO:tensorflow:Reloading runs serially (one after another) on the main thread.\n",
      "INFO:tensorflow:No path found after C:\\Users\\rruzzo\\Documents\\GitHub\\Deep_Learning_Work\\module_0\\week_3\\logs\\events.out.tfevents.1537935312.DESKTOP-V3AEQVL\n",
      "INFO:tensorflow:Finished with EventMultiplexer.Reload()\n",
      "INFO:tensorflow:TensorBoard done reloading. Load took 0.020 secs\n",
      "INFO:tensorflow:TensorBoard reload process beginning\n",
      "INFO:tensorflow:Starting AddRunsFromDirectory: C:\\Users\\rruzzo\\Documents\\GitHub\\Deep_Learning_Work\\module_0\\week_3\\logs\n",
      "INFO:tensorflow:GetLogdirSubdirectories: Starting to list directories via walking.\n",
      "INFO:tensorflow:Adding run from directory C:\\Users\\rruzzo\\Documents\\GitHub\\Deep_Learning_Work\\module_0\\week_3\\logs\n",
      "INFO:tensorflow:Done with AddRunsFromDirectory: C:\\Users\\rruzzo\\Documents\\GitHub\\Deep_Learning_Work\\module_0\\week_3\\logs\n",
      "INFO:tensorflow:TensorBoard reload process: Reload the whole Multiplexer\n",
      "INFO:tensorflow:Beginning EventMultiplexer.Reload()\n",
      "INFO:tensorflow:Reloading runs serially (one after another) on the main thread.\n",
      "INFO:tensorflow:No path found after C:\\Users\\rruzzo\\Documents\\GitHub\\Deep_Learning_Work\\module_0\\week_3\\logs\\events.out.tfevents.1537935312.DESKTOP-V3AEQVL\n",
      "INFO:tensorflow:Finished with EventMultiplexer.Reload()\n",
      "INFO:tensorflow:TensorBoard done reloading. Load took 0.013 secs\n",
      "INFO:tensorflow:TensorBoard reload process beginning\n",
      "INFO:tensorflow:Starting AddRunsFromDirectory: C:\\Users\\rruzzo\\Documents\\GitHub\\Deep_Learning_Work\\module_0\\week_3\\logs\n",
      "INFO:tensorflow:GetLogdirSubdirectories: Starting to list directories via walking.\n",
      "INFO:tensorflow:Adding run from directory C:\\Users\\rruzzo\\Documents\\GitHub\\Deep_Learning_Work\\module_0\\week_3\\logs\n",
      "INFO:tensorflow:Done with AddRunsFromDirectory: C:\\Users\\rruzzo\\Documents\\GitHub\\Deep_Learning_Work\\module_0\\week_3\\logs\n",
      "INFO:tensorflow:TensorBoard reload process: Reload the whole Multiplexer\n",
      "INFO:tensorflow:Beginning EventMultiplexer.Reload()\n",
      "INFO:tensorflow:Reloading runs serially (one after another) on the main thread.\n",
      "INFO:tensorflow:No path found after C:\\Users\\rruzzo\\Documents\\GitHub\\Deep_Learning_Work\\module_0\\week_3\\logs\\events.out.tfevents.1537935312.DESKTOP-V3AEQVL\n",
      "INFO:tensorflow:Finished with EventMultiplexer.Reload()\n",
      "INFO:tensorflow:TensorBoard done reloading. Load took 0.028 secs\n",
      "INFO:tensorflow:TensorBoard reload process beginning\n",
      "INFO:tensorflow:Starting AddRunsFromDirectory: C:\\Users\\rruzzo\\Documents\\GitHub\\Deep_Learning_Work\\module_0\\week_3\\logs\n",
      "INFO:tensorflow:GetLogdirSubdirectories: Starting to list directories via walking.\n",
      "INFO:tensorflow:Adding run from directory C:\\Users\\rruzzo\\Documents\\GitHub\\Deep_Learning_Work\\module_0\\week_3\\logs\n",
      "INFO:tensorflow:Done with AddRunsFromDirectory: C:\\Users\\rruzzo\\Documents\\GitHub\\Deep_Learning_Work\\module_0\\week_3\\logs\n",
      "INFO:tensorflow:TensorBoard reload process: Reload the whole Multiplexer\n",
      "INFO:tensorflow:Beginning EventMultiplexer.Reload()\n",
      "INFO:tensorflow:Reloading runs serially (one after another) on the main thread.\n",
      "INFO:tensorflow:No path found after C:\\Users\\rruzzo\\Documents\\GitHub\\Deep_Learning_Work\\module_0\\week_3\\logs\\events.out.tfevents.1537935312.DESKTOP-V3AEQVL\n",
      "INFO:tensorflow:Finished with EventMultiplexer.Reload()\n",
      "INFO:tensorflow:TensorBoard done reloading. Load took 0.013 secs\n"
     ]
    },
    {
     "name": "stderr",
     "output_type": "stream",
     "text": [
      "172.20.40.81 - - [26/Sep/2018 00:19:33] \"\u001b[37mGET /data/environment HTTP/1.1\u001b[0m\" 200 -\n"
     ]
    },
    {
     "name": "stdout",
     "output_type": "stream",
     "text": [
      "INFO:tensorflow:Plugin listing: is_active() for core took 0.000 seconds\n"
     ]
    },
    {
     "name": "stderr",
     "output_type": "stream",
     "text": [
      "172.20.40.81 - - [26/Sep/2018 00:19:34] \"\u001b[37mGET /data/runs HTTP/1.1\u001b[0m\" 200 -\n"
     ]
    },
    {
     "name": "stdout",
     "output_type": "stream",
     "text": [
      "INFO:tensorflow:Plugin listing: is_active() for beholder took 0.000 seconds\n",
      "INFO:tensorflow:Plugin listing: is_active() for scalars took 0.000 seconds\n"
     ]
    },
    {
     "name": "stderr",
     "output_type": "stream",
     "text": [
      "172.20.40.81 - - [26/Sep/2018 00:19:34] \"\u001b[37mGET /data/experiments HTTP/1.1\u001b[0m\" 200 -\n"
     ]
    },
    {
     "name": "stdout",
     "output_type": "stream",
     "text": [
      "INFO:tensorflow:Plugin listing: is_active() for custom_scalars took 0.000 seconds\n",
      "INFO:tensorflow:Plugin listing: is_active() for images took 0.000 seconds\n",
      "INFO:tensorflow:Plugin listing: is_active() for audio took 0.000 seconds\n",
      "INFO:tensorflow:Plugin listing: is_active() for graphs took 0.000 seconds\n",
      "INFO:tensorflow:Plugin listing: is_active() for distributions took 0.009 seconds\n",
      "INFO:tensorflow:Plugin listing: is_active() for histograms took 0.005 seconds\n",
      "INFO:tensorflow:Plugin listing: is_active() for pr_curves took 0.000 seconds\n",
      "INFO:tensorflow:Plugin listing: is_active() for projector took 0.001 seconds\n",
      "INFO:tensorflow:TextPlugin computing index_impl() in a new thread\n",
      "INFO:tensorflow:Plugin listing: is_active() for text took 0.003 seconds\n",
      "INFO:tensorflow:TextPlugin index_impl() thread ending after 0.004 sec\n",
      "INFO:tensorflow:Plugin listing: is_active() for profile took 0.000 seconds\n"
     ]
    },
    {
     "name": "stderr",
     "output_type": "stream",
     "text": [
      "172.20.40.81 - - [26/Sep/2018 00:19:34] \"\u001b[37mGET /data/plugins_listing HTTP/1.1\u001b[0m\" 200 -\n",
      "172.20.40.81 - - [26/Sep/2018 00:19:34] \"\u001b[37mGET /data/plugin/scalars/tags HTTP/1.1\u001b[0m\" 200 -\n",
      "172.20.40.81 - - [26/Sep/2018 00:19:34] \"\u001b[37mGET /data/plugin/scalars/scalars?run=.&tag=acc HTTP/1.1\u001b[0m\" 200 -\n",
      "172.20.40.81 - - [26/Sep/2018 00:19:34] \"\u001b[37mGET /data/plugin/scalars/scalars?run=.&tag=loss HTTP/1.1\u001b[0m\" 200 -\n",
      "172.20.40.81 - - [26/Sep/2018 00:19:34] \"\u001b[37mGET /data/plugin/scalars/scalars?run=.&tag=val_loss HTTP/1.1\u001b[0m\" 200 -\n"
     ]
    },
    {
     "name": "stdout",
     "output_type": "stream",
     "text": [
      "INFO:tensorflow:TensorBoard reload process beginning\n",
      "INFO:tensorflow:Starting AddRunsFromDirectory: C:\\Users\\rruzzo\\Documents\\GitHub\\Deep_Learning_Work\\module_0\\week_3\\logs\n",
      "INFO:tensorflow:GetLogdirSubdirectories: Starting to list directories via walking.\n",
      "INFO:tensorflow:Adding run from directory C:\\Users\\rruzzo\\Documents\\GitHub\\Deep_Learning_Work\\module_0\\week_3\\logs\n",
      "INFO:tensorflow:Done with AddRunsFromDirectory: C:\\Users\\rruzzo\\Documents\\GitHub\\Deep_Learning_Work\\module_0\\week_3\\logs\n",
      "INFO:tensorflow:TensorBoard reload process: Reload the whole Multiplexer\n",
      "INFO:tensorflow:Beginning EventMultiplexer.Reload()\n",
      "INFO:tensorflow:Reloading runs serially (one after another) on the main thread.\n",
      "INFO:tensorflow:No path found after C:\\Users\\rruzzo\\Documents\\GitHub\\Deep_Learning_Work\\module_0\\week_3\\logs\\events.out.tfevents.1537935312.DESKTOP-V3AEQVL\n",
      "INFO:tensorflow:Finished with EventMultiplexer.Reload()\n",
      "INFO:tensorflow:TensorBoard done reloading. Load took 0.020 secs\n",
      "INFO:tensorflow:TensorBoard reload process beginning\n",
      "INFO:tensorflow:Starting AddRunsFromDirectory: C:\\Users\\rruzzo\\Documents\\GitHub\\Deep_Learning_Work\\module_0\\week_3\\logs\n",
      "INFO:tensorflow:GetLogdirSubdirectories: Starting to list directories via walking.\n",
      "INFO:tensorflow:Adding run from directory C:\\Users\\rruzzo\\Documents\\GitHub\\Deep_Learning_Work\\module_0\\week_3\\logs\n",
      "INFO:tensorflow:Done with AddRunsFromDirectory: C:\\Users\\rruzzo\\Documents\\GitHub\\Deep_Learning_Work\\module_0\\week_3\\logs\n",
      "INFO:tensorflow:TensorBoard reload process: Reload the whole Multiplexer\n",
      "INFO:tensorflow:Beginning EventMultiplexer.Reload()\n",
      "INFO:tensorflow:Reloading runs serially (one after another) on the main thread.\n",
      "INFO:tensorflow:No path found after C:\\Users\\rruzzo\\Documents\\GitHub\\Deep_Learning_Work\\module_0\\week_3\\logs\\events.out.tfevents.1537935312.DESKTOP-V3AEQVL\n",
      "INFO:tensorflow:Finished with EventMultiplexer.Reload()\n",
      "INFO:tensorflow:TensorBoard done reloading. Load took 0.011 secs\n",
      "INFO:tensorflow:TensorBoard reload process beginning\n",
      "INFO:tensorflow:Starting AddRunsFromDirectory: C:\\Users\\rruzzo\\Documents\\GitHub\\Deep_Learning_Work\\module_0\\week_3\\logs\n",
      "INFO:tensorflow:GetLogdirSubdirectories: Starting to list directories via walking.\n",
      "INFO:tensorflow:Adding run from directory C:\\Users\\rruzzo\\Documents\\GitHub\\Deep_Learning_Work\\module_0\\week_3\\logs\n",
      "INFO:tensorflow:Done with AddRunsFromDirectory: C:\\Users\\rruzzo\\Documents\\GitHub\\Deep_Learning_Work\\module_0\\week_3\\logs\n",
      "INFO:tensorflow:TensorBoard reload process: Reload the whole Multiplexer\n",
      "INFO:tensorflow:Beginning EventMultiplexer.Reload()\n",
      "INFO:tensorflow:Reloading runs serially (one after another) on the main thread.\n",
      "INFO:tensorflow:No path found after C:\\Users\\rruzzo\\Documents\\GitHub\\Deep_Learning_Work\\module_0\\week_3\\logs\\events.out.tfevents.1537935312.DESKTOP-V3AEQVL\n",
      "INFO:tensorflow:Finished with EventMultiplexer.Reload()\n",
      "INFO:tensorflow:TensorBoard done reloading. Load took 0.014 secs\n",
      "INFO:tensorflow:TensorBoard reload process beginning\n",
      "INFO:tensorflow:Starting AddRunsFromDirectory: C:\\Users\\rruzzo\\Documents\\GitHub\\Deep_Learning_Work\\module_0\\week_3\\logs\n",
      "INFO:tensorflow:GetLogdirSubdirectories: Starting to list directories via walking.\n",
      "INFO:tensorflow:Adding run from directory C:\\Users\\rruzzo\\Documents\\GitHub\\Deep_Learning_Work\\module_0\\week_3\\logs\n",
      "INFO:tensorflow:Done with AddRunsFromDirectory: C:\\Users\\rruzzo\\Documents\\GitHub\\Deep_Learning_Work\\module_0\\week_3\\logs\n",
      "INFO:tensorflow:TensorBoard reload process: Reload the whole Multiplexer\n",
      "INFO:tensorflow:Beginning EventMultiplexer.Reload()\n",
      "INFO:tensorflow:Reloading runs serially (one after another) on the main thread.\n",
      "INFO:tensorflow:No path found after C:\\Users\\rruzzo\\Documents\\GitHub\\Deep_Learning_Work\\module_0\\week_3\\logs\\events.out.tfevents.1537935312.DESKTOP-V3AEQVL\n",
      "INFO:tensorflow:Finished with EventMultiplexer.Reload()\n",
      "INFO:tensorflow:TensorBoard done reloading. Load took 0.035 secs\n",
      "INFO:tensorflow:TensorBoard reload process beginning\n",
      "INFO:tensorflow:Starting AddRunsFromDirectory: C:\\Users\\rruzzo\\Documents\\GitHub\\Deep_Learning_Work\\module_0\\week_3\\logs\n",
      "INFO:tensorflow:GetLogdirSubdirectories: Starting to list directories via walking.\n",
      "INFO:tensorflow:Adding run from directory C:\\Users\\rruzzo\\Documents\\GitHub\\Deep_Learning_Work\\module_0\\week_3\\logs\n",
      "INFO:tensorflow:Done with AddRunsFromDirectory: C:\\Users\\rruzzo\\Documents\\GitHub\\Deep_Learning_Work\\module_0\\week_3\\logs\n",
      "INFO:tensorflow:TensorBoard reload process: Reload the whole Multiplexer\n",
      "INFO:tensorflow:Beginning EventMultiplexer.Reload()\n",
      "INFO:tensorflow:Reloading runs serially (one after another) on the main thread.\n",
      "INFO:tensorflow:No path found after C:\\Users\\rruzzo\\Documents\\GitHub\\Deep_Learning_Work\\module_0\\week_3\\logs\\events.out.tfevents.1537935312.DESKTOP-V3AEQVL\n",
      "INFO:tensorflow:Finished with EventMultiplexer.Reload()\n",
      "INFO:tensorflow:TensorBoard done reloading. Load took 0.036 secs\n",
      "INFO:tensorflow:TensorBoard reload process beginning\n",
      "INFO:tensorflow:Starting AddRunsFromDirectory: C:\\Users\\rruzzo\\Documents\\GitHub\\Deep_Learning_Work\\module_0\\week_3\\logs\n",
      "INFO:tensorflow:GetLogdirSubdirectories: Starting to list directories via walking.\n",
      "INFO:tensorflow:Adding run from directory C:\\Users\\rruzzo\\Documents\\GitHub\\Deep_Learning_Work\\module_0\\week_3\\logs\n",
      "INFO:tensorflow:Done with AddRunsFromDirectory: C:\\Users\\rruzzo\\Documents\\GitHub\\Deep_Learning_Work\\module_0\\week_3\\logs\n",
      "INFO:tensorflow:TensorBoard reload process: Reload the whole Multiplexer\n",
      "INFO:tensorflow:Beginning EventMultiplexer.Reload()\n",
      "INFO:tensorflow:Reloading runs serially (one after another) on the main thread.\n",
      "INFO:tensorflow:No path found after C:\\Users\\rruzzo\\Documents\\GitHub\\Deep_Learning_Work\\module_0\\week_3\\logs\\events.out.tfevents.1537935312.DESKTOP-V3AEQVL\n",
      "INFO:tensorflow:Finished with EventMultiplexer.Reload()\n",
      "INFO:tensorflow:TensorBoard done reloading. Load took 0.013 secs\n"
     ]
    },
    {
     "name": "stderr",
     "output_type": "stream",
     "text": [
      "172.20.40.81 - - [26/Sep/2018 00:20:04] \"\u001b[37mGET /data/environment HTTP/1.1\u001b[0m\" 200 -\n"
     ]
    },
    {
     "name": "stdout",
     "output_type": "stream",
     "text": [
      "INFO:tensorflow:Plugin listing: is_active() for core took 0.000 seconds\n"
     ]
    },
    {
     "name": "stderr",
     "output_type": "stream",
     "text": [
      "172.20.40.81 - - [26/Sep/2018 00:20:04] \"\u001b[37mGET /data/runs HTTP/1.1\u001b[0m\" 200 -\n"
     ]
    },
    {
     "name": "stdout",
     "output_type": "stream",
     "text": [
      "INFO:tensorflow:Plugin listing: is_active() for beholder took 0.000 seconds\n"
     ]
    },
    {
     "name": "stderr",
     "output_type": "stream",
     "text": [
      "172.20.40.81 - - [26/Sep/2018 00:20:04] \"\u001b[37mGET /data/experiments HTTP/1.1\u001b[0m\" 200 -\n"
     ]
    },
    {
     "name": "stdout",
     "output_type": "stream",
     "text": [
      "INFO:tensorflow:Plugin listing: is_active() for scalars took 0.000 seconds\n",
      "INFO:tensorflow:Plugin listing: is_active() for custom_scalars took 0.000 seconds\n",
      "INFO:tensorflow:Plugin listing: is_active() for images took 0.000 seconds\n",
      "INFO:tensorflow:Plugin listing: is_active() for audio took 0.000 seconds\n",
      "INFO:tensorflow:Plugin listing: is_active() for graphs took 0.000 seconds\n",
      "INFO:tensorflow:Plugin listing: is_active() for distributions took 0.008 seconds\n",
      "INFO:tensorflow:Plugin listing: is_active() for histograms took 0.005 seconds\n",
      "INFO:tensorflow:Plugin listing: is_active() for pr_curves took 0.000 seconds\n",
      "INFO:tensorflow:Plugin listing: is_active() for projector took 0.001 seconds\n",
      "INFO:tensorflow:TextPlugin computing index_impl() in a new thread\n",
      "INFO:tensorflow:Plugin listing: is_active() for text took 0.003 seconds\n",
      "INFO:tensorflow:TextPlugin index_impl() thread ending after 0.005 sec\n",
      "INFO:tensorflow:Plugin listing: is_active() for profile took 0.001 seconds\n"
     ]
    },
    {
     "name": "stderr",
     "output_type": "stream",
     "text": [
      "172.20.40.81 - - [26/Sep/2018 00:20:04] \"\u001b[37mGET /data/plugins_listing HTTP/1.1\u001b[0m\" 200 -\n",
      "172.20.40.81 - - [26/Sep/2018 00:20:04] \"\u001b[37mGET /data/plugin/scalars/tags HTTP/1.1\u001b[0m\" 200 -\n",
      "172.20.40.81 - - [26/Sep/2018 00:20:04] \"\u001b[37mGET /data/plugin/scalars/scalars?run=.&tag=acc HTTP/1.1\u001b[0m\" 200 -\n",
      "172.20.40.81 - - [26/Sep/2018 00:20:04] \"\u001b[37mGET /data/plugin/scalars/scalars?run=.&tag=loss HTTP/1.1\u001b[0m\" 200 -\n",
      "172.20.40.81 - - [26/Sep/2018 00:20:04] \"\u001b[37mGET /data/plugin/scalars/scalars?run=.&tag=val_loss HTTP/1.1\u001b[0m\" 200 -\n"
     ]
    },
    {
     "name": "stdout",
     "output_type": "stream",
     "text": [
      "INFO:tensorflow:TensorBoard reload process beginning\n",
      "INFO:tensorflow:Starting AddRunsFromDirectory: C:\\Users\\rruzzo\\Documents\\GitHub\\Deep_Learning_Work\\module_0\\week_3\\logs\n",
      "INFO:tensorflow:GetLogdirSubdirectories: Starting to list directories via walking.\n",
      "INFO:tensorflow:Adding run from directory C:\\Users\\rruzzo\\Documents\\GitHub\\Deep_Learning_Work\\module_0\\week_3\\logs\n",
      "INFO:tensorflow:Done with AddRunsFromDirectory: C:\\Users\\rruzzo\\Documents\\GitHub\\Deep_Learning_Work\\module_0\\week_3\\logs\n",
      "INFO:tensorflow:TensorBoard reload process: Reload the whole Multiplexer\n",
      "INFO:tensorflow:Beginning EventMultiplexer.Reload()\n",
      "INFO:tensorflow:Reloading runs serially (one after another) on the main thread.\n",
      "INFO:tensorflow:No path found after C:\\Users\\rruzzo\\Documents\\GitHub\\Deep_Learning_Work\\module_0\\week_3\\logs\\events.out.tfevents.1537935312.DESKTOP-V3AEQVL\n",
      "INFO:tensorflow:Finished with EventMultiplexer.Reload()\n",
      "INFO:tensorflow:TensorBoard done reloading. Load took 0.035 secs\n",
      "INFO:tensorflow:TensorBoard reload process beginning\n",
      "INFO:tensorflow:Starting AddRunsFromDirectory: C:\\Users\\rruzzo\\Documents\\GitHub\\Deep_Learning_Work\\module_0\\week_3\\logs\n",
      "INFO:tensorflow:GetLogdirSubdirectories: Starting to list directories via walking.\n",
      "INFO:tensorflow:Adding run from directory C:\\Users\\rruzzo\\Documents\\GitHub\\Deep_Learning_Work\\module_0\\week_3\\logs\n",
      "INFO:tensorflow:Done with AddRunsFromDirectory: C:\\Users\\rruzzo\\Documents\\GitHub\\Deep_Learning_Work\\module_0\\week_3\\logs\n",
      "INFO:tensorflow:TensorBoard reload process: Reload the whole Multiplexer\n",
      "INFO:tensorflow:Beginning EventMultiplexer.Reload()\n",
      "INFO:tensorflow:Reloading runs serially (one after another) on the main thread.\n",
      "INFO:tensorflow:No path found after C:\\Users\\rruzzo\\Documents\\GitHub\\Deep_Learning_Work\\module_0\\week_3\\logs\\events.out.tfevents.1537935312.DESKTOP-V3AEQVL\n",
      "INFO:tensorflow:Finished with EventMultiplexer.Reload()\n",
      "INFO:tensorflow:TensorBoard done reloading. Load took 0.025 secs\n",
      "INFO:tensorflow:TensorBoard reload process beginning\n",
      "INFO:tensorflow:Starting AddRunsFromDirectory: C:\\Users\\rruzzo\\Documents\\GitHub\\Deep_Learning_Work\\module_0\\week_3\\logs\n",
      "INFO:tensorflow:GetLogdirSubdirectories: Starting to list directories via walking.\n",
      "INFO:tensorflow:Adding run from directory C:\\Users\\rruzzo\\Documents\\GitHub\\Deep_Learning_Work\\module_0\\week_3\\logs\n",
      "INFO:tensorflow:Done with AddRunsFromDirectory: C:\\Users\\rruzzo\\Documents\\GitHub\\Deep_Learning_Work\\module_0\\week_3\\logs\n",
      "INFO:tensorflow:TensorBoard reload process: Reload the whole Multiplexer\n",
      "INFO:tensorflow:Beginning EventMultiplexer.Reload()\n",
      "INFO:tensorflow:Reloading runs serially (one after another) on the main thread.\n",
      "INFO:tensorflow:No path found after C:\\Users\\rruzzo\\Documents\\GitHub\\Deep_Learning_Work\\module_0\\week_3\\logs\\events.out.tfevents.1537935312.DESKTOP-V3AEQVL\n",
      "INFO:tensorflow:Finished with EventMultiplexer.Reload()\n",
      "INFO:tensorflow:TensorBoard done reloading. Load took 0.021 secs\n",
      "INFO:tensorflow:TensorBoard reload process beginning\n",
      "INFO:tensorflow:Starting AddRunsFromDirectory: C:\\Users\\rruzzo\\Documents\\GitHub\\Deep_Learning_Work\\module_0\\week_3\\logs\n",
      "INFO:tensorflow:GetLogdirSubdirectories: Starting to list directories via walking.\n",
      "INFO:tensorflow:Adding run from directory C:\\Users\\rruzzo\\Documents\\GitHub\\Deep_Learning_Work\\module_0\\week_3\\logs\n",
      "INFO:tensorflow:Done with AddRunsFromDirectory: C:\\Users\\rruzzo\\Documents\\GitHub\\Deep_Learning_Work\\module_0\\week_3\\logs\n",
      "INFO:tensorflow:TensorBoard reload process: Reload the whole Multiplexer\n",
      "INFO:tensorflow:Beginning EventMultiplexer.Reload()\n",
      "INFO:tensorflow:Reloading runs serially (one after another) on the main thread.\n",
      "INFO:tensorflow:No path found after C:\\Users\\rruzzo\\Documents\\GitHub\\Deep_Learning_Work\\module_0\\week_3\\logs\\events.out.tfevents.1537935312.DESKTOP-V3AEQVL\n",
      "INFO:tensorflow:Finished with EventMultiplexer.Reload()\n",
      "INFO:tensorflow:TensorBoard done reloading. Load took 0.020 secs\n",
      "INFO:tensorflow:TensorBoard reload process beginning\n",
      "INFO:tensorflow:Starting AddRunsFromDirectory: C:\\Users\\rruzzo\\Documents\\GitHub\\Deep_Learning_Work\\module_0\\week_3\\logs\n",
      "INFO:tensorflow:GetLogdirSubdirectories: Starting to list directories via walking.\n",
      "INFO:tensorflow:Adding run from directory C:\\Users\\rruzzo\\Documents\\GitHub\\Deep_Learning_Work\\module_0\\week_3\\logs\n",
      "INFO:tensorflow:Done with AddRunsFromDirectory: C:\\Users\\rruzzo\\Documents\\GitHub\\Deep_Learning_Work\\module_0\\week_3\\logs\n",
      "INFO:tensorflow:TensorBoard reload process: Reload the whole Multiplexer\n",
      "INFO:tensorflow:Beginning EventMultiplexer.Reload()\n",
      "INFO:tensorflow:Reloading runs serially (one after another) on the main thread.\n",
      "INFO:tensorflow:No path found after C:\\Users\\rruzzo\\Documents\\GitHub\\Deep_Learning_Work\\module_0\\week_3\\logs\\events.out.tfevents.1537935312.DESKTOP-V3AEQVL\n",
      "INFO:tensorflow:Finished with EventMultiplexer.Reload()\n",
      "INFO:tensorflow:TensorBoard done reloading. Load took 0.014 secs\n",
      "INFO:tensorflow:TensorBoard reload process beginning\n",
      "INFO:tensorflow:Starting AddRunsFromDirectory: C:\\Users\\rruzzo\\Documents\\GitHub\\Deep_Learning_Work\\module_0\\week_3\\logs\n",
      "INFO:tensorflow:GetLogdirSubdirectories: Starting to list directories via walking.\n",
      "INFO:tensorflow:Adding run from directory C:\\Users\\rruzzo\\Documents\\GitHub\\Deep_Learning_Work\\module_0\\week_3\\logs\n",
      "INFO:tensorflow:Done with AddRunsFromDirectory: C:\\Users\\rruzzo\\Documents\\GitHub\\Deep_Learning_Work\\module_0\\week_3\\logs\n",
      "INFO:tensorflow:TensorBoard reload process: Reload the whole Multiplexer\n",
      "INFO:tensorflow:Beginning EventMultiplexer.Reload()\n",
      "INFO:tensorflow:Reloading runs serially (one after another) on the main thread.\n",
      "INFO:tensorflow:No path found after C:\\Users\\rruzzo\\Documents\\GitHub\\Deep_Learning_Work\\module_0\\week_3\\logs\\events.out.tfevents.1537935312.DESKTOP-V3AEQVL\n",
      "INFO:tensorflow:Finished with EventMultiplexer.Reload()\n",
      "INFO:tensorflow:TensorBoard done reloading. Load took 0.032 secs\n"
     ]
    },
    {
     "name": "stderr",
     "output_type": "stream",
     "text": [
      "172.20.40.81 - - [26/Sep/2018 00:20:34] \"\u001b[37mGET /data/environment HTTP/1.1\u001b[0m\" 200 -\n"
     ]
    },
    {
     "name": "stdout",
     "output_type": "stream",
     "text": [
      "INFO:tensorflow:Plugin listing: is_active() for core took 0.000 seconds\n"
     ]
    },
    {
     "name": "stderr",
     "output_type": "stream",
     "text": [
      "172.20.40.81 - - [26/Sep/2018 00:20:34] \"\u001b[37mGET /data/runs HTTP/1.1\u001b[0m\" 200 -\n"
     ]
    },
    {
     "name": "stdout",
     "output_type": "stream",
     "text": [
      "INFO:tensorflow:Plugin listing: is_active() for beholder took 0.000 seconds\n"
     ]
    },
    {
     "name": "stderr",
     "output_type": "stream",
     "text": [
      "172.20.40.81 - - [26/Sep/2018 00:20:34] \"\u001b[37mGET /data/experiments HTTP/1.1\u001b[0m\" 200 -\n"
     ]
    },
    {
     "name": "stdout",
     "output_type": "stream",
     "text": [
      "INFO:tensorflow:Plugin listing: is_active() for scalars took 0.000 seconds\n",
      "INFO:tensorflow:Plugin listing: is_active() for custom_scalars took 0.000 seconds\n",
      "INFO:tensorflow:Plugin listing: is_active() for images took 0.000 seconds\n",
      "INFO:tensorflow:Plugin listing: is_active() for audio took 0.000 seconds\n",
      "INFO:tensorflow:Plugin listing: is_active() for graphs took 0.000 seconds\n",
      "INFO:tensorflow:Plugin listing: is_active() for distributions took 0.006 seconds\n",
      "INFO:tensorflow:Plugin listing: is_active() for histograms took 0.006 seconds\n",
      "INFO:tensorflow:Plugin listing: is_active() for pr_curves took 0.000 seconds\n",
      "INFO:tensorflow:Plugin listing: is_active() for projector took 0.000 seconds\n",
      "INFO:tensorflow:TextPlugin computing index_impl() in a new thread\n",
      "INFO:tensorflow:Plugin listing: is_active() for text took 0.003 seconds\n",
      "INFO:tensorflow:TextPlugin index_impl() thread ending after 0.003 sec\n",
      "INFO:tensorflow:Plugin listing: is_active() for profile took 0.000 seconds\n"
     ]
    },
    {
     "name": "stderr",
     "output_type": "stream",
     "text": [
      "172.20.40.81 - - [26/Sep/2018 00:20:34] \"\u001b[37mGET /data/plugins_listing HTTP/1.1\u001b[0m\" 200 -\n",
      "172.20.40.81 - - [26/Sep/2018 00:20:34] \"\u001b[37mGET /data/plugin/scalars/tags HTTP/1.1\u001b[0m\" 200 -\n",
      "172.20.40.81 - - [26/Sep/2018 00:20:34] \"\u001b[37mGET /data/plugin/scalars/scalars?run=.&tag=acc HTTP/1.1\u001b[0m\" 200 -\n",
      "172.20.40.81 - - [26/Sep/2018 00:20:34] \"\u001b[37mGET /data/plugin/scalars/scalars?run=.&tag=loss HTTP/1.1\u001b[0m\" 200 -\n",
      "172.20.40.81 - - [26/Sep/2018 00:20:34] \"\u001b[37mGET /data/plugin/scalars/scalars?run=.&tag=val_loss HTTP/1.1\u001b[0m\" 200 -\n"
     ]
    },
    {
     "name": "stdout",
     "output_type": "stream",
     "text": [
      "INFO:tensorflow:TensorBoard reload process beginning\n",
      "INFO:tensorflow:Starting AddRunsFromDirectory: C:\\Users\\rruzzo\\Documents\\GitHub\\Deep_Learning_Work\\module_0\\week_3\\logs\n",
      "INFO:tensorflow:GetLogdirSubdirectories: Starting to list directories via walking.\n",
      "INFO:tensorflow:Adding run from directory C:\\Users\\rruzzo\\Documents\\GitHub\\Deep_Learning_Work\\module_0\\week_3\\logs\n",
      "INFO:tensorflow:Done with AddRunsFromDirectory: C:\\Users\\rruzzo\\Documents\\GitHub\\Deep_Learning_Work\\module_0\\week_3\\logs\n",
      "INFO:tensorflow:TensorBoard reload process: Reload the whole Multiplexer\n",
      "INFO:tensorflow:Beginning EventMultiplexer.Reload()\n",
      "INFO:tensorflow:Reloading runs serially (one after another) on the main thread.\n",
      "INFO:tensorflow:No path found after C:\\Users\\rruzzo\\Documents\\GitHub\\Deep_Learning_Work\\module_0\\week_3\\logs\\events.out.tfevents.1537935312.DESKTOP-V3AEQVL\n",
      "INFO:tensorflow:Finished with EventMultiplexer.Reload()\n",
      "INFO:tensorflow:TensorBoard done reloading. Load took 0.014 secs\n",
      "INFO:tensorflow:TensorBoard reload process beginning\n",
      "INFO:tensorflow:Starting AddRunsFromDirectory: C:\\Users\\rruzzo\\Documents\\GitHub\\Deep_Learning_Work\\module_0\\week_3\\logs\n",
      "INFO:tensorflow:GetLogdirSubdirectories: Starting to list directories via walking.\n",
      "INFO:tensorflow:Adding run from directory C:\\Users\\rruzzo\\Documents\\GitHub\\Deep_Learning_Work\\module_0\\week_3\\logs\n",
      "INFO:tensorflow:Done with AddRunsFromDirectory: C:\\Users\\rruzzo\\Documents\\GitHub\\Deep_Learning_Work\\module_0\\week_3\\logs\n",
      "INFO:tensorflow:TensorBoard reload process: Reload the whole Multiplexer\n",
      "INFO:tensorflow:Beginning EventMultiplexer.Reload()\n",
      "INFO:tensorflow:Reloading runs serially (one after another) on the main thread.\n",
      "INFO:tensorflow:No path found after C:\\Users\\rruzzo\\Documents\\GitHub\\Deep_Learning_Work\\module_0\\week_3\\logs\\events.out.tfevents.1537935312.DESKTOP-V3AEQVL\n",
      "INFO:tensorflow:Finished with EventMultiplexer.Reload()\n",
      "INFO:tensorflow:TensorBoard done reloading. Load took 0.027 secs\n",
      "INFO:tensorflow:TensorBoard reload process beginning\n",
      "INFO:tensorflow:Starting AddRunsFromDirectory: C:\\Users\\rruzzo\\Documents\\GitHub\\Deep_Learning_Work\\module_0\\week_3\\logs\n",
      "INFO:tensorflow:GetLogdirSubdirectories: Starting to list directories via walking.\n",
      "INFO:tensorflow:Adding run from directory C:\\Users\\rruzzo\\Documents\\GitHub\\Deep_Learning_Work\\module_0\\week_3\\logs\n",
      "INFO:tensorflow:Done with AddRunsFromDirectory: C:\\Users\\rruzzo\\Documents\\GitHub\\Deep_Learning_Work\\module_0\\week_3\\logs\n",
      "INFO:tensorflow:TensorBoard reload process: Reload the whole Multiplexer\n",
      "INFO:tensorflow:Beginning EventMultiplexer.Reload()\n",
      "INFO:tensorflow:Reloading runs serially (one after another) on the main thread.\n",
      "INFO:tensorflow:No path found after C:\\Users\\rruzzo\\Documents\\GitHub\\Deep_Learning_Work\\module_0\\week_3\\logs\\events.out.tfevents.1537935312.DESKTOP-V3AEQVL\n",
      "INFO:tensorflow:Finished with EventMultiplexer.Reload()\n",
      "INFO:tensorflow:TensorBoard done reloading. Load took 0.012 secs\n",
      "INFO:tensorflow:TensorBoard reload process beginning\n",
      "INFO:tensorflow:Starting AddRunsFromDirectory: C:\\Users\\rruzzo\\Documents\\GitHub\\Deep_Learning_Work\\module_0\\week_3\\logs\n",
      "INFO:tensorflow:GetLogdirSubdirectories: Starting to list directories via walking.\n",
      "INFO:tensorflow:Adding run from directory C:\\Users\\rruzzo\\Documents\\GitHub\\Deep_Learning_Work\\module_0\\week_3\\logs\n",
      "INFO:tensorflow:Done with AddRunsFromDirectory: C:\\Users\\rruzzo\\Documents\\GitHub\\Deep_Learning_Work\\module_0\\week_3\\logs\n",
      "INFO:tensorflow:TensorBoard reload process: Reload the whole Multiplexer\n",
      "INFO:tensorflow:Beginning EventMultiplexer.Reload()\n",
      "INFO:tensorflow:Reloading runs serially (one after another) on the main thread.\n",
      "INFO:tensorflow:No path found after C:\\Users\\rruzzo\\Documents\\GitHub\\Deep_Learning_Work\\module_0\\week_3\\logs\\events.out.tfevents.1537935312.DESKTOP-V3AEQVL\n",
      "INFO:tensorflow:Finished with EventMultiplexer.Reload()\n",
      "INFO:tensorflow:TensorBoard done reloading. Load took 0.012 secs\n",
      "INFO:tensorflow:TensorBoard reload process beginning\n",
      "INFO:tensorflow:Starting AddRunsFromDirectory: C:\\Users\\rruzzo\\Documents\\GitHub\\Deep_Learning_Work\\module_0\\week_3\\logs\n",
      "INFO:tensorflow:GetLogdirSubdirectories: Starting to list directories via walking.\n",
      "INFO:tensorflow:Adding run from directory C:\\Users\\rruzzo\\Documents\\GitHub\\Deep_Learning_Work\\module_0\\week_3\\logs\n",
      "INFO:tensorflow:Done with AddRunsFromDirectory: C:\\Users\\rruzzo\\Documents\\GitHub\\Deep_Learning_Work\\module_0\\week_3\\logs\n",
      "INFO:tensorflow:TensorBoard reload process: Reload the whole Multiplexer\n",
      "INFO:tensorflow:Beginning EventMultiplexer.Reload()\n",
      "INFO:tensorflow:Reloading runs serially (one after another) on the main thread.\n",
      "INFO:tensorflow:No path found after C:\\Users\\rruzzo\\Documents\\GitHub\\Deep_Learning_Work\\module_0\\week_3\\logs\\events.out.tfevents.1537935312.DESKTOP-V3AEQVL\n",
      "INFO:tensorflow:Finished with EventMultiplexer.Reload()\n",
      "INFO:tensorflow:TensorBoard done reloading. Load took 0.013 secs\n",
      "INFO:tensorflow:TensorBoard reload process beginning\n",
      "INFO:tensorflow:Starting AddRunsFromDirectory: C:\\Users\\rruzzo\\Documents\\GitHub\\Deep_Learning_Work\\module_0\\week_3\\logs\n",
      "INFO:tensorflow:GetLogdirSubdirectories: Starting to list directories via walking.\n",
      "INFO:tensorflow:Adding run from directory C:\\Users\\rruzzo\\Documents\\GitHub\\Deep_Learning_Work\\module_0\\week_3\\logs\n",
      "INFO:tensorflow:Done with AddRunsFromDirectory: C:\\Users\\rruzzo\\Documents\\GitHub\\Deep_Learning_Work\\module_0\\week_3\\logs\n",
      "INFO:tensorflow:TensorBoard reload process: Reload the whole Multiplexer\n",
      "INFO:tensorflow:Beginning EventMultiplexer.Reload()\n",
      "INFO:tensorflow:Reloading runs serially (one after another) on the main thread.\n",
      "INFO:tensorflow:No path found after C:\\Users\\rruzzo\\Documents\\GitHub\\Deep_Learning_Work\\module_0\\week_3\\logs\\events.out.tfevents.1537935312.DESKTOP-V3AEQVL\n",
      "INFO:tensorflow:Finished with EventMultiplexer.Reload()\n",
      "INFO:tensorflow:TensorBoard done reloading. Load took 0.013 secs\n"
     ]
    },
    {
     "name": "stderr",
     "output_type": "stream",
     "text": [
      "172.20.40.81 - - [26/Sep/2018 00:21:04] \"\u001b[37mGET /data/environment HTTP/1.1\u001b[0m\" 200 -\n"
     ]
    },
    {
     "name": "stdout",
     "output_type": "stream",
     "text": [
      "INFO:tensorflow:Plugin listing: is_active() for core took 0.000 seconds\n"
     ]
    },
    {
     "name": "stderr",
     "output_type": "stream",
     "text": [
      "172.20.40.81 - - [26/Sep/2018 00:21:04] \"\u001b[37mGET /data/runs HTTP/1.1\u001b[0m\" 200 -\n"
     ]
    },
    {
     "name": "stdout",
     "output_type": "stream",
     "text": [
      "INFO:tensorflow:Plugin listing: is_active() for beholder took 0.003 seconds\n",
      "INFO:tensorflow:Plugin listing: is_active() for scalars took 0.000 seconds\n"
     ]
    },
    {
     "name": "stderr",
     "output_type": "stream",
     "text": [
      "172.20.40.81 - - [26/Sep/2018 00:21:04] \"\u001b[37mGET /data/experiments HTTP/1.1\u001b[0m\" 200 -\n"
     ]
    },
    {
     "name": "stdout",
     "output_type": "stream",
     "text": [
      "INFO:tensorflow:Plugin listing: is_active() for custom_scalars took 0.000 seconds\n",
      "INFO:tensorflow:Plugin listing: is_active() for images took 0.000 seconds\n",
      "INFO:tensorflow:Plugin listing: is_active() for audio took 0.000 seconds\n",
      "INFO:tensorflow:Plugin listing: is_active() for graphs took 0.000 seconds\n",
      "INFO:tensorflow:Plugin listing: is_active() for distributions took 0.007 seconds\n",
      "INFO:tensorflow:Plugin listing: is_active() for histograms took 0.005 seconds\n",
      "INFO:tensorflow:Plugin listing: is_active() for pr_curves took 0.000 seconds\n",
      "INFO:tensorflow:Plugin listing: is_active() for projector took 0.001 seconds\n",
      "INFO:tensorflow:TextPlugin computing index_impl() in a new thread\n",
      "INFO:tensorflow:Plugin listing: is_active() for text took 0.003 seconds\n",
      "INFO:tensorflow:TextPlugin index_impl() thread ending after 0.003 sec\n",
      "INFO:tensorflow:Plugin listing: is_active() for profile took 0.000 seconds\n"
     ]
    },
    {
     "name": "stderr",
     "output_type": "stream",
     "text": [
      "172.20.40.81 - - [26/Sep/2018 00:21:04] \"\u001b[37mGET /data/plugins_listing HTTP/1.1\u001b[0m\" 200 -\n",
      "172.20.40.81 - - [26/Sep/2018 00:21:04] \"\u001b[37mGET /data/plugin/scalars/tags HTTP/1.1\u001b[0m\" 200 -\n",
      "172.20.40.81 - - [26/Sep/2018 00:21:04] \"\u001b[37mGET /data/plugin/scalars/scalars?run=.&tag=acc HTTP/1.1\u001b[0m\" 200 -\n",
      "172.20.40.81 - - [26/Sep/2018 00:21:04] \"\u001b[37mGET /data/plugin/scalars/scalars?run=.&tag=loss HTTP/1.1\u001b[0m\" 200 -\n",
      "172.20.40.81 - - [26/Sep/2018 00:21:04] \"\u001b[37mGET /data/plugin/scalars/scalars?run=.&tag=val_loss HTTP/1.1\u001b[0m\" 200 -\n"
     ]
    },
    {
     "name": "stdout",
     "output_type": "stream",
     "text": [
      "INFO:tensorflow:TensorBoard reload process beginning\n",
      "INFO:tensorflow:Starting AddRunsFromDirectory: C:\\Users\\rruzzo\\Documents\\GitHub\\Deep_Learning_Work\\module_0\\week_3\\logs\n",
      "INFO:tensorflow:GetLogdirSubdirectories: Starting to list directories via walking.\n",
      "INFO:tensorflow:Adding run from directory C:\\Users\\rruzzo\\Documents\\GitHub\\Deep_Learning_Work\\module_0\\week_3\\logs\n",
      "INFO:tensorflow:Done with AddRunsFromDirectory: C:\\Users\\rruzzo\\Documents\\GitHub\\Deep_Learning_Work\\module_0\\week_3\\logs\n",
      "INFO:tensorflow:TensorBoard reload process: Reload the whole Multiplexer\n",
      "INFO:tensorflow:Beginning EventMultiplexer.Reload()\n",
      "INFO:tensorflow:Reloading runs serially (one after another) on the main thread.\n",
      "INFO:tensorflow:No path found after C:\\Users\\rruzzo\\Documents\\GitHub\\Deep_Learning_Work\\module_0\\week_3\\logs\\events.out.tfevents.1537935312.DESKTOP-V3AEQVL\n",
      "INFO:tensorflow:Finished with EventMultiplexer.Reload()\n",
      "INFO:tensorflow:TensorBoard done reloading. Load took 0.015 secs\n",
      "INFO:tensorflow:TensorBoard reload process beginning\n",
      "INFO:tensorflow:Starting AddRunsFromDirectory: C:\\Users\\rruzzo\\Documents\\GitHub\\Deep_Learning_Work\\module_0\\week_3\\logs\n",
      "INFO:tensorflow:GetLogdirSubdirectories: Starting to list directories via walking.\n",
      "INFO:tensorflow:Adding run from directory C:\\Users\\rruzzo\\Documents\\GitHub\\Deep_Learning_Work\\module_0\\week_3\\logs\n",
      "INFO:tensorflow:Done with AddRunsFromDirectory: C:\\Users\\rruzzo\\Documents\\GitHub\\Deep_Learning_Work\\module_0\\week_3\\logs\n",
      "INFO:tensorflow:TensorBoard reload process: Reload the whole Multiplexer\n",
      "INFO:tensorflow:Beginning EventMultiplexer.Reload()\n",
      "INFO:tensorflow:Reloading runs serially (one after another) on the main thread.\n",
      "INFO:tensorflow:No path found after C:\\Users\\rruzzo\\Documents\\GitHub\\Deep_Learning_Work\\module_0\\week_3\\logs\\events.out.tfevents.1537935312.DESKTOP-V3AEQVL\n",
      "INFO:tensorflow:Finished with EventMultiplexer.Reload()\n",
      "INFO:tensorflow:TensorBoard done reloading. Load took 0.015 secs\n",
      "INFO:tensorflow:TensorBoard reload process beginning\n",
      "INFO:tensorflow:Starting AddRunsFromDirectory: C:\\Users\\rruzzo\\Documents\\GitHub\\Deep_Learning_Work\\module_0\\week_3\\logs\n",
      "INFO:tensorflow:GetLogdirSubdirectories: Starting to list directories via walking.\n",
      "INFO:tensorflow:Adding run from directory C:\\Users\\rruzzo\\Documents\\GitHub\\Deep_Learning_Work\\module_0\\week_3\\logs\n",
      "INFO:tensorflow:Done with AddRunsFromDirectory: C:\\Users\\rruzzo\\Documents\\GitHub\\Deep_Learning_Work\\module_0\\week_3\\logs\n",
      "INFO:tensorflow:TensorBoard reload process: Reload the whole Multiplexer\n",
      "INFO:tensorflow:Beginning EventMultiplexer.Reload()\n",
      "INFO:tensorflow:Reloading runs serially (one after another) on the main thread.\n",
      "INFO:tensorflow:Directory watcher advancing from C:\\Users\\rruzzo\\Documents\\GitHub\\Deep_Learning_Work\\module_0\\week_3\\logs\\events.out.tfevents.1537935312.DESKTOP-V3AEQVL to C:\\Users\\rruzzo\\Documents\\GitHub\\Deep_Learning_Work\\module_0\\week_3\\logs\\events.out.tfevents.1537935676.DESKTOP-V3AEQVL\n",
      "WARNING:tensorflow:Found more than one graph event per run, or there was a metagraph containing a graph_def, as well as one or more graph events.  Overwriting the graph with the newest event.\n",
      "WARNING:tensorflow:Found more than one metagraph event per run. Overwriting the metagraph with the newest event.\n"
     ]
    },
    {
     "name": "stderr",
     "output_type": "stream",
     "text": [
      "172.20.40.81 - - [26/Sep/2018 00:21:34] \"\u001b[37mGET /data/environment HTTP/1.1\u001b[0m\" 200 -\n"
     ]
    },
    {
     "name": "stdout",
     "output_type": "stream",
     "text": [
      "INFO:tensorflow:Plugin listing: is_active() for core took 0.000 seconds\n"
     ]
    },
    {
     "name": "stderr",
     "output_type": "stream",
     "text": [
      "172.20.40.81 - - [26/Sep/2018 00:21:34] \"\u001b[37mGET /data/runs HTTP/1.1\u001b[0m\" 200 -\n"
     ]
    },
    {
     "name": "stdout",
     "output_type": "stream",
     "text": [
      "INFO:tensorflow:Plugin listing: is_active() for beholder took 0.009 seconds\n"
     ]
    },
    {
     "name": "stderr",
     "output_type": "stream",
     "text": [
      "172.20.40.81 - - [26/Sep/2018 00:21:34] \"\u001b[37mGET /data/experiments HTTP/1.1\u001b[0m\" 200 -\n"
     ]
    },
    {
     "name": "stdout",
     "output_type": "stream",
     "text": [
      "INFO:tensorflow:Plugin listing: is_active() for scalars took 0.000 seconds\n",
      "INFO:tensorflow:Plugin listing: is_active() for custom_scalars took 0.000 seconds\n",
      "INFO:tensorflow:Plugin listing: is_active() for images took 0.000 seconds\n",
      "INFO:tensorflow:Plugin listing: is_active() for audio took 0.000 seconds\n",
      "INFO:tensorflow:Plugin listing: is_active() for graphs took 0.000 seconds\n",
      "INFO:tensorflow:Plugin listing: is_active() for distributions took 0.217 seconds\n",
      "INFO:tensorflow:Plugin listing: is_active() for histograms took 0.008 seconds\n",
      "INFO:tensorflow:Plugin listing: is_active() for pr_curves took 0.000 seconds\n",
      "INFO:tensorflow:Plugin listing: is_active() for projector took 0.009 seconds\n",
      "INFO:tensorflow:TextPlugin computing index_impl() in a new thread\n",
      "INFO:tensorflow:Plugin listing: is_active() for text took 0.018 seconds\n",
      "INFO:tensorflow:TextPlugin index_impl() thread ending after 0.028 sec\n",
      "INFO:tensorflow:Plugin listing: is_active() for profile took 0.005 seconds\n"
     ]
    },
    {
     "name": "stderr",
     "output_type": "stream",
     "text": [
      "172.20.40.81 - - [26/Sep/2018 00:21:34] \"\u001b[37mGET /data/plugins_listing HTTP/1.1\u001b[0m\" 200 -\n",
      "172.20.40.81 - - [26/Sep/2018 00:21:34] \"\u001b[37mGET /data/plugin/scalars/tags HTTP/1.1\u001b[0m\" 200 -\n",
      "172.20.40.81 - - [26/Sep/2018 00:21:35] \"\u001b[37mGET /data/plugin/scalars/scalars?run=.&tag=acc HTTP/1.1\u001b[0m\" 200 -\n",
      "172.20.40.81 - - [26/Sep/2018 00:21:35] \"\u001b[37mGET /data/plugin/scalars/scalars?run=.&tag=loss HTTP/1.1\u001b[0m\" 200 -\n",
      "172.20.40.81 - - [26/Sep/2018 00:21:35] \"\u001b[37mGET /data/plugin/scalars/scalars?run=.&tag=val_loss HTTP/1.1\u001b[0m\" 200 -\n",
      "172.20.40.81 - - [26/Sep/2018 00:22:04] \"\u001b[37mGET /data/environment HTTP/1.1\u001b[0m\" 200 -\n"
     ]
    },
    {
     "name": "stdout",
     "output_type": "stream",
     "text": [
      "INFO:tensorflow:Plugin listing: is_active() for core took 0.000 seconds\n",
      "INFO:tensorflow:Plugin listing: is_active() for beholder took 0.008 seconds\n"
     ]
    },
    {
     "name": "stderr",
     "output_type": "stream",
     "text": [
      "172.20.40.81 - - [26/Sep/2018 00:22:04] \"\u001b[37mGET /data/runs HTTP/1.1\u001b[0m\" 200 -\n"
     ]
    },
    {
     "name": "stdout",
     "output_type": "stream",
     "text": [
      "INFO:tensorflow:Plugin listing: is_active() for scalars took 0.000 seconds\n"
     ]
    },
    {
     "name": "stderr",
     "output_type": "stream",
     "text": [
      "172.20.40.81 - - [26/Sep/2018 00:22:04] \"\u001b[37mGET /data/experiments HTTP/1.1\u001b[0m\" 200 -\n"
     ]
    },
    {
     "name": "stdout",
     "output_type": "stream",
     "text": [
      "INFO:tensorflow:Plugin listing: is_active() for custom_scalars took 0.000 seconds\n",
      "INFO:tensorflow:Plugin listing: is_active() for images took 0.000 seconds\n",
      "INFO:tensorflow:Plugin listing: is_active() for audio took 0.000 seconds\n",
      "INFO:tensorflow:Plugin listing: is_active() for graphs took 0.000 seconds\n",
      "INFO:tensorflow:Plugin listing: is_active() for distributions took 0.032 seconds\n",
      "INFO:tensorflow:Plugin listing: is_active() for histograms took 0.011 seconds\n",
      "INFO:tensorflow:Plugin listing: is_active() for pr_curves took 0.000 seconds\n",
      "INFO:tensorflow:Plugin listing: is_active() for projector took 0.022 seconds\n",
      "INFO:tensorflow:TextPlugin computing index_impl() in a new thread\n",
      "INFO:tensorflow:Plugin listing: is_active() for text took 0.030 seconds\n",
      "INFO:tensorflow:TextPlugin index_impl() thread ending after 0.037 sec\n",
      "INFO:tensorflow:Plugin listing: is_active() for profile took 0.021 seconds\n"
     ]
    },
    {
     "name": "stderr",
     "output_type": "stream",
     "text": [
      "172.20.40.81 - - [26/Sep/2018 00:22:04] \"\u001b[37mGET /data/plugins_listing HTTP/1.1\u001b[0m\" 200 -\n",
      "172.20.40.81 - - [26/Sep/2018 00:22:04] \"\u001b[37mGET /data/plugin/scalars/tags HTTP/1.1\u001b[0m\" 200 -\n",
      "172.20.40.81 - - [26/Sep/2018 00:22:04] \"\u001b[37mGET /data/plugin/scalars/scalars?run=.&tag=acc HTTP/1.1\u001b[0m\" 200 -\n",
      "172.20.40.81 - - [26/Sep/2018 00:22:04] \"\u001b[37mGET /data/plugin/scalars/scalars?run=.&tag=loss HTTP/1.1\u001b[0m\" 200 -\n",
      "172.20.40.81 - - [26/Sep/2018 00:22:04] \"\u001b[37mGET /data/plugin/scalars/scalars?run=.&tag=val_loss HTTP/1.1\u001b[0m\" 200 -\n",
      "172.20.40.81 - - [26/Sep/2018 00:22:34] \"\u001b[37mGET /data/environment HTTP/1.1\u001b[0m\" 200 -\n"
     ]
    },
    {
     "name": "stdout",
     "output_type": "stream",
     "text": [
      "INFO:tensorflow:Plugin listing: is_active() for core took 0.000 seconds\n"
     ]
    },
    {
     "name": "stderr",
     "output_type": "stream",
     "text": [
      "172.20.40.81 - - [26/Sep/2018 00:22:34] \"\u001b[37mGET /data/runs HTTP/1.1\u001b[0m\" 200 -\n"
     ]
    },
    {
     "name": "stdout",
     "output_type": "stream",
     "text": [
      "INFO:tensorflow:Plugin listing: is_active() for beholder took 0.015 seconds\n"
     ]
    },
    {
     "name": "stderr",
     "output_type": "stream",
     "text": [
      "172.20.40.81 - - [26/Sep/2018 00:22:34] \"\u001b[37mGET /data/experiments HTTP/1.1\u001b[0m\" 200 -\n"
     ]
    },
    {
     "name": "stdout",
     "output_type": "stream",
     "text": [
      "INFO:tensorflow:Plugin listing: is_active() for scalars took 0.000 seconds\n",
      "INFO:tensorflow:Plugin listing: is_active() for custom_scalars took 0.000 seconds\n",
      "INFO:tensorflow:Plugin listing: is_active() for images took 0.000 seconds\n",
      "INFO:tensorflow:Plugin listing: is_active() for audio took 0.000 seconds\n",
      "INFO:tensorflow:Plugin listing: is_active() for graphs took 0.000 seconds\n",
      "INFO:tensorflow:Plugin listing: is_active() for distributions took 0.012 seconds\n",
      "INFO:tensorflow:Plugin listing: is_active() for histograms took 0.006 seconds\n",
      "INFO:tensorflow:Plugin listing: is_active() for pr_curves took 0.000 seconds\n",
      "INFO:tensorflow:Plugin listing: is_active() for projector took 0.014 seconds\n",
      "INFO:tensorflow:TextPlugin computing index_impl() in a new thread\n",
      "INFO:tensorflow:Plugin listing: is_active() for text took 0.005 seconds\n",
      "INFO:tensorflow:TextPlugin index_impl() thread ending after 0.004 sec\n",
      "INFO:tensorflow:Plugin listing: is_active() for profile took 0.008 seconds\n"
     ]
    },
    {
     "name": "stderr",
     "output_type": "stream",
     "text": [
      "172.20.40.81 - - [26/Sep/2018 00:22:34] \"\u001b[37mGET /data/plugins_listing HTTP/1.1\u001b[0m\" 200 -\n",
      "172.20.40.81 - - [26/Sep/2018 00:22:34] \"\u001b[37mGET /data/plugin/scalars/tags HTTP/1.1\u001b[0m\" 200 -\n",
      "172.20.40.81 - - [26/Sep/2018 00:22:34] \"\u001b[37mGET /data/plugin/scalars/scalars?run=.&tag=acc HTTP/1.1\u001b[0m\" 200 -\n",
      "172.20.40.81 - - [26/Sep/2018 00:22:34] \"\u001b[37mGET /data/plugin/scalars/scalars?run=.&tag=loss HTTP/1.1\u001b[0m\" 200 -\n",
      "172.20.40.81 - - [26/Sep/2018 00:22:34] \"\u001b[37mGET /data/plugin/scalars/scalars?run=.&tag=val_loss HTTP/1.1\u001b[0m\" 200 -\n"
     ]
    },
    {
     "name": "stdout",
     "output_type": "stream",
     "text": [
      "INFO:tensorflow:No path found after C:\\Users\\rruzzo\\Documents\\GitHub\\Deep_Learning_Work\\module_0\\week_3\\logs\\events.out.tfevents.1537935676.DESKTOP-V3AEQVL\n",
      "INFO:tensorflow:Finished with EventMultiplexer.Reload()\n",
      "INFO:tensorflow:TensorBoard done reloading. Load took 85.844 secs\n",
      "INFO:tensorflow:TensorBoard reload process beginning\n",
      "INFO:tensorflow:Starting AddRunsFromDirectory: C:\\Users\\rruzzo\\Documents\\GitHub\\Deep_Learning_Work\\module_0\\week_3\\logs\n",
      "INFO:tensorflow:GetLogdirSubdirectories: Starting to list directories via walking.\n",
      "INFO:tensorflow:Adding run from directory C:\\Users\\rruzzo\\Documents\\GitHub\\Deep_Learning_Work\\module_0\\week_3\\logs\n",
      "INFO:tensorflow:Done with AddRunsFromDirectory: C:\\Users\\rruzzo\\Documents\\GitHub\\Deep_Learning_Work\\module_0\\week_3\\logs\n",
      "INFO:tensorflow:TensorBoard reload process: Reload the whole Multiplexer\n",
      "INFO:tensorflow:Beginning EventMultiplexer.Reload()\n",
      "INFO:tensorflow:Reloading runs serially (one after another) on the main thread.\n",
      "INFO:tensorflow:No path found after C:\\Users\\rruzzo\\Documents\\GitHub\\Deep_Learning_Work\\module_0\\week_3\\logs\\events.out.tfevents.1537935676.DESKTOP-V3AEQVL\n",
      "INFO:tensorflow:Finished with EventMultiplexer.Reload()\n",
      "INFO:tensorflow:TensorBoard done reloading. Load took 0.022 secs\n",
      "INFO:tensorflow:TensorBoard reload process beginning\n",
      "INFO:tensorflow:Starting AddRunsFromDirectory: C:\\Users\\rruzzo\\Documents\\GitHub\\Deep_Learning_Work\\module_0\\week_3\\logs\n",
      "INFO:tensorflow:GetLogdirSubdirectories: Starting to list directories via walking.\n",
      "INFO:tensorflow:Adding run from directory C:\\Users\\rruzzo\\Documents\\GitHub\\Deep_Learning_Work\\module_0\\week_3\\logs\n",
      "INFO:tensorflow:Done with AddRunsFromDirectory: C:\\Users\\rruzzo\\Documents\\GitHub\\Deep_Learning_Work\\module_0\\week_3\\logs\n",
      "INFO:tensorflow:TensorBoard reload process: Reload the whole Multiplexer\n",
      "INFO:tensorflow:Beginning EventMultiplexer.Reload()\n",
      "INFO:tensorflow:Reloading runs serially (one after another) on the main thread.\n",
      "INFO:tensorflow:No path found after C:\\Users\\rruzzo\\Documents\\GitHub\\Deep_Learning_Work\\module_0\\week_3\\logs\\events.out.tfevents.1537935676.DESKTOP-V3AEQVL\n",
      "INFO:tensorflow:Finished with EventMultiplexer.Reload()\n",
      "INFO:tensorflow:TensorBoard done reloading. Load took 0.018 secs\n",
      "INFO:tensorflow:TensorBoard reload process beginning\n",
      "INFO:tensorflow:Starting AddRunsFromDirectory: C:\\Users\\rruzzo\\Documents\\GitHub\\Deep_Learning_Work\\module_0\\week_3\\logs\n",
      "INFO:tensorflow:GetLogdirSubdirectories: Starting to list directories via walking.\n",
      "INFO:tensorflow:Adding run from directory C:\\Users\\rruzzo\\Documents\\GitHub\\Deep_Learning_Work\\module_0\\week_3\\logs\n",
      "INFO:tensorflow:Done with AddRunsFromDirectory: C:\\Users\\rruzzo\\Documents\\GitHub\\Deep_Learning_Work\\module_0\\week_3\\logs\n",
      "INFO:tensorflow:TensorBoard reload process: Reload the whole Multiplexer\n",
      "INFO:tensorflow:Beginning EventMultiplexer.Reload()\n",
      "INFO:tensorflow:Reloading runs serially (one after another) on the main thread.\n",
      "INFO:tensorflow:No path found after C:\\Users\\rruzzo\\Documents\\GitHub\\Deep_Learning_Work\\module_0\\week_3\\logs\\events.out.tfevents.1537935676.DESKTOP-V3AEQVL\n",
      "INFO:tensorflow:Finished with EventMultiplexer.Reload()\n",
      "INFO:tensorflow:TensorBoard done reloading. Load took 0.021 secs\n"
     ]
    },
    {
     "name": "stderr",
     "output_type": "stream",
     "text": [
      "172.20.40.81 - - [26/Sep/2018 00:23:04] \"\u001b[37mGET /data/environment HTTP/1.1\u001b[0m\" 200 -\n"
     ]
    },
    {
     "name": "stdout",
     "output_type": "stream",
     "text": [
      "INFO:tensorflow:Plugin listing: is_active() for core took 0.000 seconds\n"
     ]
    },
    {
     "name": "stderr",
     "output_type": "stream",
     "text": [
      "172.20.40.81 - - [26/Sep/2018 00:23:04] \"\u001b[37mGET /data/runs HTTP/1.1\u001b[0m\" 200 -\n"
     ]
    },
    {
     "name": "stdout",
     "output_type": "stream",
     "text": [
      "INFO:tensorflow:Plugin listing: is_active() for beholder took 0.003 seconds\n"
     ]
    },
    {
     "name": "stderr",
     "output_type": "stream",
     "text": [
      "172.20.40.81 - - [26/Sep/2018 00:23:04] \"\u001b[37mGET /data/experiments HTTP/1.1\u001b[0m\" 200 -\n"
     ]
    },
    {
     "name": "stdout",
     "output_type": "stream",
     "text": [
      "INFO:tensorflow:Plugin listing: is_active() for scalars took 0.000 seconds\n",
      "INFO:tensorflow:Plugin listing: is_active() for custom_scalars took 0.000 seconds\n",
      "INFO:tensorflow:Plugin listing: is_active() for images took 0.000 seconds\n",
      "INFO:tensorflow:Plugin listing: is_active() for audio took 0.000 seconds\n",
      "INFO:tensorflow:Plugin listing: is_active() for graphs took 0.000 seconds\n",
      "INFO:tensorflow:Plugin listing: is_active() for distributions took 0.014 seconds\n",
      "INFO:tensorflow:Plugin listing: is_active() for histograms took 0.007 seconds\n",
      "INFO:tensorflow:Plugin listing: is_active() for pr_curves took 0.000 seconds\n",
      "INFO:tensorflow:Plugin listing: is_active() for projector took 0.001 seconds\n",
      "INFO:tensorflow:TextPlugin computing index_impl() in a new thread\n",
      "INFO:tensorflow:Plugin listing: is_active() for text took 0.002 seconds\n",
      "INFO:tensorflow:TextPlugin index_impl() thread ending after 0.003 sec\n",
      "INFO:tensorflow:Plugin listing: is_active() for profile took 0.000 seconds\n"
     ]
    },
    {
     "name": "stderr",
     "output_type": "stream",
     "text": [
      "172.20.40.81 - - [26/Sep/2018 00:23:04] \"\u001b[37mGET /data/plugins_listing HTTP/1.1\u001b[0m\" 200 -\n",
      "172.20.40.81 - - [26/Sep/2018 00:23:04] \"\u001b[37mGET /data/plugin/scalars/tags HTTP/1.1\u001b[0m\" 200 -\n",
      "172.20.40.81 - - [26/Sep/2018 00:23:04] \"\u001b[37mGET /data/plugin/scalars/scalars?run=.&tag=acc HTTP/1.1\u001b[0m\" 200 -\n",
      "172.20.40.81 - - [26/Sep/2018 00:23:04] \"\u001b[37mGET /data/plugin/scalars/scalars?run=.&tag=loss HTTP/1.1\u001b[0m\" 200 -\n",
      "172.20.40.81 - - [26/Sep/2018 00:23:04] \"\u001b[37mGET /data/plugin/scalars/scalars?run=.&tag=val_loss HTTP/1.1\u001b[0m\" 200 -\n"
     ]
    },
    {
     "name": "stdout",
     "output_type": "stream",
     "text": [
      "INFO:tensorflow:TensorBoard reload process beginning\n",
      "INFO:tensorflow:Starting AddRunsFromDirectory: C:\\Users\\rruzzo\\Documents\\GitHub\\Deep_Learning_Work\\module_0\\week_3\\logs\n",
      "INFO:tensorflow:GetLogdirSubdirectories: Starting to list directories via walking.\n",
      "INFO:tensorflow:Adding run from directory C:\\Users\\rruzzo\\Documents\\GitHub\\Deep_Learning_Work\\module_0\\week_3\\logs\n",
      "INFO:tensorflow:Done with AddRunsFromDirectory: C:\\Users\\rruzzo\\Documents\\GitHub\\Deep_Learning_Work\\module_0\\week_3\\logs\n",
      "INFO:tensorflow:TensorBoard reload process: Reload the whole Multiplexer\n",
      "INFO:tensorflow:Beginning EventMultiplexer.Reload()\n",
      "INFO:tensorflow:Reloading runs serially (one after another) on the main thread.\n",
      "INFO:tensorflow:No path found after C:\\Users\\rruzzo\\Documents\\GitHub\\Deep_Learning_Work\\module_0\\week_3\\logs\\events.out.tfevents.1537935676.DESKTOP-V3AEQVL\n",
      "INFO:tensorflow:Finished with EventMultiplexer.Reload()\n",
      "INFO:tensorflow:TensorBoard done reloading. Load took 0.012 secs\n",
      "INFO:tensorflow:TensorBoard reload process beginning\n",
      "INFO:tensorflow:Starting AddRunsFromDirectory: C:\\Users\\rruzzo\\Documents\\GitHub\\Deep_Learning_Work\\module_0\\week_3\\logs\n",
      "INFO:tensorflow:GetLogdirSubdirectories: Starting to list directories via walking.\n",
      "INFO:tensorflow:Adding run from directory C:\\Users\\rruzzo\\Documents\\GitHub\\Deep_Learning_Work\\module_0\\week_3\\logs\n",
      "INFO:tensorflow:Done with AddRunsFromDirectory: C:\\Users\\rruzzo\\Documents\\GitHub\\Deep_Learning_Work\\module_0\\week_3\\logs\n",
      "INFO:tensorflow:TensorBoard reload process: Reload the whole Multiplexer\n",
      "INFO:tensorflow:Beginning EventMultiplexer.Reload()\n",
      "INFO:tensorflow:Reloading runs serially (one after another) on the main thread.\n",
      "INFO:tensorflow:No path found after C:\\Users\\rruzzo\\Documents\\GitHub\\Deep_Learning_Work\\module_0\\week_3\\logs\\events.out.tfevents.1537935676.DESKTOP-V3AEQVL\n",
      "INFO:tensorflow:Finished with EventMultiplexer.Reload()\n",
      "INFO:tensorflow:TensorBoard done reloading. Load took 0.031 secs\n",
      "INFO:tensorflow:TensorBoard reload process beginning\n",
      "INFO:tensorflow:Starting AddRunsFromDirectory: C:\\Users\\rruzzo\\Documents\\GitHub\\Deep_Learning_Work\\module_0\\week_3\\logs\n",
      "INFO:tensorflow:GetLogdirSubdirectories: Starting to list directories via walking.\n",
      "INFO:tensorflow:Adding run from directory C:\\Users\\rruzzo\\Documents\\GitHub\\Deep_Learning_Work\\module_0\\week_3\\logs\n",
      "INFO:tensorflow:Done with AddRunsFromDirectory: C:\\Users\\rruzzo\\Documents\\GitHub\\Deep_Learning_Work\\module_0\\week_3\\logs\n",
      "INFO:tensorflow:TensorBoard reload process: Reload the whole Multiplexer\n",
      "INFO:tensorflow:Beginning EventMultiplexer.Reload()\n",
      "INFO:tensorflow:Reloading runs serially (one after another) on the main thread.\n",
      "INFO:tensorflow:No path found after C:\\Users\\rruzzo\\Documents\\GitHub\\Deep_Learning_Work\\module_0\\week_3\\logs\\events.out.tfevents.1537935676.DESKTOP-V3AEQVL\n",
      "INFO:tensorflow:Finished with EventMultiplexer.Reload()\n",
      "INFO:tensorflow:TensorBoard done reloading. Load took 0.018 secs\n",
      "INFO:tensorflow:TensorBoard reload process beginning\n",
      "INFO:tensorflow:Starting AddRunsFromDirectory: C:\\Users\\rruzzo\\Documents\\GitHub\\Deep_Learning_Work\\module_0\\week_3\\logs\n",
      "INFO:tensorflow:GetLogdirSubdirectories: Starting to list directories via walking.\n",
      "INFO:tensorflow:Adding run from directory C:\\Users\\rruzzo\\Documents\\GitHub\\Deep_Learning_Work\\module_0\\week_3\\logs\n",
      "INFO:tensorflow:Done with AddRunsFromDirectory: C:\\Users\\rruzzo\\Documents\\GitHub\\Deep_Learning_Work\\module_0\\week_3\\logs\n",
      "INFO:tensorflow:TensorBoard reload process: Reload the whole Multiplexer\n",
      "INFO:tensorflow:Beginning EventMultiplexer.Reload()\n",
      "INFO:tensorflow:Reloading runs serially (one after another) on the main thread.\n",
      "INFO:tensorflow:No path found after C:\\Users\\rruzzo\\Documents\\GitHub\\Deep_Learning_Work\\module_0\\week_3\\logs\\events.out.tfevents.1537935676.DESKTOP-V3AEQVL\n",
      "INFO:tensorflow:Finished with EventMultiplexer.Reload()\n",
      "INFO:tensorflow:TensorBoard done reloading. Load took 0.014 secs\n",
      "INFO:tensorflow:TensorBoard reload process beginning\n",
      "INFO:tensorflow:Starting AddRunsFromDirectory: C:\\Users\\rruzzo\\Documents\\GitHub\\Deep_Learning_Work\\module_0\\week_3\\logs\n",
      "INFO:tensorflow:GetLogdirSubdirectories: Starting to list directories via walking.\n",
      "INFO:tensorflow:Adding run from directory C:\\Users\\rruzzo\\Documents\\GitHub\\Deep_Learning_Work\\module_0\\week_3\\logs\n",
      "INFO:tensorflow:Done with AddRunsFromDirectory: C:\\Users\\rruzzo\\Documents\\GitHub\\Deep_Learning_Work\\module_0\\week_3\\logs\n",
      "INFO:tensorflow:TensorBoard reload process: Reload the whole Multiplexer\n",
      "INFO:tensorflow:Beginning EventMultiplexer.Reload()\n",
      "INFO:tensorflow:Reloading runs serially (one after another) on the main thread.\n",
      "INFO:tensorflow:No path found after C:\\Users\\rruzzo\\Documents\\GitHub\\Deep_Learning_Work\\module_0\\week_3\\logs\\events.out.tfevents.1537935676.DESKTOP-V3AEQVL\n",
      "INFO:tensorflow:Finished with EventMultiplexer.Reload()\n",
      "INFO:tensorflow:TensorBoard done reloading. Load took 0.013 secs\n",
      "INFO:tensorflow:TensorBoard reload process beginning\n",
      "INFO:tensorflow:Starting AddRunsFromDirectory: C:\\Users\\rruzzo\\Documents\\GitHub\\Deep_Learning_Work\\module_0\\week_3\\logs\n",
      "INFO:tensorflow:GetLogdirSubdirectories: Starting to list directories via walking.\n",
      "INFO:tensorflow:Adding run from directory C:\\Users\\rruzzo\\Documents\\GitHub\\Deep_Learning_Work\\module_0\\week_3\\logs\n",
      "INFO:tensorflow:Done with AddRunsFromDirectory: C:\\Users\\rruzzo\\Documents\\GitHub\\Deep_Learning_Work\\module_0\\week_3\\logs\n",
      "INFO:tensorflow:TensorBoard reload process: Reload the whole Multiplexer\n",
      "INFO:tensorflow:Beginning EventMultiplexer.Reload()\n",
      "INFO:tensorflow:Reloading runs serially (one after another) on the main thread.\n",
      "INFO:tensorflow:No path found after C:\\Users\\rruzzo\\Documents\\GitHub\\Deep_Learning_Work\\module_0\\week_3\\logs\\events.out.tfevents.1537935676.DESKTOP-V3AEQVL\n",
      "INFO:tensorflow:Finished with EventMultiplexer.Reload()\n",
      "INFO:tensorflow:TensorBoard done reloading. Load took 0.013 secs\n"
     ]
    },
    {
     "name": "stderr",
     "output_type": "stream",
     "text": [
      "172.20.40.81 - - [26/Sep/2018 00:23:34] \"\u001b[37mGET /data/environment HTTP/1.1\u001b[0m\" 200 -\n"
     ]
    },
    {
     "name": "stdout",
     "output_type": "stream",
     "text": [
      "INFO:tensorflow:Plugin listing: is_active() for core took 0.000 seconds\n",
      "INFO:tensorflow:Plugin listing: is_active() for beholder took 0.001 seconds\n"
     ]
    },
    {
     "name": "stderr",
     "output_type": "stream",
     "text": [
      "172.20.40.81 - - [26/Sep/2018 00:23:34] \"\u001b[37mGET /data/runs HTTP/1.1\u001b[0m\" 200 -\n"
     ]
    },
    {
     "name": "stdout",
     "output_type": "stream",
     "text": [
      "INFO:tensorflow:Plugin listing: is_active() for scalars took 0.000 seconds\n"
     ]
    },
    {
     "name": "stderr",
     "output_type": "stream",
     "text": [
      "172.20.40.81 - - [26/Sep/2018 00:23:34] \"\u001b[37mGET /data/experiments HTTP/1.1\u001b[0m\" 200 -\n"
     ]
    },
    {
     "name": "stdout",
     "output_type": "stream",
     "text": [
      "INFO:tensorflow:Plugin listing: is_active() for custom_scalars took 0.000 seconds\n",
      "INFO:tensorflow:Plugin listing: is_active() for images took 0.000 seconds\n",
      "INFO:tensorflow:Plugin listing: is_active() for audio took 0.000 seconds\n",
      "INFO:tensorflow:Plugin listing: is_active() for graphs took 0.000 seconds\n",
      "INFO:tensorflow:Plugin listing: is_active() for distributions took 0.006 seconds\n",
      "INFO:tensorflow:Plugin listing: is_active() for histograms took 0.010 seconds\n",
      "INFO:tensorflow:Plugin listing: is_active() for pr_curves took 0.000 seconds\n",
      "INFO:tensorflow:Plugin listing: is_active() for projector took 0.001 seconds\n",
      "INFO:tensorflow:TextPlugin computing index_impl() in a new thread\n",
      "INFO:tensorflow:Plugin listing: is_active() for text took 0.002 seconds\n",
      "INFO:tensorflow:TextPlugin index_impl() thread ending after 0.004 sec\n",
      "INFO:tensorflow:Plugin listing: is_active() for profile took 0.000 seconds\n"
     ]
    },
    {
     "name": "stderr",
     "output_type": "stream",
     "text": [
      "172.20.40.81 - - [26/Sep/2018 00:23:34] \"\u001b[37mGET /data/plugins_listing HTTP/1.1\u001b[0m\" 200 -\n",
      "172.20.40.81 - - [26/Sep/2018 00:23:34] \"\u001b[37mGET /data/plugin/scalars/tags HTTP/1.1\u001b[0m\" 200 -\n",
      "172.20.40.81 - - [26/Sep/2018 00:23:34] \"\u001b[37mGET /data/plugin/scalars/scalars?run=.&tag=acc HTTP/1.1\u001b[0m\" 200 -\n",
      "172.20.40.81 - - [26/Sep/2018 00:23:34] \"\u001b[37mGET /data/plugin/scalars/scalars?run=.&tag=loss HTTP/1.1\u001b[0m\" 200 -\n",
      "172.20.40.81 - - [26/Sep/2018 00:23:34] \"\u001b[37mGET /data/plugin/scalars/scalars?run=.&tag=val_loss HTTP/1.1\u001b[0m\" 200 -\n"
     ]
    },
    {
     "name": "stdout",
     "output_type": "stream",
     "text": [
      "INFO:tensorflow:TensorBoard reload process beginning\n",
      "INFO:tensorflow:Starting AddRunsFromDirectory: C:\\Users\\rruzzo\\Documents\\GitHub\\Deep_Learning_Work\\module_0\\week_3\\logs\n",
      "INFO:tensorflow:GetLogdirSubdirectories: Starting to list directories via walking.\n",
      "INFO:tensorflow:Adding run from directory C:\\Users\\rruzzo\\Documents\\GitHub\\Deep_Learning_Work\\module_0\\week_3\\logs\n",
      "INFO:tensorflow:Done with AddRunsFromDirectory: C:\\Users\\rruzzo\\Documents\\GitHub\\Deep_Learning_Work\\module_0\\week_3\\logs\n",
      "INFO:tensorflow:TensorBoard reload process: Reload the whole Multiplexer\n",
      "INFO:tensorflow:Beginning EventMultiplexer.Reload()\n",
      "INFO:tensorflow:Reloading runs serially (one after another) on the main thread.\n",
      "INFO:tensorflow:No path found after C:\\Users\\rruzzo\\Documents\\GitHub\\Deep_Learning_Work\\module_0\\week_3\\logs\\events.out.tfevents.1537935676.DESKTOP-V3AEQVL\n",
      "INFO:tensorflow:Finished with EventMultiplexer.Reload()\n",
      "INFO:tensorflow:TensorBoard done reloading. Load took 0.014 secs\n",
      "INFO:tensorflow:TensorBoard reload process beginning\n",
      "INFO:tensorflow:Starting AddRunsFromDirectory: C:\\Users\\rruzzo\\Documents\\GitHub\\Deep_Learning_Work\\module_0\\week_3\\logs\n",
      "INFO:tensorflow:GetLogdirSubdirectories: Starting to list directories via walking.\n",
      "INFO:tensorflow:Adding run from directory C:\\Users\\rruzzo\\Documents\\GitHub\\Deep_Learning_Work\\module_0\\week_3\\logs\n",
      "INFO:tensorflow:Done with AddRunsFromDirectory: C:\\Users\\rruzzo\\Documents\\GitHub\\Deep_Learning_Work\\module_0\\week_3\\logs\n",
      "INFO:tensorflow:TensorBoard reload process: Reload the whole Multiplexer\n",
      "INFO:tensorflow:Beginning EventMultiplexer.Reload()\n",
      "INFO:tensorflow:Reloading runs serially (one after another) on the main thread.\n",
      "INFO:tensorflow:No path found after C:\\Users\\rruzzo\\Documents\\GitHub\\Deep_Learning_Work\\module_0\\week_3\\logs\\events.out.tfevents.1537935676.DESKTOP-V3AEQVL\n",
      "INFO:tensorflow:Finished with EventMultiplexer.Reload()\n",
      "INFO:tensorflow:TensorBoard done reloading. Load took 0.012 secs\n",
      "INFO:tensorflow:TensorBoard reload process beginning\n",
      "INFO:tensorflow:Starting AddRunsFromDirectory: C:\\Users\\rruzzo\\Documents\\GitHub\\Deep_Learning_Work\\module_0\\week_3\\logs\n",
      "INFO:tensorflow:GetLogdirSubdirectories: Starting to list directories via walking.\n",
      "INFO:tensorflow:Adding run from directory C:\\Users\\rruzzo\\Documents\\GitHub\\Deep_Learning_Work\\module_0\\week_3\\logs\n",
      "INFO:tensorflow:Done with AddRunsFromDirectory: C:\\Users\\rruzzo\\Documents\\GitHub\\Deep_Learning_Work\\module_0\\week_3\\logs\n",
      "INFO:tensorflow:TensorBoard reload process: Reload the whole Multiplexer\n",
      "INFO:tensorflow:Beginning EventMultiplexer.Reload()\n",
      "INFO:tensorflow:Reloading runs serially (one after another) on the main thread.\n",
      "INFO:tensorflow:No path found after C:\\Users\\rruzzo\\Documents\\GitHub\\Deep_Learning_Work\\module_0\\week_3\\logs\\events.out.tfevents.1537935676.DESKTOP-V3AEQVL\n",
      "INFO:tensorflow:Finished with EventMultiplexer.Reload()\n",
      "INFO:tensorflow:TensorBoard done reloading. Load took 0.030 secs\n",
      "INFO:tensorflow:TensorBoard reload process beginning\n",
      "INFO:tensorflow:Starting AddRunsFromDirectory: C:\\Users\\rruzzo\\Documents\\GitHub\\Deep_Learning_Work\\module_0\\week_3\\logs\n",
      "INFO:tensorflow:GetLogdirSubdirectories: Starting to list directories via walking.\n",
      "INFO:tensorflow:Adding run from directory C:\\Users\\rruzzo\\Documents\\GitHub\\Deep_Learning_Work\\module_0\\week_3\\logs\n",
      "INFO:tensorflow:Done with AddRunsFromDirectory: C:\\Users\\rruzzo\\Documents\\GitHub\\Deep_Learning_Work\\module_0\\week_3\\logs\n",
      "INFO:tensorflow:TensorBoard reload process: Reload the whole Multiplexer\n",
      "INFO:tensorflow:Beginning EventMultiplexer.Reload()\n",
      "INFO:tensorflow:Reloading runs serially (one after another) on the main thread.\n",
      "INFO:tensorflow:No path found after C:\\Users\\rruzzo\\Documents\\GitHub\\Deep_Learning_Work\\module_0\\week_3\\logs\\events.out.tfevents.1537935676.DESKTOP-V3AEQVL\n",
      "INFO:tensorflow:Finished with EventMultiplexer.Reload()\n",
      "INFO:tensorflow:TensorBoard done reloading. Load took 0.033 secs\n",
      "INFO:tensorflow:TensorBoard reload process beginning\n",
      "INFO:tensorflow:Starting AddRunsFromDirectory: C:\\Users\\rruzzo\\Documents\\GitHub\\Deep_Learning_Work\\module_0\\week_3\\logs\n",
      "INFO:tensorflow:GetLogdirSubdirectories: Starting to list directories via walking.\n",
      "INFO:tensorflow:Adding run from directory C:\\Users\\rruzzo\\Documents\\GitHub\\Deep_Learning_Work\\module_0\\week_3\\logs\n",
      "INFO:tensorflow:Done with AddRunsFromDirectory: C:\\Users\\rruzzo\\Documents\\GitHub\\Deep_Learning_Work\\module_0\\week_3\\logs\n",
      "INFO:tensorflow:TensorBoard reload process: Reload the whole Multiplexer\n",
      "INFO:tensorflow:Beginning EventMultiplexer.Reload()\n",
      "INFO:tensorflow:Reloading runs serially (one after another) on the main thread.\n",
      "INFO:tensorflow:No path found after C:\\Users\\rruzzo\\Documents\\GitHub\\Deep_Learning_Work\\module_0\\week_3\\logs\\events.out.tfevents.1537935676.DESKTOP-V3AEQVL\n",
      "INFO:tensorflow:Finished with EventMultiplexer.Reload()\n",
      "INFO:tensorflow:TensorBoard done reloading. Load took 0.014 secs\n",
      "INFO:tensorflow:TensorBoard reload process beginning\n",
      "INFO:tensorflow:Starting AddRunsFromDirectory: C:\\Users\\rruzzo\\Documents\\GitHub\\Deep_Learning_Work\\module_0\\week_3\\logs\n",
      "INFO:tensorflow:GetLogdirSubdirectories: Starting to list directories via walking.\n",
      "INFO:tensorflow:Adding run from directory C:\\Users\\rruzzo\\Documents\\GitHub\\Deep_Learning_Work\\module_0\\week_3\\logs\n",
      "INFO:tensorflow:Done with AddRunsFromDirectory: C:\\Users\\rruzzo\\Documents\\GitHub\\Deep_Learning_Work\\module_0\\week_3\\logs\n",
      "INFO:tensorflow:TensorBoard reload process: Reload the whole Multiplexer\n",
      "INFO:tensorflow:Beginning EventMultiplexer.Reload()\n",
      "INFO:tensorflow:Reloading runs serially (one after another) on the main thread.\n",
      "INFO:tensorflow:No path found after C:\\Users\\rruzzo\\Documents\\GitHub\\Deep_Learning_Work\\module_0\\week_3\\logs\\events.out.tfevents.1537935676.DESKTOP-V3AEQVL\n",
      "INFO:tensorflow:Finished with EventMultiplexer.Reload()\n",
      "INFO:tensorflow:TensorBoard done reloading. Load took 0.014 secs\n"
     ]
    },
    {
     "name": "stderr",
     "output_type": "stream",
     "text": [
      "172.20.40.81 - - [26/Sep/2018 00:24:04] \"\u001b[37mGET /data/environment HTTP/1.1\u001b[0m\" 200 -\n"
     ]
    },
    {
     "name": "stdout",
     "output_type": "stream",
     "text": [
      "INFO:tensorflow:Plugin listing: is_active() for core took 0.000 seconds\n",
      "INFO:tensorflow:Plugin listing: is_active() for beholder took 0.000 seconds\n"
     ]
    },
    {
     "name": "stderr",
     "output_type": "stream",
     "text": [
      "172.20.40.81 - - [26/Sep/2018 00:24:04] \"\u001b[37mGET /data/runs HTTP/1.1\u001b[0m\" 200 -\n"
     ]
    },
    {
     "name": "stdout",
     "output_type": "stream",
     "text": [
      "INFO:tensorflow:Plugin listing: is_active() for scalars took 0.000 seconds\n"
     ]
    },
    {
     "name": "stderr",
     "output_type": "stream",
     "text": [
      "172.20.40.81 - - [26/Sep/2018 00:24:04] \"\u001b[37mGET /data/experiments HTTP/1.1\u001b[0m\" 200 -\n"
     ]
    },
    {
     "name": "stdout",
     "output_type": "stream",
     "text": [
      "INFO:tensorflow:Plugin listing: is_active() for custom_scalars took 0.000 seconds\n",
      "INFO:tensorflow:Plugin listing: is_active() for images took 0.000 seconds\n",
      "INFO:tensorflow:Plugin listing: is_active() for audio took 0.001 seconds\n",
      "INFO:tensorflow:Plugin listing: is_active() for graphs took 0.000 seconds\n",
      "INFO:tensorflow:Plugin listing: is_active() for distributions took 0.009 seconds\n",
      "INFO:tensorflow:Plugin listing: is_active() for histograms took 0.007 seconds\n",
      "INFO:tensorflow:Plugin listing: is_active() for pr_curves took 0.000 seconds\n",
      "INFO:tensorflow:Plugin listing: is_active() for projector took 0.000 seconds\n",
      "INFO:tensorflow:TextPlugin computing index_impl() in a new thread\n",
      "INFO:tensorflow:Plugin listing: is_active() for text took 0.003 seconds\n",
      "INFO:tensorflow:TextPlugin index_impl() thread ending after 0.004 sec\n",
      "INFO:tensorflow:Plugin listing: is_active() for profile took 0.000 seconds\n"
     ]
    },
    {
     "name": "stderr",
     "output_type": "stream",
     "text": [
      "172.20.40.81 - - [26/Sep/2018 00:24:04] \"\u001b[37mGET /data/plugins_listing HTTP/1.1\u001b[0m\" 200 -\n",
      "172.20.40.81 - - [26/Sep/2018 00:24:04] \"\u001b[37mGET /data/plugin/scalars/tags HTTP/1.1\u001b[0m\" 200 -\n",
      "172.20.40.81 - - [26/Sep/2018 00:24:04] \"\u001b[37mGET /data/plugin/scalars/scalars?run=.&tag=acc HTTP/1.1\u001b[0m\" 200 -\n",
      "172.20.40.81 - - [26/Sep/2018 00:24:04] \"\u001b[37mGET /data/plugin/scalars/scalars?run=.&tag=loss HTTP/1.1\u001b[0m\" 200 -\n",
      "172.20.40.81 - - [26/Sep/2018 00:24:04] \"\u001b[37mGET /data/plugin/scalars/scalars?run=.&tag=val_loss HTTP/1.1\u001b[0m\" 200 -\n"
     ]
    },
    {
     "name": "stdout",
     "output_type": "stream",
     "text": [
      "INFO:tensorflow:TensorBoard reload process beginning\n",
      "INFO:tensorflow:Starting AddRunsFromDirectory: C:\\Users\\rruzzo\\Documents\\GitHub\\Deep_Learning_Work\\module_0\\week_3\\logs\n",
      "INFO:tensorflow:GetLogdirSubdirectories: Starting to list directories via walking.\n",
      "INFO:tensorflow:Adding run from directory C:\\Users\\rruzzo\\Documents\\GitHub\\Deep_Learning_Work\\module_0\\week_3\\logs\n",
      "INFO:tensorflow:Done with AddRunsFromDirectory: C:\\Users\\rruzzo\\Documents\\GitHub\\Deep_Learning_Work\\module_0\\week_3\\logs\n",
      "INFO:tensorflow:TensorBoard reload process: Reload the whole Multiplexer\n",
      "INFO:tensorflow:Beginning EventMultiplexer.Reload()\n",
      "INFO:tensorflow:Reloading runs serially (one after another) on the main thread.\n",
      "INFO:tensorflow:No path found after C:\\Users\\rruzzo\\Documents\\GitHub\\Deep_Learning_Work\\module_0\\week_3\\logs\\events.out.tfevents.1537935676.DESKTOP-V3AEQVL\n",
      "INFO:tensorflow:Finished with EventMultiplexer.Reload()\n",
      "INFO:tensorflow:TensorBoard done reloading. Load took 0.016 secs\n",
      "INFO:tensorflow:TensorBoard reload process beginning\n",
      "INFO:tensorflow:Starting AddRunsFromDirectory: C:\\Users\\rruzzo\\Documents\\GitHub\\Deep_Learning_Work\\module_0\\week_3\\logs\n",
      "INFO:tensorflow:GetLogdirSubdirectories: Starting to list directories via walking.\n",
      "INFO:tensorflow:Adding run from directory C:\\Users\\rruzzo\\Documents\\GitHub\\Deep_Learning_Work\\module_0\\week_3\\logs\n",
      "INFO:tensorflow:Done with AddRunsFromDirectory: C:\\Users\\rruzzo\\Documents\\GitHub\\Deep_Learning_Work\\module_0\\week_3\\logs\n",
      "INFO:tensorflow:TensorBoard reload process: Reload the whole Multiplexer\n",
      "INFO:tensorflow:Beginning EventMultiplexer.Reload()\n",
      "INFO:tensorflow:Reloading runs serially (one after another) on the main thread.\n",
      "INFO:tensorflow:No path found after C:\\Users\\rruzzo\\Documents\\GitHub\\Deep_Learning_Work\\module_0\\week_3\\logs\\events.out.tfevents.1537935676.DESKTOP-V3AEQVL\n",
      "INFO:tensorflow:Finished with EventMultiplexer.Reload()\n",
      "INFO:tensorflow:TensorBoard done reloading. Load took 0.018 secs\n",
      "INFO:tensorflow:TensorBoard reload process beginning\n",
      "INFO:tensorflow:Starting AddRunsFromDirectory: C:\\Users\\rruzzo\\Documents\\GitHub\\Deep_Learning_Work\\module_0\\week_3\\logs\n",
      "INFO:tensorflow:GetLogdirSubdirectories: Starting to list directories via walking.\n",
      "INFO:tensorflow:Adding run from directory C:\\Users\\rruzzo\\Documents\\GitHub\\Deep_Learning_Work\\module_0\\week_3\\logs\n",
      "INFO:tensorflow:Done with AddRunsFromDirectory: C:\\Users\\rruzzo\\Documents\\GitHub\\Deep_Learning_Work\\module_0\\week_3\\logs\n",
      "INFO:tensorflow:TensorBoard reload process: Reload the whole Multiplexer\n",
      "INFO:tensorflow:Beginning EventMultiplexer.Reload()\n",
      "INFO:tensorflow:Reloading runs serially (one after another) on the main thread.\n",
      "INFO:tensorflow:No path found after C:\\Users\\rruzzo\\Documents\\GitHub\\Deep_Learning_Work\\module_0\\week_3\\logs\\events.out.tfevents.1537935676.DESKTOP-V3AEQVL\n",
      "INFO:tensorflow:Finished with EventMultiplexer.Reload()\n",
      "INFO:tensorflow:TensorBoard done reloading. Load took 0.012 secs\n",
      "INFO:tensorflow:TensorBoard reload process beginning\n",
      "INFO:tensorflow:Starting AddRunsFromDirectory: C:\\Users\\rruzzo\\Documents\\GitHub\\Deep_Learning_Work\\module_0\\week_3\\logs\n",
      "INFO:tensorflow:GetLogdirSubdirectories: Starting to list directories via walking.\n",
      "INFO:tensorflow:Adding run from directory C:\\Users\\rruzzo\\Documents\\GitHub\\Deep_Learning_Work\\module_0\\week_3\\logs\n",
      "INFO:tensorflow:Done with AddRunsFromDirectory: C:\\Users\\rruzzo\\Documents\\GitHub\\Deep_Learning_Work\\module_0\\week_3\\logs\n",
      "INFO:tensorflow:TensorBoard reload process: Reload the whole Multiplexer\n",
      "INFO:tensorflow:Beginning EventMultiplexer.Reload()\n",
      "INFO:tensorflow:Reloading runs serially (one after another) on the main thread.\n",
      "INFO:tensorflow:No path found after C:\\Users\\rruzzo\\Documents\\GitHub\\Deep_Learning_Work\\module_0\\week_3\\logs\\events.out.tfevents.1537935676.DESKTOP-V3AEQVL\n",
      "INFO:tensorflow:Finished with EventMultiplexer.Reload()\n",
      "INFO:tensorflow:TensorBoard done reloading. Load took 0.014 secs\n",
      "INFO:tensorflow:TensorBoard reload process beginning\n",
      "INFO:tensorflow:Starting AddRunsFromDirectory: C:\\Users\\rruzzo\\Documents\\GitHub\\Deep_Learning_Work\\module_0\\week_3\\logs\n",
      "INFO:tensorflow:GetLogdirSubdirectories: Starting to list directories via walking.\n",
      "INFO:tensorflow:Adding run from directory C:\\Users\\rruzzo\\Documents\\GitHub\\Deep_Learning_Work\\module_0\\week_3\\logs\n",
      "INFO:tensorflow:Done with AddRunsFromDirectory: C:\\Users\\rruzzo\\Documents\\GitHub\\Deep_Learning_Work\\module_0\\week_3\\logs\n",
      "INFO:tensorflow:TensorBoard reload process: Reload the whole Multiplexer\n",
      "INFO:tensorflow:Beginning EventMultiplexer.Reload()\n",
      "INFO:tensorflow:Reloading runs serially (one after another) on the main thread.\n",
      "INFO:tensorflow:No path found after C:\\Users\\rruzzo\\Documents\\GitHub\\Deep_Learning_Work\\module_0\\week_3\\logs\\events.out.tfevents.1537935676.DESKTOP-V3AEQVL\n",
      "INFO:tensorflow:Finished with EventMultiplexer.Reload()\n",
      "INFO:tensorflow:TensorBoard done reloading. Load took 0.013 secs\n",
      "INFO:tensorflow:TensorBoard reload process beginning\n",
      "INFO:tensorflow:Starting AddRunsFromDirectory: C:\\Users\\rruzzo\\Documents\\GitHub\\Deep_Learning_Work\\module_0\\week_3\\logs\n",
      "INFO:tensorflow:GetLogdirSubdirectories: Starting to list directories via walking.\n",
      "INFO:tensorflow:Adding run from directory C:\\Users\\rruzzo\\Documents\\GitHub\\Deep_Learning_Work\\module_0\\week_3\\logs\n",
      "INFO:tensorflow:Done with AddRunsFromDirectory: C:\\Users\\rruzzo\\Documents\\GitHub\\Deep_Learning_Work\\module_0\\week_3\\logs\n",
      "INFO:tensorflow:TensorBoard reload process: Reload the whole Multiplexer\n",
      "INFO:tensorflow:Beginning EventMultiplexer.Reload()\n",
      "INFO:tensorflow:Reloading runs serially (one after another) on the main thread.\n",
      "INFO:tensorflow:Directory watcher advancing from C:\\Users\\rruzzo\\Documents\\GitHub\\Deep_Learning_Work\\module_0\\week_3\\logs\\events.out.tfevents.1537935676.DESKTOP-V3AEQVL to C:\\Users\\rruzzo\\Documents\\GitHub\\Deep_Learning_Work\\module_0\\week_3\\logs\\events.out.tfevents.1537935869.DESKTOP-V3AEQVL\n",
      "WARNING:tensorflow:Found more than one graph event per run, or there was a metagraph containing a graph_def, as well as one or more graph events.  Overwriting the graph with the newest event.\n",
      "INFO:tensorflow:No path found after C:\\Users\\rruzzo\\Documents\\GitHub\\Deep_Learning_Work\\module_0\\week_3\\logs\\events.out.tfevents.1537935869.DESKTOP-V3AEQVL\n",
      "INFO:tensorflow:Finished with EventMultiplexer.Reload()\n",
      "INFO:tensorflow:TensorBoard done reloading. Load took 0.038 secs\n"
     ]
    },
    {
     "name": "stderr",
     "output_type": "stream",
     "text": [
      "172.20.40.81 - - [26/Sep/2018 00:24:34] \"\u001b[37mGET /data/environment HTTP/1.1\u001b[0m\" 200 -\n"
     ]
    },
    {
     "name": "stdout",
     "output_type": "stream",
     "text": [
      "INFO:tensorflow:Plugin listing: is_active() for core took 0.000 seconds\n",
      "INFO:tensorflow:Plugin listing: is_active() for beholder took 0.000 seconds\n"
     ]
    },
    {
     "name": "stderr",
     "output_type": "stream",
     "text": [
      "172.20.40.81 - - [26/Sep/2018 00:24:34] \"\u001b[37mGET /data/runs HTTP/1.1\u001b[0m\" 200 -\n"
     ]
    },
    {
     "name": "stdout",
     "output_type": "stream",
     "text": [
      "INFO:tensorflow:Plugin listing: is_active() for scalars took 0.000 seconds\n"
     ]
    },
    {
     "name": "stderr",
     "output_type": "stream",
     "text": [
      "172.20.40.81 - - [26/Sep/2018 00:24:34] \"\u001b[37mGET /data/experiments HTTP/1.1\u001b[0m\" 200 -\n"
     ]
    },
    {
     "name": "stdout",
     "output_type": "stream",
     "text": [
      "INFO:tensorflow:Plugin listing: is_active() for custom_scalars took 0.000 seconds\n",
      "INFO:tensorflow:Plugin listing: is_active() for images took 0.001 seconds\n",
      "INFO:tensorflow:Plugin listing: is_active() for audio took 0.000 seconds\n",
      "INFO:tensorflow:Plugin listing: is_active() for graphs took 0.000 seconds\n",
      "INFO:tensorflow:Plugin listing: is_active() for distributions took 0.007 seconds\n",
      "INFO:tensorflow:Plugin listing: is_active() for histograms took 0.008 seconds\n",
      "INFO:tensorflow:Plugin listing: is_active() for pr_curves took 0.000 seconds\n",
      "INFO:tensorflow:Plugin listing: is_active() for projector took 0.001 seconds\n",
      "INFO:tensorflow:TextPlugin computing index_impl() in a new thread\n",
      "INFO:tensorflow:Plugin listing: is_active() for text took 0.003 seconds\n",
      "INFO:tensorflow:TextPlugin index_impl() thread ending after 0.005 sec\n",
      "INFO:tensorflow:Plugin listing: is_active() for profile took 0.000 seconds\n"
     ]
    },
    {
     "name": "stderr",
     "output_type": "stream",
     "text": [
      "172.20.40.81 - - [26/Sep/2018 00:24:34] \"\u001b[37mGET /data/plugins_listing HTTP/1.1\u001b[0m\" 200 -\n",
      "172.20.40.81 - - [26/Sep/2018 00:24:34] \"\u001b[37mGET /data/plugin/scalars/tags HTTP/1.1\u001b[0m\" 200 -\n",
      "172.20.40.81 - - [26/Sep/2018 00:24:34] \"\u001b[37mGET /data/plugin/scalars/scalars?run=.&tag=acc HTTP/1.1\u001b[0m\" 200 -\n",
      "172.20.40.81 - - [26/Sep/2018 00:24:34] \"\u001b[37mGET /data/plugin/scalars/scalars?run=.&tag=loss HTTP/1.1\u001b[0m\" 200 -\n",
      "172.20.40.81 - - [26/Sep/2018 00:24:34] \"\u001b[37mGET /data/plugin/scalars/scalars?run=.&tag=val_loss HTTP/1.1\u001b[0m\" 200 -\n"
     ]
    },
    {
     "name": "stdout",
     "output_type": "stream",
     "text": [
      "INFO:tensorflow:TensorBoard reload process beginning\n",
      "INFO:tensorflow:Starting AddRunsFromDirectory: C:\\Users\\rruzzo\\Documents\\GitHub\\Deep_Learning_Work\\module_0\\week_3\\logs\n",
      "INFO:tensorflow:GetLogdirSubdirectories: Starting to list directories via walking.\n",
      "INFO:tensorflow:Adding run from directory C:\\Users\\rruzzo\\Documents\\GitHub\\Deep_Learning_Work\\module_0\\week_3\\logs\n",
      "INFO:tensorflow:Done with AddRunsFromDirectory: C:\\Users\\rruzzo\\Documents\\GitHub\\Deep_Learning_Work\\module_0\\week_3\\logs\n",
      "INFO:tensorflow:TensorBoard reload process: Reload the whole Multiplexer\n",
      "INFO:tensorflow:Beginning EventMultiplexer.Reload()\n",
      "INFO:tensorflow:Reloading runs serially (one after another) on the main thread.\n",
      "WARNING:tensorflow:Found more than one metagraph event per run. Overwriting the metagraph with the newest event.\n"
     ]
    },
    {
     "name": "stderr",
     "output_type": "stream",
     "text": [
      "172.20.40.81 - - [26/Sep/2018 00:25:04] \"\u001b[37mGET /data/environment HTTP/1.1\u001b[0m\" 200 -\n"
     ]
    },
    {
     "name": "stdout",
     "output_type": "stream",
     "text": [
      "INFO:tensorflow:Plugin listing: is_active() for core took 0.000 seconds\n"
     ]
    },
    {
     "name": "stderr",
     "output_type": "stream",
     "text": [
      "172.20.40.81 - - [26/Sep/2018 00:25:04] \"\u001b[37mGET /data/runs HTTP/1.1\u001b[0m\" 200 -\n"
     ]
    },
    {
     "name": "stdout",
     "output_type": "stream",
     "text": [
      "INFO:tensorflow:Plugin listing: is_active() for beholder took 0.015 seconds\n",
      "INFO:tensorflow:Plugin listing: is_active() for scalars took 0.000 seconds\n"
     ]
    },
    {
     "name": "stderr",
     "output_type": "stream",
     "text": [
      "172.20.40.81 - - [26/Sep/2018 00:25:04] \"\u001b[37mGET /data/experiments HTTP/1.1\u001b[0m\" 200 -\n"
     ]
    },
    {
     "name": "stdout",
     "output_type": "stream",
     "text": [
      "INFO:tensorflow:Plugin listing: is_active() for custom_scalars took 0.000 seconds\n",
      "INFO:tensorflow:Plugin listing: is_active() for images took 0.000 seconds\n",
      "INFO:tensorflow:Plugin listing: is_active() for audio took 0.000 seconds\n",
      "INFO:tensorflow:Plugin listing: is_active() for graphs took 0.000 seconds\n",
      "INFO:tensorflow:Plugin listing: is_active() for distributions took 0.024 seconds\n",
      "INFO:tensorflow:Plugin listing: is_active() for histograms took 0.006 seconds\n",
      "INFO:tensorflow:Plugin listing: is_active() for pr_curves took 0.000 seconds\n",
      "INFO:tensorflow:Plugin listing: is_active() for projector took 0.020 seconds\n",
      "INFO:tensorflow:TextPlugin computing index_impl() in a new thread\n",
      "INFO:tensorflow:Plugin listing: is_active() for text took 0.010 seconds\n",
      "INFO:tensorflow:TextPlugin index_impl() thread ending after 0.034 sec\n",
      "INFO:tensorflow:Plugin listing: is_active() for profile took 0.012 seconds\n"
     ]
    },
    {
     "name": "stderr",
     "output_type": "stream",
     "text": [
      "172.20.40.81 - - [26/Sep/2018 00:25:04] \"\u001b[37mGET /data/plugins_listing HTTP/1.1\u001b[0m\" 200 -\n",
      "172.20.40.81 - - [26/Sep/2018 00:25:04] \"\u001b[37mGET /data/plugin/scalars/tags HTTP/1.1\u001b[0m\" 200 -\n",
      "172.20.40.81 - - [26/Sep/2018 00:25:04] \"\u001b[37mGET /data/plugin/scalars/scalars?run=.&tag=acc HTTP/1.1\u001b[0m\" 200 -\n",
      "172.20.40.81 - - [26/Sep/2018 00:25:04] \"\u001b[37mGET /data/plugin/scalars/scalars?run=.&tag=loss HTTP/1.1\u001b[0m\" 200 -\n",
      "172.20.40.81 - - [26/Sep/2018 00:25:04] \"\u001b[37mGET /data/plugin/scalars/scalars?run=.&tag=val_loss HTTP/1.1\u001b[0m\" 200 -\n"
     ]
    },
    {
     "name": "stdout",
     "output_type": "stream",
     "text": [
      "INFO:tensorflow:Plugin listing: is_active() for core took 0.000 seconds\n"
     ]
    },
    {
     "name": "stderr",
     "output_type": "stream",
     "text": [
      "172.20.40.81 - - [26/Sep/2018 00:25:34] \"\u001b[37mGET /data/environment HTTP/1.1\u001b[0m\" 200 -\n"
     ]
    },
    {
     "name": "stdout",
     "output_type": "stream",
     "text": [
      "INFO:tensorflow:Plugin listing: is_active() for beholder took 0.008 seconds\n"
     ]
    },
    {
     "name": "stderr",
     "output_type": "stream",
     "text": [
      "172.20.40.81 - - [26/Sep/2018 00:25:34] \"\u001b[37mGET /data/runs HTTP/1.1\u001b[0m\" 200 -\n"
     ]
    },
    {
     "name": "stdout",
     "output_type": "stream",
     "text": [
      "INFO:tensorflow:Plugin listing: is_active() for scalars took 0.000 seconds\n"
     ]
    },
    {
     "name": "stderr",
     "output_type": "stream",
     "text": [
      "172.20.40.81 - - [26/Sep/2018 00:25:34] \"\u001b[37mGET /data/experiments HTTP/1.1\u001b[0m\" 200 -\n"
     ]
    },
    {
     "name": "stdout",
     "output_type": "stream",
     "text": [
      "INFO:tensorflow:Plugin listing: is_active() for custom_scalars took 0.000 seconds\n",
      "INFO:tensorflow:Plugin listing: is_active() for images took 0.000 seconds\n",
      "INFO:tensorflow:Plugin listing: is_active() for audio took 0.000 seconds\n",
      "INFO:tensorflow:Plugin listing: is_active() for graphs took 0.000 seconds\n",
      "INFO:tensorflow:Plugin listing: is_active() for distributions took 0.012 seconds\n",
      "INFO:tensorflow:Plugin listing: is_active() for histograms took 0.006 seconds\n",
      "INFO:tensorflow:Plugin listing: is_active() for pr_curves took 0.000 seconds\n",
      "INFO:tensorflow:Plugin listing: is_active() for projector took 0.006 seconds\n",
      "INFO:tensorflow:TextPlugin computing index_impl() in a new thread\n",
      "INFO:tensorflow:Plugin listing: is_active() for text took 0.016 seconds\n",
      "INFO:tensorflow:TextPlugin index_impl() thread ending after 0.039 sec\n",
      "INFO:tensorflow:Plugin listing: is_active() for profile took 0.011 seconds\n"
     ]
    },
    {
     "name": "stderr",
     "output_type": "stream",
     "text": [
      "172.20.40.81 - - [26/Sep/2018 00:25:34] \"\u001b[37mGET /data/plugins_listing HTTP/1.1\u001b[0m\" 200 -\n",
      "172.20.40.81 - - [26/Sep/2018 00:25:34] \"\u001b[37mGET /data/plugin/scalars/tags HTTP/1.1\u001b[0m\" 200 -\n",
      "172.20.40.81 - - [26/Sep/2018 00:25:34] \"\u001b[37mGET /data/plugin/scalars/scalars?run=.&tag=acc HTTP/1.1\u001b[0m\" 200 -\n",
      "172.20.40.81 - - [26/Sep/2018 00:25:34] \"\u001b[37mGET /data/plugin/scalars/scalars?run=.&tag=loss HTTP/1.1\u001b[0m\" 200 -\n",
      "172.20.40.81 - - [26/Sep/2018 00:25:34] \"\u001b[37mGET /data/plugin/scalars/scalars?run=.&tag=val_loss HTTP/1.1\u001b[0m\" 200 -\n"
     ]
    },
    {
     "name": "stdout",
     "output_type": "stream",
     "text": [
      "INFO:tensorflow:No path found after C:\\Users\\rruzzo\\Documents\\GitHub\\Deep_Learning_Work\\module_0\\week_3\\logs\\events.out.tfevents.1537935869.DESKTOP-V3AEQVL\n",
      "INFO:tensorflow:Finished with EventMultiplexer.Reload()\n",
      "INFO:tensorflow:TensorBoard done reloading. Load took 75.674 secs\n",
      "INFO:tensorflow:TensorBoard reload process beginning\n",
      "INFO:tensorflow:Starting AddRunsFromDirectory: C:\\Users\\rruzzo\\Documents\\GitHub\\Deep_Learning_Work\\module_0\\week_3\\logs\n",
      "INFO:tensorflow:GetLogdirSubdirectories: Starting to list directories via walking.\n",
      "INFO:tensorflow:Adding run from directory C:\\Users\\rruzzo\\Documents\\GitHub\\Deep_Learning_Work\\module_0\\week_3\\logs\n",
      "INFO:tensorflow:Done with AddRunsFromDirectory: C:\\Users\\rruzzo\\Documents\\GitHub\\Deep_Learning_Work\\module_0\\week_3\\logs\n",
      "INFO:tensorflow:TensorBoard reload process: Reload the whole Multiplexer\n",
      "INFO:tensorflow:Beginning EventMultiplexer.Reload()\n",
      "INFO:tensorflow:Reloading runs serially (one after another) on the main thread.\n",
      "INFO:tensorflow:No path found after C:\\Users\\rruzzo\\Documents\\GitHub\\Deep_Learning_Work\\module_0\\week_3\\logs\\events.out.tfevents.1537935869.DESKTOP-V3AEQVL\n",
      "INFO:tensorflow:Finished with EventMultiplexer.Reload()\n",
      "INFO:tensorflow:TensorBoard done reloading. Load took 0.038 secs\n",
      "INFO:tensorflow:TensorBoard reload process beginning\n",
      "INFO:tensorflow:Starting AddRunsFromDirectory: C:\\Users\\rruzzo\\Documents\\GitHub\\Deep_Learning_Work\\module_0\\week_3\\logs\n",
      "INFO:tensorflow:GetLogdirSubdirectories: Starting to list directories via walking.\n",
      "INFO:tensorflow:Adding run from directory C:\\Users\\rruzzo\\Documents\\GitHub\\Deep_Learning_Work\\module_0\\week_3\\logs\n",
      "INFO:tensorflow:Done with AddRunsFromDirectory: C:\\Users\\rruzzo\\Documents\\GitHub\\Deep_Learning_Work\\module_0\\week_3\\logs\n",
      "INFO:tensorflow:TensorBoard reload process: Reload the whole Multiplexer\n",
      "INFO:tensorflow:Beginning EventMultiplexer.Reload()\n",
      "INFO:tensorflow:Reloading runs serially (one after another) on the main thread.\n",
      "INFO:tensorflow:No path found after C:\\Users\\rruzzo\\Documents\\GitHub\\Deep_Learning_Work\\module_0\\week_3\\logs\\events.out.tfevents.1537935869.DESKTOP-V3AEQVL\n",
      "INFO:tensorflow:Finished with EventMultiplexer.Reload()\n",
      "INFO:tensorflow:TensorBoard done reloading. Load took 0.014 secs\n"
     ]
    },
    {
     "name": "stderr",
     "output_type": "stream",
     "text": [
      "172.20.40.81 - - [26/Sep/2018 00:26:04] \"\u001b[37mGET /data/environment HTTP/1.1\u001b[0m\" 200 -\n"
     ]
    },
    {
     "name": "stdout",
     "output_type": "stream",
     "text": [
      "INFO:tensorflow:Plugin listing: is_active() for core took 0.000 seconds\n"
     ]
    },
    {
     "name": "stderr",
     "output_type": "stream",
     "text": [
      "172.20.40.81 - - [26/Sep/2018 00:26:04] \"\u001b[37mGET /data/runs HTTP/1.1\u001b[0m\" 200 -\n"
     ]
    },
    {
     "name": "stdout",
     "output_type": "stream",
     "text": [
      "INFO:tensorflow:Plugin listing: is_active() for beholder took 0.006 seconds\n",
      "INFO:tensorflow:Plugin listing: is_active() for scalars took 0.000 seconds\n"
     ]
    },
    {
     "name": "stderr",
     "output_type": "stream",
     "text": [
      "172.20.40.81 - - [26/Sep/2018 00:26:04] \"\u001b[37mGET /data/experiments HTTP/1.1\u001b[0m\" 200 -\n"
     ]
    },
    {
     "name": "stdout",
     "output_type": "stream",
     "text": [
      "INFO:tensorflow:Plugin listing: is_active() for custom_scalars took 0.000 seconds\n",
      "INFO:tensorflow:Plugin listing: is_active() for images took 0.000 seconds\n",
      "INFO:tensorflow:Plugin listing: is_active() for audio took 0.000 seconds\n",
      "INFO:tensorflow:Plugin listing: is_active() for graphs took 0.000 seconds\n",
      "INFO:tensorflow:Plugin listing: is_active() for distributions took 0.007 seconds\n",
      "INFO:tensorflow:Plugin listing: is_active() for histograms took 0.013 seconds\n",
      "INFO:tensorflow:Plugin listing: is_active() for pr_curves took 0.000 seconds\n",
      "INFO:tensorflow:Plugin listing: is_active() for projector took 0.001 seconds\n",
      "INFO:tensorflow:TextPlugin computing index_impl() in a new thread\n",
      "INFO:tensorflow:Plugin listing: is_active() for text took 0.003 seconds\n",
      "INFO:tensorflow:TextPlugin index_impl() thread ending after 0.004 sec\n",
      "INFO:tensorflow:Plugin listing: is_active() for profile took 0.000 seconds\n"
     ]
    },
    {
     "name": "stderr",
     "output_type": "stream",
     "text": [
      "172.20.40.81 - - [26/Sep/2018 00:26:04] \"\u001b[37mGET /data/plugins_listing HTTP/1.1\u001b[0m\" 200 -\n",
      "172.20.40.81 - - [26/Sep/2018 00:26:04] \"\u001b[37mGET /data/plugin/scalars/tags HTTP/1.1\u001b[0m\" 200 -\n",
      "172.20.40.81 - - [26/Sep/2018 00:26:04] \"\u001b[37mGET /data/plugin/scalars/scalars?run=.&tag=acc HTTP/1.1\u001b[0m\" 200 -\n",
      "172.20.40.81 - - [26/Sep/2018 00:26:04] \"\u001b[37mGET /data/plugin/scalars/scalars?run=.&tag=loss HTTP/1.1\u001b[0m\" 200 -\n",
      "172.20.40.81 - - [26/Sep/2018 00:26:04] \"\u001b[37mGET /data/plugin/scalars/scalars?run=.&tag=val_loss HTTP/1.1\u001b[0m\" 200 -\n"
     ]
    },
    {
     "name": "stdout",
     "output_type": "stream",
     "text": [
      "INFO:tensorflow:TensorBoard reload process beginning\n",
      "INFO:tensorflow:Starting AddRunsFromDirectory: C:\\Users\\rruzzo\\Documents\\GitHub\\Deep_Learning_Work\\module_0\\week_3\\logs\n",
      "INFO:tensorflow:GetLogdirSubdirectories: Starting to list directories via walking.\n",
      "INFO:tensorflow:Adding run from directory C:\\Users\\rruzzo\\Documents\\GitHub\\Deep_Learning_Work\\module_0\\week_3\\logs\n",
      "INFO:tensorflow:Done with AddRunsFromDirectory: C:\\Users\\rruzzo\\Documents\\GitHub\\Deep_Learning_Work\\module_0\\week_3\\logs\n",
      "INFO:tensorflow:TensorBoard reload process: Reload the whole Multiplexer\n",
      "INFO:tensorflow:Beginning EventMultiplexer.Reload()\n",
      "INFO:tensorflow:Reloading runs serially (one after another) on the main thread.\n",
      "INFO:tensorflow:No path found after C:\\Users\\rruzzo\\Documents\\GitHub\\Deep_Learning_Work\\module_0\\week_3\\logs\\events.out.tfevents.1537935869.DESKTOP-V3AEQVL\n",
      "INFO:tensorflow:Finished with EventMultiplexer.Reload()\n",
      "INFO:tensorflow:TensorBoard done reloading. Load took 0.014 secs\n",
      "INFO:tensorflow:TensorBoard reload process beginning\n",
      "INFO:tensorflow:Starting AddRunsFromDirectory: C:\\Users\\rruzzo\\Documents\\GitHub\\Deep_Learning_Work\\module_0\\week_3\\logs\n",
      "INFO:tensorflow:GetLogdirSubdirectories: Starting to list directories via walking.\n",
      "INFO:tensorflow:Adding run from directory C:\\Users\\rruzzo\\Documents\\GitHub\\Deep_Learning_Work\\module_0\\week_3\\logs\n",
      "INFO:tensorflow:Done with AddRunsFromDirectory: C:\\Users\\rruzzo\\Documents\\GitHub\\Deep_Learning_Work\\module_0\\week_3\\logs\n",
      "INFO:tensorflow:TensorBoard reload process: Reload the whole Multiplexer\n",
      "INFO:tensorflow:Beginning EventMultiplexer.Reload()\n",
      "INFO:tensorflow:Reloading runs serially (one after another) on the main thread.\n",
      "INFO:tensorflow:No path found after C:\\Users\\rruzzo\\Documents\\GitHub\\Deep_Learning_Work\\module_0\\week_3\\logs\\events.out.tfevents.1537935869.DESKTOP-V3AEQVL\n",
      "INFO:tensorflow:Finished with EventMultiplexer.Reload()\n",
      "INFO:tensorflow:TensorBoard done reloading. Load took 0.023 secs\n",
      "INFO:tensorflow:TensorBoard reload process beginning\n",
      "INFO:tensorflow:Starting AddRunsFromDirectory: C:\\Users\\rruzzo\\Documents\\GitHub\\Deep_Learning_Work\\module_0\\week_3\\logs\n",
      "INFO:tensorflow:GetLogdirSubdirectories: Starting to list directories via walking.\n",
      "INFO:tensorflow:Adding run from directory C:\\Users\\rruzzo\\Documents\\GitHub\\Deep_Learning_Work\\module_0\\week_3\\logs\n",
      "INFO:tensorflow:Done with AddRunsFromDirectory: C:\\Users\\rruzzo\\Documents\\GitHub\\Deep_Learning_Work\\module_0\\week_3\\logs\n",
      "INFO:tensorflow:TensorBoard reload process: Reload the whole Multiplexer\n",
      "INFO:tensorflow:Beginning EventMultiplexer.Reload()\n",
      "INFO:tensorflow:Reloading runs serially (one after another) on the main thread.\n",
      "INFO:tensorflow:No path found after C:\\Users\\rruzzo\\Documents\\GitHub\\Deep_Learning_Work\\module_0\\week_3\\logs\\events.out.tfevents.1537935869.DESKTOP-V3AEQVL\n",
      "INFO:tensorflow:Finished with EventMultiplexer.Reload()\n",
      "INFO:tensorflow:TensorBoard done reloading. Load took 0.020 secs\n",
      "INFO:tensorflow:TensorBoard reload process beginning\n",
      "INFO:tensorflow:Starting AddRunsFromDirectory: C:\\Users\\rruzzo\\Documents\\GitHub\\Deep_Learning_Work\\module_0\\week_3\\logs\n",
      "INFO:tensorflow:GetLogdirSubdirectories: Starting to list directories via walking.\n",
      "INFO:tensorflow:Adding run from directory C:\\Users\\rruzzo\\Documents\\GitHub\\Deep_Learning_Work\\module_0\\week_3\\logs\n",
      "INFO:tensorflow:Done with AddRunsFromDirectory: C:\\Users\\rruzzo\\Documents\\GitHub\\Deep_Learning_Work\\module_0\\week_3\\logs\n",
      "INFO:tensorflow:TensorBoard reload process: Reload the whole Multiplexer\n",
      "INFO:tensorflow:Beginning EventMultiplexer.Reload()\n",
      "INFO:tensorflow:Reloading runs serially (one after another) on the main thread.\n",
      "INFO:tensorflow:No path found after C:\\Users\\rruzzo\\Documents\\GitHub\\Deep_Learning_Work\\module_0\\week_3\\logs\\events.out.tfevents.1537935869.DESKTOP-V3AEQVL\n",
      "INFO:tensorflow:Finished with EventMultiplexer.Reload()\n",
      "INFO:tensorflow:TensorBoard done reloading. Load took 0.014 secs\n",
      "INFO:tensorflow:TensorBoard reload process beginning\n",
      "INFO:tensorflow:Starting AddRunsFromDirectory: C:\\Users\\rruzzo\\Documents\\GitHub\\Deep_Learning_Work\\module_0\\week_3\\logs\n",
      "INFO:tensorflow:GetLogdirSubdirectories: Starting to list directories via walking.\n",
      "INFO:tensorflow:Adding run from directory C:\\Users\\rruzzo\\Documents\\GitHub\\Deep_Learning_Work\\module_0\\week_3\\logs\n",
      "INFO:tensorflow:Done with AddRunsFromDirectory: C:\\Users\\rruzzo\\Documents\\GitHub\\Deep_Learning_Work\\module_0\\week_3\\logs\n",
      "INFO:tensorflow:TensorBoard reload process: Reload the whole Multiplexer\n",
      "INFO:tensorflow:Beginning EventMultiplexer.Reload()\n",
      "INFO:tensorflow:Reloading runs serially (one after another) on the main thread.\n",
      "INFO:tensorflow:No path found after C:\\Users\\rruzzo\\Documents\\GitHub\\Deep_Learning_Work\\module_0\\week_3\\logs\\events.out.tfevents.1537935869.DESKTOP-V3AEQVL\n",
      "INFO:tensorflow:Finished with EventMultiplexer.Reload()\n",
      "INFO:tensorflow:TensorBoard done reloading. Load took 0.022 secs\n",
      "INFO:tensorflow:TensorBoard reload process beginning\n",
      "INFO:tensorflow:Starting AddRunsFromDirectory: C:\\Users\\rruzzo\\Documents\\GitHub\\Deep_Learning_Work\\module_0\\week_3\\logs\n",
      "INFO:tensorflow:GetLogdirSubdirectories: Starting to list directories via walking.\n",
      "INFO:tensorflow:Adding run from directory C:\\Users\\rruzzo\\Documents\\GitHub\\Deep_Learning_Work\\module_0\\week_3\\logs\n",
      "INFO:tensorflow:Done with AddRunsFromDirectory: C:\\Users\\rruzzo\\Documents\\GitHub\\Deep_Learning_Work\\module_0\\week_3\\logs\n",
      "INFO:tensorflow:TensorBoard reload process: Reload the whole Multiplexer\n",
      "INFO:tensorflow:Beginning EventMultiplexer.Reload()\n",
      "INFO:tensorflow:Reloading runs serially (one after another) on the main thread.\n",
      "INFO:tensorflow:No path found after C:\\Users\\rruzzo\\Documents\\GitHub\\Deep_Learning_Work\\module_0\\week_3\\logs\\events.out.tfevents.1537935869.DESKTOP-V3AEQVL\n",
      "INFO:tensorflow:Finished with EventMultiplexer.Reload()\n",
      "INFO:tensorflow:TensorBoard done reloading. Load took 0.014 secs\n"
     ]
    },
    {
     "name": "stderr",
     "output_type": "stream",
     "text": [
      "172.20.40.81 - - [26/Sep/2018 00:26:34] \"\u001b[37mGET /data/environment HTTP/1.1\u001b[0m\" 200 -\n"
     ]
    },
    {
     "name": "stdout",
     "output_type": "stream",
     "text": [
      "INFO:tensorflow:Plugin listing: is_active() for core took 0.000 seconds\n"
     ]
    },
    {
     "name": "stderr",
     "output_type": "stream",
     "text": [
      "172.20.40.81 - - [26/Sep/2018 00:26:34] \"\u001b[37mGET /data/runs HTTP/1.1\u001b[0m\" 200 -\n"
     ]
    },
    {
     "name": "stdout",
     "output_type": "stream",
     "text": [
      "INFO:tensorflow:Plugin listing: is_active() for beholder took 0.000 seconds\n"
     ]
    },
    {
     "name": "stderr",
     "output_type": "stream",
     "text": [
      "172.20.40.81 - - [26/Sep/2018 00:26:34] \"\u001b[37mGET /data/experiments HTTP/1.1\u001b[0m\" 200 -\n"
     ]
    },
    {
     "name": "stdout",
     "output_type": "stream",
     "text": [
      "INFO:tensorflow:Plugin listing: is_active() for scalars took 0.000 seconds\n",
      "INFO:tensorflow:Plugin listing: is_active() for custom_scalars took 0.000 seconds\n",
      "INFO:tensorflow:Plugin listing: is_active() for images took 0.000 seconds\n",
      "INFO:tensorflow:Plugin listing: is_active() for audio took 0.000 seconds\n",
      "INFO:tensorflow:Plugin listing: is_active() for graphs took 0.000 seconds\n",
      "INFO:tensorflow:Plugin listing: is_active() for distributions took 0.008 seconds\n",
      "INFO:tensorflow:Plugin listing: is_active() for histograms took 0.007 seconds\n",
      "INFO:tensorflow:Plugin listing: is_active() for pr_curves took 0.000 seconds\n",
      "INFO:tensorflow:Plugin listing: is_active() for projector took 0.001 seconds\n",
      "INFO:tensorflow:TextPlugin computing index_impl() in a new thread\n",
      "INFO:tensorflow:Plugin listing: is_active() for text took 0.003 seconds\n",
      "INFO:tensorflow:TextPlugin index_impl() thread ending after 0.003 sec\n",
      "INFO:tensorflow:Plugin listing: is_active() for profile took 0.001 seconds\n"
     ]
    },
    {
     "name": "stderr",
     "output_type": "stream",
     "text": [
      "172.20.40.81 - - [26/Sep/2018 00:26:34] \"\u001b[37mGET /data/plugins_listing HTTP/1.1\u001b[0m\" 200 -\n",
      "172.20.40.81 - - [26/Sep/2018 00:26:34] \"\u001b[37mGET /data/plugin/scalars/tags HTTP/1.1\u001b[0m\" 200 -\n",
      "172.20.40.81 - - [26/Sep/2018 00:26:34] \"\u001b[37mGET /data/plugin/scalars/scalars?run=.&tag=acc HTTP/1.1\u001b[0m\" 200 -\n",
      "172.20.40.81 - - [26/Sep/2018 00:26:34] \"\u001b[37mGET /data/plugin/scalars/scalars?run=.&tag=loss HTTP/1.1\u001b[0m\" 200 -\n",
      "172.20.40.81 - - [26/Sep/2018 00:26:34] \"\u001b[37mGET /data/plugin/scalars/scalars?run=.&tag=val_loss HTTP/1.1\u001b[0m\" 200 -\n"
     ]
    },
    {
     "name": "stdout",
     "output_type": "stream",
     "text": [
      "INFO:tensorflow:TensorBoard reload process beginning\n",
      "INFO:tensorflow:Starting AddRunsFromDirectory: C:\\Users\\rruzzo\\Documents\\GitHub\\Deep_Learning_Work\\module_0\\week_3\\logs\n",
      "INFO:tensorflow:GetLogdirSubdirectories: Starting to list directories via walking.\n",
      "INFO:tensorflow:Adding run from directory C:\\Users\\rruzzo\\Documents\\GitHub\\Deep_Learning_Work\\module_0\\week_3\\logs\n",
      "INFO:tensorflow:Done with AddRunsFromDirectory: C:\\Users\\rruzzo\\Documents\\GitHub\\Deep_Learning_Work\\module_0\\week_3\\logs\n",
      "INFO:tensorflow:TensorBoard reload process: Reload the whole Multiplexer\n",
      "INFO:tensorflow:Beginning EventMultiplexer.Reload()\n",
      "INFO:tensorflow:Reloading runs serially (one after another) on the main thread.\n",
      "INFO:tensorflow:No path found after C:\\Users\\rruzzo\\Documents\\GitHub\\Deep_Learning_Work\\module_0\\week_3\\logs\\events.out.tfevents.1537935869.DESKTOP-V3AEQVL\n",
      "INFO:tensorflow:Finished with EventMultiplexer.Reload()\n",
      "INFO:tensorflow:TensorBoard done reloading. Load took 0.025 secs\n",
      "INFO:tensorflow:TensorBoard reload process beginning\n",
      "INFO:tensorflow:Starting AddRunsFromDirectory: C:\\Users\\rruzzo\\Documents\\GitHub\\Deep_Learning_Work\\module_0\\week_3\\logs\n",
      "INFO:tensorflow:GetLogdirSubdirectories: Starting to list directories via walking.\n",
      "INFO:tensorflow:Adding run from directory C:\\Users\\rruzzo\\Documents\\GitHub\\Deep_Learning_Work\\module_0\\week_3\\logs\n",
      "INFO:tensorflow:Done with AddRunsFromDirectory: C:\\Users\\rruzzo\\Documents\\GitHub\\Deep_Learning_Work\\module_0\\week_3\\logs\n",
      "INFO:tensorflow:TensorBoard reload process: Reload the whole Multiplexer\n",
      "INFO:tensorflow:Beginning EventMultiplexer.Reload()\n",
      "INFO:tensorflow:Reloading runs serially (one after another) on the main thread.\n",
      "INFO:tensorflow:No path found after C:\\Users\\rruzzo\\Documents\\GitHub\\Deep_Learning_Work\\module_0\\week_3\\logs\\events.out.tfevents.1537935869.DESKTOP-V3AEQVL\n",
      "INFO:tensorflow:Finished with EventMultiplexer.Reload()\n",
      "INFO:tensorflow:TensorBoard done reloading. Load took 0.022 secs\n",
      "INFO:tensorflow:TensorBoard reload process beginning\n",
      "INFO:tensorflow:Starting AddRunsFromDirectory: C:\\Users\\rruzzo\\Documents\\GitHub\\Deep_Learning_Work\\module_0\\week_3\\logs\n",
      "INFO:tensorflow:GetLogdirSubdirectories: Starting to list directories via walking.\n",
      "INFO:tensorflow:Adding run from directory C:\\Users\\rruzzo\\Documents\\GitHub\\Deep_Learning_Work\\module_0\\week_3\\logs\n",
      "INFO:tensorflow:Done with AddRunsFromDirectory: C:\\Users\\rruzzo\\Documents\\GitHub\\Deep_Learning_Work\\module_0\\week_3\\logs\n",
      "INFO:tensorflow:TensorBoard reload process: Reload the whole Multiplexer\n",
      "INFO:tensorflow:Beginning EventMultiplexer.Reload()\n",
      "INFO:tensorflow:Reloading runs serially (one after another) on the main thread.\n",
      "INFO:tensorflow:No path found after C:\\Users\\rruzzo\\Documents\\GitHub\\Deep_Learning_Work\\module_0\\week_3\\logs\\events.out.tfevents.1537935869.DESKTOP-V3AEQVL\n",
      "INFO:tensorflow:Finished with EventMultiplexer.Reload()\n",
      "INFO:tensorflow:TensorBoard done reloading. Load took 0.014 secs\n",
      "INFO:tensorflow:TensorBoard reload process beginning\n",
      "INFO:tensorflow:Starting AddRunsFromDirectory: C:\\Users\\rruzzo\\Documents\\GitHub\\Deep_Learning_Work\\module_0\\week_3\\logs\n",
      "INFO:tensorflow:GetLogdirSubdirectories: Starting to list directories via walking.\n",
      "INFO:tensorflow:Adding run from directory C:\\Users\\rruzzo\\Documents\\GitHub\\Deep_Learning_Work\\module_0\\week_3\\logs\n",
      "INFO:tensorflow:Done with AddRunsFromDirectory: C:\\Users\\rruzzo\\Documents\\GitHub\\Deep_Learning_Work\\module_0\\week_3\\logs\n",
      "INFO:tensorflow:TensorBoard reload process: Reload the whole Multiplexer\n",
      "INFO:tensorflow:Beginning EventMultiplexer.Reload()\n",
      "INFO:tensorflow:Reloading runs serially (one after another) on the main thread.\n",
      "INFO:tensorflow:No path found after C:\\Users\\rruzzo\\Documents\\GitHub\\Deep_Learning_Work\\module_0\\week_3\\logs\\events.out.tfevents.1537935869.DESKTOP-V3AEQVL\n",
      "INFO:tensorflow:Finished with EventMultiplexer.Reload()\n",
      "INFO:tensorflow:TensorBoard done reloading. Load took 0.014 secs\n",
      "INFO:tensorflow:TensorBoard reload process beginning\n",
      "INFO:tensorflow:Starting AddRunsFromDirectory: C:\\Users\\rruzzo\\Documents\\GitHub\\Deep_Learning_Work\\module_0\\week_3\\logs\n",
      "INFO:tensorflow:GetLogdirSubdirectories: Starting to list directories via walking.\n",
      "INFO:tensorflow:Adding run from directory C:\\Users\\rruzzo\\Documents\\GitHub\\Deep_Learning_Work\\module_0\\week_3\\logs\n",
      "INFO:tensorflow:Done with AddRunsFromDirectory: C:\\Users\\rruzzo\\Documents\\GitHub\\Deep_Learning_Work\\module_0\\week_3\\logs\n",
      "INFO:tensorflow:TensorBoard reload process: Reload the whole Multiplexer\n",
      "INFO:tensorflow:Beginning EventMultiplexer.Reload()\n",
      "INFO:tensorflow:Reloading runs serially (one after another) on the main thread.\n",
      "INFO:tensorflow:No path found after C:\\Users\\rruzzo\\Documents\\GitHub\\Deep_Learning_Work\\module_0\\week_3\\logs\\events.out.tfevents.1537935869.DESKTOP-V3AEQVL\n",
      "INFO:tensorflow:Finished with EventMultiplexer.Reload()\n",
      "INFO:tensorflow:TensorBoard done reloading. Load took 0.013 secs\n",
      "INFO:tensorflow:TensorBoard reload process beginning\n",
      "INFO:tensorflow:Starting AddRunsFromDirectory: C:\\Users\\rruzzo\\Documents\\GitHub\\Deep_Learning_Work\\module_0\\week_3\\logs\n",
      "INFO:tensorflow:GetLogdirSubdirectories: Starting to list directories via walking.\n",
      "INFO:tensorflow:Adding run from directory C:\\Users\\rruzzo\\Documents\\GitHub\\Deep_Learning_Work\\module_0\\week_3\\logs\n",
      "INFO:tensorflow:Done with AddRunsFromDirectory: C:\\Users\\rruzzo\\Documents\\GitHub\\Deep_Learning_Work\\module_0\\week_3\\logs\n",
      "INFO:tensorflow:TensorBoard reload process: Reload the whole Multiplexer\n",
      "INFO:tensorflow:Beginning EventMultiplexer.Reload()\n",
      "INFO:tensorflow:Reloading runs serially (one after another) on the main thread.\n",
      "INFO:tensorflow:No path found after C:\\Users\\rruzzo\\Documents\\GitHub\\Deep_Learning_Work\\module_0\\week_3\\logs\\events.out.tfevents.1537935869.DESKTOP-V3AEQVL\n",
      "INFO:tensorflow:Finished with EventMultiplexer.Reload()\n",
      "INFO:tensorflow:TensorBoard done reloading. Load took 0.014 secs\n"
     ]
    },
    {
     "name": "stderr",
     "output_type": "stream",
     "text": [
      "172.20.40.81 - - [26/Sep/2018 00:27:04] \"\u001b[37mGET /data/environment HTTP/1.1\u001b[0m\" 200 -\n"
     ]
    },
    {
     "name": "stdout",
     "output_type": "stream",
     "text": [
      "INFO:tensorflow:Plugin listing: is_active() for core took 0.000 seconds\n",
      "INFO:tensorflow:Plugin listing: is_active() for beholder took 0.000 seconds\n"
     ]
    },
    {
     "name": "stderr",
     "output_type": "stream",
     "text": [
      "172.20.40.81 - - [26/Sep/2018 00:27:04] \"\u001b[37mGET /data/runs HTTP/1.1\u001b[0m\" 200 -\n"
     ]
    },
    {
     "name": "stdout",
     "output_type": "stream",
     "text": [
      "INFO:tensorflow:Plugin listing: is_active() for scalars took 0.000 seconds\n"
     ]
    },
    {
     "name": "stderr",
     "output_type": "stream",
     "text": [
      "172.20.40.81 - - [26/Sep/2018 00:27:04] \"\u001b[37mGET /data/experiments HTTP/1.1\u001b[0m\" 200 -\n"
     ]
    },
    {
     "name": "stdout",
     "output_type": "stream",
     "text": [
      "INFO:tensorflow:Plugin listing: is_active() for custom_scalars took 0.000 seconds\n",
      "INFO:tensorflow:Plugin listing: is_active() for images took 0.000 seconds\n",
      "INFO:tensorflow:Plugin listing: is_active() for audio took 0.000 seconds\n",
      "INFO:tensorflow:Plugin listing: is_active() for graphs took 0.000 seconds\n",
      "INFO:tensorflow:Plugin listing: is_active() for distributions took 0.010 seconds\n",
      "INFO:tensorflow:Plugin listing: is_active() for histograms took 0.006 seconds\n",
      "INFO:tensorflow:Plugin listing: is_active() for pr_curves took 0.000 seconds\n",
      "INFO:tensorflow:Plugin listing: is_active() for projector took 0.000 seconds\n",
      "INFO:tensorflow:TextPlugin computing index_impl() in a new thread\n",
      "INFO:tensorflow:Plugin listing: is_active() for text took 0.003 seconds\n",
      "INFO:tensorflow:TextPlugin index_impl() thread ending after 0.003 sec\n",
      "INFO:tensorflow:Plugin listing: is_active() for profile took 0.000 seconds\n"
     ]
    },
    {
     "name": "stderr",
     "output_type": "stream",
     "text": [
      "172.20.40.81 - - [26/Sep/2018 00:27:04] \"\u001b[37mGET /data/plugins_listing HTTP/1.1\u001b[0m\" 200 -\n",
      "172.20.40.81 - - [26/Sep/2018 00:27:04] \"\u001b[37mGET /data/plugin/scalars/tags HTTP/1.1\u001b[0m\" 200 -\n",
      "172.20.40.81 - - [26/Sep/2018 00:27:04] \"\u001b[37mGET /data/plugin/scalars/scalars?run=.&tag=acc HTTP/1.1\u001b[0m\" 200 -\n",
      "172.20.40.81 - - [26/Sep/2018 00:27:04] \"\u001b[37mGET /data/plugin/scalars/scalars?run=.&tag=loss HTTP/1.1\u001b[0m\" 200 -\n",
      "172.20.40.81 - - [26/Sep/2018 00:27:04] \"\u001b[37mGET /data/plugin/scalars/scalars?run=.&tag=val_loss HTTP/1.1\u001b[0m\" 200 -\n"
     ]
    },
    {
     "name": "stdout",
     "output_type": "stream",
     "text": [
      "INFO:tensorflow:TensorBoard reload process beginning\n",
      "INFO:tensorflow:Starting AddRunsFromDirectory: C:\\Users\\rruzzo\\Documents\\GitHub\\Deep_Learning_Work\\module_0\\week_3\\logs\n",
      "INFO:tensorflow:GetLogdirSubdirectories: Starting to list directories via walking.\n",
      "INFO:tensorflow:Adding run from directory C:\\Users\\rruzzo\\Documents\\GitHub\\Deep_Learning_Work\\module_0\\week_3\\logs\n",
      "INFO:tensorflow:Done with AddRunsFromDirectory: C:\\Users\\rruzzo\\Documents\\GitHub\\Deep_Learning_Work\\module_0\\week_3\\logs\n",
      "INFO:tensorflow:TensorBoard reload process: Reload the whole Multiplexer\n",
      "INFO:tensorflow:Beginning EventMultiplexer.Reload()\n",
      "INFO:tensorflow:Reloading runs serially (one after another) on the main thread.\n",
      "INFO:tensorflow:No path found after C:\\Users\\rruzzo\\Documents\\GitHub\\Deep_Learning_Work\\module_0\\week_3\\logs\\events.out.tfevents.1537935869.DESKTOP-V3AEQVL\n",
      "INFO:tensorflow:Finished with EventMultiplexer.Reload()\n",
      "INFO:tensorflow:TensorBoard done reloading. Load took 0.026 secs\n",
      "INFO:tensorflow:TensorBoard reload process beginning\n",
      "INFO:tensorflow:Starting AddRunsFromDirectory: C:\\Users\\rruzzo\\Documents\\GitHub\\Deep_Learning_Work\\module_0\\week_3\\logs\n",
      "INFO:tensorflow:GetLogdirSubdirectories: Starting to list directories via walking.\n",
      "INFO:tensorflow:Adding run from directory C:\\Users\\rruzzo\\Documents\\GitHub\\Deep_Learning_Work\\module_0\\week_3\\logs\n",
      "INFO:tensorflow:Done with AddRunsFromDirectory: C:\\Users\\rruzzo\\Documents\\GitHub\\Deep_Learning_Work\\module_0\\week_3\\logs\n",
      "INFO:tensorflow:TensorBoard reload process: Reload the whole Multiplexer\n",
      "INFO:tensorflow:Beginning EventMultiplexer.Reload()\n",
      "INFO:tensorflow:Reloading runs serially (one after another) on the main thread.\n",
      "INFO:tensorflow:No path found after C:\\Users\\rruzzo\\Documents\\GitHub\\Deep_Learning_Work\\module_0\\week_3\\logs\\events.out.tfevents.1537935869.DESKTOP-V3AEQVL\n",
      "INFO:tensorflow:Finished with EventMultiplexer.Reload()\n",
      "INFO:tensorflow:TensorBoard done reloading. Load took 0.013 secs\n",
      "INFO:tensorflow:TensorBoard reload process beginning\n",
      "INFO:tensorflow:Starting AddRunsFromDirectory: C:\\Users\\rruzzo\\Documents\\GitHub\\Deep_Learning_Work\\module_0\\week_3\\logs\n",
      "INFO:tensorflow:GetLogdirSubdirectories: Starting to list directories via walking.\n",
      "INFO:tensorflow:Adding run from directory C:\\Users\\rruzzo\\Documents\\GitHub\\Deep_Learning_Work\\module_0\\week_3\\logs\n",
      "INFO:tensorflow:Done with AddRunsFromDirectory: C:\\Users\\rruzzo\\Documents\\GitHub\\Deep_Learning_Work\\module_0\\week_3\\logs\n",
      "INFO:tensorflow:TensorBoard reload process: Reload the whole Multiplexer\n",
      "INFO:tensorflow:Beginning EventMultiplexer.Reload()\n",
      "INFO:tensorflow:Reloading runs serially (one after another) on the main thread.\n",
      "INFO:tensorflow:No path found after C:\\Users\\rruzzo\\Documents\\GitHub\\Deep_Learning_Work\\module_0\\week_3\\logs\\events.out.tfevents.1537935869.DESKTOP-V3AEQVL\n",
      "INFO:tensorflow:Finished with EventMultiplexer.Reload()\n",
      "INFO:tensorflow:TensorBoard done reloading. Load took 0.033 secs\n",
      "INFO:tensorflow:TensorBoard reload process beginning\n",
      "INFO:tensorflow:Starting AddRunsFromDirectory: C:\\Users\\rruzzo\\Documents\\GitHub\\Deep_Learning_Work\\module_0\\week_3\\logs\n",
      "INFO:tensorflow:GetLogdirSubdirectories: Starting to list directories via walking.\n",
      "INFO:tensorflow:Adding run from directory C:\\Users\\rruzzo\\Documents\\GitHub\\Deep_Learning_Work\\module_0\\week_3\\logs\n",
      "INFO:tensorflow:Done with AddRunsFromDirectory: C:\\Users\\rruzzo\\Documents\\GitHub\\Deep_Learning_Work\\module_0\\week_3\\logs\n",
      "INFO:tensorflow:TensorBoard reload process: Reload the whole Multiplexer\n",
      "INFO:tensorflow:Beginning EventMultiplexer.Reload()\n",
      "INFO:tensorflow:Reloading runs serially (one after another) on the main thread.\n",
      "INFO:tensorflow:No path found after C:\\Users\\rruzzo\\Documents\\GitHub\\Deep_Learning_Work\\module_0\\week_3\\logs\\events.out.tfevents.1537935869.DESKTOP-V3AEQVL\n",
      "INFO:tensorflow:Finished with EventMultiplexer.Reload()\n",
      "INFO:tensorflow:TensorBoard done reloading. Load took 0.014 secs\n",
      "INFO:tensorflow:TensorBoard reload process beginning\n",
      "INFO:tensorflow:Starting AddRunsFromDirectory: C:\\Users\\rruzzo\\Documents\\GitHub\\Deep_Learning_Work\\module_0\\week_3\\logs\n",
      "INFO:tensorflow:GetLogdirSubdirectories: Starting to list directories via walking.\n",
      "INFO:tensorflow:Adding run from directory C:\\Users\\rruzzo\\Documents\\GitHub\\Deep_Learning_Work\\module_0\\week_3\\logs\n",
      "INFO:tensorflow:Done with AddRunsFromDirectory: C:\\Users\\rruzzo\\Documents\\GitHub\\Deep_Learning_Work\\module_0\\week_3\\logs\n",
      "INFO:tensorflow:TensorBoard reload process: Reload the whole Multiplexer\n",
      "INFO:tensorflow:Beginning EventMultiplexer.Reload()\n",
      "INFO:tensorflow:Reloading runs serially (one after another) on the main thread.\n",
      "INFO:tensorflow:No path found after C:\\Users\\rruzzo\\Documents\\GitHub\\Deep_Learning_Work\\module_0\\week_3\\logs\\events.out.tfevents.1537935869.DESKTOP-V3AEQVL\n",
      "INFO:tensorflow:Finished with EventMultiplexer.Reload()\n",
      "INFO:tensorflow:TensorBoard done reloading. Load took 0.014 secs\n",
      "INFO:tensorflow:TensorBoard reload process beginning\n",
      "INFO:tensorflow:Starting AddRunsFromDirectory: C:\\Users\\rruzzo\\Documents\\GitHub\\Deep_Learning_Work\\module_0\\week_3\\logs\n",
      "INFO:tensorflow:GetLogdirSubdirectories: Starting to list directories via walking.\n",
      "INFO:tensorflow:Adding run from directory C:\\Users\\rruzzo\\Documents\\GitHub\\Deep_Learning_Work\\module_0\\week_3\\logs\n",
      "INFO:tensorflow:Done with AddRunsFromDirectory: C:\\Users\\rruzzo\\Documents\\GitHub\\Deep_Learning_Work\\module_0\\week_3\\logs\n",
      "INFO:tensorflow:TensorBoard reload process: Reload the whole Multiplexer\n",
      "INFO:tensorflow:Beginning EventMultiplexer.Reload()\n",
      "INFO:tensorflow:Reloading runs serially (one after another) on the main thread.\n",
      "INFO:tensorflow:No path found after C:\\Users\\rruzzo\\Documents\\GitHub\\Deep_Learning_Work\\module_0\\week_3\\logs\\events.out.tfevents.1537935869.DESKTOP-V3AEQVL\n",
      "INFO:tensorflow:Finished with EventMultiplexer.Reload()\n",
      "INFO:tensorflow:TensorBoard done reloading. Load took 0.015 secs\n"
     ]
    },
    {
     "name": "stderr",
     "output_type": "stream",
     "text": [
      "172.20.40.81 - - [26/Sep/2018 00:27:34] \"\u001b[37mGET /data/environment HTTP/1.1\u001b[0m\" 200 -\n"
     ]
    },
    {
     "name": "stdout",
     "output_type": "stream",
     "text": [
      "INFO:tensorflow:Plugin listing: is_active() for core took 0.000 seconds\n",
      "INFO:tensorflow:Plugin listing: is_active() for beholder took 0.001 seconds\n"
     ]
    },
    {
     "name": "stderr",
     "output_type": "stream",
     "text": [
      "172.20.40.81 - - [26/Sep/2018 00:27:34] \"\u001b[37mGET /data/experiments HTTP/1.1\u001b[0m\" 200 -\n",
      "172.20.40.81 - - [26/Sep/2018 00:27:34] \"\u001b[37mGET /data/runs HTTP/1.1\u001b[0m\" 200 -\n"
     ]
    },
    {
     "name": "stdout",
     "output_type": "stream",
     "text": [
      "INFO:tensorflow:Plugin listing: is_active() for scalars took 0.000 seconds\n",
      "INFO:tensorflow:Plugin listing: is_active() for custom_scalars took 0.000 seconds\n",
      "INFO:tensorflow:Plugin listing: is_active() for images took 0.000 seconds\n",
      "INFO:tensorflow:Plugin listing: is_active() for audio took 0.000 seconds\n",
      "INFO:tensorflow:Plugin listing: is_active() for graphs took 0.000 seconds\n",
      "INFO:tensorflow:Plugin listing: is_active() for distributions took 0.009 seconds\n",
      "INFO:tensorflow:Plugin listing: is_active() for histograms took 0.006 seconds\n",
      "INFO:tensorflow:Plugin listing: is_active() for pr_curves took 0.000 seconds\n",
      "INFO:tensorflow:Plugin listing: is_active() for projector took 0.000 seconds\n",
      "INFO:tensorflow:TextPlugin computing index_impl() in a new thread\n",
      "INFO:tensorflow:Plugin listing: is_active() for text took 0.003 seconds\n",
      "INFO:tensorflow:TextPlugin index_impl() thread ending after 0.003 sec\n",
      "INFO:tensorflow:Plugin listing: is_active() for profile took 0.001 seconds\n"
     ]
    },
    {
     "name": "stderr",
     "output_type": "stream",
     "text": [
      "172.20.40.81 - - [26/Sep/2018 00:27:34] \"\u001b[37mGET /data/plugins_listing HTTP/1.1\u001b[0m\" 200 -\n",
      "172.20.40.81 - - [26/Sep/2018 00:27:34] \"\u001b[37mGET /data/plugin/scalars/tags HTTP/1.1\u001b[0m\" 200 -\n",
      "172.20.40.81 - - [26/Sep/2018 00:27:34] \"\u001b[37mGET /data/plugin/scalars/scalars?run=.&tag=acc HTTP/1.1\u001b[0m\" 200 -\n",
      "172.20.40.81 - - [26/Sep/2018 00:27:34] \"\u001b[37mGET /data/plugin/scalars/scalars?run=.&tag=loss HTTP/1.1\u001b[0m\" 200 -\n",
      "172.20.40.81 - - [26/Sep/2018 00:27:34] \"\u001b[37mGET /data/plugin/scalars/scalars?run=.&tag=val_loss HTTP/1.1\u001b[0m\" 200 -\n"
     ]
    },
    {
     "name": "stdout",
     "output_type": "stream",
     "text": [
      "INFO:tensorflow:TensorBoard reload process beginning\n",
      "INFO:tensorflow:Starting AddRunsFromDirectory: C:\\Users\\rruzzo\\Documents\\GitHub\\Deep_Learning_Work\\module_0\\week_3\\logs\n",
      "INFO:tensorflow:GetLogdirSubdirectories: Starting to list directories via walking.\n",
      "INFO:tensorflow:Adding run from directory C:\\Users\\rruzzo\\Documents\\GitHub\\Deep_Learning_Work\\module_0\\week_3\\logs\n",
      "INFO:tensorflow:Done with AddRunsFromDirectory: C:\\Users\\rruzzo\\Documents\\GitHub\\Deep_Learning_Work\\module_0\\week_3\\logs\n",
      "INFO:tensorflow:TensorBoard reload process: Reload the whole Multiplexer\n",
      "INFO:tensorflow:Beginning EventMultiplexer.Reload()\n",
      "INFO:tensorflow:Reloading runs serially (one after another) on the main thread.\n",
      "INFO:tensorflow:No path found after C:\\Users\\rruzzo\\Documents\\GitHub\\Deep_Learning_Work\\module_0\\week_3\\logs\\events.out.tfevents.1537935869.DESKTOP-V3AEQVL\n",
      "INFO:tensorflow:Finished with EventMultiplexer.Reload()\n",
      "INFO:tensorflow:TensorBoard done reloading. Load took 0.039 secs\n",
      "INFO:tensorflow:TensorBoard reload process beginning\n",
      "INFO:tensorflow:Starting AddRunsFromDirectory: C:\\Users\\rruzzo\\Documents\\GitHub\\Deep_Learning_Work\\module_0\\week_3\\logs\n",
      "INFO:tensorflow:GetLogdirSubdirectories: Starting to list directories via walking.\n",
      "INFO:tensorflow:Adding run from directory C:\\Users\\rruzzo\\Documents\\GitHub\\Deep_Learning_Work\\module_0\\week_3\\logs\n",
      "INFO:tensorflow:Done with AddRunsFromDirectory: C:\\Users\\rruzzo\\Documents\\GitHub\\Deep_Learning_Work\\module_0\\week_3\\logs\n",
      "INFO:tensorflow:TensorBoard reload process: Reload the whole Multiplexer\n",
      "INFO:tensorflow:Beginning EventMultiplexer.Reload()\n",
      "INFO:tensorflow:Reloading runs serially (one after another) on the main thread.\n",
      "INFO:tensorflow:No path found after C:\\Users\\rruzzo\\Documents\\GitHub\\Deep_Learning_Work\\module_0\\week_3\\logs\\events.out.tfevents.1537935869.DESKTOP-V3AEQVL\n",
      "INFO:tensorflow:Finished with EventMultiplexer.Reload()\n",
      "INFO:tensorflow:TensorBoard done reloading. Load took 0.013 secs\n",
      "INFO:tensorflow:TensorBoard reload process beginning\n",
      "INFO:tensorflow:Starting AddRunsFromDirectory: C:\\Users\\rruzzo\\Documents\\GitHub\\Deep_Learning_Work\\module_0\\week_3\\logs\n",
      "INFO:tensorflow:GetLogdirSubdirectories: Starting to list directories via walking.\n",
      "INFO:tensorflow:Adding run from directory C:\\Users\\rruzzo\\Documents\\GitHub\\Deep_Learning_Work\\module_0\\week_3\\logs\n",
      "INFO:tensorflow:Done with AddRunsFromDirectory: C:\\Users\\rruzzo\\Documents\\GitHub\\Deep_Learning_Work\\module_0\\week_3\\logs\n",
      "INFO:tensorflow:TensorBoard reload process: Reload the whole Multiplexer\n",
      "INFO:tensorflow:Beginning EventMultiplexer.Reload()\n",
      "INFO:tensorflow:Reloading runs serially (one after another) on the main thread.\n",
      "INFO:tensorflow:No path found after C:\\Users\\rruzzo\\Documents\\GitHub\\Deep_Learning_Work\\module_0\\week_3\\logs\\events.out.tfevents.1537935869.DESKTOP-V3AEQVL\n",
      "INFO:tensorflow:Finished with EventMultiplexer.Reload()\n",
      "INFO:tensorflow:TensorBoard done reloading. Load took 0.013 secs\n",
      "INFO:tensorflow:TensorBoard reload process beginning\n",
      "INFO:tensorflow:Starting AddRunsFromDirectory: C:\\Users\\rruzzo\\Documents\\GitHub\\Deep_Learning_Work\\module_0\\week_3\\logs\n",
      "INFO:tensorflow:GetLogdirSubdirectories: Starting to list directories via walking.\n",
      "INFO:tensorflow:Adding run from directory C:\\Users\\rruzzo\\Documents\\GitHub\\Deep_Learning_Work\\module_0\\week_3\\logs\n",
      "INFO:tensorflow:Done with AddRunsFromDirectory: C:\\Users\\rruzzo\\Documents\\GitHub\\Deep_Learning_Work\\module_0\\week_3\\logs\n",
      "INFO:tensorflow:TensorBoard reload process: Reload the whole Multiplexer\n",
      "INFO:tensorflow:Beginning EventMultiplexer.Reload()\n",
      "INFO:tensorflow:Reloading runs serially (one after another) on the main thread.\n",
      "INFO:tensorflow:No path found after C:\\Users\\rruzzo\\Documents\\GitHub\\Deep_Learning_Work\\module_0\\week_3\\logs\\events.out.tfevents.1537935869.DESKTOP-V3AEQVL\n",
      "INFO:tensorflow:Finished with EventMultiplexer.Reload()\n",
      "INFO:tensorflow:TensorBoard done reloading. Load took 0.037 secs\n",
      "INFO:tensorflow:TensorBoard reload process beginning\n",
      "INFO:tensorflow:Starting AddRunsFromDirectory: C:\\Users\\rruzzo\\Documents\\GitHub\\Deep_Learning_Work\\module_0\\week_3\\logs\n",
      "INFO:tensorflow:GetLogdirSubdirectories: Starting to list directories via walking.\n",
      "INFO:tensorflow:Adding run from directory C:\\Users\\rruzzo\\Documents\\GitHub\\Deep_Learning_Work\\module_0\\week_3\\logs\n",
      "INFO:tensorflow:Done with AddRunsFromDirectory: C:\\Users\\rruzzo\\Documents\\GitHub\\Deep_Learning_Work\\module_0\\week_3\\logs\n",
      "INFO:tensorflow:TensorBoard reload process: Reload the whole Multiplexer\n",
      "INFO:tensorflow:Beginning EventMultiplexer.Reload()\n",
      "INFO:tensorflow:Reloading runs serially (one after another) on the main thread.\n",
      "INFO:tensorflow:No path found after C:\\Users\\rruzzo\\Documents\\GitHub\\Deep_Learning_Work\\module_0\\week_3\\logs\\events.out.tfevents.1537935869.DESKTOP-V3AEQVL\n",
      "INFO:tensorflow:Finished with EventMultiplexer.Reload()\n",
      "INFO:tensorflow:TensorBoard done reloading. Load took 0.021 secs\n",
      "INFO:tensorflow:TensorBoard reload process beginning\n",
      "INFO:tensorflow:Starting AddRunsFromDirectory: C:\\Users\\rruzzo\\Documents\\GitHub\\Deep_Learning_Work\\module_0\\week_3\\logs\n",
      "INFO:tensorflow:GetLogdirSubdirectories: Starting to list directories via walking.\n",
      "INFO:tensorflow:Adding run from directory C:\\Users\\rruzzo\\Documents\\GitHub\\Deep_Learning_Work\\module_0\\week_3\\logs\n",
      "INFO:tensorflow:Done with AddRunsFromDirectory: C:\\Users\\rruzzo\\Documents\\GitHub\\Deep_Learning_Work\\module_0\\week_3\\logs\n",
      "INFO:tensorflow:TensorBoard reload process: Reload the whole Multiplexer\n",
      "INFO:tensorflow:Beginning EventMultiplexer.Reload()\n",
      "INFO:tensorflow:Reloading runs serially (one after another) on the main thread.\n",
      "INFO:tensorflow:No path found after C:\\Users\\rruzzo\\Documents\\GitHub\\Deep_Learning_Work\\module_0\\week_3\\logs\\events.out.tfevents.1537935869.DESKTOP-V3AEQVL\n",
      "INFO:tensorflow:Finished with EventMultiplexer.Reload()\n",
      "INFO:tensorflow:TensorBoard done reloading. Load took 0.014 secs\n"
     ]
    },
    {
     "name": "stderr",
     "output_type": "stream",
     "text": [
      "172.20.40.81 - - [26/Sep/2018 00:28:04] \"\u001b[37mGET /data/environment HTTP/1.1\u001b[0m\" 200 -\n"
     ]
    },
    {
     "name": "stdout",
     "output_type": "stream",
     "text": [
      "INFO:tensorflow:Plugin listing: is_active() for core took 0.000 seconds\n",
      "INFO:tensorflow:Plugin listing: is_active() for beholder took 0.001 seconds\n"
     ]
    },
    {
     "name": "stderr",
     "output_type": "stream",
     "text": [
      "172.20.40.81 - - [26/Sep/2018 00:28:04] \"\u001b[37mGET /data/runs HTTP/1.1\u001b[0m\" 200 -\n",
      "172.20.40.81 - - [26/Sep/2018 00:28:04] \"\u001b[37mGET /data/experiments HTTP/1.1\u001b[0m\" 200 -\n"
     ]
    },
    {
     "name": "stdout",
     "output_type": "stream",
     "text": [
      "INFO:tensorflow:Plugin listing: is_active() for scalars took 0.000 seconds\n",
      "INFO:tensorflow:Plugin listing: is_active() for custom_scalars took 0.000 seconds\n",
      "INFO:tensorflow:Plugin listing: is_active() for images took 0.000 seconds\n",
      "INFO:tensorflow:Plugin listing: is_active() for audio took 0.000 seconds\n",
      "INFO:tensorflow:Plugin listing: is_active() for graphs took 0.000 seconds\n",
      "INFO:tensorflow:Plugin listing: is_active() for distributions took 0.012 seconds\n",
      "INFO:tensorflow:Plugin listing: is_active() for histograms took 0.006 seconds\n",
      "INFO:tensorflow:Plugin listing: is_active() for pr_curves took 0.000 seconds\n",
      "INFO:tensorflow:Plugin listing: is_active() for projector took 0.001 seconds\n",
      "INFO:tensorflow:TextPlugin computing index_impl() in a new thread\n",
      "INFO:tensorflow:Plugin listing: is_active() for text took 0.003 seconds\n",
      "INFO:tensorflow:TextPlugin index_impl() thread ending after 0.003 sec\n",
      "INFO:tensorflow:Plugin listing: is_active() for profile took 0.000 seconds\n"
     ]
    },
    {
     "name": "stderr",
     "output_type": "stream",
     "text": [
      "172.20.40.81 - - [26/Sep/2018 00:28:04] \"\u001b[37mGET /data/plugins_listing HTTP/1.1\u001b[0m\" 200 -\n",
      "172.20.40.81 - - [26/Sep/2018 00:28:04] \"\u001b[37mGET /data/plugin/scalars/tags HTTP/1.1\u001b[0m\" 200 -\n",
      "172.20.40.81 - - [26/Sep/2018 00:28:04] \"\u001b[37mGET /data/plugin/scalars/scalars?run=.&tag=acc HTTP/1.1\u001b[0m\" 200 -\n",
      "172.20.40.81 - - [26/Sep/2018 00:28:04] \"\u001b[37mGET /data/plugin/scalars/scalars?run=.&tag=loss HTTP/1.1\u001b[0m\" 200 -\n",
      "172.20.40.81 - - [26/Sep/2018 00:28:04] \"\u001b[37mGET /data/plugin/scalars/scalars?run=.&tag=val_loss HTTP/1.1\u001b[0m\" 200 -\n"
     ]
    },
    {
     "name": "stdout",
     "output_type": "stream",
     "text": [
      "INFO:tensorflow:TensorBoard reload process beginning\n",
      "INFO:tensorflow:Starting AddRunsFromDirectory: C:\\Users\\rruzzo\\Documents\\GitHub\\Deep_Learning_Work\\module_0\\week_3\\logs\n",
      "INFO:tensorflow:GetLogdirSubdirectories: Starting to list directories via walking.\n",
      "INFO:tensorflow:Adding run from directory C:\\Users\\rruzzo\\Documents\\GitHub\\Deep_Learning_Work\\module_0\\week_3\\logs\n",
      "INFO:tensorflow:Done with AddRunsFromDirectory: C:\\Users\\rruzzo\\Documents\\GitHub\\Deep_Learning_Work\\module_0\\week_3\\logs\n",
      "INFO:tensorflow:TensorBoard reload process: Reload the whole Multiplexer\n",
      "INFO:tensorflow:Beginning EventMultiplexer.Reload()\n",
      "INFO:tensorflow:Reloading runs serially (one after another) on the main thread.\n",
      "INFO:tensorflow:No path found after C:\\Users\\rruzzo\\Documents\\GitHub\\Deep_Learning_Work\\module_0\\week_3\\logs\\events.out.tfevents.1537935869.DESKTOP-V3AEQVL\n",
      "INFO:tensorflow:Finished with EventMultiplexer.Reload()\n",
      "INFO:tensorflow:TensorBoard done reloading. Load took 0.014 secs\n",
      "INFO:tensorflow:TensorBoard reload process beginning\n",
      "INFO:tensorflow:Starting AddRunsFromDirectory: C:\\Users\\rruzzo\\Documents\\GitHub\\Deep_Learning_Work\\module_0\\week_3\\logs\n",
      "INFO:tensorflow:GetLogdirSubdirectories: Starting to list directories via walking.\n",
      "INFO:tensorflow:Adding run from directory C:\\Users\\rruzzo\\Documents\\GitHub\\Deep_Learning_Work\\module_0\\week_3\\logs\n",
      "INFO:tensorflow:Done with AddRunsFromDirectory: C:\\Users\\rruzzo\\Documents\\GitHub\\Deep_Learning_Work\\module_0\\week_3\\logs\n",
      "INFO:tensorflow:TensorBoard reload process: Reload the whole Multiplexer\n",
      "INFO:tensorflow:Beginning EventMultiplexer.Reload()\n",
      "INFO:tensorflow:Reloading runs serially (one after another) on the main thread.\n",
      "INFO:tensorflow:No path found after C:\\Users\\rruzzo\\Documents\\GitHub\\Deep_Learning_Work\\module_0\\week_3\\logs\\events.out.tfevents.1537935869.DESKTOP-V3AEQVL\n",
      "INFO:tensorflow:Finished with EventMultiplexer.Reload()\n",
      "INFO:tensorflow:TensorBoard done reloading. Load took 0.014 secs\n",
      "INFO:tensorflow:TensorBoard reload process beginning\n",
      "INFO:tensorflow:Starting AddRunsFromDirectory: C:\\Users\\rruzzo\\Documents\\GitHub\\Deep_Learning_Work\\module_0\\week_3\\logs\n",
      "INFO:tensorflow:GetLogdirSubdirectories: Starting to list directories via walking.\n",
      "INFO:tensorflow:Adding run from directory C:\\Users\\rruzzo\\Documents\\GitHub\\Deep_Learning_Work\\module_0\\week_3\\logs\n",
      "INFO:tensorflow:Done with AddRunsFromDirectory: C:\\Users\\rruzzo\\Documents\\GitHub\\Deep_Learning_Work\\module_0\\week_3\\logs\n",
      "INFO:tensorflow:TensorBoard reload process: Reload the whole Multiplexer\n",
      "INFO:tensorflow:Beginning EventMultiplexer.Reload()\n",
      "INFO:tensorflow:Reloading runs serially (one after another) on the main thread.\n",
      "INFO:tensorflow:Directory watcher advancing from C:\\Users\\rruzzo\\Documents\\GitHub\\Deep_Learning_Work\\module_0\\week_3\\logs\\events.out.tfevents.1537935869.DESKTOP-V3AEQVL to C:\\Users\\rruzzo\\Documents\\GitHub\\Deep_Learning_Work\\module_0\\week_3\\logs\\events.out.tfevents.1537936093.DESKTOP-V3AEQVL\n",
      "WARNING:tensorflow:Found more than one graph event per run, or there was a metagraph containing a graph_def, as well as one or more graph events.  Overwriting the graph with the newest event.\n",
      "WARNING:tensorflow:Found more than one metagraph event per run. Overwriting the metagraph with the newest event.\n"
     ]
    },
    {
     "name": "stderr",
     "output_type": "stream",
     "text": [
      "172.20.40.81 - - [26/Sep/2018 00:28:34] \"\u001b[37mGET /data/environment HTTP/1.1\u001b[0m\" 200 -\n"
     ]
    },
    {
     "name": "stdout",
     "output_type": "stream",
     "text": [
      "INFO:tensorflow:Plugin listing: is_active() for core took 0.000 seconds\n"
     ]
    },
    {
     "name": "stderr",
     "output_type": "stream",
     "text": [
      "172.20.40.81 - - [26/Sep/2018 00:28:34] \"\u001b[37mGET /data/runs HTTP/1.1\u001b[0m\" 200 -\n"
     ]
    },
    {
     "name": "stdout",
     "output_type": "stream",
     "text": [
      "INFO:tensorflow:Plugin listing: is_active() for beholder took 0.011 seconds\n"
     ]
    },
    {
     "name": "stderr",
     "output_type": "stream",
     "text": [
      "172.20.40.81 - - [26/Sep/2018 00:28:34] \"\u001b[37mGET /data/experiments HTTP/1.1\u001b[0m\" 200 -\n"
     ]
    },
    {
     "name": "stdout",
     "output_type": "stream",
     "text": [
      "INFO:tensorflow:Plugin listing: is_active() for scalars took 0.000 seconds\n",
      "INFO:tensorflow:Plugin listing: is_active() for custom_scalars took 0.000 seconds\n",
      "INFO:tensorflow:Plugin listing: is_active() for images took 0.000 seconds\n",
      "INFO:tensorflow:Plugin listing: is_active() for audio took 0.000 seconds\n",
      "INFO:tensorflow:Plugin listing: is_active() for graphs took 0.000 seconds\n",
      "INFO:tensorflow:Plugin listing: is_active() for distributions took 0.012 seconds\n",
      "INFO:tensorflow:Plugin listing: is_active() for histograms took 0.008 seconds\n",
      "INFO:tensorflow:Plugin listing: is_active() for pr_curves took 0.000 seconds\n",
      "INFO:tensorflow:Plugin listing: is_active() for projector took 0.005 seconds\n",
      "INFO:tensorflow:TextPlugin computing index_impl() in a new thread\n",
      "INFO:tensorflow:Plugin listing: is_active() for text took 0.008 seconds\n",
      "INFO:tensorflow:TextPlugin index_impl() thread ending after 0.039 sec\n",
      "INFO:tensorflow:Plugin listing: is_active() for profile took 0.020 seconds\n"
     ]
    },
    {
     "name": "stderr",
     "output_type": "stream",
     "text": [
      "172.20.40.81 - - [26/Sep/2018 00:28:34] \"\u001b[37mGET /data/plugins_listing HTTP/1.1\u001b[0m\" 200 -\n",
      "172.20.40.81 - - [26/Sep/2018 00:28:34] \"\u001b[37mGET /data/plugin/scalars/tags HTTP/1.1\u001b[0m\" 200 -\n",
      "172.20.40.81 - - [26/Sep/2018 00:28:34] \"\u001b[37mGET /data/plugin/scalars/scalars?run=.&tag=acc HTTP/1.1\u001b[0m\" 200 -\n",
      "172.20.40.81 - - [26/Sep/2018 00:28:34] \"\u001b[37mGET /data/plugin/scalars/scalars?run=.&tag=loss HTTP/1.1\u001b[0m\" 200 -\n",
      "172.20.40.81 - - [26/Sep/2018 00:28:34] \"\u001b[37mGET /data/plugin/scalars/scalars?run=.&tag=val_loss HTTP/1.1\u001b[0m\" 200 -\n",
      "172.20.40.81 - - [26/Sep/2018 00:29:04] \"\u001b[37mGET /data/environment HTTP/1.1\u001b[0m\" 200 -\n"
     ]
    },
    {
     "name": "stdout",
     "output_type": "stream",
     "text": [
      "INFO:tensorflow:Plugin listing: is_active() for core took 0.000 seconds\n"
     ]
    },
    {
     "name": "stderr",
     "output_type": "stream",
     "text": [
      "172.20.40.81 - - [26/Sep/2018 00:29:04] \"\u001b[37mGET /data/runs HTTP/1.1\u001b[0m\" 200 -\n"
     ]
    },
    {
     "name": "stdout",
     "output_type": "stream",
     "text": [
      "INFO:tensorflow:Plugin listing: is_active() for beholder took 0.006 seconds\n"
     ]
    },
    {
     "name": "stderr",
     "output_type": "stream",
     "text": [
      "172.20.40.81 - - [26/Sep/2018 00:29:04] \"\u001b[37mGET /data/experiments HTTP/1.1\u001b[0m\" 200 -\n"
     ]
    },
    {
     "name": "stdout",
     "output_type": "stream",
     "text": [
      "INFO:tensorflow:Plugin listing: is_active() for scalars took 0.000 seconds\n",
      "INFO:tensorflow:Plugin listing: is_active() for custom_scalars took 0.000 seconds\n",
      "INFO:tensorflow:Plugin listing: is_active() for images took 0.000 seconds\n",
      "INFO:tensorflow:Plugin listing: is_active() for audio took 0.000 seconds\n",
      "INFO:tensorflow:Plugin listing: is_active() for graphs took 0.000 seconds\n",
      "INFO:tensorflow:Plugin listing: is_active() for distributions took 0.013 seconds\n",
      "INFO:tensorflow:Plugin listing: is_active() for histograms took 0.018 seconds\n",
      "INFO:tensorflow:Plugin listing: is_active() for pr_curves took 0.000 seconds\n",
      "INFO:tensorflow:Plugin listing: is_active() for projector took 0.005 seconds\n",
      "INFO:tensorflow:TextPlugin computing index_impl() in a new thread\n",
      "INFO:tensorflow:Plugin listing: is_active() for text took 0.019 seconds\n",
      "INFO:tensorflow:TextPlugin index_impl() thread ending after 0.040 sec\n",
      "INFO:tensorflow:Plugin listing: is_active() for profile took 0.006 seconds\n"
     ]
    },
    {
     "name": "stderr",
     "output_type": "stream",
     "text": [
      "172.20.40.81 - - [26/Sep/2018 00:29:04] \"\u001b[37mGET /data/plugins_listing HTTP/1.1\u001b[0m\" 200 -\n",
      "172.20.40.81 - - [26/Sep/2018 00:29:04] \"\u001b[37mGET /data/plugin/scalars/tags HTTP/1.1\u001b[0m\" 200 -\n",
      "172.20.40.81 - - [26/Sep/2018 00:29:04] \"\u001b[37mGET /data/plugin/scalars/scalars?run=.&tag=acc HTTP/1.1\u001b[0m\" 200 -\n",
      "172.20.40.81 - - [26/Sep/2018 00:29:04] \"\u001b[37mGET /data/plugin/scalars/scalars?run=.&tag=loss HTTP/1.1\u001b[0m\" 200 -\n",
      "172.20.40.81 - - [26/Sep/2018 00:29:04] \"\u001b[37mGET /data/plugin/scalars/scalars?run=.&tag=val_loss HTTP/1.1\u001b[0m\" 200 -\n"
     ]
    },
    {
     "name": "stdout",
     "output_type": "stream",
     "text": [
      "INFO:tensorflow:No path found after C:\\Users\\rruzzo\\Documents\\GitHub\\Deep_Learning_Work\\module_0\\week_3\\logs\\events.out.tfevents.1537936093.DESKTOP-V3AEQVL\n",
      "INFO:tensorflow:Finished with EventMultiplexer.Reload()\n",
      "INFO:tensorflow:TensorBoard done reloading. Load took 74.389 secs\n"
     ]
    },
    {
     "name": "stderr",
     "output_type": "stream",
     "text": [
      "172.20.40.81 - - [26/Sep/2018 00:29:34] \"\u001b[37mGET /data/environment HTTP/1.1\u001b[0m\" 200 -\n"
     ]
    },
    {
     "name": "stdout",
     "output_type": "stream",
     "text": [
      "INFO:tensorflow:Plugin listing: is_active() for core took 0.000 seconds\n",
      "INFO:tensorflow:Plugin listing: is_active() for beholder took 0.001 seconds\n"
     ]
    },
    {
     "name": "stderr",
     "output_type": "stream",
     "text": [
      "172.20.40.81 - - [26/Sep/2018 00:29:34] \"\u001b[37mGET /data/runs HTTP/1.1\u001b[0m\" 200 -\n",
      "172.20.40.81 - - [26/Sep/2018 00:29:34] \"\u001b[37mGET /data/experiments HTTP/1.1\u001b[0m\" 200 -\n"
     ]
    },
    {
     "name": "stdout",
     "output_type": "stream",
     "text": [
      "INFO:tensorflow:Plugin listing: is_active() for scalars took 0.000 seconds\n",
      "INFO:tensorflow:Plugin listing: is_active() for custom_scalars took 0.000 seconds\n",
      "INFO:tensorflow:Plugin listing: is_active() for images took 0.000 seconds\n",
      "INFO:tensorflow:Plugin listing: is_active() for audio took 0.000 seconds\n",
      "INFO:tensorflow:Plugin listing: is_active() for graphs took 0.000 seconds\n",
      "INFO:tensorflow:Plugin listing: is_active() for distributions took 0.012 seconds\n",
      "INFO:tensorflow:Plugin listing: is_active() for histograms took 0.006 seconds\n",
      "INFO:tensorflow:Plugin listing: is_active() for pr_curves took 0.000 seconds\n",
      "INFO:tensorflow:Plugin listing: is_active() for projector took 0.000 seconds\n",
      "INFO:tensorflow:TextPlugin computing index_impl() in a new thread\n",
      "INFO:tensorflow:Plugin listing: is_active() for text took 0.004 seconds\n",
      "INFO:tensorflow:TextPlugin index_impl() thread ending after 0.004 sec\n",
      "INFO:tensorflow:Plugin listing: is_active() for profile took 0.000 seconds\n"
     ]
    },
    {
     "name": "stderr",
     "output_type": "stream",
     "text": [
      "172.20.40.81 - - [26/Sep/2018 00:29:34] \"\u001b[37mGET /data/plugins_listing HTTP/1.1\u001b[0m\" 200 -\n",
      "172.20.40.81 - - [26/Sep/2018 00:29:34] \"\u001b[37mGET /data/plugin/scalars/tags HTTP/1.1\u001b[0m\" 200 -\n",
      "172.20.40.81 - - [26/Sep/2018 00:29:34] \"\u001b[37mGET /data/plugin/scalars/scalars?run=.&tag=acc HTTP/1.1\u001b[0m\" 200 -\n",
      "172.20.40.81 - - [26/Sep/2018 00:29:34] \"\u001b[37mGET /data/plugin/scalars/scalars?run=.&tag=val_loss HTTP/1.1\u001b[0m\" 200 -\n",
      "172.20.40.81 - - [26/Sep/2018 00:29:34] \"\u001b[37mGET /data/plugin/scalars/scalars?run=.&tag=loss HTTP/1.1\u001b[0m\" 200 -\n"
     ]
    },
    {
     "name": "stdout",
     "output_type": "stream",
     "text": [
      "INFO:tensorflow:TensorBoard reload process beginning\n",
      "INFO:tensorflow:Starting AddRunsFromDirectory: C:\\Users\\rruzzo\\Documents\\GitHub\\Deep_Learning_Work\\module_0\\week_3\\logs\n",
      "INFO:tensorflow:GetLogdirSubdirectories: Starting to list directories via walking.\n",
      "INFO:tensorflow:Adding run from directory C:\\Users\\rruzzo\\Documents\\GitHub\\Deep_Learning_Work\\module_0\\week_3\\logs\n",
      "INFO:tensorflow:Done with AddRunsFromDirectory: C:\\Users\\rruzzo\\Documents\\GitHub\\Deep_Learning_Work\\module_0\\week_3\\logs\n",
      "INFO:tensorflow:TensorBoard reload process: Reload the whole Multiplexer\n",
      "INFO:tensorflow:Beginning EventMultiplexer.Reload()\n",
      "INFO:tensorflow:Reloading runs serially (one after another) on the main thread.\n",
      "INFO:tensorflow:No path found after C:\\Users\\rruzzo\\Documents\\GitHub\\Deep_Learning_Work\\module_0\\week_3\\logs\\events.out.tfevents.1537936093.DESKTOP-V3AEQVL\n",
      "INFO:tensorflow:Finished with EventMultiplexer.Reload()\n",
      "INFO:tensorflow:TensorBoard done reloading. Load took 0.038 secs\n",
      "INFO:tensorflow:TensorBoard reload process beginning\n",
      "INFO:tensorflow:Starting AddRunsFromDirectory: C:\\Users\\rruzzo\\Documents\\GitHub\\Deep_Learning_Work\\module_0\\week_3\\logs\n",
      "INFO:tensorflow:GetLogdirSubdirectories: Starting to list directories via walking.\n",
      "INFO:tensorflow:Adding run from directory C:\\Users\\rruzzo\\Documents\\GitHub\\Deep_Learning_Work\\module_0\\week_3\\logs\n",
      "INFO:tensorflow:Done with AddRunsFromDirectory: C:\\Users\\rruzzo\\Documents\\GitHub\\Deep_Learning_Work\\module_0\\week_3\\logs\n",
      "INFO:tensorflow:TensorBoard reload process: Reload the whole Multiplexer\n",
      "INFO:tensorflow:Beginning EventMultiplexer.Reload()\n",
      "INFO:tensorflow:Reloading runs serially (one after another) on the main thread.\n",
      "INFO:tensorflow:No path found after C:\\Users\\rruzzo\\Documents\\GitHub\\Deep_Learning_Work\\module_0\\week_3\\logs\\events.out.tfevents.1537936093.DESKTOP-V3AEQVL\n",
      "INFO:tensorflow:Finished with EventMultiplexer.Reload()\n",
      "INFO:tensorflow:TensorBoard done reloading. Load took 0.015 secs\n",
      "INFO:tensorflow:TensorBoard reload process beginning\n",
      "INFO:tensorflow:Starting AddRunsFromDirectory: C:\\Users\\rruzzo\\Documents\\GitHub\\Deep_Learning_Work\\module_0\\week_3\\logs\n",
      "INFO:tensorflow:GetLogdirSubdirectories: Starting to list directories via walking.\n",
      "INFO:tensorflow:Adding run from directory C:\\Users\\rruzzo\\Documents\\GitHub\\Deep_Learning_Work\\module_0\\week_3\\logs\n",
      "INFO:tensorflow:Done with AddRunsFromDirectory: C:\\Users\\rruzzo\\Documents\\GitHub\\Deep_Learning_Work\\module_0\\week_3\\logs\n",
      "INFO:tensorflow:TensorBoard reload process: Reload the whole Multiplexer\n",
      "INFO:tensorflow:Beginning EventMultiplexer.Reload()\n",
      "INFO:tensorflow:Reloading runs serially (one after another) on the main thread.\n",
      "INFO:tensorflow:No path found after C:\\Users\\rruzzo\\Documents\\GitHub\\Deep_Learning_Work\\module_0\\week_3\\logs\\events.out.tfevents.1537936093.DESKTOP-V3AEQVL\n",
      "INFO:tensorflow:Finished with EventMultiplexer.Reload()\n",
      "INFO:tensorflow:TensorBoard done reloading. Load took 0.041 secs\n",
      "INFO:tensorflow:TensorBoard reload process beginning\n",
      "INFO:tensorflow:Starting AddRunsFromDirectory: C:\\Users\\rruzzo\\Documents\\GitHub\\Deep_Learning_Work\\module_0\\week_3\\logs\n",
      "INFO:tensorflow:GetLogdirSubdirectories: Starting to list directories via walking.\n",
      "INFO:tensorflow:Adding run from directory C:\\Users\\rruzzo\\Documents\\GitHub\\Deep_Learning_Work\\module_0\\week_3\\logs\n",
      "INFO:tensorflow:Done with AddRunsFromDirectory: C:\\Users\\rruzzo\\Documents\\GitHub\\Deep_Learning_Work\\module_0\\week_3\\logs\n",
      "INFO:tensorflow:TensorBoard reload process: Reload the whole Multiplexer\n",
      "INFO:tensorflow:Beginning EventMultiplexer.Reload()\n",
      "INFO:tensorflow:Reloading runs serially (one after another) on the main thread.\n",
      "INFO:tensorflow:No path found after C:\\Users\\rruzzo\\Documents\\GitHub\\Deep_Learning_Work\\module_0\\week_3\\logs\\events.out.tfevents.1537936093.DESKTOP-V3AEQVL\n",
      "INFO:tensorflow:Finished with EventMultiplexer.Reload()\n",
      "INFO:tensorflow:TensorBoard done reloading. Load took 0.013 secs\n",
      "INFO:tensorflow:TensorBoard reload process beginning\n",
      "INFO:tensorflow:Starting AddRunsFromDirectory: C:\\Users\\rruzzo\\Documents\\GitHub\\Deep_Learning_Work\\module_0\\week_3\\logs\n",
      "INFO:tensorflow:GetLogdirSubdirectories: Starting to list directories via walking.\n",
      "INFO:tensorflow:Adding run from directory C:\\Users\\rruzzo\\Documents\\GitHub\\Deep_Learning_Work\\module_0\\week_3\\logs\n",
      "INFO:tensorflow:Done with AddRunsFromDirectory: C:\\Users\\rruzzo\\Documents\\GitHub\\Deep_Learning_Work\\module_0\\week_3\\logs\n",
      "INFO:tensorflow:TensorBoard reload process: Reload the whole Multiplexer\n",
      "INFO:tensorflow:Beginning EventMultiplexer.Reload()\n",
      "INFO:tensorflow:Reloading runs serially (one after another) on the main thread.\n",
      "INFO:tensorflow:No path found after C:\\Users\\rruzzo\\Documents\\GitHub\\Deep_Learning_Work\\module_0\\week_3\\logs\\events.out.tfevents.1537936093.DESKTOP-V3AEQVL\n",
      "INFO:tensorflow:Finished with EventMultiplexer.Reload()\n",
      "INFO:tensorflow:TensorBoard done reloading. Load took 0.014 secs\n",
      "INFO:tensorflow:TensorBoard reload process beginning\n",
      "INFO:tensorflow:Starting AddRunsFromDirectory: C:\\Users\\rruzzo\\Documents\\GitHub\\Deep_Learning_Work\\module_0\\week_3\\logs\n",
      "INFO:tensorflow:GetLogdirSubdirectories: Starting to list directories via walking.\n",
      "INFO:tensorflow:Adding run from directory C:\\Users\\rruzzo\\Documents\\GitHub\\Deep_Learning_Work\\module_0\\week_3\\logs\n",
      "INFO:tensorflow:Done with AddRunsFromDirectory: C:\\Users\\rruzzo\\Documents\\GitHub\\Deep_Learning_Work\\module_0\\week_3\\logs\n",
      "INFO:tensorflow:TensorBoard reload process: Reload the whole Multiplexer\n",
      "INFO:tensorflow:Beginning EventMultiplexer.Reload()\n",
      "INFO:tensorflow:Reloading runs serially (one after another) on the main thread.\n",
      "INFO:tensorflow:No path found after C:\\Users\\rruzzo\\Documents\\GitHub\\Deep_Learning_Work\\module_0\\week_3\\logs\\events.out.tfevents.1537936093.DESKTOP-V3AEQVL\n",
      "INFO:tensorflow:Finished with EventMultiplexer.Reload()\n",
      "INFO:tensorflow:TensorBoard done reloading. Load took 0.015 secs\n"
     ]
    },
    {
     "name": "stderr",
     "output_type": "stream",
     "text": [
      "172.20.40.81 - - [26/Sep/2018 00:30:04] \"\u001b[37mGET /data/environment HTTP/1.1\u001b[0m\" 200 -\n"
     ]
    },
    {
     "name": "stdout",
     "output_type": "stream",
     "text": [
      "INFO:tensorflow:Plugin listing: is_active() for core took 0.000 seconds\n"
     ]
    },
    {
     "name": "stderr",
     "output_type": "stream",
     "text": [
      "172.20.40.81 - - [26/Sep/2018 00:30:04] \"\u001b[37mGET /data/runs HTTP/1.1\u001b[0m\" 200 -\n"
     ]
    },
    {
     "name": "stdout",
     "output_type": "stream",
     "text": [
      "INFO:tensorflow:Plugin listing: is_active() for beholder took 0.001 seconds\n"
     ]
    },
    {
     "name": "stderr",
     "output_type": "stream",
     "text": [
      "172.20.40.81 - - [26/Sep/2018 00:30:04] \"\u001b[37mGET /data/experiments HTTP/1.1\u001b[0m\" 200 -\n"
     ]
    },
    {
     "name": "stdout",
     "output_type": "stream",
     "text": [
      "INFO:tensorflow:Plugin listing: is_active() for scalars took 0.001 seconds\n",
      "INFO:tensorflow:Plugin listing: is_active() for custom_scalars took 0.000 seconds\n",
      "INFO:tensorflow:Plugin listing: is_active() for images took 0.000 seconds\n",
      "INFO:tensorflow:Plugin listing: is_active() for audio took 0.000 seconds\n",
      "INFO:tensorflow:Plugin listing: is_active() for graphs took 0.000 seconds\n",
      "INFO:tensorflow:Plugin listing: is_active() for distributions took 0.010 seconds\n",
      "INFO:tensorflow:Plugin listing: is_active() for histograms took 0.007 seconds\n",
      "INFO:tensorflow:Plugin listing: is_active() for pr_curves took 0.000 seconds\n",
      "INFO:tensorflow:Plugin listing: is_active() for projector took 0.001 seconds\n",
      "INFO:tensorflow:TextPlugin computing index_impl() in a new thread\n",
      "INFO:tensorflow:Plugin listing: is_active() for text took 0.003 seconds\n",
      "INFO:tensorflow:TextPlugin index_impl() thread ending after 0.003 sec\n",
      "INFO:tensorflow:Plugin listing: is_active() for profile took 0.001 seconds\n"
     ]
    },
    {
     "name": "stderr",
     "output_type": "stream",
     "text": [
      "172.20.40.81 - - [26/Sep/2018 00:30:04] \"\u001b[37mGET /data/plugins_listing HTTP/1.1\u001b[0m\" 200 -\n",
      "172.20.40.81 - - [26/Sep/2018 00:30:04] \"\u001b[37mGET /data/plugin/scalars/tags HTTP/1.1\u001b[0m\" 200 -\n",
      "172.20.40.81 - - [26/Sep/2018 00:30:04] \"\u001b[37mGET /data/plugin/scalars/scalars?run=.&tag=acc HTTP/1.1\u001b[0m\" 200 -\n",
      "172.20.40.81 - - [26/Sep/2018 00:30:04] \"\u001b[37mGET /data/plugin/scalars/scalars?run=.&tag=loss HTTP/1.1\u001b[0m\" 200 -\n",
      "172.20.40.81 - - [26/Sep/2018 00:30:04] \"\u001b[37mGET /data/plugin/scalars/scalars?run=.&tag=val_loss HTTP/1.1\u001b[0m\" 200 -\n"
     ]
    },
    {
     "name": "stdout",
     "output_type": "stream",
     "text": [
      "INFO:tensorflow:TensorBoard reload process beginning\n",
      "INFO:tensorflow:Starting AddRunsFromDirectory: C:\\Users\\rruzzo\\Documents\\GitHub\\Deep_Learning_Work\\module_0\\week_3\\logs\n",
      "INFO:tensorflow:GetLogdirSubdirectories: Starting to list directories via walking.\n",
      "INFO:tensorflow:Adding run from directory C:\\Users\\rruzzo\\Documents\\GitHub\\Deep_Learning_Work\\module_0\\week_3\\logs\n",
      "INFO:tensorflow:Done with AddRunsFromDirectory: C:\\Users\\rruzzo\\Documents\\GitHub\\Deep_Learning_Work\\module_0\\week_3\\logs\n",
      "INFO:tensorflow:TensorBoard reload process: Reload the whole Multiplexer\n",
      "INFO:tensorflow:Beginning EventMultiplexer.Reload()\n",
      "INFO:tensorflow:Reloading runs serially (one after another) on the main thread.\n",
      "INFO:tensorflow:No path found after C:\\Users\\rruzzo\\Documents\\GitHub\\Deep_Learning_Work\\module_0\\week_3\\logs\\events.out.tfevents.1537936093.DESKTOP-V3AEQVL\n",
      "INFO:tensorflow:Finished with EventMultiplexer.Reload()\n",
      "INFO:tensorflow:TensorBoard done reloading. Load took 0.015 secs\n",
      "INFO:tensorflow:TensorBoard reload process beginning\n",
      "INFO:tensorflow:Starting AddRunsFromDirectory: C:\\Users\\rruzzo\\Documents\\GitHub\\Deep_Learning_Work\\module_0\\week_3\\logs\n",
      "INFO:tensorflow:GetLogdirSubdirectories: Starting to list directories via walking.\n",
      "INFO:tensorflow:Adding run from directory C:\\Users\\rruzzo\\Documents\\GitHub\\Deep_Learning_Work\\module_0\\week_3\\logs\n",
      "INFO:tensorflow:Done with AddRunsFromDirectory: C:\\Users\\rruzzo\\Documents\\GitHub\\Deep_Learning_Work\\module_0\\week_3\\logs\n",
      "INFO:tensorflow:TensorBoard reload process: Reload the whole Multiplexer\n",
      "INFO:tensorflow:Beginning EventMultiplexer.Reload()\n",
      "INFO:tensorflow:Reloading runs serially (one after another) on the main thread.\n",
      "INFO:tensorflow:No path found after C:\\Users\\rruzzo\\Documents\\GitHub\\Deep_Learning_Work\\module_0\\week_3\\logs\\events.out.tfevents.1537936093.DESKTOP-V3AEQVL\n",
      "INFO:tensorflow:Finished with EventMultiplexer.Reload()\n",
      "INFO:tensorflow:TensorBoard done reloading. Load took 0.014 secs\n",
      "INFO:tensorflow:TensorBoard reload process beginning\n",
      "INFO:tensorflow:Starting AddRunsFromDirectory: C:\\Users\\rruzzo\\Documents\\GitHub\\Deep_Learning_Work\\module_0\\week_3\\logs\n",
      "INFO:tensorflow:GetLogdirSubdirectories: Starting to list directories via walking.\n",
      "INFO:tensorflow:Adding run from directory C:\\Users\\rruzzo\\Documents\\GitHub\\Deep_Learning_Work\\module_0\\week_3\\logs\n",
      "INFO:tensorflow:Done with AddRunsFromDirectory: C:\\Users\\rruzzo\\Documents\\GitHub\\Deep_Learning_Work\\module_0\\week_3\\logs\n",
      "INFO:tensorflow:TensorBoard reload process: Reload the whole Multiplexer\n",
      "INFO:tensorflow:Beginning EventMultiplexer.Reload()\n",
      "INFO:tensorflow:Reloading runs serially (one after another) on the main thread.\n",
      "INFO:tensorflow:Directory watcher advancing from C:\\Users\\rruzzo\\Documents\\GitHub\\Deep_Learning_Work\\module_0\\week_3\\logs\\events.out.tfevents.1537936093.DESKTOP-V3AEQVL to C:\\Users\\rruzzo\\Documents\\GitHub\\Deep_Learning_Work\\module_0\\week_3\\logs\\events.out.tfevents.1537936210.DESKTOP-V3AEQVL\n",
      "WARNING:tensorflow:Found more than one graph event per run, or there was a metagraph containing a graph_def, as well as one or more graph events.  Overwriting the graph with the newest event.\n",
      "WARNING:tensorflow:Found more than one metagraph event per run. Overwriting the metagraph with the newest event.\n",
      "INFO:tensorflow:Plugin listing: is_active() for core took 0.000 seconds\n"
     ]
    },
    {
     "name": "stderr",
     "output_type": "stream",
     "text": [
      "172.20.40.81 - - [26/Sep/2018 00:30:34] \"\u001b[37mGET /data/environment HTTP/1.1\u001b[0m\" 200 -\n"
     ]
    },
    {
     "name": "stdout",
     "output_type": "stream",
     "text": [
      "INFO:tensorflow:Plugin listing: is_active() for beholder took 0.006 seconds\n"
     ]
    },
    {
     "name": "stderr",
     "output_type": "stream",
     "text": [
      "172.20.40.81 - - [26/Sep/2018 00:30:34] \"\u001b[37mGET /data/runs HTTP/1.1\u001b[0m\" 200 -\n"
     ]
    },
    {
     "name": "stdout",
     "output_type": "stream",
     "text": [
      "INFO:tensorflow:Plugin listing: is_active() for scalars took 0.000 seconds\n"
     ]
    },
    {
     "name": "stderr",
     "output_type": "stream",
     "text": [
      "172.20.40.81 - - [26/Sep/2018 00:30:34] \"\u001b[37mGET /data/experiments HTTP/1.1\u001b[0m\" 200 -\n"
     ]
    },
    {
     "name": "stdout",
     "output_type": "stream",
     "text": [
      "INFO:tensorflow:Plugin listing: is_active() for custom_scalars took 0.000 seconds\n",
      "INFO:tensorflow:Plugin listing: is_active() for images took 0.000 seconds\n",
      "INFO:tensorflow:Plugin listing: is_active() for audio took 0.000 seconds\n",
      "INFO:tensorflow:Plugin listing: is_active() for graphs took 0.000 seconds\n",
      "INFO:tensorflow:Plugin listing: is_active() for distributions took 0.012 seconds\n",
      "INFO:tensorflow:Plugin listing: is_active() for histograms took 0.011 seconds\n",
      "INFO:tensorflow:Plugin listing: is_active() for pr_curves took 0.000 seconds\n",
      "INFO:tensorflow:Plugin listing: is_active() for projector took 0.003 seconds\n",
      "INFO:tensorflow:TextPlugin computing index_impl() in a new thread\n",
      "INFO:tensorflow:Plugin listing: is_active() for text took 0.012 seconds\n",
      "INFO:tensorflow:TextPlugin index_impl() thread ending after 0.043 sec\n",
      "INFO:tensorflow:Plugin listing: is_active() for profile took 0.020 seconds\n"
     ]
    },
    {
     "name": "stderr",
     "output_type": "stream",
     "text": [
      "172.20.40.81 - - [26/Sep/2018 00:30:34] \"\u001b[37mGET /data/plugins_listing HTTP/1.1\u001b[0m\" 200 -\n",
      "172.20.40.81 - - [26/Sep/2018 00:30:34] \"\u001b[37mGET /data/plugin/scalars/tags HTTP/1.1\u001b[0m\" 200 -\n",
      "172.20.40.81 - - [26/Sep/2018 00:30:34] \"\u001b[37mGET /data/plugin/scalars/scalars?run=.&tag=acc HTTP/1.1\u001b[0m\" 200 -\n",
      "172.20.40.81 - - [26/Sep/2018 00:30:34] \"\u001b[37mGET /data/plugin/scalars/scalars?run=.&tag=loss HTTP/1.1\u001b[0m\" 200 -\n",
      "172.20.40.81 - - [26/Sep/2018 00:30:34] \"\u001b[37mGET /data/plugin/scalars/scalars?run=.&tag=val_loss HTTP/1.1\u001b[0m\" 200 -\n",
      "172.20.40.81 - - [26/Sep/2018 00:31:04] \"\u001b[37mGET /data/environment HTTP/1.1\u001b[0m\" 200 -\n"
     ]
    },
    {
     "name": "stdout",
     "output_type": "stream",
     "text": [
      "INFO:tensorflow:Plugin listing: is_active() for core took 0.000 seconds\n",
      "INFO:tensorflow:Plugin listing: is_active() for beholder took 0.000 seconds\n"
     ]
    },
    {
     "name": "stderr",
     "output_type": "stream",
     "text": [
      "172.20.40.81 - - [26/Sep/2018 00:31:04] \"\u001b[37mGET /data/runs HTTP/1.1\u001b[0m\" 200 -\n"
     ]
    },
    {
     "name": "stdout",
     "output_type": "stream",
     "text": [
      "INFO:tensorflow:Plugin listing: is_active() for scalars took 0.000 seconds\n"
     ]
    },
    {
     "name": "stderr",
     "output_type": "stream",
     "text": [
      "172.20.40.81 - - [26/Sep/2018 00:31:04] \"\u001b[37mGET /data/experiments HTTP/1.1\u001b[0m\" 200 -\n"
     ]
    },
    {
     "name": "stdout",
     "output_type": "stream",
     "text": [
      "INFO:tensorflow:Plugin listing: is_active() for custom_scalars took 0.000 seconds\n",
      "INFO:tensorflow:Plugin listing: is_active() for images took 0.000 seconds\n",
      "INFO:tensorflow:Plugin listing: is_active() for audio took 0.000 seconds\n",
      "INFO:tensorflow:Plugin listing: is_active() for graphs took 0.000 seconds\n",
      "INFO:tensorflow:Plugin listing: is_active() for distributions took 0.008 seconds\n",
      "INFO:tensorflow:Plugin listing: is_active() for histograms took 0.017 seconds\n",
      "INFO:tensorflow:Plugin listing: is_active() for pr_curves took 0.000 seconds\n",
      "INFO:tensorflow:Plugin listing: is_active() for projector took 0.007 seconds\n",
      "INFO:tensorflow:TextPlugin computing index_impl() in a new thread\n",
      "INFO:tensorflow:Plugin listing: is_active() for text took 0.015 seconds\n",
      "INFO:tensorflow:TextPlugin index_impl() thread ending after 0.028 sec\n",
      "INFO:tensorflow:Plugin listing: is_active() for profile took 0.000 seconds\n"
     ]
    },
    {
     "name": "stderr",
     "output_type": "stream",
     "text": [
      "172.20.40.81 - - [26/Sep/2018 00:31:04] \"\u001b[37mGET /data/plugins_listing HTTP/1.1\u001b[0m\" 200 -\n",
      "172.20.40.81 - - [26/Sep/2018 00:31:04] \"\u001b[37mGET /data/plugin/scalars/tags HTTP/1.1\u001b[0m\" 200 -\n",
      "172.20.40.81 - - [26/Sep/2018 00:31:04] \"\u001b[37mGET /data/plugin/scalars/scalars?run=.&tag=acc HTTP/1.1\u001b[0m\" 200 -\n",
      "172.20.40.81 - - [26/Sep/2018 00:31:04] \"\u001b[37mGET /data/plugin/scalars/scalars?run=.&tag=loss HTTP/1.1\u001b[0m\" 200 -\n",
      "172.20.40.81 - - [26/Sep/2018 00:31:04] \"\u001b[37mGET /data/plugin/scalars/scalars?run=.&tag=val_loss HTTP/1.1\u001b[0m\" 200 -\n"
     ]
    },
    {
     "name": "stdout",
     "output_type": "stream",
     "text": [
      "INFO:tensorflow:No path found after C:\\Users\\rruzzo\\Documents\\GitHub\\Deep_Learning_Work\\module_0\\week_3\\logs\\events.out.tfevents.1537936210.DESKTOP-V3AEQVL\n",
      "INFO:tensorflow:Finished with EventMultiplexer.Reload()\n",
      "INFO:tensorflow:TensorBoard done reloading. Load took 50.991 secs\n",
      "INFO:tensorflow:TensorBoard reload process beginning\n",
      "INFO:tensorflow:Starting AddRunsFromDirectory: C:\\Users\\rruzzo\\Documents\\GitHub\\Deep_Learning_Work\\module_0\\week_3\\logs\n",
      "INFO:tensorflow:GetLogdirSubdirectories: Starting to list directories via walking.\n",
      "INFO:tensorflow:Adding run from directory C:\\Users\\rruzzo\\Documents\\GitHub\\Deep_Learning_Work\\module_0\\week_3\\logs\n",
      "INFO:tensorflow:Done with AddRunsFromDirectory: C:\\Users\\rruzzo\\Documents\\GitHub\\Deep_Learning_Work\\module_0\\week_3\\logs\n",
      "INFO:tensorflow:TensorBoard reload process: Reload the whole Multiplexer\n",
      "INFO:tensorflow:Beginning EventMultiplexer.Reload()\n",
      "INFO:tensorflow:Reloading runs serially (one after another) on the main thread.\n",
      "INFO:tensorflow:No path found after C:\\Users\\rruzzo\\Documents\\GitHub\\Deep_Learning_Work\\module_0\\week_3\\logs\\events.out.tfevents.1537936210.DESKTOP-V3AEQVL\n",
      "INFO:tensorflow:Finished with EventMultiplexer.Reload()\n",
      "INFO:tensorflow:TensorBoard done reloading. Load took 0.013 secs\n",
      "INFO:tensorflow:TensorBoard reload process beginning\n",
      "INFO:tensorflow:Starting AddRunsFromDirectory: C:\\Users\\rruzzo\\Documents\\GitHub\\Deep_Learning_Work\\module_0\\week_3\\logs\n",
      "INFO:tensorflow:GetLogdirSubdirectories: Starting to list directories via walking.\n",
      "INFO:tensorflow:Adding run from directory C:\\Users\\rruzzo\\Documents\\GitHub\\Deep_Learning_Work\\module_0\\week_3\\logs\n",
      "INFO:tensorflow:Done with AddRunsFromDirectory: C:\\Users\\rruzzo\\Documents\\GitHub\\Deep_Learning_Work\\module_0\\week_3\\logs\n",
      "INFO:tensorflow:TensorBoard reload process: Reload the whole Multiplexer\n",
      "INFO:tensorflow:Beginning EventMultiplexer.Reload()\n",
      "INFO:tensorflow:Reloading runs serially (one after another) on the main thread.\n",
      "INFO:tensorflow:No path found after C:\\Users\\rruzzo\\Documents\\GitHub\\Deep_Learning_Work\\module_0\\week_3\\logs\\events.out.tfevents.1537936210.DESKTOP-V3AEQVL\n",
      "INFO:tensorflow:Finished with EventMultiplexer.Reload()\n",
      "INFO:tensorflow:TensorBoard done reloading. Load took 0.015 secs\n",
      "INFO:tensorflow:TensorBoard reload process beginning\n",
      "INFO:tensorflow:Starting AddRunsFromDirectory: C:\\Users\\rruzzo\\Documents\\GitHub\\Deep_Learning_Work\\module_0\\week_3\\logs\n",
      "INFO:tensorflow:GetLogdirSubdirectories: Starting to list directories via walking.\n",
      "INFO:tensorflow:Adding run from directory C:\\Users\\rruzzo\\Documents\\GitHub\\Deep_Learning_Work\\module_0\\week_3\\logs\n",
      "INFO:tensorflow:Done with AddRunsFromDirectory: C:\\Users\\rruzzo\\Documents\\GitHub\\Deep_Learning_Work\\module_0\\week_3\\logs\n",
      "INFO:tensorflow:TensorBoard reload process: Reload the whole Multiplexer\n",
      "INFO:tensorflow:Beginning EventMultiplexer.Reload()\n",
      "INFO:tensorflow:Reloading runs serially (one after another) on the main thread.\n",
      "INFO:tensorflow:No path found after C:\\Users\\rruzzo\\Documents\\GitHub\\Deep_Learning_Work\\module_0\\week_3\\logs\\events.out.tfevents.1537936210.DESKTOP-V3AEQVL\n",
      "INFO:tensorflow:Finished with EventMultiplexer.Reload()\n",
      "INFO:tensorflow:TensorBoard done reloading. Load took 0.014 secs\n",
      "INFO:tensorflow:TensorBoard reload process beginning\n",
      "INFO:tensorflow:Starting AddRunsFromDirectory: C:\\Users\\rruzzo\\Documents\\GitHub\\Deep_Learning_Work\\module_0\\week_3\\logs\n",
      "INFO:tensorflow:GetLogdirSubdirectories: Starting to list directories via walking.\n",
      "INFO:tensorflow:Adding run from directory C:\\Users\\rruzzo\\Documents\\GitHub\\Deep_Learning_Work\\module_0\\week_3\\logs\n",
      "INFO:tensorflow:Done with AddRunsFromDirectory: C:\\Users\\rruzzo\\Documents\\GitHub\\Deep_Learning_Work\\module_0\\week_3\\logs\n",
      "INFO:tensorflow:TensorBoard reload process: Reload the whole Multiplexer\n",
      "INFO:tensorflow:Beginning EventMultiplexer.Reload()\n",
      "INFO:tensorflow:Reloading runs serially (one after another) on the main thread.\n",
      "INFO:tensorflow:No path found after C:\\Users\\rruzzo\\Documents\\GitHub\\Deep_Learning_Work\\module_0\\week_3\\logs\\events.out.tfevents.1537936210.DESKTOP-V3AEQVL\n",
      "INFO:tensorflow:Finished with EventMultiplexer.Reload()\n",
      "INFO:tensorflow:TensorBoard done reloading. Load took 0.041 secs\n",
      "INFO:tensorflow:TensorBoard reload process beginning\n",
      "INFO:tensorflow:Starting AddRunsFromDirectory: C:\\Users\\rruzzo\\Documents\\GitHub\\Deep_Learning_Work\\module_0\\week_3\\logs\n",
      "INFO:tensorflow:GetLogdirSubdirectories: Starting to list directories via walking.\n",
      "INFO:tensorflow:Adding run from directory C:\\Users\\rruzzo\\Documents\\GitHub\\Deep_Learning_Work\\module_0\\week_3\\logs\n",
      "INFO:tensorflow:Done with AddRunsFromDirectory: C:\\Users\\rruzzo\\Documents\\GitHub\\Deep_Learning_Work\\module_0\\week_3\\logs\n",
      "INFO:tensorflow:TensorBoard reload process: Reload the whole Multiplexer\n",
      "INFO:tensorflow:Beginning EventMultiplexer.Reload()\n",
      "INFO:tensorflow:Reloading runs serially (one after another) on the main thread.\n",
      "INFO:tensorflow:No path found after C:\\Users\\rruzzo\\Documents\\GitHub\\Deep_Learning_Work\\module_0\\week_3\\logs\\events.out.tfevents.1537936210.DESKTOP-V3AEQVL\n",
      "INFO:tensorflow:Finished with EventMultiplexer.Reload()\n",
      "INFO:tensorflow:TensorBoard done reloading. Load took 0.039 secs\n"
     ]
    },
    {
     "name": "stderr",
     "output_type": "stream",
     "text": [
      "172.20.40.81 - - [26/Sep/2018 00:31:34] \"\u001b[37mGET /data/environment HTTP/1.1\u001b[0m\" 200 -\n"
     ]
    },
    {
     "name": "stdout",
     "output_type": "stream",
     "text": [
      "INFO:tensorflow:Plugin listing: is_active() for core took 0.000 seconds\n"
     ]
    },
    {
     "name": "stderr",
     "output_type": "stream",
     "text": [
      "172.20.40.81 - - [26/Sep/2018 00:31:34] \"\u001b[37mGET /data/runs HTTP/1.1\u001b[0m\" 200 -\n"
     ]
    },
    {
     "name": "stdout",
     "output_type": "stream",
     "text": [
      "INFO:tensorflow:Plugin listing: is_active() for beholder took 0.001 seconds\n"
     ]
    },
    {
     "name": "stderr",
     "output_type": "stream",
     "text": [
      "172.20.40.81 - - [26/Sep/2018 00:31:34] \"\u001b[37mGET /data/experiments HTTP/1.1\u001b[0m\" 200 -\n"
     ]
    },
    {
     "name": "stdout",
     "output_type": "stream",
     "text": [
      "INFO:tensorflow:Plugin listing: is_active() for scalars took 0.000 seconds\n",
      "INFO:tensorflow:Plugin listing: is_active() for custom_scalars took 0.000 seconds\n",
      "INFO:tensorflow:Plugin listing: is_active() for images took 0.000 seconds\n",
      "INFO:tensorflow:Plugin listing: is_active() for audio took 0.000 seconds\n",
      "INFO:tensorflow:Plugin listing: is_active() for graphs took 0.000 seconds\n",
      "INFO:tensorflow:Plugin listing: is_active() for distributions took 0.010 seconds\n",
      "INFO:tensorflow:Plugin listing: is_active() for histograms took 0.007 seconds\n",
      "INFO:tensorflow:Plugin listing: is_active() for pr_curves took 0.001 seconds\n",
      "INFO:tensorflow:Plugin listing: is_active() for projector took 0.001 seconds\n",
      "INFO:tensorflow:TextPlugin computing index_impl() in a new thread\n",
      "INFO:tensorflow:Plugin listing: is_active() for text took 0.004 seconds\n",
      "INFO:tensorflow:TextPlugin index_impl() thread ending after 0.003 sec\n",
      "INFO:tensorflow:Plugin listing: is_active() for profile took 0.000 seconds\n"
     ]
    },
    {
     "name": "stderr",
     "output_type": "stream",
     "text": [
      "172.20.40.81 - - [26/Sep/2018 00:31:34] \"\u001b[37mGET /data/plugins_listing HTTP/1.1\u001b[0m\" 200 -\n",
      "172.20.40.81 - - [26/Sep/2018 00:31:34] \"\u001b[37mGET /data/plugin/scalars/tags HTTP/1.1\u001b[0m\" 200 -\n",
      "172.20.40.81 - - [26/Sep/2018 00:31:34] \"\u001b[37mGET /data/plugin/scalars/scalars?run=.&tag=acc HTTP/1.1\u001b[0m\" 200 -\n",
      "172.20.40.81 - - [26/Sep/2018 00:31:34] \"\u001b[37mGET /data/plugin/scalars/scalars?run=.&tag=loss HTTP/1.1\u001b[0m\" 200 -\n",
      "172.20.40.81 - - [26/Sep/2018 00:31:34] \"\u001b[37mGET /data/plugin/scalars/scalars?run=.&tag=val_loss HTTP/1.1\u001b[0m\" 200 -\n"
     ]
    },
    {
     "name": "stdout",
     "output_type": "stream",
     "text": [
      "INFO:tensorflow:TensorBoard reload process beginning\n",
      "INFO:tensorflow:Starting AddRunsFromDirectory: C:\\Users\\rruzzo\\Documents\\GitHub\\Deep_Learning_Work\\module_0\\week_3\\logs\n",
      "INFO:tensorflow:GetLogdirSubdirectories: Starting to list directories via walking.\n",
      "INFO:tensorflow:Adding run from directory C:\\Users\\rruzzo\\Documents\\GitHub\\Deep_Learning_Work\\module_0\\week_3\\logs\n",
      "INFO:tensorflow:Done with AddRunsFromDirectory: C:\\Users\\rruzzo\\Documents\\GitHub\\Deep_Learning_Work\\module_0\\week_3\\logs\n",
      "INFO:tensorflow:TensorBoard reload process: Reload the whole Multiplexer\n",
      "INFO:tensorflow:Beginning EventMultiplexer.Reload()\n",
      "INFO:tensorflow:Reloading runs serially (one after another) on the main thread.\n",
      "INFO:tensorflow:No path found after C:\\Users\\rruzzo\\Documents\\GitHub\\Deep_Learning_Work\\module_0\\week_3\\logs\\events.out.tfevents.1537936210.DESKTOP-V3AEQVL\n",
      "INFO:tensorflow:Finished with EventMultiplexer.Reload()\n",
      "INFO:tensorflow:TensorBoard done reloading. Load took 0.014 secs\n",
      "INFO:tensorflow:TensorBoard reload process beginning\n",
      "INFO:tensorflow:Starting AddRunsFromDirectory: C:\\Users\\rruzzo\\Documents\\GitHub\\Deep_Learning_Work\\module_0\\week_3\\logs\n",
      "INFO:tensorflow:GetLogdirSubdirectories: Starting to list directories via walking.\n",
      "INFO:tensorflow:Adding run from directory C:\\Users\\rruzzo\\Documents\\GitHub\\Deep_Learning_Work\\module_0\\week_3\\logs\n",
      "INFO:tensorflow:Done with AddRunsFromDirectory: C:\\Users\\rruzzo\\Documents\\GitHub\\Deep_Learning_Work\\module_0\\week_3\\logs\n",
      "INFO:tensorflow:TensorBoard reload process: Reload the whole Multiplexer\n",
      "INFO:tensorflow:Beginning EventMultiplexer.Reload()\n",
      "INFO:tensorflow:Reloading runs serially (one after another) on the main thread.\n",
      "INFO:tensorflow:No path found after C:\\Users\\rruzzo\\Documents\\GitHub\\Deep_Learning_Work\\module_0\\week_3\\logs\\events.out.tfevents.1537936210.DESKTOP-V3AEQVL\n",
      "INFO:tensorflow:Finished with EventMultiplexer.Reload()\n",
      "INFO:tensorflow:TensorBoard done reloading. Load took 0.034 secs\n",
      "INFO:tensorflow:TensorBoard reload process beginning\n",
      "INFO:tensorflow:Starting AddRunsFromDirectory: C:\\Users\\rruzzo\\Documents\\GitHub\\Deep_Learning_Work\\module_0\\week_3\\logs\n",
      "INFO:tensorflow:GetLogdirSubdirectories: Starting to list directories via walking.\n",
      "INFO:tensorflow:Adding run from directory C:\\Users\\rruzzo\\Documents\\GitHub\\Deep_Learning_Work\\module_0\\week_3\\logs\n",
      "INFO:tensorflow:Done with AddRunsFromDirectory: C:\\Users\\rruzzo\\Documents\\GitHub\\Deep_Learning_Work\\module_0\\week_3\\logs\n",
      "INFO:tensorflow:TensorBoard reload process: Reload the whole Multiplexer\n",
      "INFO:tensorflow:Beginning EventMultiplexer.Reload()\n",
      "INFO:tensorflow:Reloading runs serially (one after another) on the main thread.\n",
      "INFO:tensorflow:No path found after C:\\Users\\rruzzo\\Documents\\GitHub\\Deep_Learning_Work\\module_0\\week_3\\logs\\events.out.tfevents.1537936210.DESKTOP-V3AEQVL\n",
      "INFO:tensorflow:Finished with EventMultiplexer.Reload()\n",
      "INFO:tensorflow:TensorBoard done reloading. Load took 0.039 secs\n",
      "INFO:tensorflow:TensorBoard reload process beginning\n",
      "INFO:tensorflow:Starting AddRunsFromDirectory: C:\\Users\\rruzzo\\Documents\\GitHub\\Deep_Learning_Work\\module_0\\week_3\\logs\n",
      "INFO:tensorflow:GetLogdirSubdirectories: Starting to list directories via walking.\n",
      "INFO:tensorflow:Adding run from directory C:\\Users\\rruzzo\\Documents\\GitHub\\Deep_Learning_Work\\module_0\\week_3\\logs\n",
      "INFO:tensorflow:Done with AddRunsFromDirectory: C:\\Users\\rruzzo\\Documents\\GitHub\\Deep_Learning_Work\\module_0\\week_3\\logs\n",
      "INFO:tensorflow:TensorBoard reload process: Reload the whole Multiplexer\n",
      "INFO:tensorflow:Beginning EventMultiplexer.Reload()\n",
      "INFO:tensorflow:Reloading runs serially (one after another) on the main thread.\n",
      "INFO:tensorflow:No path found after C:\\Users\\rruzzo\\Documents\\GitHub\\Deep_Learning_Work\\module_0\\week_3\\logs\\events.out.tfevents.1537936210.DESKTOP-V3AEQVL\n",
      "INFO:tensorflow:Finished with EventMultiplexer.Reload()\n",
      "INFO:tensorflow:TensorBoard done reloading. Load took 0.017 secs\n",
      "INFO:tensorflow:TensorBoard reload process beginning\n",
      "INFO:tensorflow:Starting AddRunsFromDirectory: C:\\Users\\rruzzo\\Documents\\GitHub\\Deep_Learning_Work\\module_0\\week_3\\logs\n",
      "INFO:tensorflow:GetLogdirSubdirectories: Starting to list directories via walking.\n",
      "INFO:tensorflow:Adding run from directory C:\\Users\\rruzzo\\Documents\\GitHub\\Deep_Learning_Work\\module_0\\week_3\\logs\n",
      "INFO:tensorflow:Done with AddRunsFromDirectory: C:\\Users\\rruzzo\\Documents\\GitHub\\Deep_Learning_Work\\module_0\\week_3\\logs\n",
      "INFO:tensorflow:TensorBoard reload process: Reload the whole Multiplexer\n",
      "INFO:tensorflow:Beginning EventMultiplexer.Reload()\n",
      "INFO:tensorflow:Reloading runs serially (one after another) on the main thread.\n",
      "INFO:tensorflow:No path found after C:\\Users\\rruzzo\\Documents\\GitHub\\Deep_Learning_Work\\module_0\\week_3\\logs\\events.out.tfevents.1537936210.DESKTOP-V3AEQVL\n",
      "INFO:tensorflow:Finished with EventMultiplexer.Reload()\n",
      "INFO:tensorflow:TensorBoard done reloading. Load took 0.015 secs\n",
      "INFO:tensorflow:TensorBoard reload process beginning\n",
      "INFO:tensorflow:Starting AddRunsFromDirectory: C:\\Users\\rruzzo\\Documents\\GitHub\\Deep_Learning_Work\\module_0\\week_3\\logs\n",
      "INFO:tensorflow:GetLogdirSubdirectories: Starting to list directories via walking.\n",
      "INFO:tensorflow:Adding run from directory C:\\Users\\rruzzo\\Documents\\GitHub\\Deep_Learning_Work\\module_0\\week_3\\logs\n",
      "INFO:tensorflow:Done with AddRunsFromDirectory: C:\\Users\\rruzzo\\Documents\\GitHub\\Deep_Learning_Work\\module_0\\week_3\\logs\n",
      "INFO:tensorflow:TensorBoard reload process: Reload the whole Multiplexer\n",
      "INFO:tensorflow:Beginning EventMultiplexer.Reload()\n",
      "INFO:tensorflow:Reloading runs serially (one after another) on the main thread.\n",
      "INFO:tensorflow:No path found after C:\\Users\\rruzzo\\Documents\\GitHub\\Deep_Learning_Work\\module_0\\week_3\\logs\\events.out.tfevents.1537936210.DESKTOP-V3AEQVL\n",
      "INFO:tensorflow:Finished with EventMultiplexer.Reload()\n",
      "INFO:tensorflow:TensorBoard done reloading. Load took 0.014 secs\n"
     ]
    },
    {
     "name": "stderr",
     "output_type": "stream",
     "text": [
      "172.20.40.81 - - [26/Sep/2018 00:32:04] \"\u001b[37mGET /data/environment HTTP/1.1\u001b[0m\" 200 -\n"
     ]
    },
    {
     "name": "stdout",
     "output_type": "stream",
     "text": [
      "INFO:tensorflow:Plugin listing: is_active() for core took 0.000 seconds\n"
     ]
    },
    {
     "name": "stderr",
     "output_type": "stream",
     "text": [
      "172.20.40.81 - - [26/Sep/2018 00:32:04] \"\u001b[37mGET /data/runs HTTP/1.1\u001b[0m\" 200 -\n"
     ]
    },
    {
     "name": "stdout",
     "output_type": "stream",
     "text": [
      "INFO:tensorflow:Plugin listing: is_active() for beholder took 0.000 seconds\n"
     ]
    },
    {
     "name": "stderr",
     "output_type": "stream",
     "text": [
      "172.20.40.81 - - [26/Sep/2018 00:32:04] \"\u001b[37mGET /data/experiments HTTP/1.1\u001b[0m\" 200 -\n"
     ]
    },
    {
     "name": "stdout",
     "output_type": "stream",
     "text": [
      "INFO:tensorflow:Plugin listing: is_active() for scalars took 0.000 seconds\n",
      "INFO:tensorflow:Plugin listing: is_active() for custom_scalars took 0.000 seconds\n",
      "INFO:tensorflow:Plugin listing: is_active() for images took 0.000 seconds\n",
      "INFO:tensorflow:Plugin listing: is_active() for audio took 0.000 seconds\n",
      "INFO:tensorflow:Plugin listing: is_active() for graphs took 0.000 seconds\n",
      "INFO:tensorflow:Plugin listing: is_active() for distributions took 0.006 seconds\n",
      "INFO:tensorflow:Plugin listing: is_active() for histograms took 0.006 seconds\n",
      "INFO:tensorflow:Plugin listing: is_active() for pr_curves took 0.000 seconds\n",
      "INFO:tensorflow:Plugin listing: is_active() for projector took 0.001 seconds\n",
      "INFO:tensorflow:TextPlugin computing index_impl() in a new thread\n",
      "INFO:tensorflow:Plugin listing: is_active() for text took 0.003 seconds\n",
      "INFO:tensorflow:TextPlugin index_impl() thread ending after 0.004 sec\n",
      "INFO:tensorflow:Plugin listing: is_active() for profile took 0.001 seconds\n"
     ]
    },
    {
     "name": "stderr",
     "output_type": "stream",
     "text": [
      "172.20.40.81 - - [26/Sep/2018 00:32:04] \"\u001b[37mGET /data/plugins_listing HTTP/1.1\u001b[0m\" 200 -\n",
      "172.20.40.81 - - [26/Sep/2018 00:32:04] \"\u001b[37mGET /data/plugin/scalars/tags HTTP/1.1\u001b[0m\" 200 -\n",
      "172.20.40.81 - - [26/Sep/2018 00:32:04] \"\u001b[37mGET /data/plugin/scalars/scalars?run=.&tag=acc HTTP/1.1\u001b[0m\" 200 -\n",
      "172.20.40.81 - - [26/Sep/2018 00:32:04] \"\u001b[37mGET /data/plugin/scalars/scalars?run=.&tag=loss HTTP/1.1\u001b[0m\" 200 -\n",
      "172.20.40.81 - - [26/Sep/2018 00:32:04] \"\u001b[37mGET /data/plugin/scalars/scalars?run=.&tag=val_loss HTTP/1.1\u001b[0m\" 200 -\n"
     ]
    },
    {
     "name": "stdout",
     "output_type": "stream",
     "text": [
      "INFO:tensorflow:TensorBoard reload process beginning\n",
      "INFO:tensorflow:Starting AddRunsFromDirectory: C:\\Users\\rruzzo\\Documents\\GitHub\\Deep_Learning_Work\\module_0\\week_3\\logs\n",
      "INFO:tensorflow:GetLogdirSubdirectories: Starting to list directories via walking.\n",
      "INFO:tensorflow:Adding run from directory C:\\Users\\rruzzo\\Documents\\GitHub\\Deep_Learning_Work\\module_0\\week_3\\logs\n",
      "INFO:tensorflow:Done with AddRunsFromDirectory: C:\\Users\\rruzzo\\Documents\\GitHub\\Deep_Learning_Work\\module_0\\week_3\\logs\n",
      "INFO:tensorflow:TensorBoard reload process: Reload the whole Multiplexer\n",
      "INFO:tensorflow:Beginning EventMultiplexer.Reload()\n",
      "INFO:tensorflow:Reloading runs serially (one after another) on the main thread.\n",
      "INFO:tensorflow:No path found after C:\\Users\\rruzzo\\Documents\\GitHub\\Deep_Learning_Work\\module_0\\week_3\\logs\\events.out.tfevents.1537936210.DESKTOP-V3AEQVL\n",
      "INFO:tensorflow:Finished with EventMultiplexer.Reload()\n",
      "INFO:tensorflow:TensorBoard done reloading. Load took 0.023 secs\n",
      "INFO:tensorflow:TensorBoard reload process beginning\n",
      "INFO:tensorflow:Starting AddRunsFromDirectory: C:\\Users\\rruzzo\\Documents\\GitHub\\Deep_Learning_Work\\module_0\\week_3\\logs\n",
      "INFO:tensorflow:GetLogdirSubdirectories: Starting to list directories via walking.\n",
      "INFO:tensorflow:Adding run from directory C:\\Users\\rruzzo\\Documents\\GitHub\\Deep_Learning_Work\\module_0\\week_3\\logs\n",
      "INFO:tensorflow:Done with AddRunsFromDirectory: C:\\Users\\rruzzo\\Documents\\GitHub\\Deep_Learning_Work\\module_0\\week_3\\logs\n",
      "INFO:tensorflow:TensorBoard reload process: Reload the whole Multiplexer\n",
      "INFO:tensorflow:Beginning EventMultiplexer.Reload()\n",
      "INFO:tensorflow:Reloading runs serially (one after another) on the main thread.\n",
      "INFO:tensorflow:No path found after C:\\Users\\rruzzo\\Documents\\GitHub\\Deep_Learning_Work\\module_0\\week_3\\logs\\events.out.tfevents.1537936210.DESKTOP-V3AEQVL\n",
      "INFO:tensorflow:Finished with EventMultiplexer.Reload()\n",
      "INFO:tensorflow:TensorBoard done reloading. Load took 0.014 secs\n",
      "INFO:tensorflow:TensorBoard reload process beginning\n",
      "INFO:tensorflow:Starting AddRunsFromDirectory: C:\\Users\\rruzzo\\Documents\\GitHub\\Deep_Learning_Work\\module_0\\week_3\\logs\n",
      "INFO:tensorflow:GetLogdirSubdirectories: Starting to list directories via walking.\n",
      "INFO:tensorflow:Adding run from directory C:\\Users\\rruzzo\\Documents\\GitHub\\Deep_Learning_Work\\module_0\\week_3\\logs\n",
      "INFO:tensorflow:Done with AddRunsFromDirectory: C:\\Users\\rruzzo\\Documents\\GitHub\\Deep_Learning_Work\\module_0\\week_3\\logs\n",
      "INFO:tensorflow:TensorBoard reload process: Reload the whole Multiplexer\n",
      "INFO:tensorflow:Beginning EventMultiplexer.Reload()\n",
      "INFO:tensorflow:Reloading runs serially (one after another) on the main thread.\n",
      "INFO:tensorflow:No path found after C:\\Users\\rruzzo\\Documents\\GitHub\\Deep_Learning_Work\\module_0\\week_3\\logs\\events.out.tfevents.1537936210.DESKTOP-V3AEQVL\n",
      "INFO:tensorflow:Finished with EventMultiplexer.Reload()\n",
      "INFO:tensorflow:TensorBoard done reloading. Load took 0.014 secs\n",
      "INFO:tensorflow:TensorBoard reload process beginning\n",
      "INFO:tensorflow:Starting AddRunsFromDirectory: C:\\Users\\rruzzo\\Documents\\GitHub\\Deep_Learning_Work\\module_0\\week_3\\logs\n",
      "INFO:tensorflow:GetLogdirSubdirectories: Starting to list directories via walking.\n",
      "INFO:tensorflow:Adding run from directory C:\\Users\\rruzzo\\Documents\\GitHub\\Deep_Learning_Work\\module_0\\week_3\\logs\n",
      "INFO:tensorflow:Done with AddRunsFromDirectory: C:\\Users\\rruzzo\\Documents\\GitHub\\Deep_Learning_Work\\module_0\\week_3\\logs\n",
      "INFO:tensorflow:TensorBoard reload process: Reload the whole Multiplexer\n",
      "INFO:tensorflow:Beginning EventMultiplexer.Reload()\n",
      "INFO:tensorflow:Reloading runs serially (one after another) on the main thread.\n",
      "INFO:tensorflow:No path found after C:\\Users\\rruzzo\\Documents\\GitHub\\Deep_Learning_Work\\module_0\\week_3\\logs\\events.out.tfevents.1537936210.DESKTOP-V3AEQVL\n",
      "INFO:tensorflow:Finished with EventMultiplexer.Reload()\n",
      "INFO:tensorflow:TensorBoard done reloading. Load took 0.017 secs\n",
      "INFO:tensorflow:TensorBoard reload process beginning\n",
      "INFO:tensorflow:Starting AddRunsFromDirectory: C:\\Users\\rruzzo\\Documents\\GitHub\\Deep_Learning_Work\\module_0\\week_3\\logs\n",
      "INFO:tensorflow:GetLogdirSubdirectories: Starting to list directories via walking.\n",
      "INFO:tensorflow:Adding run from directory C:\\Users\\rruzzo\\Documents\\GitHub\\Deep_Learning_Work\\module_0\\week_3\\logs\n",
      "INFO:tensorflow:Done with AddRunsFromDirectory: C:\\Users\\rruzzo\\Documents\\GitHub\\Deep_Learning_Work\\module_0\\week_3\\logs\n",
      "INFO:tensorflow:TensorBoard reload process: Reload the whole Multiplexer\n",
      "INFO:tensorflow:Beginning EventMultiplexer.Reload()\n",
      "INFO:tensorflow:Reloading runs serially (one after another) on the main thread.\n",
      "INFO:tensorflow:No path found after C:\\Users\\rruzzo\\Documents\\GitHub\\Deep_Learning_Work\\module_0\\week_3\\logs\\events.out.tfevents.1537936210.DESKTOP-V3AEQVL\n",
      "INFO:tensorflow:Finished with EventMultiplexer.Reload()\n",
      "INFO:tensorflow:TensorBoard done reloading. Load took 0.014 secs\n",
      "INFO:tensorflow:TensorBoard reload process beginning\n",
      "INFO:tensorflow:Starting AddRunsFromDirectory: C:\\Users\\rruzzo\\Documents\\GitHub\\Deep_Learning_Work\\module_0\\week_3\\logs\n",
      "INFO:tensorflow:GetLogdirSubdirectories: Starting to list directories via walking.\n",
      "INFO:tensorflow:Adding run from directory C:\\Users\\rruzzo\\Documents\\GitHub\\Deep_Learning_Work\\module_0\\week_3\\logs\n",
      "INFO:tensorflow:Done with AddRunsFromDirectory: C:\\Users\\rruzzo\\Documents\\GitHub\\Deep_Learning_Work\\module_0\\week_3\\logs\n",
      "INFO:tensorflow:TensorBoard reload process: Reload the whole Multiplexer\n",
      "INFO:tensorflow:Beginning EventMultiplexer.Reload()\n",
      "INFO:tensorflow:Reloading runs serially (one after another) on the main thread.\n",
      "INFO:tensorflow:No path found after C:\\Users\\rruzzo\\Documents\\GitHub\\Deep_Learning_Work\\module_0\\week_3\\logs\\events.out.tfevents.1537936210.DESKTOP-V3AEQVL\n",
      "INFO:tensorflow:Finished with EventMultiplexer.Reload()\n",
      "INFO:tensorflow:TensorBoard done reloading. Load took 0.014 secs\n"
     ]
    },
    {
     "name": "stderr",
     "output_type": "stream",
     "text": [
      "172.20.40.81 - - [26/Sep/2018 00:32:34] \"\u001b[37mGET /data/environment HTTP/1.1\u001b[0m\" 200 -\n"
     ]
    },
    {
     "name": "stdout",
     "output_type": "stream",
     "text": [
      "INFO:tensorflow:Plugin listing: is_active() for core took 0.000 seconds\n"
     ]
    },
    {
     "name": "stderr",
     "output_type": "stream",
     "text": [
      "172.20.40.81 - - [26/Sep/2018 00:32:34] \"\u001b[37mGET /data/runs HTTP/1.1\u001b[0m\" 200 -\n"
     ]
    },
    {
     "name": "stdout",
     "output_type": "stream",
     "text": [
      "INFO:tensorflow:Plugin listing: is_active() for beholder took 0.005 seconds\n",
      "INFO:tensorflow:Plugin listing: is_active() for scalars took 0.000 seconds\n"
     ]
    },
    {
     "name": "stderr",
     "output_type": "stream",
     "text": [
      "172.20.40.81 - - [26/Sep/2018 00:32:34] \"\u001b[37mGET /data/experiments HTTP/1.1\u001b[0m\" 200 -\n"
     ]
    },
    {
     "name": "stdout",
     "output_type": "stream",
     "text": [
      "INFO:tensorflow:Plugin listing: is_active() for custom_scalars took 0.000 seconds\n",
      "INFO:tensorflow:Plugin listing: is_active() for images took 0.000 seconds\n",
      "INFO:tensorflow:Plugin listing: is_active() for audio took 0.000 seconds\n",
      "INFO:tensorflow:Plugin listing: is_active() for graphs took 0.000 seconds\n",
      "INFO:tensorflow:Plugin listing: is_active() for distributions took 0.007 seconds\n",
      "INFO:tensorflow:Plugin listing: is_active() for histograms took 0.006 seconds\n",
      "INFO:tensorflow:Plugin listing: is_active() for pr_curves took 0.000 seconds\n",
      "INFO:tensorflow:Plugin listing: is_active() for projector took 0.001 seconds\n",
      "INFO:tensorflow:TextPlugin computing index_impl() in a new thread\n",
      "INFO:tensorflow:Plugin listing: is_active() for text took 0.003 seconds\n",
      "INFO:tensorflow:TextPlugin index_impl() thread ending after 0.004 sec\n",
      "INFO:tensorflow:Plugin listing: is_active() for profile took 0.001 seconds\n"
     ]
    },
    {
     "name": "stderr",
     "output_type": "stream",
     "text": [
      "172.20.40.81 - - [26/Sep/2018 00:32:34] \"\u001b[37mGET /data/plugins_listing HTTP/1.1\u001b[0m\" 200 -\n",
      "172.20.40.81 - - [26/Sep/2018 00:32:34] \"\u001b[37mGET /data/plugin/scalars/tags HTTP/1.1\u001b[0m\" 200 -\n",
      "172.20.40.81 - - [26/Sep/2018 00:32:34] \"\u001b[37mGET /data/plugin/scalars/scalars?run=.&tag=acc HTTP/1.1\u001b[0m\" 200 -\n",
      "172.20.40.81 - - [26/Sep/2018 00:32:34] \"\u001b[37mGET /data/plugin/scalars/scalars?run=.&tag=loss HTTP/1.1\u001b[0m\" 200 -\n",
      "172.20.40.81 - - [26/Sep/2018 00:32:34] \"\u001b[37mGET /data/plugin/scalars/scalars?run=.&tag=val_loss HTTP/1.1\u001b[0m\" 200 -\n"
     ]
    },
    {
     "name": "stdout",
     "output_type": "stream",
     "text": [
      "INFO:tensorflow:TensorBoard reload process beginning\n",
      "INFO:tensorflow:Starting AddRunsFromDirectory: C:\\Users\\rruzzo\\Documents\\GitHub\\Deep_Learning_Work\\module_0\\week_3\\logs\n",
      "INFO:tensorflow:GetLogdirSubdirectories: Starting to list directories via walking.\n",
      "INFO:tensorflow:Adding run from directory C:\\Users\\rruzzo\\Documents\\GitHub\\Deep_Learning_Work\\module_0\\week_3\\logs\n",
      "INFO:tensorflow:Done with AddRunsFromDirectory: C:\\Users\\rruzzo\\Documents\\GitHub\\Deep_Learning_Work\\module_0\\week_3\\logs\n",
      "INFO:tensorflow:TensorBoard reload process: Reload the whole Multiplexer\n",
      "INFO:tensorflow:Beginning EventMultiplexer.Reload()\n",
      "INFO:tensorflow:Reloading runs serially (one after another) on the main thread.\n",
      "INFO:tensorflow:No path found after C:\\Users\\rruzzo\\Documents\\GitHub\\Deep_Learning_Work\\module_0\\week_3\\logs\\events.out.tfevents.1537936210.DESKTOP-V3AEQVL\n",
      "INFO:tensorflow:Finished with EventMultiplexer.Reload()\n",
      "INFO:tensorflow:TensorBoard done reloading. Load took 0.013 secs\n",
      "INFO:tensorflow:TensorBoard reload process beginning\n",
      "INFO:tensorflow:Starting AddRunsFromDirectory: C:\\Users\\rruzzo\\Documents\\GitHub\\Deep_Learning_Work\\module_0\\week_3\\logs\n",
      "INFO:tensorflow:GetLogdirSubdirectories: Starting to list directories via walking.\n",
      "INFO:tensorflow:Adding run from directory C:\\Users\\rruzzo\\Documents\\GitHub\\Deep_Learning_Work\\module_0\\week_3\\logs\n",
      "INFO:tensorflow:Done with AddRunsFromDirectory: C:\\Users\\rruzzo\\Documents\\GitHub\\Deep_Learning_Work\\module_0\\week_3\\logs\n",
      "INFO:tensorflow:TensorBoard reload process: Reload the whole Multiplexer\n",
      "INFO:tensorflow:Beginning EventMultiplexer.Reload()\n",
      "INFO:tensorflow:Reloading runs serially (one after another) on the main thread.\n",
      "INFO:tensorflow:No path found after C:\\Users\\rruzzo\\Documents\\GitHub\\Deep_Learning_Work\\module_0\\week_3\\logs\\events.out.tfevents.1537936210.DESKTOP-V3AEQVL\n",
      "INFO:tensorflow:Finished with EventMultiplexer.Reload()\n",
      "INFO:tensorflow:TensorBoard done reloading. Load took 0.034 secs\n",
      "INFO:tensorflow:TensorBoard reload process beginning\n",
      "INFO:tensorflow:Starting AddRunsFromDirectory: C:\\Users\\rruzzo\\Documents\\GitHub\\Deep_Learning_Work\\module_0\\week_3\\logs\n",
      "INFO:tensorflow:GetLogdirSubdirectories: Starting to list directories via walking.\n",
      "INFO:tensorflow:Adding run from directory C:\\Users\\rruzzo\\Documents\\GitHub\\Deep_Learning_Work\\module_0\\week_3\\logs\n",
      "INFO:tensorflow:Done with AddRunsFromDirectory: C:\\Users\\rruzzo\\Documents\\GitHub\\Deep_Learning_Work\\module_0\\week_3\\logs\n",
      "INFO:tensorflow:TensorBoard reload process: Reload the whole Multiplexer\n",
      "INFO:tensorflow:Beginning EventMultiplexer.Reload()\n",
      "INFO:tensorflow:Reloading runs serially (one after another) on the main thread.\n",
      "INFO:tensorflow:No path found after C:\\Users\\rruzzo\\Documents\\GitHub\\Deep_Learning_Work\\module_0\\week_3\\logs\\events.out.tfevents.1537936210.DESKTOP-V3AEQVL\n",
      "INFO:tensorflow:Finished with EventMultiplexer.Reload()\n",
      "INFO:tensorflow:TensorBoard done reloading. Load took 0.016 secs\n",
      "INFO:tensorflow:TensorBoard reload process beginning\n",
      "INFO:tensorflow:Starting AddRunsFromDirectory: C:\\Users\\rruzzo\\Documents\\GitHub\\Deep_Learning_Work\\module_0\\week_3\\logs\n",
      "INFO:tensorflow:GetLogdirSubdirectories: Starting to list directories via walking.\n",
      "INFO:tensorflow:Adding run from directory C:\\Users\\rruzzo\\Documents\\GitHub\\Deep_Learning_Work\\module_0\\week_3\\logs\n",
      "INFO:tensorflow:Done with AddRunsFromDirectory: C:\\Users\\rruzzo\\Documents\\GitHub\\Deep_Learning_Work\\module_0\\week_3\\logs\n",
      "INFO:tensorflow:TensorBoard reload process: Reload the whole Multiplexer\n",
      "INFO:tensorflow:Beginning EventMultiplexer.Reload()\n",
      "INFO:tensorflow:Reloading runs serially (one after another) on the main thread.\n",
      "INFO:tensorflow:No path found after C:\\Users\\rruzzo\\Documents\\GitHub\\Deep_Learning_Work\\module_0\\week_3\\logs\\events.out.tfevents.1537936210.DESKTOP-V3AEQVL\n",
      "INFO:tensorflow:Finished with EventMultiplexer.Reload()\n",
      "INFO:tensorflow:TensorBoard done reloading. Load took 0.017 secs\n",
      "INFO:tensorflow:TensorBoard reload process beginning\n",
      "INFO:tensorflow:Starting AddRunsFromDirectory: C:\\Users\\rruzzo\\Documents\\GitHub\\Deep_Learning_Work\\module_0\\week_3\\logs\n",
      "INFO:tensorflow:GetLogdirSubdirectories: Starting to list directories via walking.\n",
      "INFO:tensorflow:Adding run from directory C:\\Users\\rruzzo\\Documents\\GitHub\\Deep_Learning_Work\\module_0\\week_3\\logs\n",
      "INFO:tensorflow:Done with AddRunsFromDirectory: C:\\Users\\rruzzo\\Documents\\GitHub\\Deep_Learning_Work\\module_0\\week_3\\logs\n",
      "INFO:tensorflow:TensorBoard reload process: Reload the whole Multiplexer\n",
      "INFO:tensorflow:Beginning EventMultiplexer.Reload()\n",
      "INFO:tensorflow:Reloading runs serially (one after another) on the main thread.\n",
      "INFO:tensorflow:Directory watcher advancing from C:\\Users\\rruzzo\\Documents\\GitHub\\Deep_Learning_Work\\module_0\\week_3\\logs\\events.out.tfevents.1537936210.DESKTOP-V3AEQVL to C:\\Users\\rruzzo\\Documents\\GitHub\\Deep_Learning_Work\\module_0\\week_3\\logs\\events.out.tfevents.1537936373.DESKTOP-V3AEQVL\n",
      "WARNING:tensorflow:Found more than one graph event per run, or there was a metagraph containing a graph_def, as well as one or more graph events.  Overwriting the graph with the newest event.\n",
      "WARNING:tensorflow:Found more than one metagraph event per run. Overwriting the metagraph with the newest event.\n"
     ]
    },
    {
     "name": "stderr",
     "output_type": "stream",
     "text": [
      "172.20.40.81 - - [26/Sep/2018 00:33:04] \"\u001b[37mGET /data/environment HTTP/1.1\u001b[0m\" 200 -\n"
     ]
    },
    {
     "name": "stdout",
     "output_type": "stream",
     "text": [
      "INFO:tensorflow:Plugin listing: is_active() for core took 0.000 seconds\n"
     ]
    },
    {
     "name": "stderr",
     "output_type": "stream",
     "text": [
      "172.20.40.81 - - [26/Sep/2018 00:33:04] \"\u001b[37mGET /data/runs HTTP/1.1\u001b[0m\" 200 -\n"
     ]
    },
    {
     "name": "stdout",
     "output_type": "stream",
     "text": [
      "INFO:tensorflow:Plugin listing: is_active() for beholder took 0.008 seconds\n"
     ]
    },
    {
     "name": "stderr",
     "output_type": "stream",
     "text": [
      "172.20.40.81 - - [26/Sep/2018 00:33:04] \"\u001b[37mGET /data/experiments HTTP/1.1\u001b[0m\" 200 -\n"
     ]
    },
    {
     "name": "stdout",
     "output_type": "stream",
     "text": [
      "INFO:tensorflow:Plugin listing: is_active() for scalars took 0.000 seconds\n",
      "INFO:tensorflow:Plugin listing: is_active() for custom_scalars took 0.000 seconds\n",
      "INFO:tensorflow:Plugin listing: is_active() for images took 0.000 seconds\n",
      "INFO:tensorflow:Plugin listing: is_active() for audio took 0.000 seconds\n",
      "INFO:tensorflow:Plugin listing: is_active() for graphs took 0.000 seconds\n",
      "INFO:tensorflow:Plugin listing: is_active() for distributions took 0.013 seconds\n",
      "INFO:tensorflow:Plugin listing: is_active() for histograms took 0.006 seconds\n",
      "INFO:tensorflow:Plugin listing: is_active() for pr_curves took 0.000 seconds\n",
      "INFO:tensorflow:Plugin listing: is_active() for projector took 0.010 seconds\n",
      "INFO:tensorflow:TextPlugin computing index_impl() in a new thread\n",
      "INFO:tensorflow:Plugin listing: is_active() for text took 0.024 seconds\n",
      "INFO:tensorflow:TextPlugin index_impl() thread ending after 0.039 sec\n",
      "INFO:tensorflow:Plugin listing: is_active() for profile took 0.001 seconds\n"
     ]
    },
    {
     "name": "stderr",
     "output_type": "stream",
     "text": [
      "172.20.40.81 - - [26/Sep/2018 00:33:04] \"\u001b[37mGET /data/plugins_listing HTTP/1.1\u001b[0m\" 200 -\n",
      "172.20.40.81 - - [26/Sep/2018 00:33:04] \"\u001b[37mGET /data/plugin/scalars/tags HTTP/1.1\u001b[0m\" 200 -\n",
      "172.20.40.81 - - [26/Sep/2018 00:33:04] \"\u001b[37mGET /data/plugin/scalars/scalars?run=.&tag=acc HTTP/1.1\u001b[0m\" 200 -\n",
      "172.20.40.81 - - [26/Sep/2018 00:33:04] \"\u001b[37mGET /data/plugin/scalars/scalars?run=.&tag=loss HTTP/1.1\u001b[0m\" 200 -\n",
      "172.20.40.81 - - [26/Sep/2018 00:33:04] \"\u001b[37mGET /data/plugin/scalars/scalars?run=.&tag=val_loss HTTP/1.1\u001b[0m\" 200 -\n",
      "172.20.40.81 - - [26/Sep/2018 00:33:34] \"\u001b[37mGET /data/environment HTTP/1.1\u001b[0m\" 200 -\n"
     ]
    },
    {
     "name": "stdout",
     "output_type": "stream",
     "text": [
      "INFO:tensorflow:Plugin listing: is_active() for core took 0.000 seconds\n"
     ]
    },
    {
     "name": "stderr",
     "output_type": "stream",
     "text": [
      "172.20.40.81 - - [26/Sep/2018 00:33:34] \"\u001b[37mGET /data/runs HTTP/1.1\u001b[0m\" 200 -\n"
     ]
    },
    {
     "name": "stdout",
     "output_type": "stream",
     "text": [
      "INFO:tensorflow:Plugin listing: is_active() for beholder took 0.003 seconds\n"
     ]
    },
    {
     "name": "stderr",
     "output_type": "stream",
     "text": [
      "172.20.40.81 - - [26/Sep/2018 00:33:34] \"\u001b[37mGET /data/experiments HTTP/1.1\u001b[0m\" 200 -\n"
     ]
    },
    {
     "name": "stdout",
     "output_type": "stream",
     "text": [
      "INFO:tensorflow:Plugin listing: is_active() for scalars took 0.000 seconds\n",
      "INFO:tensorflow:Plugin listing: is_active() for custom_scalars took 0.000 seconds\n",
      "INFO:tensorflow:Plugin listing: is_active() for images took 0.000 seconds\n",
      "INFO:tensorflow:Plugin listing: is_active() for audio took 0.000 seconds\n",
      "INFO:tensorflow:Plugin listing: is_active() for graphs took 0.000 seconds\n",
      "INFO:tensorflow:Plugin listing: is_active() for distributions took 0.016 seconds\n",
      "INFO:tensorflow:Plugin listing: is_active() for histograms took 0.014 seconds\n",
      "INFO:tensorflow:Plugin listing: is_active() for pr_curves took 0.000 seconds\n",
      "INFO:tensorflow:Plugin listing: is_active() for projector took 0.018 seconds\n",
      "INFO:tensorflow:TextPlugin computing index_impl() in a new thread\n",
      "INFO:tensorflow:Plugin listing: is_active() for text took 0.008 seconds\n",
      "INFO:tensorflow:TextPlugin index_impl() thread ending after 0.045 sec\n",
      "INFO:tensorflow:Plugin listing: is_active() for profile took 0.001 seconds\n"
     ]
    },
    {
     "name": "stderr",
     "output_type": "stream",
     "text": [
      "172.20.40.81 - - [26/Sep/2018 00:33:34] \"\u001b[37mGET /data/plugins_listing HTTP/1.1\u001b[0m\" 200 -\n",
      "172.20.40.81 - - [26/Sep/2018 00:33:34] \"\u001b[37mGET /data/plugin/scalars/tags HTTP/1.1\u001b[0m\" 200 -\n",
      "172.20.40.81 - - [26/Sep/2018 00:33:34] \"\u001b[37mGET /data/plugin/scalars/scalars?run=.&tag=acc HTTP/1.1\u001b[0m\" 200 -\n",
      "172.20.40.81 - - [26/Sep/2018 00:33:34] \"\u001b[37mGET /data/plugin/scalars/scalars?run=.&tag=loss HTTP/1.1\u001b[0m\" 200 -\n",
      "172.20.40.81 - - [26/Sep/2018 00:33:34] \"\u001b[37mGET /data/plugin/scalars/scalars?run=.&tag=val_loss HTTP/1.1\u001b[0m\" 200 -\n"
     ]
    },
    {
     "name": "stdout",
     "output_type": "stream",
     "text": [
      "INFO:tensorflow:No path found after C:\\Users\\rruzzo\\Documents\\GitHub\\Deep_Learning_Work\\module_0\\week_3\\logs\\events.out.tfevents.1537936373.DESKTOP-V3AEQVL\n",
      "INFO:tensorflow:Finished with EventMultiplexer.Reload()\n",
      "INFO:tensorflow:TensorBoard done reloading. Load took 63.420 secs\n"
     ]
    },
    {
     "name": "stderr",
     "output_type": "stream",
     "text": [
      "172.20.40.81 - - [26/Sep/2018 00:34:04] \"\u001b[37mGET /data/environment HTTP/1.1\u001b[0m\" 200 -\n"
     ]
    },
    {
     "name": "stdout",
     "output_type": "stream",
     "text": [
      "INFO:tensorflow:Plugin listing: is_active() for core took 0.000 seconds\n"
     ]
    },
    {
     "name": "stderr",
     "output_type": "stream",
     "text": [
      "172.20.40.81 - - [26/Sep/2018 00:34:04] \"\u001b[37mGET /data/runs HTTP/1.1\u001b[0m\" 200 -\n"
     ]
    },
    {
     "name": "stdout",
     "output_type": "stream",
     "text": [
      "INFO:tensorflow:Plugin listing: is_active() for beholder took 0.001 seconds\n",
      "INFO:tensorflow:Plugin listing: is_active() for scalars took 0.000 seconds\n"
     ]
    },
    {
     "name": "stderr",
     "output_type": "stream",
     "text": [
      "172.20.40.81 - - [26/Sep/2018 00:34:04] \"\u001b[37mGET /data/experiments HTTP/1.1\u001b[0m\" 200 -\n"
     ]
    },
    {
     "name": "stdout",
     "output_type": "stream",
     "text": [
      "INFO:tensorflow:Plugin listing: is_active() for custom_scalars took 0.000 seconds\n",
      "INFO:tensorflow:Plugin listing: is_active() for images took 0.000 seconds\n",
      "INFO:tensorflow:Plugin listing: is_active() for audio took 0.000 seconds\n",
      "INFO:tensorflow:Plugin listing: is_active() for graphs took 0.000 seconds\n",
      "INFO:tensorflow:Plugin listing: is_active() for distributions took 0.013 seconds\n",
      "INFO:tensorflow:Plugin listing: is_active() for histograms took 0.006 seconds\n",
      "INFO:tensorflow:Plugin listing: is_active() for pr_curves took 0.000 seconds\n",
      "INFO:tensorflow:Plugin listing: is_active() for projector took 0.001 seconds\n",
      "INFO:tensorflow:TextPlugin computing index_impl() in a new thread\n",
      "INFO:tensorflow:Plugin listing: is_active() for text took 0.003 seconds\n",
      "INFO:tensorflow:TextPlugin index_impl() thread ending after 0.003 sec\n",
      "INFO:tensorflow:Plugin listing: is_active() for profile took 0.001 seconds\n"
     ]
    },
    {
     "name": "stderr",
     "output_type": "stream",
     "text": [
      "172.20.40.81 - - [26/Sep/2018 00:34:04] \"\u001b[37mGET /data/plugins_listing HTTP/1.1\u001b[0m\" 200 -\n",
      "172.20.40.81 - - [26/Sep/2018 00:34:04] \"\u001b[37mGET /data/plugin/scalars/tags HTTP/1.1\u001b[0m\" 200 -\n",
      "172.20.40.81 - - [26/Sep/2018 00:34:04] \"\u001b[37mGET /data/plugin/scalars/scalars?run=.&tag=acc HTTP/1.1\u001b[0m\" 200 -\n",
      "172.20.40.81 - - [26/Sep/2018 00:34:04] \"\u001b[37mGET /data/plugin/scalars/scalars?run=.&tag=loss HTTP/1.1\u001b[0m\" 200 -\n",
      "172.20.40.81 - - [26/Sep/2018 00:34:04] \"\u001b[37mGET /data/plugin/scalars/scalars?run=.&tag=val_loss HTTP/1.1\u001b[0m\" 200 -\n"
     ]
    },
    {
     "name": "stdout",
     "output_type": "stream",
     "text": [
      "INFO:tensorflow:TensorBoard reload process beginning\n",
      "INFO:tensorflow:Starting AddRunsFromDirectory: C:\\Users\\rruzzo\\Documents\\GitHub\\Deep_Learning_Work\\module_0\\week_3\\logs\n",
      "INFO:tensorflow:GetLogdirSubdirectories: Starting to list directories via walking.\n",
      "INFO:tensorflow:Adding run from directory C:\\Users\\rruzzo\\Documents\\GitHub\\Deep_Learning_Work\\module_0\\week_3\\logs\n",
      "INFO:tensorflow:Done with AddRunsFromDirectory: C:\\Users\\rruzzo\\Documents\\GitHub\\Deep_Learning_Work\\module_0\\week_3\\logs\n",
      "INFO:tensorflow:TensorBoard reload process: Reload the whole Multiplexer\n",
      "INFO:tensorflow:Beginning EventMultiplexer.Reload()\n",
      "INFO:tensorflow:Reloading runs serially (one after another) on the main thread.\n",
      "INFO:tensorflow:No path found after C:\\Users\\rruzzo\\Documents\\GitHub\\Deep_Learning_Work\\module_0\\week_3\\logs\\events.out.tfevents.1537936373.DESKTOP-V3AEQVL\n",
      "INFO:tensorflow:Finished with EventMultiplexer.Reload()\n",
      "INFO:tensorflow:TensorBoard done reloading. Load took 0.024 secs\n",
      "INFO:tensorflow:TensorBoard reload process beginning\n",
      "INFO:tensorflow:Starting AddRunsFromDirectory: C:\\Users\\rruzzo\\Documents\\GitHub\\Deep_Learning_Work\\module_0\\week_3\\logs\n",
      "INFO:tensorflow:GetLogdirSubdirectories: Starting to list directories via walking.\n",
      "INFO:tensorflow:Adding run from directory C:\\Users\\rruzzo\\Documents\\GitHub\\Deep_Learning_Work\\module_0\\week_3\\logs\n",
      "INFO:tensorflow:Done with AddRunsFromDirectory: C:\\Users\\rruzzo\\Documents\\GitHub\\Deep_Learning_Work\\module_0\\week_3\\logs\n",
      "INFO:tensorflow:TensorBoard reload process: Reload the whole Multiplexer\n",
      "INFO:tensorflow:Beginning EventMultiplexer.Reload()\n",
      "INFO:tensorflow:Reloading runs serially (one after another) on the main thread.\n",
      "INFO:tensorflow:No path found after C:\\Users\\rruzzo\\Documents\\GitHub\\Deep_Learning_Work\\module_0\\week_3\\logs\\events.out.tfevents.1537936373.DESKTOP-V3AEQVL\n",
      "INFO:tensorflow:Finished with EventMultiplexer.Reload()\n",
      "INFO:tensorflow:TensorBoard done reloading. Load took 0.015 secs\n",
      "INFO:tensorflow:TensorBoard reload process beginning\n",
      "INFO:tensorflow:Starting AddRunsFromDirectory: C:\\Users\\rruzzo\\Documents\\GitHub\\Deep_Learning_Work\\module_0\\week_3\\logs\n",
      "INFO:tensorflow:GetLogdirSubdirectories: Starting to list directories via walking.\n",
      "INFO:tensorflow:Adding run from directory C:\\Users\\rruzzo\\Documents\\GitHub\\Deep_Learning_Work\\module_0\\week_3\\logs\n",
      "INFO:tensorflow:Done with AddRunsFromDirectory: C:\\Users\\rruzzo\\Documents\\GitHub\\Deep_Learning_Work\\module_0\\week_3\\logs\n",
      "INFO:tensorflow:TensorBoard reload process: Reload the whole Multiplexer\n",
      "INFO:tensorflow:Beginning EventMultiplexer.Reload()\n",
      "INFO:tensorflow:Reloading runs serially (one after another) on the main thread.\n",
      "INFO:tensorflow:No path found after C:\\Users\\rruzzo\\Documents\\GitHub\\Deep_Learning_Work\\module_0\\week_3\\logs\\events.out.tfevents.1537936373.DESKTOP-V3AEQVL\n",
      "INFO:tensorflow:Finished with EventMultiplexer.Reload()\n",
      "INFO:tensorflow:TensorBoard done reloading. Load took 0.014 secs\n",
      "INFO:tensorflow:TensorBoard reload process beginning\n",
      "INFO:tensorflow:Starting AddRunsFromDirectory: C:\\Users\\rruzzo\\Documents\\GitHub\\Deep_Learning_Work\\module_0\\week_3\\logs\n",
      "INFO:tensorflow:GetLogdirSubdirectories: Starting to list directories via walking.\n",
      "INFO:tensorflow:Adding run from directory C:\\Users\\rruzzo\\Documents\\GitHub\\Deep_Learning_Work\\module_0\\week_3\\logs\n",
      "INFO:tensorflow:Done with AddRunsFromDirectory: C:\\Users\\rruzzo\\Documents\\GitHub\\Deep_Learning_Work\\module_0\\week_3\\logs\n",
      "INFO:tensorflow:TensorBoard reload process: Reload the whole Multiplexer\n",
      "INFO:tensorflow:Beginning EventMultiplexer.Reload()\n",
      "INFO:tensorflow:Reloading runs serially (one after another) on the main thread.\n",
      "INFO:tensorflow:No path found after C:\\Users\\rruzzo\\Documents\\GitHub\\Deep_Learning_Work\\module_0\\week_3\\logs\\events.out.tfevents.1537936373.DESKTOP-V3AEQVL\n",
      "INFO:tensorflow:Finished with EventMultiplexer.Reload()\n",
      "INFO:tensorflow:TensorBoard done reloading. Load took 0.019 secs\n",
      "INFO:tensorflow:TensorBoard reload process beginning\n",
      "INFO:tensorflow:Starting AddRunsFromDirectory: C:\\Users\\rruzzo\\Documents\\GitHub\\Deep_Learning_Work\\module_0\\week_3\\logs\n",
      "INFO:tensorflow:GetLogdirSubdirectories: Starting to list directories via walking.\n",
      "INFO:tensorflow:Adding run from directory C:\\Users\\rruzzo\\Documents\\GitHub\\Deep_Learning_Work\\module_0\\week_3\\logs\n",
      "INFO:tensorflow:Done with AddRunsFromDirectory: C:\\Users\\rruzzo\\Documents\\GitHub\\Deep_Learning_Work\\module_0\\week_3\\logs\n",
      "INFO:tensorflow:TensorBoard reload process: Reload the whole Multiplexer\n",
      "INFO:tensorflow:Beginning EventMultiplexer.Reload()\n",
      "INFO:tensorflow:Reloading runs serially (one after another) on the main thread.\n",
      "INFO:tensorflow:No path found after C:\\Users\\rruzzo\\Documents\\GitHub\\Deep_Learning_Work\\module_0\\week_3\\logs\\events.out.tfevents.1537936373.DESKTOP-V3AEQVL\n",
      "INFO:tensorflow:Finished with EventMultiplexer.Reload()\n",
      "INFO:tensorflow:TensorBoard done reloading. Load took 0.016 secs\n",
      "INFO:tensorflow:TensorBoard reload process beginning\n",
      "INFO:tensorflow:Starting AddRunsFromDirectory: C:\\Users\\rruzzo\\Documents\\GitHub\\Deep_Learning_Work\\module_0\\week_3\\logs\n",
      "INFO:tensorflow:GetLogdirSubdirectories: Starting to list directories via walking.\n",
      "INFO:tensorflow:Adding run from directory C:\\Users\\rruzzo\\Documents\\GitHub\\Deep_Learning_Work\\module_0\\week_3\\logs\n",
      "INFO:tensorflow:Done with AddRunsFromDirectory: C:\\Users\\rruzzo\\Documents\\GitHub\\Deep_Learning_Work\\module_0\\week_3\\logs\n",
      "INFO:tensorflow:TensorBoard reload process: Reload the whole Multiplexer\n",
      "INFO:tensorflow:Beginning EventMultiplexer.Reload()\n",
      "INFO:tensorflow:Reloading runs serially (one after another) on the main thread.\n",
      "INFO:tensorflow:No path found after C:\\Users\\rruzzo\\Documents\\GitHub\\Deep_Learning_Work\\module_0\\week_3\\logs\\events.out.tfevents.1537936373.DESKTOP-V3AEQVL\n",
      "INFO:tensorflow:Finished with EventMultiplexer.Reload()\n",
      "INFO:tensorflow:TensorBoard done reloading. Load took 0.035 secs\n",
      "INFO:tensorflow:Plugin listing: is_active() for core took 0.000 seconds\n"
     ]
    },
    {
     "name": "stderr",
     "output_type": "stream",
     "text": [
      "172.20.40.81 - - [26/Sep/2018 00:34:34] \"\u001b[37mGET /data/environment HTTP/1.1\u001b[0m\" 200 -\n"
     ]
    },
    {
     "name": "stdout",
     "output_type": "stream",
     "text": [
      "INFO:tensorflow:Plugin listing: is_active() for beholder took 0.008 seconds\n"
     ]
    },
    {
     "name": "stderr",
     "output_type": "stream",
     "text": [
      "172.20.40.81 - - [26/Sep/2018 00:34:34] \"\u001b[37mGET /data/runs HTTP/1.1\u001b[0m\" 200 -\n",
      "172.20.40.81 - - [26/Sep/2018 00:34:34] \"\u001b[37mGET /data/experiments HTTP/1.1\u001b[0m\" 200 -\n"
     ]
    },
    {
     "name": "stdout",
     "output_type": "stream",
     "text": [
      "INFO:tensorflow:Plugin listing: is_active() for scalars took 0.000 seconds\n",
      "INFO:tensorflow:Plugin listing: is_active() for custom_scalars took 0.000 seconds\n",
      "INFO:tensorflow:Plugin listing: is_active() for images took 0.000 seconds\n",
      "INFO:tensorflow:Plugin listing: is_active() for audio took 0.000 seconds\n",
      "INFO:tensorflow:Plugin listing: is_active() for graphs took 0.000 seconds\n",
      "INFO:tensorflow:Plugin listing: is_active() for distributions took 0.010 seconds\n",
      "INFO:tensorflow:Plugin listing: is_active() for histograms took 0.009 seconds\n",
      "INFO:tensorflow:Plugin listing: is_active() for pr_curves took 0.000 seconds\n",
      "INFO:tensorflow:Plugin listing: is_active() for projector took 0.001 seconds\n",
      "INFO:tensorflow:TextPlugin computing index_impl() in a new thread\n",
      "INFO:tensorflow:Plugin listing: is_active() for text took 0.003 seconds\n",
      "INFO:tensorflow:TextPlugin index_impl() thread ending after 0.004 sec\n",
      "INFO:tensorflow:Plugin listing: is_active() for profile took 0.001 seconds\n"
     ]
    },
    {
     "name": "stderr",
     "output_type": "stream",
     "text": [
      "172.20.40.81 - - [26/Sep/2018 00:34:34] \"\u001b[37mGET /data/plugins_listing HTTP/1.1\u001b[0m\" 200 -\n",
      "172.20.40.81 - - [26/Sep/2018 00:34:34] \"\u001b[37mGET /data/plugin/scalars/tags HTTP/1.1\u001b[0m\" 200 -\n",
      "172.20.40.81 - - [26/Sep/2018 00:34:34] \"\u001b[37mGET /data/plugin/scalars/scalars?run=.&tag=acc HTTP/1.1\u001b[0m\" 200 -\n",
      "172.20.40.81 - - [26/Sep/2018 00:34:34] \"\u001b[37mGET /data/plugin/scalars/scalars?run=.&tag=loss HTTP/1.1\u001b[0m\" 200 -\n",
      "172.20.40.81 - - [26/Sep/2018 00:34:34] \"\u001b[37mGET /data/plugin/scalars/scalars?run=.&tag=val_loss HTTP/1.1\u001b[0m\" 200 -\n"
     ]
    },
    {
     "name": "stdout",
     "output_type": "stream",
     "text": [
      "INFO:tensorflow:TensorBoard reload process beginning\n",
      "INFO:tensorflow:Starting AddRunsFromDirectory: C:\\Users\\rruzzo\\Documents\\GitHub\\Deep_Learning_Work\\module_0\\week_3\\logs\n",
      "INFO:tensorflow:GetLogdirSubdirectories: Starting to list directories via walking.\n",
      "INFO:tensorflow:Adding run from directory C:\\Users\\rruzzo\\Documents\\GitHub\\Deep_Learning_Work\\module_0\\week_3\\logs\n",
      "INFO:tensorflow:Done with AddRunsFromDirectory: C:\\Users\\rruzzo\\Documents\\GitHub\\Deep_Learning_Work\\module_0\\week_3\\logs\n",
      "INFO:tensorflow:TensorBoard reload process: Reload the whole Multiplexer\n",
      "INFO:tensorflow:Beginning EventMultiplexer.Reload()\n",
      "INFO:tensorflow:Reloading runs serially (one after another) on the main thread.\n",
      "INFO:tensorflow:No path found after C:\\Users\\rruzzo\\Documents\\GitHub\\Deep_Learning_Work\\module_0\\week_3\\logs\\events.out.tfevents.1537936373.DESKTOP-V3AEQVL\n",
      "INFO:tensorflow:Finished with EventMultiplexer.Reload()\n",
      "INFO:tensorflow:TensorBoard done reloading. Load took 0.039 secs\n",
      "INFO:tensorflow:TensorBoard reload process beginning\n",
      "INFO:tensorflow:Starting AddRunsFromDirectory: C:\\Users\\rruzzo\\Documents\\GitHub\\Deep_Learning_Work\\module_0\\week_3\\logs\n",
      "INFO:tensorflow:GetLogdirSubdirectories: Starting to list directories via walking.\n",
      "INFO:tensorflow:Adding run from directory C:\\Users\\rruzzo\\Documents\\GitHub\\Deep_Learning_Work\\module_0\\week_3\\logs\n",
      "INFO:tensorflow:Done with AddRunsFromDirectory: C:\\Users\\rruzzo\\Documents\\GitHub\\Deep_Learning_Work\\module_0\\week_3\\logs\n",
      "INFO:tensorflow:TensorBoard reload process: Reload the whole Multiplexer\n",
      "INFO:tensorflow:Beginning EventMultiplexer.Reload()\n",
      "INFO:tensorflow:Reloading runs serially (one after another) on the main thread.\n",
      "INFO:tensorflow:No path found after C:\\Users\\rruzzo\\Documents\\GitHub\\Deep_Learning_Work\\module_0\\week_3\\logs\\events.out.tfevents.1537936373.DESKTOP-V3AEQVL\n",
      "INFO:tensorflow:Finished with EventMultiplexer.Reload()\n",
      "INFO:tensorflow:TensorBoard done reloading. Load took 0.019 secs\n",
      "INFO:tensorflow:TensorBoard reload process beginning\n",
      "INFO:tensorflow:Starting AddRunsFromDirectory: C:\\Users\\rruzzo\\Documents\\GitHub\\Deep_Learning_Work\\module_0\\week_3\\logs\n",
      "INFO:tensorflow:GetLogdirSubdirectories: Starting to list directories via walking.\n",
      "INFO:tensorflow:Adding run from directory C:\\Users\\rruzzo\\Documents\\GitHub\\Deep_Learning_Work\\module_0\\week_3\\logs\n",
      "INFO:tensorflow:Done with AddRunsFromDirectory: C:\\Users\\rruzzo\\Documents\\GitHub\\Deep_Learning_Work\\module_0\\week_3\\logs\n",
      "INFO:tensorflow:TensorBoard reload process: Reload the whole Multiplexer\n",
      "INFO:tensorflow:Beginning EventMultiplexer.Reload()\n",
      "INFO:tensorflow:Reloading runs serially (one after another) on the main thread.\n",
      "INFO:tensorflow:No path found after C:\\Users\\rruzzo\\Documents\\GitHub\\Deep_Learning_Work\\module_0\\week_3\\logs\\events.out.tfevents.1537936373.DESKTOP-V3AEQVL\n",
      "INFO:tensorflow:Finished with EventMultiplexer.Reload()\n",
      "INFO:tensorflow:TensorBoard done reloading. Load took 0.025 secs\n",
      "INFO:tensorflow:TensorBoard reload process beginning\n",
      "INFO:tensorflow:Starting AddRunsFromDirectory: C:\\Users\\rruzzo\\Documents\\GitHub\\Deep_Learning_Work\\module_0\\week_3\\logs\n",
      "INFO:tensorflow:GetLogdirSubdirectories: Starting to list directories via walking.\n",
      "INFO:tensorflow:Adding run from directory C:\\Users\\rruzzo\\Documents\\GitHub\\Deep_Learning_Work\\module_0\\week_3\\logs\n",
      "INFO:tensorflow:Done with AddRunsFromDirectory: C:\\Users\\rruzzo\\Documents\\GitHub\\Deep_Learning_Work\\module_0\\week_3\\logs\n",
      "INFO:tensorflow:TensorBoard reload process: Reload the whole Multiplexer\n",
      "INFO:tensorflow:Beginning EventMultiplexer.Reload()\n",
      "INFO:tensorflow:Reloading runs serially (one after another) on the main thread.\n",
      "INFO:tensorflow:No path found after C:\\Users\\rruzzo\\Documents\\GitHub\\Deep_Learning_Work\\module_0\\week_3\\logs\\events.out.tfevents.1537936373.DESKTOP-V3AEQVL\n",
      "INFO:tensorflow:Finished with EventMultiplexer.Reload()\n",
      "INFO:tensorflow:TensorBoard done reloading. Load took 0.024 secs\n",
      "INFO:tensorflow:TensorBoard reload process beginning\n",
      "INFO:tensorflow:Starting AddRunsFromDirectory: C:\\Users\\rruzzo\\Documents\\GitHub\\Deep_Learning_Work\\module_0\\week_3\\logs\n",
      "INFO:tensorflow:GetLogdirSubdirectories: Starting to list directories via walking.\n",
      "INFO:tensorflow:Adding run from directory C:\\Users\\rruzzo\\Documents\\GitHub\\Deep_Learning_Work\\module_0\\week_3\\logs\n",
      "INFO:tensorflow:Done with AddRunsFromDirectory: C:\\Users\\rruzzo\\Documents\\GitHub\\Deep_Learning_Work\\module_0\\week_3\\logs\n",
      "INFO:tensorflow:TensorBoard reload process: Reload the whole Multiplexer\n",
      "INFO:tensorflow:Beginning EventMultiplexer.Reload()\n",
      "INFO:tensorflow:Reloading runs serially (one after another) on the main thread.\n",
      "INFO:tensorflow:No path found after C:\\Users\\rruzzo\\Documents\\GitHub\\Deep_Learning_Work\\module_0\\week_3\\logs\\events.out.tfevents.1537936373.DESKTOP-V3AEQVL\n",
      "INFO:tensorflow:Finished with EventMultiplexer.Reload()\n",
      "INFO:tensorflow:TensorBoard done reloading. Load took 0.015 secs\n",
      "INFO:tensorflow:TensorBoard reload process beginning\n",
      "INFO:tensorflow:Starting AddRunsFromDirectory: C:\\Users\\rruzzo\\Documents\\GitHub\\Deep_Learning_Work\\module_0\\week_3\\logs\n",
      "INFO:tensorflow:GetLogdirSubdirectories: Starting to list directories via walking.\n",
      "INFO:tensorflow:Adding run from directory C:\\Users\\rruzzo\\Documents\\GitHub\\Deep_Learning_Work\\module_0\\week_3\\logs\n",
      "INFO:tensorflow:Done with AddRunsFromDirectory: C:\\Users\\rruzzo\\Documents\\GitHub\\Deep_Learning_Work\\module_0\\week_3\\logs\n",
      "INFO:tensorflow:TensorBoard reload process: Reload the whole Multiplexer\n",
      "INFO:tensorflow:Beginning EventMultiplexer.Reload()\n",
      "INFO:tensorflow:Reloading runs serially (one after another) on the main thread.\n",
      "INFO:tensorflow:No path found after C:\\Users\\rruzzo\\Documents\\GitHub\\Deep_Learning_Work\\module_0\\week_3\\logs\\events.out.tfevents.1537936373.DESKTOP-V3AEQVL\n",
      "INFO:tensorflow:Finished with EventMultiplexer.Reload()\n",
      "INFO:tensorflow:TensorBoard done reloading. Load took 0.017 secs\n"
     ]
    },
    {
     "name": "stderr",
     "output_type": "stream",
     "text": [
      "172.20.40.81 - - [26/Sep/2018 00:35:04] \"\u001b[37mGET /data/environment HTTP/1.1\u001b[0m\" 200 -\n"
     ]
    },
    {
     "name": "stdout",
     "output_type": "stream",
     "text": [
      "INFO:tensorflow:Plugin listing: is_active() for core took 0.000 seconds\n"
     ]
    },
    {
     "name": "stderr",
     "output_type": "stream",
     "text": [
      "172.20.40.81 - - [26/Sep/2018 00:35:04] \"\u001b[37mGET /data/runs HTTP/1.1\u001b[0m\" 200 -\n"
     ]
    },
    {
     "name": "stdout",
     "output_type": "stream",
     "text": [
      "INFO:tensorflow:Plugin listing: is_active() for beholder took 0.001 seconds\n"
     ]
    },
    {
     "name": "stderr",
     "output_type": "stream",
     "text": [
      "172.20.40.81 - - [26/Sep/2018 00:35:04] \"\u001b[37mGET /data/experiments HTTP/1.1\u001b[0m\" 200 -\n"
     ]
    },
    {
     "name": "stdout",
     "output_type": "stream",
     "text": [
      "INFO:tensorflow:Plugin listing: is_active() for scalars took 0.000 seconds\n",
      "INFO:tensorflow:Plugin listing: is_active() for custom_scalars took 0.000 seconds\n",
      "INFO:tensorflow:Plugin listing: is_active() for images took 0.000 seconds\n",
      "INFO:tensorflow:Plugin listing: is_active() for audio took 0.000 seconds\n",
      "INFO:tensorflow:Plugin listing: is_active() for graphs took 0.000 seconds\n",
      "INFO:tensorflow:Plugin listing: is_active() for distributions took 0.014 seconds\n",
      "INFO:tensorflow:Plugin listing: is_active() for histograms took 0.007 seconds\n",
      "INFO:tensorflow:Plugin listing: is_active() for pr_curves took 0.000 seconds\n",
      "INFO:tensorflow:Plugin listing: is_active() for projector took 0.000 seconds\n",
      "INFO:tensorflow:TextPlugin computing index_impl() in a new thread\n",
      "INFO:tensorflow:Plugin listing: is_active() for text took 0.003 seconds\n",
      "INFO:tensorflow:TextPlugin index_impl() thread ending after 0.003 sec\n",
      "INFO:tensorflow:Plugin listing: is_active() for profile took 0.000 seconds\n"
     ]
    },
    {
     "name": "stderr",
     "output_type": "stream",
     "text": [
      "172.20.40.81 - - [26/Sep/2018 00:35:04] \"\u001b[37mGET /data/plugins_listing HTTP/1.1\u001b[0m\" 200 -\n",
      "172.20.40.81 - - [26/Sep/2018 00:35:04] \"\u001b[37mGET /data/plugin/scalars/tags HTTP/1.1\u001b[0m\" 200 -\n",
      "172.20.40.81 - - [26/Sep/2018 00:35:04] \"\u001b[37mGET /data/plugin/scalars/scalars?run=.&tag=loss HTTP/1.1\u001b[0m\" 200 -\n",
      "172.20.40.81 - - [26/Sep/2018 00:35:04] \"\u001b[37mGET /data/plugin/scalars/scalars?run=.&tag=acc HTTP/1.1\u001b[0m\" 200 -\n",
      "172.20.40.81 - - [26/Sep/2018 00:35:04] \"\u001b[37mGET /data/plugin/scalars/scalars?run=.&tag=val_loss HTTP/1.1\u001b[0m\" 200 -\n"
     ]
    },
    {
     "name": "stdout",
     "output_type": "stream",
     "text": [
      "INFO:tensorflow:TensorBoard reload process beginning\n",
      "INFO:tensorflow:Starting AddRunsFromDirectory: C:\\Users\\rruzzo\\Documents\\GitHub\\Deep_Learning_Work\\module_0\\week_3\\logs\n",
      "INFO:tensorflow:GetLogdirSubdirectories: Starting to list directories via walking.\n",
      "INFO:tensorflow:Adding run from directory C:\\Users\\rruzzo\\Documents\\GitHub\\Deep_Learning_Work\\module_0\\week_3\\logs\n",
      "INFO:tensorflow:Done with AddRunsFromDirectory: C:\\Users\\rruzzo\\Documents\\GitHub\\Deep_Learning_Work\\module_0\\week_3\\logs\n",
      "INFO:tensorflow:TensorBoard reload process: Reload the whole Multiplexer\n",
      "INFO:tensorflow:Beginning EventMultiplexer.Reload()\n",
      "INFO:tensorflow:Reloading runs serially (one after another) on the main thread.\n",
      "INFO:tensorflow:No path found after C:\\Users\\rruzzo\\Documents\\GitHub\\Deep_Learning_Work\\module_0\\week_3\\logs\\events.out.tfevents.1537936373.DESKTOP-V3AEQVL\n",
      "INFO:tensorflow:Finished with EventMultiplexer.Reload()\n",
      "INFO:tensorflow:TensorBoard done reloading. Load took 0.014 secs\n",
      "INFO:tensorflow:TensorBoard reload process beginning\n",
      "INFO:tensorflow:Starting AddRunsFromDirectory: C:\\Users\\rruzzo\\Documents\\GitHub\\Deep_Learning_Work\\module_0\\week_3\\logs\n",
      "INFO:tensorflow:GetLogdirSubdirectories: Starting to list directories via walking.\n",
      "INFO:tensorflow:Adding run from directory C:\\Users\\rruzzo\\Documents\\GitHub\\Deep_Learning_Work\\module_0\\week_3\\logs\n",
      "INFO:tensorflow:Done with AddRunsFromDirectory: C:\\Users\\rruzzo\\Documents\\GitHub\\Deep_Learning_Work\\module_0\\week_3\\logs\n",
      "INFO:tensorflow:TensorBoard reload process: Reload the whole Multiplexer\n",
      "INFO:tensorflow:Beginning EventMultiplexer.Reload()\n",
      "INFO:tensorflow:Reloading runs serially (one after another) on the main thread.\n",
      "INFO:tensorflow:No path found after C:\\Users\\rruzzo\\Documents\\GitHub\\Deep_Learning_Work\\module_0\\week_3\\logs\\events.out.tfevents.1537936373.DESKTOP-V3AEQVL\n",
      "INFO:tensorflow:Finished with EventMultiplexer.Reload()\n",
      "INFO:tensorflow:TensorBoard done reloading. Load took 0.036 secs\n",
      "INFO:tensorflow:TensorBoard reload process beginning\n",
      "INFO:tensorflow:Starting AddRunsFromDirectory: C:\\Users\\rruzzo\\Documents\\GitHub\\Deep_Learning_Work\\module_0\\week_3\\logs\n",
      "INFO:tensorflow:GetLogdirSubdirectories: Starting to list directories via walking.\n",
      "INFO:tensorflow:Adding run from directory C:\\Users\\rruzzo\\Documents\\GitHub\\Deep_Learning_Work\\module_0\\week_3\\logs\n",
      "INFO:tensorflow:Done with AddRunsFromDirectory: C:\\Users\\rruzzo\\Documents\\GitHub\\Deep_Learning_Work\\module_0\\week_3\\logs\n",
      "INFO:tensorflow:TensorBoard reload process: Reload the whole Multiplexer\n",
      "INFO:tensorflow:Beginning EventMultiplexer.Reload()\n",
      "INFO:tensorflow:Reloading runs serially (one after another) on the main thread.\n",
      "INFO:tensorflow:No path found after C:\\Users\\rruzzo\\Documents\\GitHub\\Deep_Learning_Work\\module_0\\week_3\\logs\\events.out.tfevents.1537936373.DESKTOP-V3AEQVL\n",
      "INFO:tensorflow:Finished with EventMultiplexer.Reload()\n",
      "INFO:tensorflow:TensorBoard done reloading. Load took 0.014 secs\n",
      "INFO:tensorflow:TensorBoard reload process beginning\n",
      "INFO:tensorflow:Starting AddRunsFromDirectory: C:\\Users\\rruzzo\\Documents\\GitHub\\Deep_Learning_Work\\module_0\\week_3\\logs\n",
      "INFO:tensorflow:GetLogdirSubdirectories: Starting to list directories via walking.\n",
      "INFO:tensorflow:Adding run from directory C:\\Users\\rruzzo\\Documents\\GitHub\\Deep_Learning_Work\\module_0\\week_3\\logs\n",
      "INFO:tensorflow:Done with AddRunsFromDirectory: C:\\Users\\rruzzo\\Documents\\GitHub\\Deep_Learning_Work\\module_0\\week_3\\logs\n",
      "INFO:tensorflow:TensorBoard reload process: Reload the whole Multiplexer\n",
      "INFO:tensorflow:Beginning EventMultiplexer.Reload()\n",
      "INFO:tensorflow:Reloading runs serially (one after another) on the main thread.\n",
      "INFO:tensorflow:No path found after C:\\Users\\rruzzo\\Documents\\GitHub\\Deep_Learning_Work\\module_0\\week_3\\logs\\events.out.tfevents.1537936373.DESKTOP-V3AEQVL\n",
      "INFO:tensorflow:Finished with EventMultiplexer.Reload()\n",
      "INFO:tensorflow:TensorBoard done reloading. Load took 0.035 secs\n",
      "INFO:tensorflow:TensorBoard reload process beginning\n",
      "INFO:tensorflow:Starting AddRunsFromDirectory: C:\\Users\\rruzzo\\Documents\\GitHub\\Deep_Learning_Work\\module_0\\week_3\\logs\n",
      "INFO:tensorflow:GetLogdirSubdirectories: Starting to list directories via walking.\n",
      "INFO:tensorflow:Adding run from directory C:\\Users\\rruzzo\\Documents\\GitHub\\Deep_Learning_Work\\module_0\\week_3\\logs\n",
      "INFO:tensorflow:Done with AddRunsFromDirectory: C:\\Users\\rruzzo\\Documents\\GitHub\\Deep_Learning_Work\\module_0\\week_3\\logs\n",
      "INFO:tensorflow:TensorBoard reload process: Reload the whole Multiplexer\n",
      "INFO:tensorflow:Beginning EventMultiplexer.Reload()\n",
      "INFO:tensorflow:Reloading runs serially (one after another) on the main thread.\n",
      "INFO:tensorflow:No path found after C:\\Users\\rruzzo\\Documents\\GitHub\\Deep_Learning_Work\\module_0\\week_3\\logs\\events.out.tfevents.1537936373.DESKTOP-V3AEQVL\n",
      "INFO:tensorflow:Finished with EventMultiplexer.Reload()\n",
      "INFO:tensorflow:TensorBoard done reloading. Load took 0.035 secs\n",
      "INFO:tensorflow:TensorBoard reload process beginning\n",
      "INFO:tensorflow:Starting AddRunsFromDirectory: C:\\Users\\rruzzo\\Documents\\GitHub\\Deep_Learning_Work\\module_0\\week_3\\logs\n",
      "INFO:tensorflow:GetLogdirSubdirectories: Starting to list directories via walking.\n",
      "INFO:tensorflow:Adding run from directory C:\\Users\\rruzzo\\Documents\\GitHub\\Deep_Learning_Work\\module_0\\week_3\\logs\n",
      "INFO:tensorflow:Done with AddRunsFromDirectory: C:\\Users\\rruzzo\\Documents\\GitHub\\Deep_Learning_Work\\module_0\\week_3\\logs\n",
      "INFO:tensorflow:TensorBoard reload process: Reload the whole Multiplexer\n",
      "INFO:tensorflow:Beginning EventMultiplexer.Reload()\n",
      "INFO:tensorflow:Reloading runs serially (one after another) on the main thread.\n",
      "INFO:tensorflow:No path found after C:\\Users\\rruzzo\\Documents\\GitHub\\Deep_Learning_Work\\module_0\\week_3\\logs\\events.out.tfevents.1537936373.DESKTOP-V3AEQVL\n",
      "INFO:tensorflow:Finished with EventMultiplexer.Reload()\n",
      "INFO:tensorflow:TensorBoard done reloading. Load took 0.036 secs\n"
     ]
    },
    {
     "name": "stderr",
     "output_type": "stream",
     "text": [
      "172.20.40.81 - - [26/Sep/2018 00:35:34] \"\u001b[37mGET /data/environment HTTP/1.1\u001b[0m\" 200 -\n"
     ]
    },
    {
     "name": "stdout",
     "output_type": "stream",
     "text": [
      "INFO:tensorflow:Plugin listing: is_active() for core took 0.000 seconds\n"
     ]
    },
    {
     "name": "stderr",
     "output_type": "stream",
     "text": [
      "172.20.40.81 - - [26/Sep/2018 00:35:34] \"\u001b[37mGET /data/runs HTTP/1.1\u001b[0m\" 200 -\n"
     ]
    },
    {
     "name": "stdout",
     "output_type": "stream",
     "text": [
      "INFO:tensorflow:Plugin listing: is_active() for beholder took 0.001 seconds\n"
     ]
    },
    {
     "name": "stderr",
     "output_type": "stream",
     "text": [
      "172.20.40.81 - - [26/Sep/2018 00:35:34] \"\u001b[37mGET /data/experiments HTTP/1.1\u001b[0m\" 200 -\n"
     ]
    },
    {
     "name": "stdout",
     "output_type": "stream",
     "text": [
      "INFO:tensorflow:Plugin listing: is_active() for scalars took 0.000 seconds\n",
      "INFO:tensorflow:Plugin listing: is_active() for custom_scalars took 0.000 seconds\n",
      "INFO:tensorflow:Plugin listing: is_active() for images took 0.000 seconds\n",
      "INFO:tensorflow:Plugin listing: is_active() for audio took 0.000 seconds\n",
      "INFO:tensorflow:Plugin listing: is_active() for graphs took 0.000 seconds\n",
      "INFO:tensorflow:Plugin listing: is_active() for distributions took 0.009 seconds\n",
      "INFO:tensorflow:Plugin listing: is_active() for histograms took 0.007 seconds\n",
      "INFO:tensorflow:Plugin listing: is_active() for pr_curves took 0.000 seconds\n",
      "INFO:tensorflow:Plugin listing: is_active() for projector took 0.001 seconds\n",
      "INFO:tensorflow:TextPlugin computing index_impl() in a new thread\n",
      "INFO:tensorflow:Plugin listing: is_active() for text took 0.004 seconds\n",
      "INFO:tensorflow:TextPlugin index_impl() thread ending after 0.003 sec\n",
      "INFO:tensorflow:Plugin listing: is_active() for profile took 0.001 seconds\n"
     ]
    },
    {
     "name": "stderr",
     "output_type": "stream",
     "text": [
      "172.20.40.81 - - [26/Sep/2018 00:35:34] \"\u001b[37mGET /data/plugins_listing HTTP/1.1\u001b[0m\" 200 -\n",
      "172.20.40.81 - - [26/Sep/2018 00:35:34] \"\u001b[37mGET /data/plugin/scalars/tags HTTP/1.1\u001b[0m\" 200 -\n",
      "172.20.40.81 - - [26/Sep/2018 00:35:34] \"\u001b[37mGET /data/plugin/scalars/scalars?run=.&tag=acc HTTP/1.1\u001b[0m\" 200 -\n",
      "172.20.40.81 - - [26/Sep/2018 00:35:34] \"\u001b[37mGET /data/plugin/scalars/scalars?run=.&tag=loss HTTP/1.1\u001b[0m\" 200 -\n",
      "172.20.40.81 - - [26/Sep/2018 00:35:34] \"\u001b[37mGET /data/plugin/scalars/scalars?run=.&tag=val_loss HTTP/1.1\u001b[0m\" 200 -\n"
     ]
    },
    {
     "name": "stdout",
     "output_type": "stream",
     "text": [
      "INFO:tensorflow:TensorBoard reload process beginning\n",
      "INFO:tensorflow:Starting AddRunsFromDirectory: C:\\Users\\rruzzo\\Documents\\GitHub\\Deep_Learning_Work\\module_0\\week_3\\logs\n",
      "INFO:tensorflow:GetLogdirSubdirectories: Starting to list directories via walking.\n",
      "INFO:tensorflow:Adding run from directory C:\\Users\\rruzzo\\Documents\\GitHub\\Deep_Learning_Work\\module_0\\week_3\\logs\n",
      "INFO:tensorflow:Done with AddRunsFromDirectory: C:\\Users\\rruzzo\\Documents\\GitHub\\Deep_Learning_Work\\module_0\\week_3\\logs\n",
      "INFO:tensorflow:TensorBoard reload process: Reload the whole Multiplexer\n",
      "INFO:tensorflow:Beginning EventMultiplexer.Reload()\n",
      "INFO:tensorflow:Reloading runs serially (one after another) on the main thread.\n",
      "INFO:tensorflow:No path found after C:\\Users\\rruzzo\\Documents\\GitHub\\Deep_Learning_Work\\module_0\\week_3\\logs\\events.out.tfevents.1537936373.DESKTOP-V3AEQVL\n",
      "INFO:tensorflow:Finished with EventMultiplexer.Reload()\n",
      "INFO:tensorflow:TensorBoard done reloading. Load took 0.035 secs\n",
      "INFO:tensorflow:TensorBoard reload process beginning\n",
      "INFO:tensorflow:Starting AddRunsFromDirectory: C:\\Users\\rruzzo\\Documents\\GitHub\\Deep_Learning_Work\\module_0\\week_3\\logs\n",
      "INFO:tensorflow:GetLogdirSubdirectories: Starting to list directories via walking.\n",
      "INFO:tensorflow:Adding run from directory C:\\Users\\rruzzo\\Documents\\GitHub\\Deep_Learning_Work\\module_0\\week_3\\logs\n",
      "INFO:tensorflow:Done with AddRunsFromDirectory: C:\\Users\\rruzzo\\Documents\\GitHub\\Deep_Learning_Work\\module_0\\week_3\\logs\n",
      "INFO:tensorflow:TensorBoard reload process: Reload the whole Multiplexer\n",
      "INFO:tensorflow:Beginning EventMultiplexer.Reload()\n",
      "INFO:tensorflow:Reloading runs serially (one after another) on the main thread.\n",
      "INFO:tensorflow:No path found after C:\\Users\\rruzzo\\Documents\\GitHub\\Deep_Learning_Work\\module_0\\week_3\\logs\\events.out.tfevents.1537936373.DESKTOP-V3AEQVL\n",
      "INFO:tensorflow:Finished with EventMultiplexer.Reload()\n",
      "INFO:tensorflow:TensorBoard done reloading. Load took 0.015 secs\n",
      "INFO:tensorflow:TensorBoard reload process beginning\n",
      "INFO:tensorflow:Starting AddRunsFromDirectory: C:\\Users\\rruzzo\\Documents\\GitHub\\Deep_Learning_Work\\module_0\\week_3\\logs\n",
      "INFO:tensorflow:GetLogdirSubdirectories: Starting to list directories via walking.\n",
      "INFO:tensorflow:Adding run from directory C:\\Users\\rruzzo\\Documents\\GitHub\\Deep_Learning_Work\\module_0\\week_3\\logs\n",
      "INFO:tensorflow:Done with AddRunsFromDirectory: C:\\Users\\rruzzo\\Documents\\GitHub\\Deep_Learning_Work\\module_0\\week_3\\logs\n",
      "INFO:tensorflow:TensorBoard reload process: Reload the whole Multiplexer\n",
      "INFO:tensorflow:Beginning EventMultiplexer.Reload()\n",
      "INFO:tensorflow:Reloading runs serially (one after another) on the main thread.\n",
      "INFO:tensorflow:No path found after C:\\Users\\rruzzo\\Documents\\GitHub\\Deep_Learning_Work\\module_0\\week_3\\logs\\events.out.tfevents.1537936373.DESKTOP-V3AEQVL\n",
      "INFO:tensorflow:Finished with EventMultiplexer.Reload()\n",
      "INFO:tensorflow:TensorBoard done reloading. Load took 0.016 secs\n",
      "INFO:tensorflow:TensorBoard reload process beginning\n",
      "INFO:tensorflow:Starting AddRunsFromDirectory: C:\\Users\\rruzzo\\Documents\\GitHub\\Deep_Learning_Work\\module_0\\week_3\\logs\n",
      "INFO:tensorflow:GetLogdirSubdirectories: Starting to list directories via walking.\n",
      "INFO:tensorflow:Adding run from directory C:\\Users\\rruzzo\\Documents\\GitHub\\Deep_Learning_Work\\module_0\\week_3\\logs\n",
      "INFO:tensorflow:Done with AddRunsFromDirectory: C:\\Users\\rruzzo\\Documents\\GitHub\\Deep_Learning_Work\\module_0\\week_3\\logs\n",
      "INFO:tensorflow:TensorBoard reload process: Reload the whole Multiplexer\n",
      "INFO:tensorflow:Beginning EventMultiplexer.Reload()\n",
      "INFO:tensorflow:Reloading runs serially (one after another) on the main thread.\n",
      "INFO:tensorflow:No path found after C:\\Users\\rruzzo\\Documents\\GitHub\\Deep_Learning_Work\\module_0\\week_3\\logs\\events.out.tfevents.1537936373.DESKTOP-V3AEQVL\n",
      "INFO:tensorflow:Finished with EventMultiplexer.Reload()\n",
      "INFO:tensorflow:TensorBoard done reloading. Load took 0.014 secs\n",
      "INFO:tensorflow:TensorBoard reload process beginning\n",
      "INFO:tensorflow:Starting AddRunsFromDirectory: C:\\Users\\rruzzo\\Documents\\GitHub\\Deep_Learning_Work\\module_0\\week_3\\logs\n",
      "INFO:tensorflow:GetLogdirSubdirectories: Starting to list directories via walking.\n",
      "INFO:tensorflow:Adding run from directory C:\\Users\\rruzzo\\Documents\\GitHub\\Deep_Learning_Work\\module_0\\week_3\\logs\n",
      "INFO:tensorflow:Done with AddRunsFromDirectory: C:\\Users\\rruzzo\\Documents\\GitHub\\Deep_Learning_Work\\module_0\\week_3\\logs\n",
      "INFO:tensorflow:TensorBoard reload process: Reload the whole Multiplexer\n",
      "INFO:tensorflow:Beginning EventMultiplexer.Reload()\n",
      "INFO:tensorflow:Reloading runs serially (one after another) on the main thread.\n",
      "INFO:tensorflow:No path found after C:\\Users\\rruzzo\\Documents\\GitHub\\Deep_Learning_Work\\module_0\\week_3\\logs\\events.out.tfevents.1537936373.DESKTOP-V3AEQVL\n",
      "INFO:tensorflow:Finished with EventMultiplexer.Reload()\n",
      "INFO:tensorflow:TensorBoard done reloading. Load took 0.032 secs\n",
      "INFO:tensorflow:TensorBoard reload process beginning\n",
      "INFO:tensorflow:Starting AddRunsFromDirectory: C:\\Users\\rruzzo\\Documents\\GitHub\\Deep_Learning_Work\\module_0\\week_3\\logs\n",
      "INFO:tensorflow:GetLogdirSubdirectories: Starting to list directories via walking.\n",
      "INFO:tensorflow:Adding run from directory C:\\Users\\rruzzo\\Documents\\GitHub\\Deep_Learning_Work\\module_0\\week_3\\logs\n",
      "INFO:tensorflow:Done with AddRunsFromDirectory: C:\\Users\\rruzzo\\Documents\\GitHub\\Deep_Learning_Work\\module_0\\week_3\\logs\n",
      "INFO:tensorflow:TensorBoard reload process: Reload the whole Multiplexer\n",
      "INFO:tensorflow:Beginning EventMultiplexer.Reload()\n",
      "INFO:tensorflow:Reloading runs serially (one after another) on the main thread.\n",
      "INFO:tensorflow:No path found after C:\\Users\\rruzzo\\Documents\\GitHub\\Deep_Learning_Work\\module_0\\week_3\\logs\\events.out.tfevents.1537936373.DESKTOP-V3AEQVL\n",
      "INFO:tensorflow:Finished with EventMultiplexer.Reload()\n",
      "INFO:tensorflow:TensorBoard done reloading. Load took 0.039 secs\n"
     ]
    },
    {
     "name": "stderr",
     "output_type": "stream",
     "text": [
      "172.20.40.81 - - [26/Sep/2018 00:36:04] \"\u001b[37mGET /data/environment HTTP/1.1\u001b[0m\" 200 -\n"
     ]
    },
    {
     "name": "stdout",
     "output_type": "stream",
     "text": [
      "INFO:tensorflow:Plugin listing: is_active() for core took 0.000 seconds\n"
     ]
    },
    {
     "name": "stderr",
     "output_type": "stream",
     "text": [
      "172.20.40.81 - - [26/Sep/2018 00:36:04] \"\u001b[37mGET /data/runs HTTP/1.1\u001b[0m\" 200 -\n"
     ]
    },
    {
     "name": "stdout",
     "output_type": "stream",
     "text": [
      "INFO:tensorflow:Plugin listing: is_active() for beholder took 0.001 seconds\n"
     ]
    },
    {
     "name": "stderr",
     "output_type": "stream",
     "text": [
      "172.20.40.81 - - [26/Sep/2018 00:36:04] \"\u001b[37mGET /data/experiments HTTP/1.1\u001b[0m\" 200 -\n"
     ]
    },
    {
     "name": "stdout",
     "output_type": "stream",
     "text": [
      "INFO:tensorflow:Plugin listing: is_active() for scalars took 0.000 seconds\n",
      "INFO:tensorflow:Plugin listing: is_active() for custom_scalars took 0.000 seconds\n",
      "INFO:tensorflow:Plugin listing: is_active() for images took 0.000 seconds\n",
      "INFO:tensorflow:Plugin listing: is_active() for audio took 0.000 seconds\n",
      "INFO:tensorflow:Plugin listing: is_active() for graphs took 0.000 seconds\n",
      "INFO:tensorflow:Plugin listing: is_active() for distributions took 0.010 seconds\n",
      "INFO:tensorflow:Plugin listing: is_active() for histograms took 0.007 seconds\n",
      "INFO:tensorflow:Plugin listing: is_active() for pr_curves took 0.000 seconds\n",
      "INFO:tensorflow:Plugin listing: is_active() for projector took 0.001 seconds\n",
      "INFO:tensorflow:TextPlugin computing index_impl() in a new thread\n",
      "INFO:tensorflow:Plugin listing: is_active() for text took 0.003 seconds\n",
      "INFO:tensorflow:TextPlugin index_impl() thread ending after 0.004 sec\n",
      "INFO:tensorflow:Plugin listing: is_active() for profile took 0.001 seconds\n"
     ]
    },
    {
     "name": "stderr",
     "output_type": "stream",
     "text": [
      "172.20.40.81 - - [26/Sep/2018 00:36:04] \"\u001b[37mGET /data/plugins_listing HTTP/1.1\u001b[0m\" 200 -\n",
      "172.20.40.81 - - [26/Sep/2018 00:36:04] \"\u001b[37mGET /data/plugin/scalars/tags HTTP/1.1\u001b[0m\" 200 -\n",
      "172.20.40.81 - - [26/Sep/2018 00:36:04] \"\u001b[37mGET /data/plugin/scalars/scalars?run=.&tag=acc HTTP/1.1\u001b[0m\" 200 -\n",
      "172.20.40.81 - - [26/Sep/2018 00:36:04] \"\u001b[37mGET /data/plugin/scalars/scalars?run=.&tag=loss HTTP/1.1\u001b[0m\" 200 -\n",
      "172.20.40.81 - - [26/Sep/2018 00:36:04] \"\u001b[37mGET /data/plugin/scalars/scalars?run=.&tag=val_loss HTTP/1.1\u001b[0m\" 200 -\n"
     ]
    },
    {
     "name": "stdout",
     "output_type": "stream",
     "text": [
      "INFO:tensorflow:TensorBoard reload process beginning\n",
      "INFO:tensorflow:Starting AddRunsFromDirectory: C:\\Users\\rruzzo\\Documents\\GitHub\\Deep_Learning_Work\\module_0\\week_3\\logs\n",
      "INFO:tensorflow:GetLogdirSubdirectories: Starting to list directories via walking.\n",
      "INFO:tensorflow:Adding run from directory C:\\Users\\rruzzo\\Documents\\GitHub\\Deep_Learning_Work\\module_0\\week_3\\logs\n",
      "INFO:tensorflow:Done with AddRunsFromDirectory: C:\\Users\\rruzzo\\Documents\\GitHub\\Deep_Learning_Work\\module_0\\week_3\\logs\n",
      "INFO:tensorflow:TensorBoard reload process: Reload the whole Multiplexer\n",
      "INFO:tensorflow:Beginning EventMultiplexer.Reload()\n",
      "INFO:tensorflow:Reloading runs serially (one after another) on the main thread.\n",
      "INFO:tensorflow:No path found after C:\\Users\\rruzzo\\Documents\\GitHub\\Deep_Learning_Work\\module_0\\week_3\\logs\\events.out.tfevents.1537936373.DESKTOP-V3AEQVL\n",
      "INFO:tensorflow:Finished with EventMultiplexer.Reload()\n",
      "INFO:tensorflow:TensorBoard done reloading. Load took 0.015 secs\n",
      "INFO:tensorflow:TensorBoard reload process beginning\n",
      "INFO:tensorflow:Starting AddRunsFromDirectory: C:\\Users\\rruzzo\\Documents\\GitHub\\Deep_Learning_Work\\module_0\\week_3\\logs\n",
      "INFO:tensorflow:GetLogdirSubdirectories: Starting to list directories via walking.\n",
      "INFO:tensorflow:Adding run from directory C:\\Users\\rruzzo\\Documents\\GitHub\\Deep_Learning_Work\\module_0\\week_3\\logs\n",
      "INFO:tensorflow:Done with AddRunsFromDirectory: C:\\Users\\rruzzo\\Documents\\GitHub\\Deep_Learning_Work\\module_0\\week_3\\logs\n",
      "INFO:tensorflow:TensorBoard reload process: Reload the whole Multiplexer\n",
      "INFO:tensorflow:Beginning EventMultiplexer.Reload()\n",
      "INFO:tensorflow:Reloading runs serially (one after another) on the main thread.\n",
      "INFO:tensorflow:No path found after C:\\Users\\rruzzo\\Documents\\GitHub\\Deep_Learning_Work\\module_0\\week_3\\logs\\events.out.tfevents.1537936373.DESKTOP-V3AEQVL\n",
      "INFO:tensorflow:Finished with EventMultiplexer.Reload()\n",
      "INFO:tensorflow:TensorBoard done reloading. Load took 0.026 secs\n",
      "INFO:tensorflow:TensorBoard reload process beginning\n",
      "INFO:tensorflow:Starting AddRunsFromDirectory: C:\\Users\\rruzzo\\Documents\\GitHub\\Deep_Learning_Work\\module_0\\week_3\\logs\n",
      "INFO:tensorflow:GetLogdirSubdirectories: Starting to list directories via walking.\n",
      "INFO:tensorflow:Adding run from directory C:\\Users\\rruzzo\\Documents\\GitHub\\Deep_Learning_Work\\module_0\\week_3\\logs\n",
      "INFO:tensorflow:Done with AddRunsFromDirectory: C:\\Users\\rruzzo\\Documents\\GitHub\\Deep_Learning_Work\\module_0\\week_3\\logs\n",
      "INFO:tensorflow:TensorBoard reload process: Reload the whole Multiplexer\n",
      "INFO:tensorflow:Beginning EventMultiplexer.Reload()\n",
      "INFO:tensorflow:Reloading runs serially (one after another) on the main thread.\n",
      "INFO:tensorflow:No path found after C:\\Users\\rruzzo\\Documents\\GitHub\\Deep_Learning_Work\\module_0\\week_3\\logs\\events.out.tfevents.1537936373.DESKTOP-V3AEQVL\n",
      "INFO:tensorflow:Finished with EventMultiplexer.Reload()\n",
      "INFO:tensorflow:TensorBoard done reloading. Load took 0.014 secs\n",
      "INFO:tensorflow:TensorBoard reload process beginning\n",
      "INFO:tensorflow:Starting AddRunsFromDirectory: C:\\Users\\rruzzo\\Documents\\GitHub\\Deep_Learning_Work\\module_0\\week_3\\logs\n",
      "INFO:tensorflow:GetLogdirSubdirectories: Starting to list directories via walking.\n",
      "INFO:tensorflow:Adding run from directory C:\\Users\\rruzzo\\Documents\\GitHub\\Deep_Learning_Work\\module_0\\week_3\\logs\n",
      "INFO:tensorflow:Done with AddRunsFromDirectory: C:\\Users\\rruzzo\\Documents\\GitHub\\Deep_Learning_Work\\module_0\\week_3\\logs\n",
      "INFO:tensorflow:TensorBoard reload process: Reload the whole Multiplexer\n",
      "INFO:tensorflow:Beginning EventMultiplexer.Reload()\n",
      "INFO:tensorflow:Reloading runs serially (one after another) on the main thread.\n",
      "INFO:tensorflow:No path found after C:\\Users\\rruzzo\\Documents\\GitHub\\Deep_Learning_Work\\module_0\\week_3\\logs\\events.out.tfevents.1537936373.DESKTOP-V3AEQVL\n",
      "INFO:tensorflow:Finished with EventMultiplexer.Reload()\n",
      "INFO:tensorflow:TensorBoard done reloading. Load took 0.015 secs\n",
      "INFO:tensorflow:TensorBoard reload process beginning\n",
      "INFO:tensorflow:Starting AddRunsFromDirectory: C:\\Users\\rruzzo\\Documents\\GitHub\\Deep_Learning_Work\\module_0\\week_3\\logs\n",
      "INFO:tensorflow:GetLogdirSubdirectories: Starting to list directories via walking.\n",
      "INFO:tensorflow:Adding run from directory C:\\Users\\rruzzo\\Documents\\GitHub\\Deep_Learning_Work\\module_0\\week_3\\logs\n",
      "INFO:tensorflow:Done with AddRunsFromDirectory: C:\\Users\\rruzzo\\Documents\\GitHub\\Deep_Learning_Work\\module_0\\week_3\\logs\n",
      "INFO:tensorflow:TensorBoard reload process: Reload the whole Multiplexer\n",
      "INFO:tensorflow:Beginning EventMultiplexer.Reload()\n",
      "INFO:tensorflow:Reloading runs serially (one after another) on the main thread.\n",
      "INFO:tensorflow:No path found after C:\\Users\\rruzzo\\Documents\\GitHub\\Deep_Learning_Work\\module_0\\week_3\\logs\\events.out.tfevents.1537936373.DESKTOP-V3AEQVL\n",
      "INFO:tensorflow:Finished with EventMultiplexer.Reload()\n",
      "INFO:tensorflow:TensorBoard done reloading. Load took 0.017 secs\n",
      "INFO:tensorflow:TensorBoard reload process beginning\n",
      "INFO:tensorflow:Starting AddRunsFromDirectory: C:\\Users\\rruzzo\\Documents\\GitHub\\Deep_Learning_Work\\module_0\\week_3\\logs\n",
      "INFO:tensorflow:GetLogdirSubdirectories: Starting to list directories via walking.\n",
      "INFO:tensorflow:Adding run from directory C:\\Users\\rruzzo\\Documents\\GitHub\\Deep_Learning_Work\\module_0\\week_3\\logs\n",
      "INFO:tensorflow:Done with AddRunsFromDirectory: C:\\Users\\rruzzo\\Documents\\GitHub\\Deep_Learning_Work\\module_0\\week_3\\logs\n",
      "INFO:tensorflow:TensorBoard reload process: Reload the whole Multiplexer\n",
      "INFO:tensorflow:Beginning EventMultiplexer.Reload()\n",
      "INFO:tensorflow:Reloading runs serially (one after another) on the main thread.\n",
      "INFO:tensorflow:Directory watcher advancing from C:\\Users\\rruzzo\\Documents\\GitHub\\Deep_Learning_Work\\module_0\\week_3\\logs\\events.out.tfevents.1537936373.DESKTOP-V3AEQVL to C:\\Users\\rruzzo\\Documents\\GitHub\\Deep_Learning_Work\\module_0\\week_3\\logs\\events.out.tfevents.1537936589.DESKTOP-V3AEQVL\n",
      "WARNING:tensorflow:Found more than one graph event per run, or there was a metagraph containing a graph_def, as well as one or more graph events.  Overwriting the graph with the newest event.\n",
      "WARNING:tensorflow:Found more than one metagraph event per run. Overwriting the metagraph with the newest event.\n"
     ]
    },
    {
     "name": "stderr",
     "output_type": "stream",
     "text": [
      "172.20.40.81 - - [26/Sep/2018 00:36:34] \"\u001b[37mGET /data/environment HTTP/1.1\u001b[0m\" 200 -\n"
     ]
    },
    {
     "name": "stdout",
     "output_type": "stream",
     "text": [
      "INFO:tensorflow:Plugin listing: is_active() for core took 0.000 seconds\n"
     ]
    },
    {
     "name": "stderr",
     "output_type": "stream",
     "text": [
      "172.20.40.81 - - [26/Sep/2018 00:36:34] \"\u001b[37mGET /data/runs HTTP/1.1\u001b[0m\" 200 -\n"
     ]
    },
    {
     "name": "stdout",
     "output_type": "stream",
     "text": [
      "INFO:tensorflow:Plugin listing: is_active() for beholder took 0.017 seconds\n"
     ]
    },
    {
     "name": "stderr",
     "output_type": "stream",
     "text": [
      "172.20.40.81 - - [26/Sep/2018 00:36:34] \"\u001b[37mGET /data/experiments HTTP/1.1\u001b[0m\" 200 -\n"
     ]
    },
    {
     "name": "stdout",
     "output_type": "stream",
     "text": [
      "INFO:tensorflow:Plugin listing: is_active() for scalars took 0.000 seconds\n",
      "INFO:tensorflow:Plugin listing: is_active() for custom_scalars took 0.000 seconds\n",
      "INFO:tensorflow:Plugin listing: is_active() for images took 0.000 seconds\n",
      "INFO:tensorflow:Plugin listing: is_active() for audio took 0.000 seconds\n",
      "INFO:tensorflow:Plugin listing: is_active() for graphs took 0.000 seconds\n",
      "INFO:tensorflow:Plugin listing: is_active() for distributions took 0.011 seconds\n",
      "INFO:tensorflow:Plugin listing: is_active() for histograms took 0.007 seconds\n",
      "INFO:tensorflow:Plugin listing: is_active() for pr_curves took 0.000 seconds\n",
      "INFO:tensorflow:Plugin listing: is_active() for projector took 0.021 seconds\n",
      "INFO:tensorflow:TextPlugin computing index_impl() in a new thread\n",
      "INFO:tensorflow:Plugin listing: is_active() for text took 0.008 seconds\n",
      "INFO:tensorflow:TextPlugin index_impl() thread ending after 0.039 sec\n",
      "INFO:tensorflow:Plugin listing: is_active() for profile took 0.000 seconds\n"
     ]
    },
    {
     "name": "stderr",
     "output_type": "stream",
     "text": [
      "172.20.40.81 - - [26/Sep/2018 00:36:34] \"\u001b[37mGET /data/plugins_listing HTTP/1.1\u001b[0m\" 200 -\n",
      "172.20.40.81 - - [26/Sep/2018 00:36:34] \"\u001b[37mGET /data/plugin/scalars/tags HTTP/1.1\u001b[0m\" 200 -\n",
      "172.20.40.81 - - [26/Sep/2018 00:36:34] \"\u001b[37mGET /data/plugin/scalars/scalars?run=.&tag=acc HTTP/1.1\u001b[0m\" 200 -\n",
      "172.20.40.81 - - [26/Sep/2018 00:36:34] \"\u001b[37mGET /data/plugin/scalars/scalars?run=.&tag=val_loss HTTP/1.1\u001b[0m\" 200 -\n",
      "172.20.40.81 - - [26/Sep/2018 00:36:35] \"\u001b[37mGET /data/plugin/scalars/scalars?run=.&tag=loss HTTP/1.1\u001b[0m\" 200 -\n",
      "172.20.40.81 - - [26/Sep/2018 00:37:04] \"\u001b[37mGET /data/environment HTTP/1.1\u001b[0m\" 200 -\n"
     ]
    },
    {
     "name": "stdout",
     "output_type": "stream",
     "text": [
      "INFO:tensorflow:Plugin listing: is_active() for core took 0.000 seconds\n"
     ]
    },
    {
     "name": "stderr",
     "output_type": "stream",
     "text": [
      "172.20.40.81 - - [26/Sep/2018 00:37:04] \"\u001b[37mGET /data/runs HTTP/1.1\u001b[0m\" 200 -\n"
     ]
    },
    {
     "name": "stdout",
     "output_type": "stream",
     "text": [
      "INFO:tensorflow:Plugin listing: is_active() for beholder took 0.002 seconds\n"
     ]
    },
    {
     "name": "stderr",
     "output_type": "stream",
     "text": [
      "172.20.40.81 - - [26/Sep/2018 00:37:04] \"\u001b[37mGET /data/experiments HTTP/1.1\u001b[0m\" 200 -\n"
     ]
    },
    {
     "name": "stdout",
     "output_type": "stream",
     "text": [
      "INFO:tensorflow:Plugin listing: is_active() for scalars took 0.000 seconds\n",
      "INFO:tensorflow:Plugin listing: is_active() for custom_scalars took 0.000 seconds\n",
      "INFO:tensorflow:Plugin listing: is_active() for images took 0.000 seconds\n",
      "INFO:tensorflow:Plugin listing: is_active() for audio took 0.000 seconds\n",
      "INFO:tensorflow:Plugin listing: is_active() for graphs took 0.000 seconds\n",
      "INFO:tensorflow:Plugin listing: is_active() for distributions took 0.021 seconds\n",
      "INFO:tensorflow:Plugin listing: is_active() for histograms took 0.014 seconds\n",
      "INFO:tensorflow:Plugin listing: is_active() for pr_curves took 0.000 seconds\n",
      "INFO:tensorflow:Plugin listing: is_active() for projector took 0.011 seconds\n",
      "INFO:tensorflow:TextPlugin computing index_impl() in a new thread\n",
      "INFO:tensorflow:Plugin listing: is_active() for text took 0.012 seconds\n",
      "INFO:tensorflow:TextPlugin index_impl() thread ending after 0.020 sec\n",
      "INFO:tensorflow:Plugin listing: is_active() for profile took 0.000 seconds\n"
     ]
    },
    {
     "name": "stderr",
     "output_type": "stream",
     "text": [
      "172.20.40.81 - - [26/Sep/2018 00:37:04] \"\u001b[37mGET /data/plugins_listing HTTP/1.1\u001b[0m\" 200 -\n",
      "172.20.40.81 - - [26/Sep/2018 00:37:04] \"\u001b[37mGET /data/plugin/scalars/tags HTTP/1.1\u001b[0m\" 200 -\n",
      "172.20.40.81 - - [26/Sep/2018 00:37:04] \"\u001b[37mGET /data/plugin/scalars/scalars?run=.&tag=acc HTTP/1.1\u001b[0m\" 200 -\n",
      "172.20.40.81 - - [26/Sep/2018 00:37:04] \"\u001b[37mGET /data/plugin/scalars/scalars?run=.&tag=loss HTTP/1.1\u001b[0m\" 200 -\n",
      "172.20.40.81 - - [26/Sep/2018 00:37:04] \"\u001b[37mGET /data/plugin/scalars/scalars?run=.&tag=val_loss HTTP/1.1\u001b[0m\" 200 -\n",
      "172.20.40.81 - - [26/Sep/2018 00:37:34] \"\u001b[37mGET /data/environment HTTP/1.1\u001b[0m\" 200 -\n"
     ]
    },
    {
     "name": "stdout",
     "output_type": "stream",
     "text": [
      "INFO:tensorflow:Plugin listing: is_active() for core took 0.000 seconds\n"
     ]
    },
    {
     "name": "stderr",
     "output_type": "stream",
     "text": [
      "172.20.40.81 - - [26/Sep/2018 00:37:34] \"\u001b[37mGET /data/runs HTTP/1.1\u001b[0m\" 200 -\n"
     ]
    },
    {
     "name": "stdout",
     "output_type": "stream",
     "text": [
      "INFO:tensorflow:Plugin listing: is_active() for beholder took 0.004 seconds\n",
      "INFO:tensorflow:Plugin listing: is_active() for scalars took 0.000 seconds\n"
     ]
    },
    {
     "name": "stderr",
     "output_type": "stream",
     "text": [
      "172.20.40.81 - - [26/Sep/2018 00:37:34] \"\u001b[37mGET /data/experiments HTTP/1.1\u001b[0m\" 200 -\n"
     ]
    },
    {
     "name": "stdout",
     "output_type": "stream",
     "text": [
      "INFO:tensorflow:Plugin listing: is_active() for custom_scalars took 0.000 seconds\n",
      "INFO:tensorflow:Plugin listing: is_active() for images took 0.000 seconds\n",
      "INFO:tensorflow:Plugin listing: is_active() for audio took 0.000 seconds\n",
      "INFO:tensorflow:Plugin listing: is_active() for graphs took 0.000 seconds\n",
      "INFO:tensorflow:Plugin listing: is_active() for distributions took 0.011 seconds\n",
      "INFO:tensorflow:Plugin listing: is_active() for histograms took 0.019 seconds\n",
      "INFO:tensorflow:Plugin listing: is_active() for pr_curves took 0.000 seconds\n",
      "INFO:tensorflow:Plugin listing: is_active() for projector took 0.006 seconds\n",
      "INFO:tensorflow:TextPlugin computing index_impl() in a new thread\n",
      "INFO:tensorflow:Plugin listing: is_active() for text took 0.018 seconds\n",
      "INFO:tensorflow:TextPlugin index_impl() thread ending after 0.035 sec\n",
      "INFO:tensorflow:Plugin listing: is_active() for profile took 0.006 seconds\n"
     ]
    },
    {
     "name": "stderr",
     "output_type": "stream",
     "text": [
      "172.20.40.81 - - [26/Sep/2018 00:37:34] \"\u001b[37mGET /data/plugins_listing HTTP/1.1\u001b[0m\" 200 -\n",
      "172.20.40.81 - - [26/Sep/2018 00:37:34] \"\u001b[37mGET /data/plugin/scalars/tags HTTP/1.1\u001b[0m\" 200 -\n",
      "172.20.40.81 - - [26/Sep/2018 00:37:34] \"\u001b[37mGET /data/plugin/scalars/scalars?run=.&tag=acc HTTP/1.1\u001b[0m\" 200 -\n",
      "172.20.40.81 - - [26/Sep/2018 00:37:34] \"\u001b[37mGET /data/plugin/scalars/scalars?run=.&tag=loss HTTP/1.1\u001b[0m\" 200 -\n",
      "172.20.40.81 - - [26/Sep/2018 00:37:34] \"\u001b[37mGET /data/plugin/scalars/scalars?run=.&tag=val_loss HTTP/1.1\u001b[0m\" 200 -\n"
     ]
    },
    {
     "name": "stdout",
     "output_type": "stream",
     "text": [
      "INFO:tensorflow:No path found after C:\\Users\\rruzzo\\Documents\\GitHub\\Deep_Learning_Work\\module_0\\week_3\\logs\\events.out.tfevents.1537936589.DESKTOP-V3AEQVL\n",
      "INFO:tensorflow:Finished with EventMultiplexer.Reload()\n",
      "INFO:tensorflow:TensorBoard done reloading. Load took 70.865 secs\n",
      "INFO:tensorflow:TensorBoard reload process beginning\n",
      "INFO:tensorflow:Starting AddRunsFromDirectory: C:\\Users\\rruzzo\\Documents\\GitHub\\Deep_Learning_Work\\module_0\\week_3\\logs\n",
      "INFO:tensorflow:GetLogdirSubdirectories: Starting to list directories via walking.\n",
      "INFO:tensorflow:Adding run from directory C:\\Users\\rruzzo\\Documents\\GitHub\\Deep_Learning_Work\\module_0\\week_3\\logs\n",
      "INFO:tensorflow:Done with AddRunsFromDirectory: C:\\Users\\rruzzo\\Documents\\GitHub\\Deep_Learning_Work\\module_0\\week_3\\logs\n",
      "INFO:tensorflow:TensorBoard reload process: Reload the whole Multiplexer\n",
      "INFO:tensorflow:Beginning EventMultiplexer.Reload()\n",
      "INFO:tensorflow:Reloading runs serially (one after another) on the main thread.\n",
      "INFO:tensorflow:No path found after C:\\Users\\rruzzo\\Documents\\GitHub\\Deep_Learning_Work\\module_0\\week_3\\logs\\events.out.tfevents.1537936589.DESKTOP-V3AEQVL\n",
      "INFO:tensorflow:Finished with EventMultiplexer.Reload()\n",
      "INFO:tensorflow:TensorBoard done reloading. Load took 0.038 secs\n",
      "INFO:tensorflow:TensorBoard reload process beginning\n",
      "INFO:tensorflow:Starting AddRunsFromDirectory: C:\\Users\\rruzzo\\Documents\\GitHub\\Deep_Learning_Work\\module_0\\week_3\\logs\n",
      "INFO:tensorflow:GetLogdirSubdirectories: Starting to list directories via walking.\n",
      "INFO:tensorflow:Adding run from directory C:\\Users\\rruzzo\\Documents\\GitHub\\Deep_Learning_Work\\module_0\\week_3\\logs\n",
      "INFO:tensorflow:Done with AddRunsFromDirectory: C:\\Users\\rruzzo\\Documents\\GitHub\\Deep_Learning_Work\\module_0\\week_3\\logs\n",
      "INFO:tensorflow:TensorBoard reload process: Reload the whole Multiplexer\n",
      "INFO:tensorflow:Beginning EventMultiplexer.Reload()\n",
      "INFO:tensorflow:Reloading runs serially (one after another) on the main thread.\n",
      "INFO:tensorflow:No path found after C:\\Users\\rruzzo\\Documents\\GitHub\\Deep_Learning_Work\\module_0\\week_3\\logs\\events.out.tfevents.1537936589.DESKTOP-V3AEQVL\n",
      "INFO:tensorflow:Finished with EventMultiplexer.Reload()\n",
      "INFO:tensorflow:TensorBoard done reloading. Load took 0.039 secs\n",
      "INFO:tensorflow:TensorBoard reload process beginning\n",
      "INFO:tensorflow:Starting AddRunsFromDirectory: C:\\Users\\rruzzo\\Documents\\GitHub\\Deep_Learning_Work\\module_0\\week_3\\logs\n",
      "INFO:tensorflow:GetLogdirSubdirectories: Starting to list directories via walking.\n",
      "INFO:tensorflow:Adding run from directory C:\\Users\\rruzzo\\Documents\\GitHub\\Deep_Learning_Work\\module_0\\week_3\\logs\n",
      "INFO:tensorflow:Done with AddRunsFromDirectory: C:\\Users\\rruzzo\\Documents\\GitHub\\Deep_Learning_Work\\module_0\\week_3\\logs\n",
      "INFO:tensorflow:TensorBoard reload process: Reload the whole Multiplexer\n",
      "INFO:tensorflow:Beginning EventMultiplexer.Reload()\n",
      "INFO:tensorflow:Reloading runs serially (one after another) on the main thread.\n",
      "INFO:tensorflow:No path found after C:\\Users\\rruzzo\\Documents\\GitHub\\Deep_Learning_Work\\module_0\\week_3\\logs\\events.out.tfevents.1537936589.DESKTOP-V3AEQVL\n",
      "INFO:tensorflow:Finished with EventMultiplexer.Reload()\n",
      "INFO:tensorflow:TensorBoard done reloading. Load took 0.040 secs\n",
      "INFO:tensorflow:TensorBoard reload process beginning\n",
      "INFO:tensorflow:Starting AddRunsFromDirectory: C:\\Users\\rruzzo\\Documents\\GitHub\\Deep_Learning_Work\\module_0\\week_3\\logs\n",
      "INFO:tensorflow:GetLogdirSubdirectories: Starting to list directories via walking.\n",
      "INFO:tensorflow:Adding run from directory C:\\Users\\rruzzo\\Documents\\GitHub\\Deep_Learning_Work\\module_0\\week_3\\logs\n",
      "INFO:tensorflow:Done with AddRunsFromDirectory: C:\\Users\\rruzzo\\Documents\\GitHub\\Deep_Learning_Work\\module_0\\week_3\\logs\n",
      "INFO:tensorflow:TensorBoard reload process: Reload the whole Multiplexer\n",
      "INFO:tensorflow:Beginning EventMultiplexer.Reload()\n",
      "INFO:tensorflow:Reloading runs serially (one after another) on the main thread.\n",
      "INFO:tensorflow:No path found after C:\\Users\\rruzzo\\Documents\\GitHub\\Deep_Learning_Work\\module_0\\week_3\\logs\\events.out.tfevents.1537936589.DESKTOP-V3AEQVL\n",
      "INFO:tensorflow:Finished with EventMultiplexer.Reload()\n",
      "INFO:tensorflow:TensorBoard done reloading. Load took 0.035 secs\n",
      "INFO:tensorflow:Plugin listing: is_active() for core took 0.000 seconds\n"
     ]
    },
    {
     "name": "stderr",
     "output_type": "stream",
     "text": [
      "172.20.40.81 - - [26/Sep/2018 00:38:04] \"\u001b[37mGET /data/environment HTTP/1.1\u001b[0m\" 200 -\n",
      "172.20.40.81 - - [26/Sep/2018 00:38:04] \"\u001b[37mGET /data/runs HTTP/1.1\u001b[0m\" 200 -\n"
     ]
    },
    {
     "name": "stdout",
     "output_type": "stream",
     "text": [
      "INFO:tensorflow:Plugin listing: is_active() for beholder took 0.007 seconds\n"
     ]
    },
    {
     "name": "stderr",
     "output_type": "stream",
     "text": [
      "172.20.40.81 - - [26/Sep/2018 00:38:04] \"\u001b[37mGET /data/experiments HTTP/1.1\u001b[0m\" 200 -\n"
     ]
    },
    {
     "name": "stdout",
     "output_type": "stream",
     "text": [
      "INFO:tensorflow:Plugin listing: is_active() for scalars took 0.000 seconds\n",
      "INFO:tensorflow:Plugin listing: is_active() for custom_scalars took 0.000 seconds\n",
      "INFO:tensorflow:Plugin listing: is_active() for images took 0.000 seconds\n",
      "INFO:tensorflow:Plugin listing: is_active() for audio took 0.000 seconds\n",
      "INFO:tensorflow:Plugin listing: is_active() for graphs took 0.000 seconds\n",
      "INFO:tensorflow:Plugin listing: is_active() for distributions took 0.010 seconds\n",
      "INFO:tensorflow:Plugin listing: is_active() for histograms took 0.007 seconds\n",
      "INFO:tensorflow:Plugin listing: is_active() for pr_curves took 0.000 seconds\n",
      "INFO:tensorflow:Plugin listing: is_active() for projector took 0.001 seconds\n",
      "INFO:tensorflow:TextPlugin computing index_impl() in a new thread\n",
      "INFO:tensorflow:Plugin listing: is_active() for text took 0.003 seconds\n",
      "INFO:tensorflow:TextPlugin index_impl() thread ending after 0.003 sec\n",
      "INFO:tensorflow:Plugin listing: is_active() for profile took 0.000 seconds\n"
     ]
    },
    {
     "name": "stderr",
     "output_type": "stream",
     "text": [
      "172.20.40.81 - - [26/Sep/2018 00:38:04] \"\u001b[37mGET /data/plugins_listing HTTP/1.1\u001b[0m\" 200 -\n",
      "172.20.40.81 - - [26/Sep/2018 00:38:04] \"\u001b[37mGET /data/plugin/scalars/tags HTTP/1.1\u001b[0m\" 200 -\n",
      "172.20.40.81 - - [26/Sep/2018 00:38:04] \"\u001b[37mGET /data/plugin/scalars/scalars?run=.&tag=acc HTTP/1.1\u001b[0m\" 200 -\n",
      "172.20.40.81 - - [26/Sep/2018 00:38:04] \"\u001b[37mGET /data/plugin/scalars/scalars?run=.&tag=loss HTTP/1.1\u001b[0m\" 200 -\n",
      "172.20.40.81 - - [26/Sep/2018 00:38:04] \"\u001b[37mGET /data/plugin/scalars/scalars?run=.&tag=val_loss HTTP/1.1\u001b[0m\" 200 -\n"
     ]
    },
    {
     "name": "stdout",
     "output_type": "stream",
     "text": [
      "INFO:tensorflow:TensorBoard reload process beginning\n",
      "INFO:tensorflow:Starting AddRunsFromDirectory: C:\\Users\\rruzzo\\Documents\\GitHub\\Deep_Learning_Work\\module_0\\week_3\\logs\n",
      "INFO:tensorflow:GetLogdirSubdirectories: Starting to list directories via walking.\n",
      "INFO:tensorflow:Adding run from directory C:\\Users\\rruzzo\\Documents\\GitHub\\Deep_Learning_Work\\module_0\\week_3\\logs\n",
      "INFO:tensorflow:Done with AddRunsFromDirectory: C:\\Users\\rruzzo\\Documents\\GitHub\\Deep_Learning_Work\\module_0\\week_3\\logs\n",
      "INFO:tensorflow:TensorBoard reload process: Reload the whole Multiplexer\n",
      "INFO:tensorflow:Beginning EventMultiplexer.Reload()\n",
      "INFO:tensorflow:Reloading runs serially (one after another) on the main thread.\n",
      "INFO:tensorflow:No path found after C:\\Users\\rruzzo\\Documents\\GitHub\\Deep_Learning_Work\\module_0\\week_3\\logs\\events.out.tfevents.1537936589.DESKTOP-V3AEQVL\n",
      "INFO:tensorflow:Finished with EventMultiplexer.Reload()\n",
      "INFO:tensorflow:TensorBoard done reloading. Load took 0.040 secs\n",
      "INFO:tensorflow:TensorBoard reload process beginning\n",
      "INFO:tensorflow:Starting AddRunsFromDirectory: C:\\Users\\rruzzo\\Documents\\GitHub\\Deep_Learning_Work\\module_0\\week_3\\logs\n",
      "INFO:tensorflow:GetLogdirSubdirectories: Starting to list directories via walking.\n",
      "INFO:tensorflow:Adding run from directory C:\\Users\\rruzzo\\Documents\\GitHub\\Deep_Learning_Work\\module_0\\week_3\\logs\n",
      "INFO:tensorflow:Done with AddRunsFromDirectory: C:\\Users\\rruzzo\\Documents\\GitHub\\Deep_Learning_Work\\module_0\\week_3\\logs\n",
      "INFO:tensorflow:TensorBoard reload process: Reload the whole Multiplexer\n",
      "INFO:tensorflow:Beginning EventMultiplexer.Reload()\n",
      "INFO:tensorflow:Reloading runs serially (one after another) on the main thread.\n",
      "INFO:tensorflow:No path found after C:\\Users\\rruzzo\\Documents\\GitHub\\Deep_Learning_Work\\module_0\\week_3\\logs\\events.out.tfevents.1537936589.DESKTOP-V3AEQVL\n",
      "INFO:tensorflow:Finished with EventMultiplexer.Reload()\n",
      "INFO:tensorflow:TensorBoard done reloading. Load took 0.016 secs\n",
      "INFO:tensorflow:TensorBoard reload process beginning\n",
      "INFO:tensorflow:Starting AddRunsFromDirectory: C:\\Users\\rruzzo\\Documents\\GitHub\\Deep_Learning_Work\\module_0\\week_3\\logs\n",
      "INFO:tensorflow:GetLogdirSubdirectories: Starting to list directories via walking.\n",
      "INFO:tensorflow:Adding run from directory C:\\Users\\rruzzo\\Documents\\GitHub\\Deep_Learning_Work\\module_0\\week_3\\logs\n",
      "INFO:tensorflow:Done with AddRunsFromDirectory: C:\\Users\\rruzzo\\Documents\\GitHub\\Deep_Learning_Work\\module_0\\week_3\\logs\n",
      "INFO:tensorflow:TensorBoard reload process: Reload the whole Multiplexer\n",
      "INFO:tensorflow:Beginning EventMultiplexer.Reload()\n",
      "INFO:tensorflow:Reloading runs serially (one after another) on the main thread.\n",
      "INFO:tensorflow:No path found after C:\\Users\\rruzzo\\Documents\\GitHub\\Deep_Learning_Work\\module_0\\week_3\\logs\\events.out.tfevents.1537936589.DESKTOP-V3AEQVL\n",
      "INFO:tensorflow:Finished with EventMultiplexer.Reload()\n",
      "INFO:tensorflow:TensorBoard done reloading. Load took 0.017 secs\n",
      "INFO:tensorflow:TensorBoard reload process beginning\n",
      "INFO:tensorflow:Starting AddRunsFromDirectory: C:\\Users\\rruzzo\\Documents\\GitHub\\Deep_Learning_Work\\module_0\\week_3\\logs\n",
      "INFO:tensorflow:GetLogdirSubdirectories: Starting to list directories via walking.\n",
      "INFO:tensorflow:Adding run from directory C:\\Users\\rruzzo\\Documents\\GitHub\\Deep_Learning_Work\\module_0\\week_3\\logs\n",
      "INFO:tensorflow:Done with AddRunsFromDirectory: C:\\Users\\rruzzo\\Documents\\GitHub\\Deep_Learning_Work\\module_0\\week_3\\logs\n",
      "INFO:tensorflow:TensorBoard reload process: Reload the whole Multiplexer\n",
      "INFO:tensorflow:Beginning EventMultiplexer.Reload()\n",
      "INFO:tensorflow:Reloading runs serially (one after another) on the main thread.\n",
      "INFO:tensorflow:No path found after C:\\Users\\rruzzo\\Documents\\GitHub\\Deep_Learning_Work\\module_0\\week_3\\logs\\events.out.tfevents.1537936589.DESKTOP-V3AEQVL\n",
      "INFO:tensorflow:Finished with EventMultiplexer.Reload()\n",
      "INFO:tensorflow:TensorBoard done reloading. Load took 0.031 secs\n",
      "INFO:tensorflow:TensorBoard reload process beginning\n",
      "INFO:tensorflow:Starting AddRunsFromDirectory: C:\\Users\\rruzzo\\Documents\\GitHub\\Deep_Learning_Work\\module_0\\week_3\\logs\n",
      "INFO:tensorflow:GetLogdirSubdirectories: Starting to list directories via walking.\n",
      "INFO:tensorflow:Adding run from directory C:\\Users\\rruzzo\\Documents\\GitHub\\Deep_Learning_Work\\module_0\\week_3\\logs\n",
      "INFO:tensorflow:Done with AddRunsFromDirectory: C:\\Users\\rruzzo\\Documents\\GitHub\\Deep_Learning_Work\\module_0\\week_3\\logs\n",
      "INFO:tensorflow:TensorBoard reload process: Reload the whole Multiplexer\n",
      "INFO:tensorflow:Beginning EventMultiplexer.Reload()\n",
      "INFO:tensorflow:Reloading runs serially (one after another) on the main thread.\n",
      "INFO:tensorflow:No path found after C:\\Users\\rruzzo\\Documents\\GitHub\\Deep_Learning_Work\\module_0\\week_3\\logs\\events.out.tfevents.1537936589.DESKTOP-V3AEQVL\n",
      "INFO:tensorflow:Finished with EventMultiplexer.Reload()\n",
      "INFO:tensorflow:TensorBoard done reloading. Load took 0.037 secs\n",
      "INFO:tensorflow:TensorBoard reload process beginning\n",
      "INFO:tensorflow:Starting AddRunsFromDirectory: C:\\Users\\rruzzo\\Documents\\GitHub\\Deep_Learning_Work\\module_0\\week_3\\logs\n",
      "INFO:tensorflow:GetLogdirSubdirectories: Starting to list directories via walking.\n",
      "INFO:tensorflow:Adding run from directory C:\\Users\\rruzzo\\Documents\\GitHub\\Deep_Learning_Work\\module_0\\week_3\\logs\n",
      "INFO:tensorflow:Done with AddRunsFromDirectory: C:\\Users\\rruzzo\\Documents\\GitHub\\Deep_Learning_Work\\module_0\\week_3\\logs\n",
      "INFO:tensorflow:TensorBoard reload process: Reload the whole Multiplexer\n",
      "INFO:tensorflow:Beginning EventMultiplexer.Reload()\n",
      "INFO:tensorflow:Reloading runs serially (one after another) on the main thread.\n",
      "INFO:tensorflow:No path found after C:\\Users\\rruzzo\\Documents\\GitHub\\Deep_Learning_Work\\module_0\\week_3\\logs\\events.out.tfevents.1537936589.DESKTOP-V3AEQVL\n",
      "INFO:tensorflow:Finished with EventMultiplexer.Reload()\n",
      "INFO:tensorflow:TensorBoard done reloading. Load took 0.016 secs\n"
     ]
    },
    {
     "name": "stderr",
     "output_type": "stream",
     "text": [
      "172.20.40.81 - - [26/Sep/2018 00:38:34] \"\u001b[37mGET /data/environment HTTP/1.1\u001b[0m\" 200 -\n"
     ]
    },
    {
     "name": "stdout",
     "output_type": "stream",
     "text": [
      "INFO:tensorflow:Plugin listing: is_active() for core took 0.000 seconds\n"
     ]
    },
    {
     "name": "stderr",
     "output_type": "stream",
     "text": [
      "172.20.40.81 - - [26/Sep/2018 00:38:34] \"\u001b[37mGET /data/runs HTTP/1.1\u001b[0m\" 200 -\n"
     ]
    },
    {
     "name": "stdout",
     "output_type": "stream",
     "text": [
      "INFO:tensorflow:Plugin listing: is_active() for beholder took 0.005 seconds\n",
      "INFO:tensorflow:Plugin listing: is_active() for scalars took 0.000 seconds\n"
     ]
    },
    {
     "name": "stderr",
     "output_type": "stream",
     "text": [
      "172.20.40.81 - - [26/Sep/2018 00:38:34] \"\u001b[37mGET /data/experiments HTTP/1.1\u001b[0m\" 200 -\n"
     ]
    },
    {
     "name": "stdout",
     "output_type": "stream",
     "text": [
      "INFO:tensorflow:Plugin listing: is_active() for custom_scalars took 0.001 seconds\n",
      "INFO:tensorflow:Plugin listing: is_active() for images took 0.000 seconds\n",
      "INFO:tensorflow:Plugin listing: is_active() for audio took 0.000 seconds\n",
      "INFO:tensorflow:Plugin listing: is_active() for graphs took 0.000 seconds\n",
      "INFO:tensorflow:Plugin listing: is_active() for distributions took 0.009 seconds\n",
      "INFO:tensorflow:Plugin listing: is_active() for histograms took 0.009 seconds\n",
      "INFO:tensorflow:Plugin listing: is_active() for pr_curves took 0.000 seconds\n",
      "INFO:tensorflow:Plugin listing: is_active() for projector took 0.000 seconds\n",
      "INFO:tensorflow:TextPlugin computing index_impl() in a new thread\n",
      "INFO:tensorflow:Plugin listing: is_active() for text took 0.003 seconds\n",
      "INFO:tensorflow:TextPlugin index_impl() thread ending after 0.004 sec\n",
      "INFO:tensorflow:Plugin listing: is_active() for profile took 0.000 seconds\n"
     ]
    },
    {
     "name": "stderr",
     "output_type": "stream",
     "text": [
      "172.20.40.81 - - [26/Sep/2018 00:38:34] \"\u001b[37mGET /data/plugins_listing HTTP/1.1\u001b[0m\" 200 -\n",
      "172.20.40.81 - - [26/Sep/2018 00:38:34] \"\u001b[37mGET /data/plugin/scalars/tags HTTP/1.1\u001b[0m\" 200 -\n",
      "172.20.40.81 - - [26/Sep/2018 00:38:34] \"\u001b[37mGET /data/plugin/scalars/scalars?run=.&tag=acc HTTP/1.1\u001b[0m\" 200 -\n",
      "172.20.40.81 - - [26/Sep/2018 00:38:34] \"\u001b[37mGET /data/plugin/scalars/scalars?run=.&tag=loss HTTP/1.1\u001b[0m\" 200 -\n",
      "172.20.40.81 - - [26/Sep/2018 00:38:34] \"\u001b[37mGET /data/plugin/scalars/scalars?run=.&tag=val_loss HTTP/1.1\u001b[0m\" 200 -\n"
     ]
    },
    {
     "name": "stdout",
     "output_type": "stream",
     "text": [
      "INFO:tensorflow:TensorBoard reload process beginning\n",
      "INFO:tensorflow:Starting AddRunsFromDirectory: C:\\Users\\rruzzo\\Documents\\GitHub\\Deep_Learning_Work\\module_0\\week_3\\logs\n",
      "INFO:tensorflow:GetLogdirSubdirectories: Starting to list directories via walking.\n",
      "INFO:tensorflow:Adding run from directory C:\\Users\\rruzzo\\Documents\\GitHub\\Deep_Learning_Work\\module_0\\week_3\\logs\n",
      "INFO:tensorflow:Done with AddRunsFromDirectory: C:\\Users\\rruzzo\\Documents\\GitHub\\Deep_Learning_Work\\module_0\\week_3\\logs\n",
      "INFO:tensorflow:TensorBoard reload process: Reload the whole Multiplexer\n",
      "INFO:tensorflow:Beginning EventMultiplexer.Reload()\n",
      "INFO:tensorflow:Reloading runs serially (one after another) on the main thread.\n",
      "INFO:tensorflow:No path found after C:\\Users\\rruzzo\\Documents\\GitHub\\Deep_Learning_Work\\module_0\\week_3\\logs\\events.out.tfevents.1537936589.DESKTOP-V3AEQVL\n",
      "INFO:tensorflow:Finished with EventMultiplexer.Reload()\n",
      "INFO:tensorflow:TensorBoard done reloading. Load took 0.017 secs\n",
      "INFO:tensorflow:TensorBoard reload process beginning\n",
      "INFO:tensorflow:Starting AddRunsFromDirectory: C:\\Users\\rruzzo\\Documents\\GitHub\\Deep_Learning_Work\\module_0\\week_3\\logs\n",
      "INFO:tensorflow:GetLogdirSubdirectories: Starting to list directories via walking.\n",
      "INFO:tensorflow:Adding run from directory C:\\Users\\rruzzo\\Documents\\GitHub\\Deep_Learning_Work\\module_0\\week_3\\logs\n",
      "INFO:tensorflow:Done with AddRunsFromDirectory: C:\\Users\\rruzzo\\Documents\\GitHub\\Deep_Learning_Work\\module_0\\week_3\\logs\n",
      "INFO:tensorflow:TensorBoard reload process: Reload the whole Multiplexer\n",
      "INFO:tensorflow:Beginning EventMultiplexer.Reload()\n",
      "INFO:tensorflow:Reloading runs serially (one after another) on the main thread.\n",
      "INFO:tensorflow:No path found after C:\\Users\\rruzzo\\Documents\\GitHub\\Deep_Learning_Work\\module_0\\week_3\\logs\\events.out.tfevents.1537936589.DESKTOP-V3AEQVL\n",
      "INFO:tensorflow:Finished with EventMultiplexer.Reload()\n",
      "INFO:tensorflow:TensorBoard done reloading. Load took 0.022 secs\n",
      "INFO:tensorflow:TensorBoard reload process beginning\n",
      "INFO:tensorflow:Starting AddRunsFromDirectory: C:\\Users\\rruzzo\\Documents\\GitHub\\Deep_Learning_Work\\module_0\\week_3\\logs\n",
      "INFO:tensorflow:GetLogdirSubdirectories: Starting to list directories via walking.\n",
      "INFO:tensorflow:Adding run from directory C:\\Users\\rruzzo\\Documents\\GitHub\\Deep_Learning_Work\\module_0\\week_3\\logs\n",
      "INFO:tensorflow:Done with AddRunsFromDirectory: C:\\Users\\rruzzo\\Documents\\GitHub\\Deep_Learning_Work\\module_0\\week_3\\logs\n",
      "INFO:tensorflow:TensorBoard reload process: Reload the whole Multiplexer\n",
      "INFO:tensorflow:Beginning EventMultiplexer.Reload()\n",
      "INFO:tensorflow:Reloading runs serially (one after another) on the main thread.\n",
      "INFO:tensorflow:No path found after C:\\Users\\rruzzo\\Documents\\GitHub\\Deep_Learning_Work\\module_0\\week_3\\logs\\events.out.tfevents.1537936589.DESKTOP-V3AEQVL\n",
      "INFO:tensorflow:Finished with EventMultiplexer.Reload()\n",
      "INFO:tensorflow:TensorBoard done reloading. Load took 0.015 secs\n",
      "INFO:tensorflow:TensorBoard reload process beginning\n",
      "INFO:tensorflow:Starting AddRunsFromDirectory: C:\\Users\\rruzzo\\Documents\\GitHub\\Deep_Learning_Work\\module_0\\week_3\\logs\n",
      "INFO:tensorflow:GetLogdirSubdirectories: Starting to list directories via walking.\n",
      "INFO:tensorflow:Adding run from directory C:\\Users\\rruzzo\\Documents\\GitHub\\Deep_Learning_Work\\module_0\\week_3\\logs\n",
      "INFO:tensorflow:Done with AddRunsFromDirectory: C:\\Users\\rruzzo\\Documents\\GitHub\\Deep_Learning_Work\\module_0\\week_3\\logs\n",
      "INFO:tensorflow:TensorBoard reload process: Reload the whole Multiplexer\n",
      "INFO:tensorflow:Beginning EventMultiplexer.Reload()\n",
      "INFO:tensorflow:Reloading runs serially (one after another) on the main thread.\n",
      "INFO:tensorflow:No path found after C:\\Users\\rruzzo\\Documents\\GitHub\\Deep_Learning_Work\\module_0\\week_3\\logs\\events.out.tfevents.1537936589.DESKTOP-V3AEQVL\n",
      "INFO:tensorflow:Finished with EventMultiplexer.Reload()\n",
      "INFO:tensorflow:TensorBoard done reloading. Load took 0.015 secs\n",
      "INFO:tensorflow:TensorBoard reload process beginning\n",
      "INFO:tensorflow:Starting AddRunsFromDirectory: C:\\Users\\rruzzo\\Documents\\GitHub\\Deep_Learning_Work\\module_0\\week_3\\logs\n",
      "INFO:tensorflow:GetLogdirSubdirectories: Starting to list directories via walking.\n",
      "INFO:tensorflow:Adding run from directory C:\\Users\\rruzzo\\Documents\\GitHub\\Deep_Learning_Work\\module_0\\week_3\\logs\n",
      "INFO:tensorflow:Done with AddRunsFromDirectory: C:\\Users\\rruzzo\\Documents\\GitHub\\Deep_Learning_Work\\module_0\\week_3\\logs\n",
      "INFO:tensorflow:TensorBoard reload process: Reload the whole Multiplexer\n",
      "INFO:tensorflow:Beginning EventMultiplexer.Reload()\n",
      "INFO:tensorflow:Reloading runs serially (one after another) on the main thread.\n",
      "INFO:tensorflow:No path found after C:\\Users\\rruzzo\\Documents\\GitHub\\Deep_Learning_Work\\module_0\\week_3\\logs\\events.out.tfevents.1537936589.DESKTOP-V3AEQVL\n",
      "INFO:tensorflow:Finished with EventMultiplexer.Reload()\n",
      "INFO:tensorflow:TensorBoard done reloading. Load took 0.044 secs\n",
      "INFO:tensorflow:TensorBoard reload process beginning\n",
      "INFO:tensorflow:Starting AddRunsFromDirectory: C:\\Users\\rruzzo\\Documents\\GitHub\\Deep_Learning_Work\\module_0\\week_3\\logs\n",
      "INFO:tensorflow:GetLogdirSubdirectories: Starting to list directories via walking.\n",
      "INFO:tensorflow:Adding run from directory C:\\Users\\rruzzo\\Documents\\GitHub\\Deep_Learning_Work\\module_0\\week_3\\logs\n",
      "INFO:tensorflow:Done with AddRunsFromDirectory: C:\\Users\\rruzzo\\Documents\\GitHub\\Deep_Learning_Work\\module_0\\week_3\\logs\n",
      "INFO:tensorflow:TensorBoard reload process: Reload the whole Multiplexer\n",
      "INFO:tensorflow:Beginning EventMultiplexer.Reload()\n",
      "INFO:tensorflow:Reloading runs serially (one after another) on the main thread.\n",
      "INFO:tensorflow:No path found after C:\\Users\\rruzzo\\Documents\\GitHub\\Deep_Learning_Work\\module_0\\week_3\\logs\\events.out.tfevents.1537936589.DESKTOP-V3AEQVL\n",
      "INFO:tensorflow:Finished with EventMultiplexer.Reload()\n",
      "INFO:tensorflow:TensorBoard done reloading. Load took 0.037 secs\n"
     ]
    },
    {
     "name": "stderr",
     "output_type": "stream",
     "text": [
      "172.20.40.81 - - [26/Sep/2018 00:39:04] \"\u001b[37mGET /data/environment HTTP/1.1\u001b[0m\" 200 -\n"
     ]
    },
    {
     "name": "stdout",
     "output_type": "stream",
     "text": [
      "INFO:tensorflow:Plugin listing: is_active() for core took 0.000 seconds\n",
      "INFO:tensorflow:Plugin listing: is_active() for beholder took 0.001 seconds\n"
     ]
    },
    {
     "name": "stderr",
     "output_type": "stream",
     "text": [
      "172.20.40.81 - - [26/Sep/2018 00:39:04] \"\u001b[37mGET /data/runs HTTP/1.1\u001b[0m\" 200 -\n"
     ]
    },
    {
     "name": "stdout",
     "output_type": "stream",
     "text": [
      "INFO:tensorflow:Plugin listing: is_active() for scalars took 0.001 seconds\n"
     ]
    },
    {
     "name": "stderr",
     "output_type": "stream",
     "text": [
      "172.20.40.81 - - [26/Sep/2018 00:39:04] \"\u001b[37mGET /data/experiments HTTP/1.1\u001b[0m\" 200 -\n"
     ]
    },
    {
     "name": "stdout",
     "output_type": "stream",
     "text": [
      "INFO:tensorflow:Plugin listing: is_active() for custom_scalars took 0.000 seconds\n",
      "INFO:tensorflow:Plugin listing: is_active() for images took 0.000 seconds\n",
      "INFO:tensorflow:Plugin listing: is_active() for audio took 0.000 seconds\n",
      "INFO:tensorflow:Plugin listing: is_active() for graphs took 0.000 seconds\n",
      "INFO:tensorflow:Plugin listing: is_active() for distributions took 0.008 seconds\n",
      "INFO:tensorflow:Plugin listing: is_active() for histograms took 0.006 seconds\n",
      "INFO:tensorflow:Plugin listing: is_active() for pr_curves took 0.000 seconds\n",
      "INFO:tensorflow:Plugin listing: is_active() for projector took 0.001 seconds\n",
      "INFO:tensorflow:TextPlugin computing index_impl() in a new thread\n",
      "INFO:tensorflow:Plugin listing: is_active() for text took 0.003 seconds\n",
      "INFO:tensorflow:TextPlugin index_impl() thread ending after 0.004 sec\n",
      "INFO:tensorflow:Plugin listing: is_active() for profile took 0.000 seconds\n"
     ]
    },
    {
     "name": "stderr",
     "output_type": "stream",
     "text": [
      "172.20.40.81 - - [26/Sep/2018 00:39:04] \"\u001b[37mGET /data/plugins_listing HTTP/1.1\u001b[0m\" 200 -\n",
      "172.20.40.81 - - [26/Sep/2018 00:39:04] \"\u001b[37mGET /data/plugin/scalars/tags HTTP/1.1\u001b[0m\" 200 -\n",
      "172.20.40.81 - - [26/Sep/2018 00:39:04] \"\u001b[37mGET /data/plugin/scalars/scalars?run=.&tag=acc HTTP/1.1\u001b[0m\" 200 -\n",
      "172.20.40.81 - - [26/Sep/2018 00:39:04] \"\u001b[37mGET /data/plugin/scalars/scalars?run=.&tag=loss HTTP/1.1\u001b[0m\" 200 -\n",
      "172.20.40.81 - - [26/Sep/2018 00:39:04] \"\u001b[37mGET /data/plugin/scalars/scalars?run=.&tag=val_loss HTTP/1.1\u001b[0m\" 200 -\n"
     ]
    },
    {
     "name": "stdout",
     "output_type": "stream",
     "text": [
      "INFO:tensorflow:TensorBoard reload process beginning\n",
      "INFO:tensorflow:Starting AddRunsFromDirectory: C:\\Users\\rruzzo\\Documents\\GitHub\\Deep_Learning_Work\\module_0\\week_3\\logs\n",
      "INFO:tensorflow:GetLogdirSubdirectories: Starting to list directories via walking.\n",
      "INFO:tensorflow:Adding run from directory C:\\Users\\rruzzo\\Documents\\GitHub\\Deep_Learning_Work\\module_0\\week_3\\logs\n",
      "INFO:tensorflow:Done with AddRunsFromDirectory: C:\\Users\\rruzzo\\Documents\\GitHub\\Deep_Learning_Work\\module_0\\week_3\\logs\n",
      "INFO:tensorflow:TensorBoard reload process: Reload the whole Multiplexer\n",
      "INFO:tensorflow:Beginning EventMultiplexer.Reload()\n",
      "INFO:tensorflow:Reloading runs serially (one after another) on the main thread.\n",
      "INFO:tensorflow:No path found after C:\\Users\\rruzzo\\Documents\\GitHub\\Deep_Learning_Work\\module_0\\week_3\\logs\\events.out.tfevents.1537936589.DESKTOP-V3AEQVL\n",
      "INFO:tensorflow:Finished with EventMultiplexer.Reload()\n",
      "INFO:tensorflow:TensorBoard done reloading. Load took 0.024 secs\n",
      "INFO:tensorflow:TensorBoard reload process beginning\n",
      "INFO:tensorflow:Starting AddRunsFromDirectory: C:\\Users\\rruzzo\\Documents\\GitHub\\Deep_Learning_Work\\module_0\\week_3\\logs\n",
      "INFO:tensorflow:GetLogdirSubdirectories: Starting to list directories via walking.\n",
      "INFO:tensorflow:Adding run from directory C:\\Users\\rruzzo\\Documents\\GitHub\\Deep_Learning_Work\\module_0\\week_3\\logs\n",
      "INFO:tensorflow:Done with AddRunsFromDirectory: C:\\Users\\rruzzo\\Documents\\GitHub\\Deep_Learning_Work\\module_0\\week_3\\logs\n",
      "INFO:tensorflow:TensorBoard reload process: Reload the whole Multiplexer\n",
      "INFO:tensorflow:Beginning EventMultiplexer.Reload()\n",
      "INFO:tensorflow:Reloading runs serially (one after another) on the main thread.\n",
      "INFO:tensorflow:No path found after C:\\Users\\rruzzo\\Documents\\GitHub\\Deep_Learning_Work\\module_0\\week_3\\logs\\events.out.tfevents.1537936589.DESKTOP-V3AEQVL\n",
      "INFO:tensorflow:Finished with EventMultiplexer.Reload()\n",
      "INFO:tensorflow:TensorBoard done reloading. Load took 0.016 secs\n",
      "INFO:tensorflow:TensorBoard reload process beginning\n",
      "INFO:tensorflow:Starting AddRunsFromDirectory: C:\\Users\\rruzzo\\Documents\\GitHub\\Deep_Learning_Work\\module_0\\week_3\\logs\n",
      "INFO:tensorflow:GetLogdirSubdirectories: Starting to list directories via walking.\n",
      "INFO:tensorflow:Adding run from directory C:\\Users\\rruzzo\\Documents\\GitHub\\Deep_Learning_Work\\module_0\\week_3\\logs\n",
      "INFO:tensorflow:Done with AddRunsFromDirectory: C:\\Users\\rruzzo\\Documents\\GitHub\\Deep_Learning_Work\\module_0\\week_3\\logs\n",
      "INFO:tensorflow:TensorBoard reload process: Reload the whole Multiplexer\n",
      "INFO:tensorflow:Beginning EventMultiplexer.Reload()\n",
      "INFO:tensorflow:Reloading runs serially (one after another) on the main thread.\n",
      "INFO:tensorflow:No path found after C:\\Users\\rruzzo\\Documents\\GitHub\\Deep_Learning_Work\\module_0\\week_3\\logs\\events.out.tfevents.1537936589.DESKTOP-V3AEQVL\n",
      "INFO:tensorflow:Finished with EventMultiplexer.Reload()\n",
      "INFO:tensorflow:TensorBoard done reloading. Load took 0.015 secs\n",
      "INFO:tensorflow:TensorBoard reload process beginning\n",
      "INFO:tensorflow:Starting AddRunsFromDirectory: C:\\Users\\rruzzo\\Documents\\GitHub\\Deep_Learning_Work\\module_0\\week_3\\logs\n",
      "INFO:tensorflow:GetLogdirSubdirectories: Starting to list directories via walking.\n",
      "INFO:tensorflow:Adding run from directory C:\\Users\\rruzzo\\Documents\\GitHub\\Deep_Learning_Work\\module_0\\week_3\\logs\n",
      "INFO:tensorflow:Done with AddRunsFromDirectory: C:\\Users\\rruzzo\\Documents\\GitHub\\Deep_Learning_Work\\module_0\\week_3\\logs\n",
      "INFO:tensorflow:TensorBoard reload process: Reload the whole Multiplexer\n",
      "INFO:tensorflow:Beginning EventMultiplexer.Reload()\n",
      "INFO:tensorflow:Reloading runs serially (one after another) on the main thread.\n",
      "INFO:tensorflow:No path found after C:\\Users\\rruzzo\\Documents\\GitHub\\Deep_Learning_Work\\module_0\\week_3\\logs\\events.out.tfevents.1537936589.DESKTOP-V3AEQVL\n",
      "INFO:tensorflow:Finished with EventMultiplexer.Reload()\n",
      "INFO:tensorflow:TensorBoard done reloading. Load took 0.015 secs\n",
      "INFO:tensorflow:TensorBoard reload process beginning\n",
      "INFO:tensorflow:Starting AddRunsFromDirectory: C:\\Users\\rruzzo\\Documents\\GitHub\\Deep_Learning_Work\\module_0\\week_3\\logs\n",
      "INFO:tensorflow:GetLogdirSubdirectories: Starting to list directories via walking.\n",
      "INFO:tensorflow:Adding run from directory C:\\Users\\rruzzo\\Documents\\GitHub\\Deep_Learning_Work\\module_0\\week_3\\logs\n",
      "INFO:tensorflow:Done with AddRunsFromDirectory: C:\\Users\\rruzzo\\Documents\\GitHub\\Deep_Learning_Work\\module_0\\week_3\\logs\n",
      "INFO:tensorflow:TensorBoard reload process: Reload the whole Multiplexer\n",
      "INFO:tensorflow:Beginning EventMultiplexer.Reload()\n",
      "INFO:tensorflow:Reloading runs serially (one after another) on the main thread.\n",
      "INFO:tensorflow:No path found after C:\\Users\\rruzzo\\Documents\\GitHub\\Deep_Learning_Work\\module_0\\week_3\\logs\\events.out.tfevents.1537936589.DESKTOP-V3AEQVL\n",
      "INFO:tensorflow:Finished with EventMultiplexer.Reload()\n",
      "INFO:tensorflow:TensorBoard done reloading. Load took 0.024 secs\n",
      "INFO:tensorflow:TensorBoard reload process beginning\n",
      "INFO:tensorflow:Starting AddRunsFromDirectory: C:\\Users\\rruzzo\\Documents\\GitHub\\Deep_Learning_Work\\module_0\\week_3\\logs\n",
      "INFO:tensorflow:GetLogdirSubdirectories: Starting to list directories via walking.\n",
      "INFO:tensorflow:Adding run from directory C:\\Users\\rruzzo\\Documents\\GitHub\\Deep_Learning_Work\\module_0\\week_3\\logs\n",
      "INFO:tensorflow:Done with AddRunsFromDirectory: C:\\Users\\rruzzo\\Documents\\GitHub\\Deep_Learning_Work\\module_0\\week_3\\logs\n",
      "INFO:tensorflow:TensorBoard reload process: Reload the whole Multiplexer\n",
      "INFO:tensorflow:Beginning EventMultiplexer.Reload()\n",
      "INFO:tensorflow:Reloading runs serially (one after another) on the main thread.\n",
      "INFO:tensorflow:No path found after C:\\Users\\rruzzo\\Documents\\GitHub\\Deep_Learning_Work\\module_0\\week_3\\logs\\events.out.tfevents.1537936589.DESKTOP-V3AEQVL\n",
      "INFO:tensorflow:Finished with EventMultiplexer.Reload()\n",
      "INFO:tensorflow:TensorBoard done reloading. Load took 0.015 secs\n"
     ]
    },
    {
     "name": "stderr",
     "output_type": "stream",
     "text": [
      "172.20.40.81 - - [26/Sep/2018 00:39:34] \"\u001b[37mGET /data/environment HTTP/1.1\u001b[0m\" 200 -\n"
     ]
    },
    {
     "name": "stdout",
     "output_type": "stream",
     "text": [
      "INFO:tensorflow:Plugin listing: is_active() for core took 0.000 seconds\n",
      "INFO:tensorflow:Plugin listing: is_active() for beholder took 0.000 seconds\n",
      "INFO:tensorflow:Plugin listing: is_active() for scalars took 0.000 seconds\n"
     ]
    },
    {
     "name": "stderr",
     "output_type": "stream",
     "text": [
      "172.20.40.81 - - [26/Sep/2018 00:39:34] \"\u001b[37mGET /data/runs HTTP/1.1\u001b[0m\" 200 -\n"
     ]
    },
    {
     "name": "stdout",
     "output_type": "stream",
     "text": [
      "INFO:tensorflow:Plugin listing: is_active() for custom_scalars took 0.001 seconds\n"
     ]
    },
    {
     "name": "stderr",
     "output_type": "stream",
     "text": [
      "172.20.40.81 - - [26/Sep/2018 00:39:34] \"\u001b[37mGET /data/experiments HTTP/1.1\u001b[0m\" 200 -\n"
     ]
    },
    {
     "name": "stdout",
     "output_type": "stream",
     "text": [
      "INFO:tensorflow:Plugin listing: is_active() for images took 0.000 seconds\n",
      "INFO:tensorflow:Plugin listing: is_active() for audio took 0.000 seconds\n",
      "INFO:tensorflow:Plugin listing: is_active() for graphs took 0.000 seconds\n",
      "INFO:tensorflow:Plugin listing: is_active() for distributions took 0.007 seconds\n",
      "INFO:tensorflow:Plugin listing: is_active() for histograms took 0.007 seconds\n",
      "INFO:tensorflow:Plugin listing: is_active() for pr_curves took 0.000 seconds\n",
      "INFO:tensorflow:Plugin listing: is_active() for projector took 0.001 seconds\n",
      "INFO:tensorflow:TextPlugin computing index_impl() in a new thread\n",
      "INFO:tensorflow:Plugin listing: is_active() for text took 0.003 seconds\n",
      "INFO:tensorflow:TextPlugin index_impl() thread ending after 0.003 sec\n",
      "INFO:tensorflow:Plugin listing: is_active() for profile took 0.001 seconds\n"
     ]
    },
    {
     "name": "stderr",
     "output_type": "stream",
     "text": [
      "172.20.40.81 - - [26/Sep/2018 00:39:34] \"\u001b[37mGET /data/plugins_listing HTTP/1.1\u001b[0m\" 200 -\n",
      "172.20.40.81 - - [26/Sep/2018 00:39:34] \"\u001b[37mGET /data/plugin/scalars/tags HTTP/1.1\u001b[0m\" 200 -\n",
      "172.20.40.81 - - [26/Sep/2018 00:39:34] \"\u001b[37mGET /data/plugin/scalars/scalars?run=.&tag=acc HTTP/1.1\u001b[0m\" 200 -\n",
      "172.20.40.81 - - [26/Sep/2018 00:39:34] \"\u001b[37mGET /data/plugin/scalars/scalars?run=.&tag=loss HTTP/1.1\u001b[0m\" 200 -\n",
      "172.20.40.81 - - [26/Sep/2018 00:39:34] \"\u001b[37mGET /data/plugin/scalars/scalars?run=.&tag=val_loss HTTP/1.1\u001b[0m\" 200 -\n"
     ]
    },
    {
     "name": "stdout",
     "output_type": "stream",
     "text": [
      "INFO:tensorflow:TensorBoard reload process beginning\n",
      "INFO:tensorflow:Starting AddRunsFromDirectory: C:\\Users\\rruzzo\\Documents\\GitHub\\Deep_Learning_Work\\module_0\\week_3\\logs\n",
      "INFO:tensorflow:GetLogdirSubdirectories: Starting to list directories via walking.\n",
      "INFO:tensorflow:Adding run from directory C:\\Users\\rruzzo\\Documents\\GitHub\\Deep_Learning_Work\\module_0\\week_3\\logs\n",
      "INFO:tensorflow:Done with AddRunsFromDirectory: C:\\Users\\rruzzo\\Documents\\GitHub\\Deep_Learning_Work\\module_0\\week_3\\logs\n",
      "INFO:tensorflow:TensorBoard reload process: Reload the whole Multiplexer\n",
      "INFO:tensorflow:Beginning EventMultiplexer.Reload()\n",
      "INFO:tensorflow:Reloading runs serially (one after another) on the main thread.\n",
      "INFO:tensorflow:No path found after C:\\Users\\rruzzo\\Documents\\GitHub\\Deep_Learning_Work\\module_0\\week_3\\logs\\events.out.tfevents.1537936589.DESKTOP-V3AEQVL\n",
      "INFO:tensorflow:Finished with EventMultiplexer.Reload()\n",
      "INFO:tensorflow:TensorBoard done reloading. Load took 0.019 secs\n",
      "INFO:tensorflow:TensorBoard reload process beginning\n",
      "INFO:tensorflow:Starting AddRunsFromDirectory: C:\\Users\\rruzzo\\Documents\\GitHub\\Deep_Learning_Work\\module_0\\week_3\\logs\n",
      "INFO:tensorflow:GetLogdirSubdirectories: Starting to list directories via walking.\n",
      "INFO:tensorflow:Adding run from directory C:\\Users\\rruzzo\\Documents\\GitHub\\Deep_Learning_Work\\module_0\\week_3\\logs\n",
      "INFO:tensorflow:Done with AddRunsFromDirectory: C:\\Users\\rruzzo\\Documents\\GitHub\\Deep_Learning_Work\\module_0\\week_3\\logs\n",
      "INFO:tensorflow:TensorBoard reload process: Reload the whole Multiplexer\n",
      "INFO:tensorflow:Beginning EventMultiplexer.Reload()\n",
      "INFO:tensorflow:Reloading runs serially (one after another) on the main thread.\n",
      "INFO:tensorflow:No path found after C:\\Users\\rruzzo\\Documents\\GitHub\\Deep_Learning_Work\\module_0\\week_3\\logs\\events.out.tfevents.1537936589.DESKTOP-V3AEQVL\n",
      "INFO:tensorflow:Finished with EventMultiplexer.Reload()\n",
      "INFO:tensorflow:TensorBoard done reloading. Load took 0.020 secs\n",
      "INFO:tensorflow:TensorBoard reload process beginning\n",
      "INFO:tensorflow:Starting AddRunsFromDirectory: C:\\Users\\rruzzo\\Documents\\GitHub\\Deep_Learning_Work\\module_0\\week_3\\logs\n",
      "INFO:tensorflow:GetLogdirSubdirectories: Starting to list directories via walking.\n",
      "INFO:tensorflow:Adding run from directory C:\\Users\\rruzzo\\Documents\\GitHub\\Deep_Learning_Work\\module_0\\week_3\\logs\n",
      "INFO:tensorflow:Done with AddRunsFromDirectory: C:\\Users\\rruzzo\\Documents\\GitHub\\Deep_Learning_Work\\module_0\\week_3\\logs\n",
      "INFO:tensorflow:TensorBoard reload process: Reload the whole Multiplexer\n",
      "INFO:tensorflow:Beginning EventMultiplexer.Reload()\n",
      "INFO:tensorflow:Reloading runs serially (one after another) on the main thread.\n",
      "INFO:tensorflow:No path found after C:\\Users\\rruzzo\\Documents\\GitHub\\Deep_Learning_Work\\module_0\\week_3\\logs\\events.out.tfevents.1537936589.DESKTOP-V3AEQVL\n",
      "INFO:tensorflow:Finished with EventMultiplexer.Reload()\n",
      "INFO:tensorflow:TensorBoard done reloading. Load took 0.017 secs\n",
      "INFO:tensorflow:TensorBoard reload process beginning\n",
      "INFO:tensorflow:Starting AddRunsFromDirectory: C:\\Users\\rruzzo\\Documents\\GitHub\\Deep_Learning_Work\\module_0\\week_3\\logs\n",
      "INFO:tensorflow:GetLogdirSubdirectories: Starting to list directories via walking.\n",
      "INFO:tensorflow:Adding run from directory C:\\Users\\rruzzo\\Documents\\GitHub\\Deep_Learning_Work\\module_0\\week_3\\logs\n",
      "INFO:tensorflow:Done with AddRunsFromDirectory: C:\\Users\\rruzzo\\Documents\\GitHub\\Deep_Learning_Work\\module_0\\week_3\\logs\n",
      "INFO:tensorflow:TensorBoard reload process: Reload the whole Multiplexer\n",
      "INFO:tensorflow:Beginning EventMultiplexer.Reload()\n",
      "INFO:tensorflow:Reloading runs serially (one after another) on the main thread.\n",
      "INFO:tensorflow:No path found after C:\\Users\\rruzzo\\Documents\\GitHub\\Deep_Learning_Work\\module_0\\week_3\\logs\\events.out.tfevents.1537936589.DESKTOP-V3AEQVL\n",
      "INFO:tensorflow:Finished with EventMultiplexer.Reload()\n",
      "INFO:tensorflow:TensorBoard done reloading. Load took 0.024 secs\n",
      "INFO:tensorflow:TensorBoard reload process beginning\n",
      "INFO:tensorflow:Starting AddRunsFromDirectory: C:\\Users\\rruzzo\\Documents\\GitHub\\Deep_Learning_Work\\module_0\\week_3\\logs\n",
      "INFO:tensorflow:GetLogdirSubdirectories: Starting to list directories via walking.\n",
      "INFO:tensorflow:Adding run from directory C:\\Users\\rruzzo\\Documents\\GitHub\\Deep_Learning_Work\\module_0\\week_3\\logs\n",
      "INFO:tensorflow:Done with AddRunsFromDirectory: C:\\Users\\rruzzo\\Documents\\GitHub\\Deep_Learning_Work\\module_0\\week_3\\logs\n",
      "INFO:tensorflow:TensorBoard reload process: Reload the whole Multiplexer\n",
      "INFO:tensorflow:Beginning EventMultiplexer.Reload()\n",
      "INFO:tensorflow:Reloading runs serially (one after another) on the main thread.\n",
      "INFO:tensorflow:No path found after C:\\Users\\rruzzo\\Documents\\GitHub\\Deep_Learning_Work\\module_0\\week_3\\logs\\events.out.tfevents.1537936589.DESKTOP-V3AEQVL\n",
      "INFO:tensorflow:Finished with EventMultiplexer.Reload()\n",
      "INFO:tensorflow:TensorBoard done reloading. Load took 0.027 secs\n",
      "INFO:tensorflow:TensorBoard reload process beginning\n",
      "INFO:tensorflow:Starting AddRunsFromDirectory: C:\\Users\\rruzzo\\Documents\\GitHub\\Deep_Learning_Work\\module_0\\week_3\\logs\n",
      "INFO:tensorflow:GetLogdirSubdirectories: Starting to list directories via walking.\n",
      "INFO:tensorflow:Adding run from directory C:\\Users\\rruzzo\\Documents\\GitHub\\Deep_Learning_Work\\module_0\\week_3\\logs\n",
      "INFO:tensorflow:Done with AddRunsFromDirectory: C:\\Users\\rruzzo\\Documents\\GitHub\\Deep_Learning_Work\\module_0\\week_3\\logs\n",
      "INFO:tensorflow:TensorBoard reload process: Reload the whole Multiplexer\n",
      "INFO:tensorflow:Beginning EventMultiplexer.Reload()\n",
      "INFO:tensorflow:Reloading runs serially (one after another) on the main thread.\n",
      "INFO:tensorflow:No path found after C:\\Users\\rruzzo\\Documents\\GitHub\\Deep_Learning_Work\\module_0\\week_3\\logs\\events.out.tfevents.1537936589.DESKTOP-V3AEQVL\n",
      "INFO:tensorflow:Finished with EventMultiplexer.Reload()\n",
      "INFO:tensorflow:TensorBoard done reloading. Load took 0.029 secs\n"
     ]
    },
    {
     "name": "stderr",
     "output_type": "stream",
     "text": [
      "172.20.40.81 - - [26/Sep/2018 00:40:04] \"\u001b[37mGET /data/environment HTTP/1.1\u001b[0m\" 200 -\n"
     ]
    },
    {
     "name": "stdout",
     "output_type": "stream",
     "text": [
      "INFO:tensorflow:Plugin listing: is_active() for core took 0.000 seconds\n"
     ]
    },
    {
     "name": "stderr",
     "output_type": "stream",
     "text": [
      "172.20.40.81 - - [26/Sep/2018 00:40:04] \"\u001b[37mGET /data/runs HTTP/1.1\u001b[0m\" 200 -\n"
     ]
    },
    {
     "name": "stdout",
     "output_type": "stream",
     "text": [
      "INFO:tensorflow:Plugin listing: is_active() for beholder took 0.008 seconds\n"
     ]
    },
    {
     "name": "stderr",
     "output_type": "stream",
     "text": [
      "172.20.40.81 - - [26/Sep/2018 00:40:04] \"\u001b[37mGET /data/experiments HTTP/1.1\u001b[0m\" 200 -\n"
     ]
    },
    {
     "name": "stdout",
     "output_type": "stream",
     "text": [
      "INFO:tensorflow:Plugin listing: is_active() for scalars took 0.000 seconds\n",
      "INFO:tensorflow:Plugin listing: is_active() for custom_scalars took 0.000 seconds\n",
      "INFO:tensorflow:Plugin listing: is_active() for images took 0.000 seconds\n",
      "INFO:tensorflow:Plugin listing: is_active() for audio took 0.000 seconds\n",
      "INFO:tensorflow:Plugin listing: is_active() for graphs took 0.000 seconds\n",
      "INFO:tensorflow:Plugin listing: is_active() for distributions took 0.008 seconds\n",
      "INFO:tensorflow:Plugin listing: is_active() for histograms took 0.007 seconds\n",
      "INFO:tensorflow:Plugin listing: is_active() for pr_curves took 0.001 seconds\n",
      "INFO:tensorflow:Plugin listing: is_active() for projector took 0.001 seconds\n",
      "INFO:tensorflow:TextPlugin computing index_impl() in a new thread\n",
      "INFO:tensorflow:Plugin listing: is_active() for text took 0.003 seconds\n",
      "INFO:tensorflow:TextPlugin index_impl() thread ending after 0.003 sec\n",
      "INFO:tensorflow:Plugin listing: is_active() for profile took 0.000 seconds\n"
     ]
    },
    {
     "name": "stderr",
     "output_type": "stream",
     "text": [
      "172.20.40.81 - - [26/Sep/2018 00:40:04] \"\u001b[37mGET /data/plugins_listing HTTP/1.1\u001b[0m\" 200 -\n",
      "172.20.40.81 - - [26/Sep/2018 00:40:04] \"\u001b[37mGET /data/plugin/scalars/tags HTTP/1.1\u001b[0m\" 200 -\n",
      "172.20.40.81 - - [26/Sep/2018 00:40:04] \"\u001b[37mGET /data/plugin/scalars/scalars?run=.&tag=acc HTTP/1.1\u001b[0m\" 200 -\n",
      "172.20.40.81 - - [26/Sep/2018 00:40:04] \"\u001b[37mGET /data/plugin/scalars/scalars?run=.&tag=loss HTTP/1.1\u001b[0m\" 200 -\n",
      "172.20.40.81 - - [26/Sep/2018 00:40:04] \"\u001b[37mGET /data/plugin/scalars/scalars?run=.&tag=val_loss HTTP/1.1\u001b[0m\" 200 -\n"
     ]
    },
    {
     "name": "stdout",
     "output_type": "stream",
     "text": [
      "INFO:tensorflow:TensorBoard reload process beginning\n",
      "INFO:tensorflow:Starting AddRunsFromDirectory: C:\\Users\\rruzzo\\Documents\\GitHub\\Deep_Learning_Work\\module_0\\week_3\\logs\n",
      "INFO:tensorflow:GetLogdirSubdirectories: Starting to list directories via walking.\n",
      "INFO:tensorflow:Adding run from directory C:\\Users\\rruzzo\\Documents\\GitHub\\Deep_Learning_Work\\module_0\\week_3\\logs\n",
      "INFO:tensorflow:Done with AddRunsFromDirectory: C:\\Users\\rruzzo\\Documents\\GitHub\\Deep_Learning_Work\\module_0\\week_3\\logs\n",
      "INFO:tensorflow:TensorBoard reload process: Reload the whole Multiplexer\n",
      "INFO:tensorflow:Beginning EventMultiplexer.Reload()\n",
      "INFO:tensorflow:Reloading runs serially (one after another) on the main thread.\n",
      "INFO:tensorflow:No path found after C:\\Users\\rruzzo\\Documents\\GitHub\\Deep_Learning_Work\\module_0\\week_3\\logs\\events.out.tfevents.1537936589.DESKTOP-V3AEQVL\n",
      "INFO:tensorflow:Finished with EventMultiplexer.Reload()\n",
      "INFO:tensorflow:TensorBoard done reloading. Load took 0.042 secs\n",
      "INFO:tensorflow:TensorBoard reload process beginning\n",
      "INFO:tensorflow:Starting AddRunsFromDirectory: C:\\Users\\rruzzo\\Documents\\GitHub\\Deep_Learning_Work\\module_0\\week_3\\logs\n",
      "INFO:tensorflow:GetLogdirSubdirectories: Starting to list directories via walking.\n",
      "INFO:tensorflow:Adding run from directory C:\\Users\\rruzzo\\Documents\\GitHub\\Deep_Learning_Work\\module_0\\week_3\\logs\n",
      "INFO:tensorflow:Done with AddRunsFromDirectory: C:\\Users\\rruzzo\\Documents\\GitHub\\Deep_Learning_Work\\module_0\\week_3\\logs\n",
      "INFO:tensorflow:TensorBoard reload process: Reload the whole Multiplexer\n",
      "INFO:tensorflow:Beginning EventMultiplexer.Reload()\n",
      "INFO:tensorflow:Reloading runs serially (one after another) on the main thread.\n",
      "INFO:tensorflow:No path found after C:\\Users\\rruzzo\\Documents\\GitHub\\Deep_Learning_Work\\module_0\\week_3\\logs\\events.out.tfevents.1537936589.DESKTOP-V3AEQVL\n",
      "INFO:tensorflow:Finished with EventMultiplexer.Reload()\n",
      "INFO:tensorflow:TensorBoard done reloading. Load took 0.038 secs\n",
      "INFO:tensorflow:TensorBoard reload process beginning\n",
      "INFO:tensorflow:Starting AddRunsFromDirectory: C:\\Users\\rruzzo\\Documents\\GitHub\\Deep_Learning_Work\\module_0\\week_3\\logs\n",
      "INFO:tensorflow:GetLogdirSubdirectories: Starting to list directories via walking.\n",
      "INFO:tensorflow:Adding run from directory C:\\Users\\rruzzo\\Documents\\GitHub\\Deep_Learning_Work\\module_0\\week_3\\logs\n",
      "INFO:tensorflow:Done with AddRunsFromDirectory: C:\\Users\\rruzzo\\Documents\\GitHub\\Deep_Learning_Work\\module_0\\week_3\\logs\n",
      "INFO:tensorflow:TensorBoard reload process: Reload the whole Multiplexer\n",
      "INFO:tensorflow:Beginning EventMultiplexer.Reload()\n",
      "INFO:tensorflow:Reloading runs serially (one after another) on the main thread.\n",
      "INFO:tensorflow:No path found after C:\\Users\\rruzzo\\Documents\\GitHub\\Deep_Learning_Work\\module_0\\week_3\\logs\\events.out.tfevents.1537936589.DESKTOP-V3AEQVL\n",
      "INFO:tensorflow:Finished with EventMultiplexer.Reload()\n",
      "INFO:tensorflow:TensorBoard done reloading. Load took 0.038 secs\n",
      "INFO:tensorflow:TensorBoard reload process beginning\n",
      "INFO:tensorflow:Starting AddRunsFromDirectory: C:\\Users\\rruzzo\\Documents\\GitHub\\Deep_Learning_Work\\module_0\\week_3\\logs\n",
      "INFO:tensorflow:GetLogdirSubdirectories: Starting to list directories via walking.\n",
      "INFO:tensorflow:Adding run from directory C:\\Users\\rruzzo\\Documents\\GitHub\\Deep_Learning_Work\\module_0\\week_3\\logs\n",
      "INFO:tensorflow:Done with AddRunsFromDirectory: C:\\Users\\rruzzo\\Documents\\GitHub\\Deep_Learning_Work\\module_0\\week_3\\logs\n",
      "INFO:tensorflow:TensorBoard reload process: Reload the whole Multiplexer\n",
      "INFO:tensorflow:Beginning EventMultiplexer.Reload()\n",
      "INFO:tensorflow:Reloading runs serially (one after another) on the main thread.\n",
      "INFO:tensorflow:No path found after C:\\Users\\rruzzo\\Documents\\GitHub\\Deep_Learning_Work\\module_0\\week_3\\logs\\events.out.tfevents.1537936589.DESKTOP-V3AEQVL\n",
      "INFO:tensorflow:Finished with EventMultiplexer.Reload()\n",
      "INFO:tensorflow:TensorBoard done reloading. Load took 0.016 secs\n",
      "INFO:tensorflow:TensorBoard reload process beginning\n",
      "INFO:tensorflow:Starting AddRunsFromDirectory: C:\\Users\\rruzzo\\Documents\\GitHub\\Deep_Learning_Work\\module_0\\week_3\\logs\n",
      "INFO:tensorflow:GetLogdirSubdirectories: Starting to list directories via walking.\n",
      "INFO:tensorflow:Adding run from directory C:\\Users\\rruzzo\\Documents\\GitHub\\Deep_Learning_Work\\module_0\\week_3\\logs\n",
      "INFO:tensorflow:Done with AddRunsFromDirectory: C:\\Users\\rruzzo\\Documents\\GitHub\\Deep_Learning_Work\\module_0\\week_3\\logs\n",
      "INFO:tensorflow:TensorBoard reload process: Reload the whole Multiplexer\n",
      "INFO:tensorflow:Beginning EventMultiplexer.Reload()\n",
      "INFO:tensorflow:Reloading runs serially (one after another) on the main thread.\n",
      "INFO:tensorflow:No path found after C:\\Users\\rruzzo\\Documents\\GitHub\\Deep_Learning_Work\\module_0\\week_3\\logs\\events.out.tfevents.1537936589.DESKTOP-V3AEQVL\n",
      "INFO:tensorflow:Finished with EventMultiplexer.Reload()\n",
      "INFO:tensorflow:TensorBoard done reloading. Load took 0.015 secs\n",
      "INFO:tensorflow:TensorBoard reload process beginning\n",
      "INFO:tensorflow:Starting AddRunsFromDirectory: C:\\Users\\rruzzo\\Documents\\GitHub\\Deep_Learning_Work\\module_0\\week_3\\logs\n",
      "INFO:tensorflow:GetLogdirSubdirectories: Starting to list directories via walking.\n",
      "INFO:tensorflow:Adding run from directory C:\\Users\\rruzzo\\Documents\\GitHub\\Deep_Learning_Work\\module_0\\week_3\\logs\n",
      "INFO:tensorflow:Done with AddRunsFromDirectory: C:\\Users\\rruzzo\\Documents\\GitHub\\Deep_Learning_Work\\module_0\\week_3\\logs\n",
      "INFO:tensorflow:TensorBoard reload process: Reload the whole Multiplexer\n",
      "INFO:tensorflow:Beginning EventMultiplexer.Reload()\n",
      "INFO:tensorflow:Reloading runs serially (one after another) on the main thread.\n",
      "INFO:tensorflow:No path found after C:\\Users\\rruzzo\\Documents\\GitHub\\Deep_Learning_Work\\module_0\\week_3\\logs\\events.out.tfevents.1537936589.DESKTOP-V3AEQVL\n",
      "INFO:tensorflow:Finished with EventMultiplexer.Reload()\n",
      "INFO:tensorflow:TensorBoard done reloading. Load took 0.017 secs\n"
     ]
    },
    {
     "name": "stderr",
     "output_type": "stream",
     "text": [
      "172.20.40.81 - - [26/Sep/2018 00:40:34] \"\u001b[37mGET /data/environment HTTP/1.1\u001b[0m\" 200 -\n"
     ]
    },
    {
     "name": "stdout",
     "output_type": "stream",
     "text": [
      "INFO:tensorflow:Plugin listing: is_active() for core took 0.000 seconds\n"
     ]
    },
    {
     "name": "stderr",
     "output_type": "stream",
     "text": [
      "172.20.40.81 - - [26/Sep/2018 00:40:34] \"\u001b[37mGET /data/runs HTTP/1.1\u001b[0m\" 200 -\n"
     ]
    },
    {
     "name": "stdout",
     "output_type": "stream",
     "text": [
      "INFO:tensorflow:Plugin listing: is_active() for beholder took 0.003 seconds\n"
     ]
    },
    {
     "name": "stderr",
     "output_type": "stream",
     "text": [
      "172.20.40.81 - - [26/Sep/2018 00:40:34] \"\u001b[37mGET /data/experiments HTTP/1.1\u001b[0m\" 200 -\n"
     ]
    },
    {
     "name": "stdout",
     "output_type": "stream",
     "text": [
      "INFO:tensorflow:Plugin listing: is_active() for scalars took 0.000 seconds\n",
      "INFO:tensorflow:Plugin listing: is_active() for custom_scalars took 0.000 seconds\n",
      "INFO:tensorflow:Plugin listing: is_active() for images took 0.000 seconds\n",
      "INFO:tensorflow:Plugin listing: is_active() for audio took 0.000 seconds\n",
      "INFO:tensorflow:Plugin listing: is_active() for graphs took 0.000 seconds\n",
      "INFO:tensorflow:Plugin listing: is_active() for distributions took 0.008 seconds\n",
      "INFO:tensorflow:Plugin listing: is_active() for histograms took 0.007 seconds\n",
      "INFO:tensorflow:Plugin listing: is_active() for pr_curves took 0.000 seconds\n",
      "INFO:tensorflow:Plugin listing: is_active() for projector took 0.001 seconds\n",
      "INFO:tensorflow:TextPlugin computing index_impl() in a new thread\n",
      "INFO:tensorflow:Plugin listing: is_active() for text took 0.002 seconds\n",
      "INFO:tensorflow:TextPlugin index_impl() thread ending after 0.003 sec\n",
      "INFO:tensorflow:Plugin listing: is_active() for profile took 0.000 seconds\n"
     ]
    },
    {
     "name": "stderr",
     "output_type": "stream",
     "text": [
      "172.20.40.81 - - [26/Sep/2018 00:40:34] \"\u001b[37mGET /data/plugins_listing HTTP/1.1\u001b[0m\" 200 -\n",
      "172.20.40.81 - - [26/Sep/2018 00:40:34] \"\u001b[37mGET /data/plugin/scalars/tags HTTP/1.1\u001b[0m\" 200 -\n",
      "172.20.40.81 - - [26/Sep/2018 00:40:34] \"\u001b[37mGET /data/plugin/scalars/scalars?run=.&tag=acc HTTP/1.1\u001b[0m\" 200 -\n",
      "172.20.40.81 - - [26/Sep/2018 00:40:34] \"\u001b[37mGET /data/plugin/scalars/scalars?run=.&tag=loss HTTP/1.1\u001b[0m\" 200 -\n",
      "172.20.40.81 - - [26/Sep/2018 00:40:34] \"\u001b[37mGET /data/plugin/scalars/scalars?run=.&tag=val_loss HTTP/1.1\u001b[0m\" 200 -\n"
     ]
    },
    {
     "name": "stdout",
     "output_type": "stream",
     "text": [
      "INFO:tensorflow:TensorBoard reload process beginning\n",
      "INFO:tensorflow:Starting AddRunsFromDirectory: C:\\Users\\rruzzo\\Documents\\GitHub\\Deep_Learning_Work\\module_0\\week_3\\logs\n",
      "INFO:tensorflow:GetLogdirSubdirectories: Starting to list directories via walking.\n",
      "INFO:tensorflow:Adding run from directory C:\\Users\\rruzzo\\Documents\\GitHub\\Deep_Learning_Work\\module_0\\week_3\\logs\n",
      "INFO:tensorflow:Done with AddRunsFromDirectory: C:\\Users\\rruzzo\\Documents\\GitHub\\Deep_Learning_Work\\module_0\\week_3\\logs\n",
      "INFO:tensorflow:TensorBoard reload process: Reload the whole Multiplexer\n",
      "INFO:tensorflow:Beginning EventMultiplexer.Reload()\n",
      "INFO:tensorflow:Reloading runs serially (one after another) on the main thread.\n",
      "INFO:tensorflow:No path found after C:\\Users\\rruzzo\\Documents\\GitHub\\Deep_Learning_Work\\module_0\\week_3\\logs\\events.out.tfevents.1537936589.DESKTOP-V3AEQVL\n",
      "INFO:tensorflow:Finished with EventMultiplexer.Reload()\n",
      "INFO:tensorflow:TensorBoard done reloading. Load took 0.017 secs\n",
      "INFO:tensorflow:TensorBoard reload process beginning\n",
      "INFO:tensorflow:Starting AddRunsFromDirectory: C:\\Users\\rruzzo\\Documents\\GitHub\\Deep_Learning_Work\\module_0\\week_3\\logs\n",
      "INFO:tensorflow:GetLogdirSubdirectories: Starting to list directories via walking.\n",
      "INFO:tensorflow:Adding run from directory C:\\Users\\rruzzo\\Documents\\GitHub\\Deep_Learning_Work\\module_0\\week_3\\logs\n",
      "INFO:tensorflow:Done with AddRunsFromDirectory: C:\\Users\\rruzzo\\Documents\\GitHub\\Deep_Learning_Work\\module_0\\week_3\\logs\n",
      "INFO:tensorflow:TensorBoard reload process: Reload the whole Multiplexer\n",
      "INFO:tensorflow:Beginning EventMultiplexer.Reload()\n",
      "INFO:tensorflow:Reloading runs serially (one after another) on the main thread.\n",
      "INFO:tensorflow:No path found after C:\\Users\\rruzzo\\Documents\\GitHub\\Deep_Learning_Work\\module_0\\week_3\\logs\\events.out.tfevents.1537936589.DESKTOP-V3AEQVL\n",
      "INFO:tensorflow:Finished with EventMultiplexer.Reload()\n",
      "INFO:tensorflow:TensorBoard done reloading. Load took 0.016 secs\n",
      "INFO:tensorflow:TensorBoard reload process beginning\n",
      "INFO:tensorflow:Starting AddRunsFromDirectory: C:\\Users\\rruzzo\\Documents\\GitHub\\Deep_Learning_Work\\module_0\\week_3\\logs\n",
      "INFO:tensorflow:GetLogdirSubdirectories: Starting to list directories via walking.\n",
      "INFO:tensorflow:Adding run from directory C:\\Users\\rruzzo\\Documents\\GitHub\\Deep_Learning_Work\\module_0\\week_3\\logs\n",
      "INFO:tensorflow:Done with AddRunsFromDirectory: C:\\Users\\rruzzo\\Documents\\GitHub\\Deep_Learning_Work\\module_0\\week_3\\logs\n",
      "INFO:tensorflow:TensorBoard reload process: Reload the whole Multiplexer\n",
      "INFO:tensorflow:Beginning EventMultiplexer.Reload()\n",
      "INFO:tensorflow:Reloading runs serially (one after another) on the main thread.\n",
      "INFO:tensorflow:Directory watcher advancing from C:\\Users\\rruzzo\\Documents\\GitHub\\Deep_Learning_Work\\module_0\\week_3\\logs\\events.out.tfevents.1537936589.DESKTOP-V3AEQVL to C:\\Users\\rruzzo\\Documents\\GitHub\\Deep_Learning_Work\\module_0\\week_3\\logs\\events.out.tfevents.1537936844.DESKTOP-V3AEQVL\n",
      "WARNING:tensorflow:Found more than one graph event per run, or there was a metagraph containing a graph_def, as well as one or more graph events.  Overwriting the graph with the newest event.\n",
      "WARNING:tensorflow:Found more than one metagraph event per run. Overwriting the metagraph with the newest event.\n"
     ]
    },
    {
     "name": "stderr",
     "output_type": "stream",
     "text": [
      "172.20.40.81 - - [26/Sep/2018 00:41:04] \"\u001b[37mGET /data/environment HTTP/1.1\u001b[0m\" 200 -\n"
     ]
    },
    {
     "name": "stdout",
     "output_type": "stream",
     "text": [
      "INFO:tensorflow:Plugin listing: is_active() for core took 0.000 seconds\n"
     ]
    },
    {
     "name": "stderr",
     "output_type": "stream",
     "text": [
      "172.20.40.81 - - [26/Sep/2018 00:41:04] \"\u001b[37mGET /data/runs HTTP/1.1\u001b[0m\" 200 -\n"
     ]
    },
    {
     "name": "stdout",
     "output_type": "stream",
     "text": [
      "INFO:tensorflow:Plugin listing: is_active() for beholder took 0.012 seconds\n"
     ]
    },
    {
     "name": "stderr",
     "output_type": "stream",
     "text": [
      "172.20.40.81 - - [26/Sep/2018 00:41:04] \"\u001b[37mGET /data/experiments HTTP/1.1\u001b[0m\" 200 -\n"
     ]
    },
    {
     "name": "stdout",
     "output_type": "stream",
     "text": [
      "INFO:tensorflow:Plugin listing: is_active() for scalars took 0.000 seconds\n",
      "INFO:tensorflow:Plugin listing: is_active() for custom_scalars took 0.000 seconds\n",
      "INFO:tensorflow:Plugin listing: is_active() for images took 0.000 seconds\n",
      "INFO:tensorflow:Plugin listing: is_active() for audio took 0.000 seconds\n",
      "INFO:tensorflow:Plugin listing: is_active() for graphs took 0.001 seconds\n",
      "INFO:tensorflow:Plugin listing: is_active() for distributions took 0.014 seconds\n",
      "INFO:tensorflow:Plugin listing: is_active() for histograms took 0.007 seconds\n",
      "INFO:tensorflow:Plugin listing: is_active() for pr_curves took 0.000 seconds\n",
      "INFO:tensorflow:Plugin listing: is_active() for projector took 0.010 seconds\n",
      "INFO:tensorflow:TextPlugin computing index_impl() in a new thread\n",
      "INFO:tensorflow:Plugin listing: is_active() for text took 0.008 seconds\n",
      "INFO:tensorflow:TextPlugin index_impl() thread ending after 0.050 sec\n",
      "INFO:tensorflow:Plugin listing: is_active() for profile took 0.006 seconds\n"
     ]
    },
    {
     "name": "stderr",
     "output_type": "stream",
     "text": [
      "172.20.40.81 - - [26/Sep/2018 00:41:04] \"\u001b[37mGET /data/plugins_listing HTTP/1.1\u001b[0m\" 200 -\n",
      "172.20.40.81 - - [26/Sep/2018 00:41:04] \"\u001b[37mGET /data/plugin/scalars/tags HTTP/1.1\u001b[0m\" 200 -\n",
      "172.20.40.81 - - [26/Sep/2018 00:41:04] \"\u001b[37mGET /data/plugin/scalars/scalars?run=.&tag=acc HTTP/1.1\u001b[0m\" 200 -\n",
      "172.20.40.81 - - [26/Sep/2018 00:41:05] \"\u001b[37mGET /data/plugin/scalars/scalars?run=.&tag=val_loss HTTP/1.1\u001b[0m\" 200 -\n",
      "172.20.40.81 - - [26/Sep/2018 00:41:05] \"\u001b[37mGET /data/plugin/scalars/scalars?run=.&tag=loss HTTP/1.1\u001b[0m\" 200 -\n",
      "172.20.40.81 - - [26/Sep/2018 00:41:34] \"\u001b[37mGET /data/environment HTTP/1.1\u001b[0m\" 200 -\n"
     ]
    },
    {
     "name": "stdout",
     "output_type": "stream",
     "text": [
      "INFO:tensorflow:Plugin listing: is_active() for core took 0.000 seconds\n",
      "INFO:tensorflow:Plugin listing: is_active() for beholder took 0.010 seconds\n"
     ]
    },
    {
     "name": "stderr",
     "output_type": "stream",
     "text": [
      "172.20.40.81 - - [26/Sep/2018 00:41:34] \"\u001b[37mGET /data/runs HTTP/1.1\u001b[0m\" 200 -\n"
     ]
    },
    {
     "name": "stdout",
     "output_type": "stream",
     "text": [
      "INFO:tensorflow:Plugin listing: is_active() for scalars took 0.000 seconds\n"
     ]
    },
    {
     "name": "stderr",
     "output_type": "stream",
     "text": [
      "172.20.40.81 - - [26/Sep/2018 00:41:34] \"\u001b[37mGET /data/experiments HTTP/1.1\u001b[0m\" 200 -\n"
     ]
    },
    {
     "name": "stdout",
     "output_type": "stream",
     "text": [
      "INFO:tensorflow:Plugin listing: is_active() for custom_scalars took 0.000 seconds\n",
      "INFO:tensorflow:Plugin listing: is_active() for images took 0.000 seconds\n",
      "INFO:tensorflow:Plugin listing: is_active() for audio took 0.000 seconds\n",
      "INFO:tensorflow:Plugin listing: is_active() for graphs took 0.000 seconds\n",
      "INFO:tensorflow:Plugin listing: is_active() for distributions took 0.007 seconds\n",
      "INFO:tensorflow:Plugin listing: is_active() for histograms took 0.015 seconds\n",
      "INFO:tensorflow:Plugin listing: is_active() for pr_curves took 0.000 seconds\n",
      "INFO:tensorflow:Plugin listing: is_active() for projector took 0.007 seconds\n",
      "INFO:tensorflow:TextPlugin computing index_impl() in a new thread\n",
      "INFO:tensorflow:Plugin listing: is_active() for text took 0.009 seconds\n",
      "INFO:tensorflow:TextPlugin index_impl() thread ending after 0.016 sec\n",
      "INFO:tensorflow:Plugin listing: is_active() for profile took 0.005 seconds\n"
     ]
    },
    {
     "name": "stderr",
     "output_type": "stream",
     "text": [
      "172.20.40.81 - - [26/Sep/2018 00:41:34] \"\u001b[37mGET /data/plugins_listing HTTP/1.1\u001b[0m\" 200 -\n",
      "172.20.40.81 - - [26/Sep/2018 00:41:34] \"\u001b[37mGET /data/plugin/scalars/tags HTTP/1.1\u001b[0m\" 200 -\n",
      "172.20.40.81 - - [26/Sep/2018 00:41:34] \"\u001b[37mGET /data/plugin/scalars/scalars?run=.&tag=acc HTTP/1.1\u001b[0m\" 200 -\n",
      "172.20.40.81 - - [26/Sep/2018 00:41:34] \"\u001b[37mGET /data/plugin/scalars/scalars?run=.&tag=loss HTTP/1.1\u001b[0m\" 200 -\n",
      "172.20.40.81 - - [26/Sep/2018 00:41:35] \"\u001b[37mGET /data/plugin/scalars/scalars?run=.&tag=val_loss HTTP/1.1\u001b[0m\" 200 -\n"
     ]
    },
    {
     "name": "stdout",
     "output_type": "stream",
     "text": [
      "INFO:tensorflow:No path found after C:\\Users\\rruzzo\\Documents\\GitHub\\Deep_Learning_Work\\module_0\\week_3\\logs\\events.out.tfevents.1537936844.DESKTOP-V3AEQVL\n",
      "INFO:tensorflow:Finished with EventMultiplexer.Reload()\n",
      "INFO:tensorflow:TensorBoard done reloading. Load took 63.738 secs\n",
      "INFO:tensorflow:TensorBoard reload process beginning\n",
      "INFO:tensorflow:Starting AddRunsFromDirectory: C:\\Users\\rruzzo\\Documents\\GitHub\\Deep_Learning_Work\\module_0\\week_3\\logs\n",
      "INFO:tensorflow:GetLogdirSubdirectories: Starting to list directories via walking.\n",
      "INFO:tensorflow:Adding run from directory C:\\Users\\rruzzo\\Documents\\GitHub\\Deep_Learning_Work\\module_0\\week_3\\logs\n",
      "INFO:tensorflow:Done with AddRunsFromDirectory: C:\\Users\\rruzzo\\Documents\\GitHub\\Deep_Learning_Work\\module_0\\week_3\\logs\n",
      "INFO:tensorflow:TensorBoard reload process: Reload the whole Multiplexer\n",
      "INFO:tensorflow:Beginning EventMultiplexer.Reload()\n",
      "INFO:tensorflow:Reloading runs serially (one after another) on the main thread.\n",
      "INFO:tensorflow:No path found after C:\\Users\\rruzzo\\Documents\\GitHub\\Deep_Learning_Work\\module_0\\week_3\\logs\\events.out.tfevents.1537936844.DESKTOP-V3AEQVL\n",
      "INFO:tensorflow:Finished with EventMultiplexer.Reload()\n",
      "INFO:tensorflow:TensorBoard done reloading. Load took 0.016 secs\n",
      "INFO:tensorflow:TensorBoard reload process beginning\n",
      "INFO:tensorflow:Starting AddRunsFromDirectory: C:\\Users\\rruzzo\\Documents\\GitHub\\Deep_Learning_Work\\module_0\\week_3\\logs\n",
      "INFO:tensorflow:GetLogdirSubdirectories: Starting to list directories via walking.\n",
      "INFO:tensorflow:Adding run from directory C:\\Users\\rruzzo\\Documents\\GitHub\\Deep_Learning_Work\\module_0\\week_3\\logs\n",
      "INFO:tensorflow:Done with AddRunsFromDirectory: C:\\Users\\rruzzo\\Documents\\GitHub\\Deep_Learning_Work\\module_0\\week_3\\logs\n",
      "INFO:tensorflow:TensorBoard reload process: Reload the whole Multiplexer\n",
      "INFO:tensorflow:Beginning EventMultiplexer.Reload()\n",
      "INFO:tensorflow:Reloading runs serially (one after another) on the main thread.\n",
      "INFO:tensorflow:No path found after C:\\Users\\rruzzo\\Documents\\GitHub\\Deep_Learning_Work\\module_0\\week_3\\logs\\events.out.tfevents.1537936844.DESKTOP-V3AEQVL\n",
      "INFO:tensorflow:Finished with EventMultiplexer.Reload()\n",
      "INFO:tensorflow:TensorBoard done reloading. Load took 0.040 secs\n"
     ]
    },
    {
     "name": "stderr",
     "output_type": "stream",
     "text": [
      "172.20.40.81 - - [26/Sep/2018 00:42:04] \"\u001b[37mGET /data/environment HTTP/1.1\u001b[0m\" 200 -\n"
     ]
    },
    {
     "name": "stdout",
     "output_type": "stream",
     "text": [
      "INFO:tensorflow:Plugin listing: is_active() for core took 0.000 seconds\n"
     ]
    },
    {
     "name": "stderr",
     "output_type": "stream",
     "text": [
      "172.20.40.81 - - [26/Sep/2018 00:42:04] \"\u001b[37mGET /data/runs HTTP/1.1\u001b[0m\" 200 -\n"
     ]
    },
    {
     "name": "stdout",
     "output_type": "stream",
     "text": [
      "INFO:tensorflow:Plugin listing: is_active() for beholder took 0.000 seconds\n"
     ]
    },
    {
     "name": "stderr",
     "output_type": "stream",
     "text": [
      "172.20.40.81 - - [26/Sep/2018 00:42:04] \"\u001b[37mGET /data/experiments HTTP/1.1\u001b[0m\" 200 -\n"
     ]
    },
    {
     "name": "stdout",
     "output_type": "stream",
     "text": [
      "INFO:tensorflow:Plugin listing: is_active() for scalars took 0.000 seconds\n",
      "INFO:tensorflow:Plugin listing: is_active() for custom_scalars took 0.000 seconds\n",
      "INFO:tensorflow:Plugin listing: is_active() for images took 0.000 seconds\n",
      "INFO:tensorflow:Plugin listing: is_active() for audio took 0.000 seconds\n",
      "INFO:tensorflow:Plugin listing: is_active() for graphs took 0.000 seconds\n",
      "INFO:tensorflow:Plugin listing: is_active() for distributions took 0.011 seconds\n",
      "INFO:tensorflow:Plugin listing: is_active() for histograms took 0.008 seconds\n",
      "INFO:tensorflow:Plugin listing: is_active() for pr_curves took 0.000 seconds\n",
      "INFO:tensorflow:Plugin listing: is_active() for projector took 0.001 seconds\n",
      "INFO:tensorflow:TextPlugin computing index_impl() in a new thread\n",
      "INFO:tensorflow:Plugin listing: is_active() for text took 0.003 seconds\n",
      "INFO:tensorflow:TextPlugin index_impl() thread ending after 0.003 sec\n",
      "INFO:tensorflow:Plugin listing: is_active() for profile took 0.001 seconds\n"
     ]
    },
    {
     "name": "stderr",
     "output_type": "stream",
     "text": [
      "172.20.40.81 - - [26/Sep/2018 00:42:04] \"\u001b[37mGET /data/plugins_listing HTTP/1.1\u001b[0m\" 200 -\n",
      "172.20.40.81 - - [26/Sep/2018 00:42:04] \"\u001b[37mGET /data/plugin/scalars/tags HTTP/1.1\u001b[0m\" 200 -\n",
      "172.20.40.81 - - [26/Sep/2018 00:42:04] \"\u001b[37mGET /data/plugin/scalars/scalars?run=.&tag=loss HTTP/1.1\u001b[0m\" 200 -\n",
      "172.20.40.81 - - [26/Sep/2018 00:42:04] \"\u001b[37mGET /data/plugin/scalars/scalars?run=.&tag=acc HTTP/1.1\u001b[0m\" 200 -\n",
      "172.20.40.81 - - [26/Sep/2018 00:42:04] \"\u001b[37mGET /data/plugin/scalars/scalars?run=.&tag=val_loss HTTP/1.1\u001b[0m\" 200 -\n"
     ]
    },
    {
     "name": "stdout",
     "output_type": "stream",
     "text": [
      "INFO:tensorflow:TensorBoard reload process beginning\n",
      "INFO:tensorflow:Starting AddRunsFromDirectory: C:\\Users\\rruzzo\\Documents\\GitHub\\Deep_Learning_Work\\module_0\\week_3\\logs\n",
      "INFO:tensorflow:GetLogdirSubdirectories: Starting to list directories via walking.\n",
      "INFO:tensorflow:Adding run from directory C:\\Users\\rruzzo\\Documents\\GitHub\\Deep_Learning_Work\\module_0\\week_3\\logs\n",
      "INFO:tensorflow:Done with AddRunsFromDirectory: C:\\Users\\rruzzo\\Documents\\GitHub\\Deep_Learning_Work\\module_0\\week_3\\logs\n",
      "INFO:tensorflow:TensorBoard reload process: Reload the whole Multiplexer\n",
      "INFO:tensorflow:Beginning EventMultiplexer.Reload()\n",
      "INFO:tensorflow:Reloading runs serially (one after another) on the main thread.\n",
      "INFO:tensorflow:No path found after C:\\Users\\rruzzo\\Documents\\GitHub\\Deep_Learning_Work\\module_0\\week_3\\logs\\events.out.tfevents.1537936844.DESKTOP-V3AEQVL\n",
      "INFO:tensorflow:Finished with EventMultiplexer.Reload()\n",
      "INFO:tensorflow:TensorBoard done reloading. Load took 0.016 secs\n",
      "INFO:tensorflow:TensorBoard reload process beginning\n",
      "INFO:tensorflow:Starting AddRunsFromDirectory: C:\\Users\\rruzzo\\Documents\\GitHub\\Deep_Learning_Work\\module_0\\week_3\\logs\n",
      "INFO:tensorflow:GetLogdirSubdirectories: Starting to list directories via walking.\n",
      "INFO:tensorflow:Adding run from directory C:\\Users\\rruzzo\\Documents\\GitHub\\Deep_Learning_Work\\module_0\\week_3\\logs\n",
      "INFO:tensorflow:Done with AddRunsFromDirectory: C:\\Users\\rruzzo\\Documents\\GitHub\\Deep_Learning_Work\\module_0\\week_3\\logs\n",
      "INFO:tensorflow:TensorBoard reload process: Reload the whole Multiplexer\n",
      "INFO:tensorflow:Beginning EventMultiplexer.Reload()\n",
      "INFO:tensorflow:Reloading runs serially (one after another) on the main thread.\n",
      "INFO:tensorflow:No path found after C:\\Users\\rruzzo\\Documents\\GitHub\\Deep_Learning_Work\\module_0\\week_3\\logs\\events.out.tfevents.1537936844.DESKTOP-V3AEQVL\n",
      "INFO:tensorflow:Finished with EventMultiplexer.Reload()\n",
      "INFO:tensorflow:TensorBoard done reloading. Load took 0.022 secs\n",
      "INFO:tensorflow:TensorBoard reload process beginning\n",
      "INFO:tensorflow:Starting AddRunsFromDirectory: C:\\Users\\rruzzo\\Documents\\GitHub\\Deep_Learning_Work\\module_0\\week_3\\logs\n",
      "INFO:tensorflow:GetLogdirSubdirectories: Starting to list directories via walking.\n",
      "INFO:tensorflow:Adding run from directory C:\\Users\\rruzzo\\Documents\\GitHub\\Deep_Learning_Work\\module_0\\week_3\\logs\n",
      "INFO:tensorflow:Done with AddRunsFromDirectory: C:\\Users\\rruzzo\\Documents\\GitHub\\Deep_Learning_Work\\module_0\\week_3\\logs\n",
      "INFO:tensorflow:TensorBoard reload process: Reload the whole Multiplexer\n",
      "INFO:tensorflow:Beginning EventMultiplexer.Reload()\n",
      "INFO:tensorflow:Reloading runs serially (one after another) on the main thread.\n",
      "INFO:tensorflow:No path found after C:\\Users\\rruzzo\\Documents\\GitHub\\Deep_Learning_Work\\module_0\\week_3\\logs\\events.out.tfevents.1537936844.DESKTOP-V3AEQVL\n",
      "INFO:tensorflow:Finished with EventMultiplexer.Reload()\n",
      "INFO:tensorflow:TensorBoard done reloading. Load took 0.016 secs\n",
      "INFO:tensorflow:TensorBoard reload process beginning\n",
      "INFO:tensorflow:Starting AddRunsFromDirectory: C:\\Users\\rruzzo\\Documents\\GitHub\\Deep_Learning_Work\\module_0\\week_3\\logs\n",
      "INFO:tensorflow:GetLogdirSubdirectories: Starting to list directories via walking.\n",
      "INFO:tensorflow:Adding run from directory C:\\Users\\rruzzo\\Documents\\GitHub\\Deep_Learning_Work\\module_0\\week_3\\logs\n",
      "INFO:tensorflow:Done with AddRunsFromDirectory: C:\\Users\\rruzzo\\Documents\\GitHub\\Deep_Learning_Work\\module_0\\week_3\\logs\n",
      "INFO:tensorflow:TensorBoard reload process: Reload the whole Multiplexer\n",
      "INFO:tensorflow:Beginning EventMultiplexer.Reload()\n",
      "INFO:tensorflow:Reloading runs serially (one after another) on the main thread.\n",
      "INFO:tensorflow:No path found after C:\\Users\\rruzzo\\Documents\\GitHub\\Deep_Learning_Work\\module_0\\week_3\\logs\\events.out.tfevents.1537936844.DESKTOP-V3AEQVL\n",
      "INFO:tensorflow:Finished with EventMultiplexer.Reload()\n",
      "INFO:tensorflow:TensorBoard done reloading. Load took 0.015 secs\n",
      "INFO:tensorflow:TensorBoard reload process beginning\n",
      "INFO:tensorflow:Starting AddRunsFromDirectory: C:\\Users\\rruzzo\\Documents\\GitHub\\Deep_Learning_Work\\module_0\\week_3\\logs\n",
      "INFO:tensorflow:GetLogdirSubdirectories: Starting to list directories via walking.\n",
      "INFO:tensorflow:Adding run from directory C:\\Users\\rruzzo\\Documents\\GitHub\\Deep_Learning_Work\\module_0\\week_3\\logs\n",
      "INFO:tensorflow:Done with AddRunsFromDirectory: C:\\Users\\rruzzo\\Documents\\GitHub\\Deep_Learning_Work\\module_0\\week_3\\logs\n",
      "INFO:tensorflow:TensorBoard reload process: Reload the whole Multiplexer\n",
      "INFO:tensorflow:Beginning EventMultiplexer.Reload()\n",
      "INFO:tensorflow:Reloading runs serially (one after another) on the main thread.\n",
      "INFO:tensorflow:No path found after C:\\Users\\rruzzo\\Documents\\GitHub\\Deep_Learning_Work\\module_0\\week_3\\logs\\events.out.tfevents.1537936844.DESKTOP-V3AEQVL\n",
      "INFO:tensorflow:Finished with EventMultiplexer.Reload()\n",
      "INFO:tensorflow:TensorBoard done reloading. Load took 0.027 secs\n",
      "INFO:tensorflow:TensorBoard reload process beginning\n",
      "INFO:tensorflow:Starting AddRunsFromDirectory: C:\\Users\\rruzzo\\Documents\\GitHub\\Deep_Learning_Work\\module_0\\week_3\\logs\n",
      "INFO:tensorflow:GetLogdirSubdirectories: Starting to list directories via walking.\n",
      "INFO:tensorflow:Adding run from directory C:\\Users\\rruzzo\\Documents\\GitHub\\Deep_Learning_Work\\module_0\\week_3\\logs\n",
      "INFO:tensorflow:Done with AddRunsFromDirectory: C:\\Users\\rruzzo\\Documents\\GitHub\\Deep_Learning_Work\\module_0\\week_3\\logs\n",
      "INFO:tensorflow:TensorBoard reload process: Reload the whole Multiplexer\n",
      "INFO:tensorflow:Beginning EventMultiplexer.Reload()\n",
      "INFO:tensorflow:Reloading runs serially (one after another) on the main thread.\n",
      "INFO:tensorflow:No path found after C:\\Users\\rruzzo\\Documents\\GitHub\\Deep_Learning_Work\\module_0\\week_3\\logs\\events.out.tfevents.1537936844.DESKTOP-V3AEQVL\n",
      "INFO:tensorflow:Finished with EventMultiplexer.Reload()\n",
      "INFO:tensorflow:TensorBoard done reloading. Load took 0.015 secs\n"
     ]
    },
    {
     "name": "stderr",
     "output_type": "stream",
     "text": [
      "172.20.40.81 - - [26/Sep/2018 00:42:34] \"\u001b[37mGET /data/environment HTTP/1.1\u001b[0m\" 200 -\n"
     ]
    },
    {
     "name": "stdout",
     "output_type": "stream",
     "text": [
      "INFO:tensorflow:Plugin listing: is_active() for core took 0.000 seconds\n"
     ]
    },
    {
     "name": "stderr",
     "output_type": "stream",
     "text": [
      "172.20.40.81 - - [26/Sep/2018 00:42:34] \"\u001b[37mGET /data/runs HTTP/1.1\u001b[0m\" 200 -\n"
     ]
    },
    {
     "name": "stdout",
     "output_type": "stream",
     "text": [
      "INFO:tensorflow:Plugin listing: is_active() for beholder took 0.007 seconds\n",
      "INFO:tensorflow:Plugin listing: is_active() for scalars took 0.000 seconds\n"
     ]
    },
    {
     "name": "stderr",
     "output_type": "stream",
     "text": [
      "172.20.40.81 - - [26/Sep/2018 00:42:34] \"\u001b[37mGET /data/experiments HTTP/1.1\u001b[0m\" 200 -\n"
     ]
    },
    {
     "name": "stdout",
     "output_type": "stream",
     "text": [
      "INFO:tensorflow:Plugin listing: is_active() for custom_scalars took 0.000 seconds\n",
      "INFO:tensorflow:Plugin listing: is_active() for images took 0.000 seconds\n",
      "INFO:tensorflow:Plugin listing: is_active() for audio took 0.000 seconds\n",
      "INFO:tensorflow:Plugin listing: is_active() for graphs took 0.000 seconds\n",
      "INFO:tensorflow:Plugin listing: is_active() for distributions took 0.007 seconds\n",
      "INFO:tensorflow:Plugin listing: is_active() for histograms took 0.006 seconds\n",
      "INFO:tensorflow:Plugin listing: is_active() for pr_curves took 0.000 seconds\n",
      "INFO:tensorflow:Plugin listing: is_active() for projector took 0.001 seconds\n",
      "INFO:tensorflow:TextPlugin computing index_impl() in a new thread\n",
      "INFO:tensorflow:Plugin listing: is_active() for text took 0.002 seconds\n",
      "INFO:tensorflow:TextPlugin index_impl() thread ending after 0.004 sec\n",
      "INFO:tensorflow:Plugin listing: is_active() for profile took 0.000 seconds\n"
     ]
    },
    {
     "name": "stderr",
     "output_type": "stream",
     "text": [
      "172.20.40.81 - - [26/Sep/2018 00:42:34] \"\u001b[37mGET /data/plugins_listing HTTP/1.1\u001b[0m\" 200 -\n",
      "172.20.40.81 - - [26/Sep/2018 00:42:34] \"\u001b[37mGET /data/plugin/scalars/tags HTTP/1.1\u001b[0m\" 200 -\n",
      "172.20.40.81 - - [26/Sep/2018 00:42:34] \"\u001b[37mGET /data/plugin/scalars/scalars?run=.&tag=acc HTTP/1.1\u001b[0m\" 200 -\n",
      "172.20.40.81 - - [26/Sep/2018 00:42:34] \"\u001b[37mGET /data/plugin/scalars/scalars?run=.&tag=loss HTTP/1.1\u001b[0m\" 200 -\n",
      "172.20.40.81 - - [26/Sep/2018 00:42:34] \"\u001b[37mGET /data/plugin/scalars/scalars?run=.&tag=val_loss HTTP/1.1\u001b[0m\" 200 -\n"
     ]
    },
    {
     "name": "stdout",
     "output_type": "stream",
     "text": [
      "INFO:tensorflow:TensorBoard reload process beginning\n",
      "INFO:tensorflow:Starting AddRunsFromDirectory: C:\\Users\\rruzzo\\Documents\\GitHub\\Deep_Learning_Work\\module_0\\week_3\\logs\n",
      "INFO:tensorflow:GetLogdirSubdirectories: Starting to list directories via walking.\n",
      "INFO:tensorflow:Adding run from directory C:\\Users\\rruzzo\\Documents\\GitHub\\Deep_Learning_Work\\module_0\\week_3\\logs\n",
      "INFO:tensorflow:Done with AddRunsFromDirectory: C:\\Users\\rruzzo\\Documents\\GitHub\\Deep_Learning_Work\\module_0\\week_3\\logs\n",
      "INFO:tensorflow:TensorBoard reload process: Reload the whole Multiplexer\n",
      "INFO:tensorflow:Beginning EventMultiplexer.Reload()\n",
      "INFO:tensorflow:Reloading runs serially (one after another) on the main thread.\n",
      "INFO:tensorflow:No path found after C:\\Users\\rruzzo\\Documents\\GitHub\\Deep_Learning_Work\\module_0\\week_3\\logs\\events.out.tfevents.1537936844.DESKTOP-V3AEQVL\n",
      "INFO:tensorflow:Finished with EventMultiplexer.Reload()\n",
      "INFO:tensorflow:TensorBoard done reloading. Load took 0.027 secs\n",
      "INFO:tensorflow:TensorBoard reload process beginning\n",
      "INFO:tensorflow:Starting AddRunsFromDirectory: C:\\Users\\rruzzo\\Documents\\GitHub\\Deep_Learning_Work\\module_0\\week_3\\logs\n",
      "INFO:tensorflow:GetLogdirSubdirectories: Starting to list directories via walking.\n",
      "INFO:tensorflow:Adding run from directory C:\\Users\\rruzzo\\Documents\\GitHub\\Deep_Learning_Work\\module_0\\week_3\\logs\n",
      "INFO:tensorflow:Done with AddRunsFromDirectory: C:\\Users\\rruzzo\\Documents\\GitHub\\Deep_Learning_Work\\module_0\\week_3\\logs\n",
      "INFO:tensorflow:TensorBoard reload process: Reload the whole Multiplexer\n",
      "INFO:tensorflow:Beginning EventMultiplexer.Reload()\n",
      "INFO:tensorflow:Reloading runs serially (one after another) on the main thread.\n",
      "INFO:tensorflow:No path found after C:\\Users\\rruzzo\\Documents\\GitHub\\Deep_Learning_Work\\module_0\\week_3\\logs\\events.out.tfevents.1537936844.DESKTOP-V3AEQVL\n",
      "INFO:tensorflow:Finished with EventMultiplexer.Reload()\n",
      "INFO:tensorflow:TensorBoard done reloading. Load took 0.044 secs\n",
      "INFO:tensorflow:TensorBoard reload process beginning\n",
      "INFO:tensorflow:Starting AddRunsFromDirectory: C:\\Users\\rruzzo\\Documents\\GitHub\\Deep_Learning_Work\\module_0\\week_3\\logs\n",
      "INFO:tensorflow:GetLogdirSubdirectories: Starting to list directories via walking.\n",
      "INFO:tensorflow:Adding run from directory C:\\Users\\rruzzo\\Documents\\GitHub\\Deep_Learning_Work\\module_0\\week_3\\logs\n",
      "INFO:tensorflow:Done with AddRunsFromDirectory: C:\\Users\\rruzzo\\Documents\\GitHub\\Deep_Learning_Work\\module_0\\week_3\\logs\n",
      "INFO:tensorflow:TensorBoard reload process: Reload the whole Multiplexer\n",
      "INFO:tensorflow:Beginning EventMultiplexer.Reload()\n",
      "INFO:tensorflow:Reloading runs serially (one after another) on the main thread.\n",
      "INFO:tensorflow:No path found after C:\\Users\\rruzzo\\Documents\\GitHub\\Deep_Learning_Work\\module_0\\week_3\\logs\\events.out.tfevents.1537936844.DESKTOP-V3AEQVL\n",
      "INFO:tensorflow:Finished with EventMultiplexer.Reload()\n",
      "INFO:tensorflow:TensorBoard done reloading. Load took 0.017 secs\n",
      "INFO:tensorflow:TensorBoard reload process beginning\n",
      "INFO:tensorflow:Starting AddRunsFromDirectory: C:\\Users\\rruzzo\\Documents\\GitHub\\Deep_Learning_Work\\module_0\\week_3\\logs\n",
      "INFO:tensorflow:GetLogdirSubdirectories: Starting to list directories via walking.\n",
      "INFO:tensorflow:Adding run from directory C:\\Users\\rruzzo\\Documents\\GitHub\\Deep_Learning_Work\\module_0\\week_3\\logs\n",
      "INFO:tensorflow:Done with AddRunsFromDirectory: C:\\Users\\rruzzo\\Documents\\GitHub\\Deep_Learning_Work\\module_0\\week_3\\logs\n",
      "INFO:tensorflow:TensorBoard reload process: Reload the whole Multiplexer\n",
      "INFO:tensorflow:Beginning EventMultiplexer.Reload()\n",
      "INFO:tensorflow:Reloading runs serially (one after another) on the main thread.\n",
      "INFO:tensorflow:No path found after C:\\Users\\rruzzo\\Documents\\GitHub\\Deep_Learning_Work\\module_0\\week_3\\logs\\events.out.tfevents.1537936844.DESKTOP-V3AEQVL\n",
      "INFO:tensorflow:Finished with EventMultiplexer.Reload()\n",
      "INFO:tensorflow:TensorBoard done reloading. Load took 0.035 secs\n",
      "INFO:tensorflow:TensorBoard reload process beginning\n",
      "INFO:tensorflow:Starting AddRunsFromDirectory: C:\\Users\\rruzzo\\Documents\\GitHub\\Deep_Learning_Work\\module_0\\week_3\\logs\n",
      "INFO:tensorflow:GetLogdirSubdirectories: Starting to list directories via walking.\n",
      "INFO:tensorflow:Adding run from directory C:\\Users\\rruzzo\\Documents\\GitHub\\Deep_Learning_Work\\module_0\\week_3\\logs\n",
      "INFO:tensorflow:Done with AddRunsFromDirectory: C:\\Users\\rruzzo\\Documents\\GitHub\\Deep_Learning_Work\\module_0\\week_3\\logs\n",
      "INFO:tensorflow:TensorBoard reload process: Reload the whole Multiplexer\n",
      "INFO:tensorflow:Beginning EventMultiplexer.Reload()\n",
      "INFO:tensorflow:Reloading runs serially (one after another) on the main thread.\n",
      "INFO:tensorflow:No path found after C:\\Users\\rruzzo\\Documents\\GitHub\\Deep_Learning_Work\\module_0\\week_3\\logs\\events.out.tfevents.1537936844.DESKTOP-V3AEQVL\n",
      "INFO:tensorflow:Finished with EventMultiplexer.Reload()\n",
      "INFO:tensorflow:TensorBoard done reloading. Load took 0.027 secs\n",
      "INFO:tensorflow:TensorBoard reload process beginning\n",
      "INFO:tensorflow:Starting AddRunsFromDirectory: C:\\Users\\rruzzo\\Documents\\GitHub\\Deep_Learning_Work\\module_0\\week_3\\logs\n",
      "INFO:tensorflow:GetLogdirSubdirectories: Starting to list directories via walking.\n",
      "INFO:tensorflow:Adding run from directory C:\\Users\\rruzzo\\Documents\\GitHub\\Deep_Learning_Work\\module_0\\week_3\\logs\n",
      "INFO:tensorflow:Done with AddRunsFromDirectory: C:\\Users\\rruzzo\\Documents\\GitHub\\Deep_Learning_Work\\module_0\\week_3\\logs\n",
      "INFO:tensorflow:TensorBoard reload process: Reload the whole Multiplexer\n",
      "INFO:tensorflow:Beginning EventMultiplexer.Reload()\n",
      "INFO:tensorflow:Reloading runs serially (one after another) on the main thread.\n",
      "INFO:tensorflow:No path found after C:\\Users\\rruzzo\\Documents\\GitHub\\Deep_Learning_Work\\module_0\\week_3\\logs\\events.out.tfevents.1537936844.DESKTOP-V3AEQVL\n",
      "INFO:tensorflow:Finished with EventMultiplexer.Reload()\n",
      "INFO:tensorflow:TensorBoard done reloading. Load took 0.017 secs\n"
     ]
    },
    {
     "name": "stderr",
     "output_type": "stream",
     "text": [
      "172.20.40.81 - - [26/Sep/2018 00:43:04] \"\u001b[37mGET /data/environment HTTP/1.1\u001b[0m\" 200 -\n"
     ]
    },
    {
     "name": "stdout",
     "output_type": "stream",
     "text": [
      "INFO:tensorflow:Plugin listing: is_active() for core took 0.000 seconds\n",
      "INFO:tensorflow:Plugin listing: is_active() for beholder took 0.013 seconds\n"
     ]
    },
    {
     "name": "stderr",
     "output_type": "stream",
     "text": [
      "172.20.40.81 - - [26/Sep/2018 00:43:04] \"\u001b[37mGET /data/runs HTTP/1.1\u001b[0m\" 200 -\n"
     ]
    },
    {
     "name": "stdout",
     "output_type": "stream",
     "text": [
      "INFO:tensorflow:Plugin listing: is_active() for scalars took 0.001 seconds\n"
     ]
    },
    {
     "name": "stderr",
     "output_type": "stream",
     "text": [
      "172.20.40.81 - - [26/Sep/2018 00:43:04] \"\u001b[37mGET /data/experiments HTTP/1.1\u001b[0m\" 200 -\n"
     ]
    },
    {
     "name": "stdout",
     "output_type": "stream",
     "text": [
      "INFO:tensorflow:Plugin listing: is_active() for custom_scalars took 0.000 seconds\n",
      "INFO:tensorflow:Plugin listing: is_active() for images took 0.000 seconds\n",
      "INFO:tensorflow:Plugin listing: is_active() for audio took 0.000 seconds\n",
      "INFO:tensorflow:Plugin listing: is_active() for graphs took 0.000 seconds\n",
      "INFO:tensorflow:Plugin listing: is_active() for distributions took 0.010 seconds\n",
      "INFO:tensorflow:Plugin listing: is_active() for histograms took 0.007 seconds\n",
      "INFO:tensorflow:Plugin listing: is_active() for pr_curves took 0.000 seconds\n",
      "INFO:tensorflow:Plugin listing: is_active() for projector took 0.000 seconds\n",
      "INFO:tensorflow:TextPlugin computing index_impl() in a new thread\n",
      "INFO:tensorflow:Plugin listing: is_active() for text took 0.003 seconds\n",
      "INFO:tensorflow:TextPlugin index_impl() thread ending after 0.003 sec\n",
      "INFO:tensorflow:Plugin listing: is_active() for profile took 0.000 seconds\n"
     ]
    },
    {
     "name": "stderr",
     "output_type": "stream",
     "text": [
      "172.20.40.81 - - [26/Sep/2018 00:43:04] \"\u001b[37mGET /data/plugins_listing HTTP/1.1\u001b[0m\" 200 -\n",
      "172.20.40.81 - - [26/Sep/2018 00:43:04] \"\u001b[37mGET /data/plugin/scalars/tags HTTP/1.1\u001b[0m\" 200 -\n",
      "172.20.40.81 - - [26/Sep/2018 00:43:04] \"\u001b[37mGET /data/plugin/scalars/scalars?run=.&tag=acc HTTP/1.1\u001b[0m\" 200 -\n",
      "172.20.40.81 - - [26/Sep/2018 00:43:04] \"\u001b[37mGET /data/plugin/scalars/scalars?run=.&tag=val_loss HTTP/1.1\u001b[0m\" 200 -\n",
      "172.20.40.81 - - [26/Sep/2018 00:43:04] \"\u001b[37mGET /data/plugin/scalars/scalars?run=.&tag=loss HTTP/1.1\u001b[0m\" 200 -\n"
     ]
    },
    {
     "name": "stdout",
     "output_type": "stream",
     "text": [
      "INFO:tensorflow:TensorBoard reload process beginning\n",
      "INFO:tensorflow:Starting AddRunsFromDirectory: C:\\Users\\rruzzo\\Documents\\GitHub\\Deep_Learning_Work\\module_0\\week_3\\logs\n",
      "INFO:tensorflow:GetLogdirSubdirectories: Starting to list directories via walking.\n",
      "INFO:tensorflow:Adding run from directory C:\\Users\\rruzzo\\Documents\\GitHub\\Deep_Learning_Work\\module_0\\week_3\\logs\n",
      "INFO:tensorflow:Done with AddRunsFromDirectory: C:\\Users\\rruzzo\\Documents\\GitHub\\Deep_Learning_Work\\module_0\\week_3\\logs\n",
      "INFO:tensorflow:TensorBoard reload process: Reload the whole Multiplexer\n",
      "INFO:tensorflow:Beginning EventMultiplexer.Reload()\n",
      "INFO:tensorflow:Reloading runs serially (one after another) on the main thread.\n",
      "INFO:tensorflow:No path found after C:\\Users\\rruzzo\\Documents\\GitHub\\Deep_Learning_Work\\module_0\\week_3\\logs\\events.out.tfevents.1537936844.DESKTOP-V3AEQVL\n",
      "INFO:tensorflow:Finished with EventMultiplexer.Reload()\n",
      "INFO:tensorflow:TensorBoard done reloading. Load took 0.040 secs\n",
      "INFO:tensorflow:TensorBoard reload process beginning\n",
      "INFO:tensorflow:Starting AddRunsFromDirectory: C:\\Users\\rruzzo\\Documents\\GitHub\\Deep_Learning_Work\\module_0\\week_3\\logs\n",
      "INFO:tensorflow:GetLogdirSubdirectories: Starting to list directories via walking.\n",
      "INFO:tensorflow:Adding run from directory C:\\Users\\rruzzo\\Documents\\GitHub\\Deep_Learning_Work\\module_0\\week_3\\logs\n",
      "INFO:tensorflow:Done with AddRunsFromDirectory: C:\\Users\\rruzzo\\Documents\\GitHub\\Deep_Learning_Work\\module_0\\week_3\\logs\n",
      "INFO:tensorflow:TensorBoard reload process: Reload the whole Multiplexer\n",
      "INFO:tensorflow:Beginning EventMultiplexer.Reload()\n",
      "INFO:tensorflow:Reloading runs serially (one after another) on the main thread.\n",
      "INFO:tensorflow:No path found after C:\\Users\\rruzzo\\Documents\\GitHub\\Deep_Learning_Work\\module_0\\week_3\\logs\\events.out.tfevents.1537936844.DESKTOP-V3AEQVL\n",
      "INFO:tensorflow:Finished with EventMultiplexer.Reload()\n",
      "INFO:tensorflow:TensorBoard done reloading. Load took 0.039 secs\n",
      "INFO:tensorflow:TensorBoard reload process beginning\n",
      "INFO:tensorflow:Starting AddRunsFromDirectory: C:\\Users\\rruzzo\\Documents\\GitHub\\Deep_Learning_Work\\module_0\\week_3\\logs\n",
      "INFO:tensorflow:GetLogdirSubdirectories: Starting to list directories via walking.\n",
      "INFO:tensorflow:Adding run from directory C:\\Users\\rruzzo\\Documents\\GitHub\\Deep_Learning_Work\\module_0\\week_3\\logs\n",
      "INFO:tensorflow:Done with AddRunsFromDirectory: C:\\Users\\rruzzo\\Documents\\GitHub\\Deep_Learning_Work\\module_0\\week_3\\logs\n",
      "INFO:tensorflow:TensorBoard reload process: Reload the whole Multiplexer\n",
      "INFO:tensorflow:Beginning EventMultiplexer.Reload()\n",
      "INFO:tensorflow:Reloading runs serially (one after another) on the main thread.\n",
      "INFO:tensorflow:No path found after C:\\Users\\rruzzo\\Documents\\GitHub\\Deep_Learning_Work\\module_0\\week_3\\logs\\events.out.tfevents.1537936844.DESKTOP-V3AEQVL\n",
      "INFO:tensorflow:Finished with EventMultiplexer.Reload()\n",
      "INFO:tensorflow:TensorBoard done reloading. Load took 0.024 secs\n",
      "INFO:tensorflow:TensorBoard reload process beginning\n",
      "INFO:tensorflow:Starting AddRunsFromDirectory: C:\\Users\\rruzzo\\Documents\\GitHub\\Deep_Learning_Work\\module_0\\week_3\\logs\n",
      "INFO:tensorflow:GetLogdirSubdirectories: Starting to list directories via walking.\n",
      "INFO:tensorflow:Adding run from directory C:\\Users\\rruzzo\\Documents\\GitHub\\Deep_Learning_Work\\module_0\\week_3\\logs\n",
      "INFO:tensorflow:Done with AddRunsFromDirectory: C:\\Users\\rruzzo\\Documents\\GitHub\\Deep_Learning_Work\\module_0\\week_3\\logs\n",
      "INFO:tensorflow:TensorBoard reload process: Reload the whole Multiplexer\n",
      "INFO:tensorflow:Beginning EventMultiplexer.Reload()\n",
      "INFO:tensorflow:Reloading runs serially (one after another) on the main thread.\n",
      "INFO:tensorflow:No path found after C:\\Users\\rruzzo\\Documents\\GitHub\\Deep_Learning_Work\\module_0\\week_3\\logs\\events.out.tfevents.1537936844.DESKTOP-V3AEQVL\n",
      "INFO:tensorflow:Finished with EventMultiplexer.Reload()\n",
      "INFO:tensorflow:TensorBoard done reloading. Load took 0.019 secs\n",
      "INFO:tensorflow:TensorBoard reload process beginning\n",
      "INFO:tensorflow:Starting AddRunsFromDirectory: C:\\Users\\rruzzo\\Documents\\GitHub\\Deep_Learning_Work\\module_0\\week_3\\logs\n",
      "INFO:tensorflow:GetLogdirSubdirectories: Starting to list directories via walking.\n",
      "INFO:tensorflow:Adding run from directory C:\\Users\\rruzzo\\Documents\\GitHub\\Deep_Learning_Work\\module_0\\week_3\\logs\n",
      "INFO:tensorflow:Done with AddRunsFromDirectory: C:\\Users\\rruzzo\\Documents\\GitHub\\Deep_Learning_Work\\module_0\\week_3\\logs\n",
      "INFO:tensorflow:TensorBoard reload process: Reload the whole Multiplexer\n",
      "INFO:tensorflow:Beginning EventMultiplexer.Reload()\n",
      "INFO:tensorflow:Reloading runs serially (one after another) on the main thread.\n",
      "INFO:tensorflow:No path found after C:\\Users\\rruzzo\\Documents\\GitHub\\Deep_Learning_Work\\module_0\\week_3\\logs\\events.out.tfevents.1537936844.DESKTOP-V3AEQVL\n",
      "INFO:tensorflow:Finished with EventMultiplexer.Reload()\n",
      "INFO:tensorflow:TensorBoard done reloading. Load took 0.029 secs\n",
      "INFO:tensorflow:TensorBoard reload process beginning\n",
      "INFO:tensorflow:Starting AddRunsFromDirectory: C:\\Users\\rruzzo\\Documents\\GitHub\\Deep_Learning_Work\\module_0\\week_3\\logs\n",
      "INFO:tensorflow:GetLogdirSubdirectories: Starting to list directories via walking.\n",
      "INFO:tensorflow:Adding run from directory C:\\Users\\rruzzo\\Documents\\GitHub\\Deep_Learning_Work\\module_0\\week_3\\logs\n",
      "INFO:tensorflow:Done with AddRunsFromDirectory: C:\\Users\\rruzzo\\Documents\\GitHub\\Deep_Learning_Work\\module_0\\week_3\\logs\n",
      "INFO:tensorflow:TensorBoard reload process: Reload the whole Multiplexer\n",
      "INFO:tensorflow:Beginning EventMultiplexer.Reload()\n",
      "INFO:tensorflow:Reloading runs serially (one after another) on the main thread.\n",
      "INFO:tensorflow:No path found after C:\\Users\\rruzzo\\Documents\\GitHub\\Deep_Learning_Work\\module_0\\week_3\\logs\\events.out.tfevents.1537936844.DESKTOP-V3AEQVL\n",
      "INFO:tensorflow:Finished with EventMultiplexer.Reload()\n",
      "INFO:tensorflow:TensorBoard done reloading. Load took 0.018 secs\n",
      "INFO:tensorflow:Plugin listing: is_active() for core took 0.000 seconds\n"
     ]
    },
    {
     "name": "stderr",
     "output_type": "stream",
     "text": [
      "172.20.40.81 - - [26/Sep/2018 00:43:34] \"\u001b[37mGET /data/environment HTTP/1.1\u001b[0m\" 200 -\n"
     ]
    },
    {
     "name": "stdout",
     "output_type": "stream",
     "text": [
      "INFO:tensorflow:Plugin listing: is_active() for beholder took 0.001 seconds\n"
     ]
    },
    {
     "name": "stderr",
     "output_type": "stream",
     "text": [
      "172.20.40.81 - - [26/Sep/2018 00:43:34] \"\u001b[37mGET /data/runs HTTP/1.1\u001b[0m\" 200 -\n"
     ]
    },
    {
     "name": "stdout",
     "output_type": "stream",
     "text": [
      "INFO:tensorflow:Plugin listing: is_active() for scalars took 0.000 seconds\n"
     ]
    },
    {
     "name": "stderr",
     "output_type": "stream",
     "text": [
      "172.20.40.81 - - [26/Sep/2018 00:43:34] \"\u001b[37mGET /data/experiments HTTP/1.1\u001b[0m\" 200 -\n"
     ]
    },
    {
     "name": "stdout",
     "output_type": "stream",
     "text": [
      "INFO:tensorflow:Plugin listing: is_active() for custom_scalars took 0.000 seconds\n",
      "INFO:tensorflow:Plugin listing: is_active() for images took 0.000 seconds\n",
      "INFO:tensorflow:Plugin listing: is_active() for audio took 0.000 seconds\n",
      "INFO:tensorflow:Plugin listing: is_active() for graphs took 0.000 seconds\n",
      "INFO:tensorflow:Plugin listing: is_active() for distributions took 0.007 seconds\n",
      "INFO:tensorflow:Plugin listing: is_active() for histograms took 0.007 seconds\n",
      "INFO:tensorflow:Plugin listing: is_active() for pr_curves took 0.000 seconds\n",
      "INFO:tensorflow:Plugin listing: is_active() for projector took 0.001 seconds\n",
      "INFO:tensorflow:TextPlugin computing index_impl() in a new thread\n",
      "INFO:tensorflow:Plugin listing: is_active() for text took 0.003 seconds\n",
      "INFO:tensorflow:TextPlugin index_impl() thread ending after 0.003 sec\n",
      "INFO:tensorflow:Plugin listing: is_active() for profile took 0.000 seconds\n"
     ]
    },
    {
     "name": "stderr",
     "output_type": "stream",
     "text": [
      "172.20.40.81 - - [26/Sep/2018 00:43:34] \"\u001b[37mGET /data/plugins_listing HTTP/1.1\u001b[0m\" 200 -\n",
      "172.20.40.81 - - [26/Sep/2018 00:43:34] \"\u001b[37mGET /data/plugin/scalars/tags HTTP/1.1\u001b[0m\" 200 -\n",
      "172.20.40.81 - - [26/Sep/2018 00:43:34] \"\u001b[37mGET /data/plugin/scalars/scalars?run=.&tag=acc HTTP/1.1\u001b[0m\" 200 -\n",
      "172.20.40.81 - - [26/Sep/2018 00:43:34] \"\u001b[37mGET /data/plugin/scalars/scalars?run=.&tag=loss HTTP/1.1\u001b[0m\" 200 -\n",
      "172.20.40.81 - - [26/Sep/2018 00:43:34] \"\u001b[37mGET /data/plugin/scalars/scalars?run=.&tag=val_loss HTTP/1.1\u001b[0m\" 200 -\n"
     ]
    },
    {
     "name": "stdout",
     "output_type": "stream",
     "text": [
      "INFO:tensorflow:TensorBoard reload process beginning\n",
      "INFO:tensorflow:Starting AddRunsFromDirectory: C:\\Users\\rruzzo\\Documents\\GitHub\\Deep_Learning_Work\\module_0\\week_3\\logs\n",
      "INFO:tensorflow:GetLogdirSubdirectories: Starting to list directories via walking.\n",
      "INFO:tensorflow:Adding run from directory C:\\Users\\rruzzo\\Documents\\GitHub\\Deep_Learning_Work\\module_0\\week_3\\logs\n",
      "INFO:tensorflow:Done with AddRunsFromDirectory: C:\\Users\\rruzzo\\Documents\\GitHub\\Deep_Learning_Work\\module_0\\week_3\\logs\n",
      "INFO:tensorflow:TensorBoard reload process: Reload the whole Multiplexer\n",
      "INFO:tensorflow:Beginning EventMultiplexer.Reload()\n",
      "INFO:tensorflow:Reloading runs serially (one after another) on the main thread.\n",
      "INFO:tensorflow:No path found after C:\\Users\\rruzzo\\Documents\\GitHub\\Deep_Learning_Work\\module_0\\week_3\\logs\\events.out.tfevents.1537936844.DESKTOP-V3AEQVL\n",
      "INFO:tensorflow:Finished with EventMultiplexer.Reload()\n",
      "INFO:tensorflow:TensorBoard done reloading. Load took 0.016 secs\n",
      "INFO:tensorflow:TensorBoard reload process beginning\n",
      "INFO:tensorflow:Starting AddRunsFromDirectory: C:\\Users\\rruzzo\\Documents\\GitHub\\Deep_Learning_Work\\module_0\\week_3\\logs\n",
      "INFO:tensorflow:GetLogdirSubdirectories: Starting to list directories via walking.\n",
      "INFO:tensorflow:Adding run from directory C:\\Users\\rruzzo\\Documents\\GitHub\\Deep_Learning_Work\\module_0\\week_3\\logs\n",
      "INFO:tensorflow:Done with AddRunsFromDirectory: C:\\Users\\rruzzo\\Documents\\GitHub\\Deep_Learning_Work\\module_0\\week_3\\logs\n",
      "INFO:tensorflow:TensorBoard reload process: Reload the whole Multiplexer\n",
      "INFO:tensorflow:Beginning EventMultiplexer.Reload()\n",
      "INFO:tensorflow:Reloading runs serially (one after another) on the main thread.\n",
      "INFO:tensorflow:No path found after C:\\Users\\rruzzo\\Documents\\GitHub\\Deep_Learning_Work\\module_0\\week_3\\logs\\events.out.tfevents.1537936844.DESKTOP-V3AEQVL\n",
      "INFO:tensorflow:Finished with EventMultiplexer.Reload()\n",
      "INFO:tensorflow:TensorBoard done reloading. Load took 0.027 secs\n",
      "INFO:tensorflow:TensorBoard reload process beginning\n",
      "INFO:tensorflow:Starting AddRunsFromDirectory: C:\\Users\\rruzzo\\Documents\\GitHub\\Deep_Learning_Work\\module_0\\week_3\\logs\n",
      "INFO:tensorflow:GetLogdirSubdirectories: Starting to list directories via walking.\n",
      "INFO:tensorflow:Adding run from directory C:\\Users\\rruzzo\\Documents\\GitHub\\Deep_Learning_Work\\module_0\\week_3\\logs\n",
      "INFO:tensorflow:Done with AddRunsFromDirectory: C:\\Users\\rruzzo\\Documents\\GitHub\\Deep_Learning_Work\\module_0\\week_3\\logs\n",
      "INFO:tensorflow:TensorBoard reload process: Reload the whole Multiplexer\n",
      "INFO:tensorflow:Beginning EventMultiplexer.Reload()\n",
      "INFO:tensorflow:Reloading runs serially (one after another) on the main thread.\n",
      "INFO:tensorflow:No path found after C:\\Users\\rruzzo\\Documents\\GitHub\\Deep_Learning_Work\\module_0\\week_3\\logs\\events.out.tfevents.1537936844.DESKTOP-V3AEQVL\n",
      "INFO:tensorflow:Finished with EventMultiplexer.Reload()\n",
      "INFO:tensorflow:TensorBoard done reloading. Load took 0.016 secs\n",
      "INFO:tensorflow:TensorBoard reload process beginning\n",
      "INFO:tensorflow:Starting AddRunsFromDirectory: C:\\Users\\rruzzo\\Documents\\GitHub\\Deep_Learning_Work\\module_0\\week_3\\logs\n",
      "INFO:tensorflow:GetLogdirSubdirectories: Starting to list directories via walking.\n",
      "INFO:tensorflow:Adding run from directory C:\\Users\\rruzzo\\Documents\\GitHub\\Deep_Learning_Work\\module_0\\week_3\\logs\n",
      "INFO:tensorflow:Done with AddRunsFromDirectory: C:\\Users\\rruzzo\\Documents\\GitHub\\Deep_Learning_Work\\module_0\\week_3\\logs\n",
      "INFO:tensorflow:TensorBoard reload process: Reload the whole Multiplexer\n",
      "INFO:tensorflow:Beginning EventMultiplexer.Reload()\n",
      "INFO:tensorflow:Reloading runs serially (one after another) on the main thread.\n",
      "INFO:tensorflow:No path found after C:\\Users\\rruzzo\\Documents\\GitHub\\Deep_Learning_Work\\module_0\\week_3\\logs\\events.out.tfevents.1537936844.DESKTOP-V3AEQVL\n",
      "INFO:tensorflow:Finished with EventMultiplexer.Reload()\n",
      "INFO:tensorflow:TensorBoard done reloading. Load took 0.017 secs\n",
      "INFO:tensorflow:TensorBoard reload process beginning\n",
      "INFO:tensorflow:Starting AddRunsFromDirectory: C:\\Users\\rruzzo\\Documents\\GitHub\\Deep_Learning_Work\\module_0\\week_3\\logs\n",
      "INFO:tensorflow:GetLogdirSubdirectories: Starting to list directories via walking.\n",
      "INFO:tensorflow:Adding run from directory C:\\Users\\rruzzo\\Documents\\GitHub\\Deep_Learning_Work\\module_0\\week_3\\logs\n",
      "INFO:tensorflow:Done with AddRunsFromDirectory: C:\\Users\\rruzzo\\Documents\\GitHub\\Deep_Learning_Work\\module_0\\week_3\\logs\n",
      "INFO:tensorflow:TensorBoard reload process: Reload the whole Multiplexer\n",
      "INFO:tensorflow:Beginning EventMultiplexer.Reload()\n",
      "INFO:tensorflow:Reloading runs serially (one after another) on the main thread.\n",
      "INFO:tensorflow:No path found after C:\\Users\\rruzzo\\Documents\\GitHub\\Deep_Learning_Work\\module_0\\week_3\\logs\\events.out.tfevents.1537936844.DESKTOP-V3AEQVL\n",
      "INFO:tensorflow:Finished with EventMultiplexer.Reload()\n",
      "INFO:tensorflow:TensorBoard done reloading. Load took 0.031 secs\n",
      "INFO:tensorflow:TensorBoard reload process beginning\n",
      "INFO:tensorflow:Starting AddRunsFromDirectory: C:\\Users\\rruzzo\\Documents\\GitHub\\Deep_Learning_Work\\module_0\\week_3\\logs\n",
      "INFO:tensorflow:GetLogdirSubdirectories: Starting to list directories via walking.\n",
      "INFO:tensorflow:Adding run from directory C:\\Users\\rruzzo\\Documents\\GitHub\\Deep_Learning_Work\\module_0\\week_3\\logs\n",
      "INFO:tensorflow:Done with AddRunsFromDirectory: C:\\Users\\rruzzo\\Documents\\GitHub\\Deep_Learning_Work\\module_0\\week_3\\logs\n",
      "INFO:tensorflow:TensorBoard reload process: Reload the whole Multiplexer\n",
      "INFO:tensorflow:Beginning EventMultiplexer.Reload()\n",
      "INFO:tensorflow:Reloading runs serially (one after another) on the main thread.\n",
      "INFO:tensorflow:No path found after C:\\Users\\rruzzo\\Documents\\GitHub\\Deep_Learning_Work\\module_0\\week_3\\logs\\events.out.tfevents.1537936844.DESKTOP-V3AEQVL\n",
      "INFO:tensorflow:Finished with EventMultiplexer.Reload()\n",
      "INFO:tensorflow:TensorBoard done reloading. Load took 0.024 secs\n"
     ]
    },
    {
     "name": "stderr",
     "output_type": "stream",
     "text": [
      "172.20.40.81 - - [26/Sep/2018 00:44:04] \"\u001b[37mGET /data/environment HTTP/1.1\u001b[0m\" 200 -\n"
     ]
    },
    {
     "name": "stdout",
     "output_type": "stream",
     "text": [
      "INFO:tensorflow:Plugin listing: is_active() for core took 0.000 seconds\n"
     ]
    },
    {
     "name": "stderr",
     "output_type": "stream",
     "text": [
      "172.20.40.81 - - [26/Sep/2018 00:44:04] \"\u001b[37mGET /data/runs HTTP/1.1\u001b[0m\" 200 -\n"
     ]
    },
    {
     "name": "stdout",
     "output_type": "stream",
     "text": [
      "INFO:tensorflow:Plugin listing: is_active() for beholder took 0.003 seconds\n",
      "INFO:tensorflow:Plugin listing: is_active() for scalars took 0.000 seconds\n"
     ]
    },
    {
     "name": "stderr",
     "output_type": "stream",
     "text": [
      "172.20.40.81 - - [26/Sep/2018 00:44:04] \"\u001b[37mGET /data/experiments HTTP/1.1\u001b[0m\" 200 -\n"
     ]
    },
    {
     "name": "stdout",
     "output_type": "stream",
     "text": [
      "INFO:tensorflow:Plugin listing: is_active() for custom_scalars took 0.000 seconds\n",
      "INFO:tensorflow:Plugin listing: is_active() for images took 0.000 seconds\n",
      "INFO:tensorflow:Plugin listing: is_active() for audio took 0.000 seconds\n",
      "INFO:tensorflow:Plugin listing: is_active() for graphs took 0.000 seconds\n",
      "INFO:tensorflow:Plugin listing: is_active() for distributions took 0.010 seconds\n",
      "INFO:tensorflow:Plugin listing: is_active() for histograms took 0.007 seconds\n",
      "INFO:tensorflow:Plugin listing: is_active() for pr_curves took 0.000 seconds\n",
      "INFO:tensorflow:Plugin listing: is_active() for projector took 0.000 seconds\n",
      "INFO:tensorflow:TextPlugin computing index_impl() in a new thread\n",
      "INFO:tensorflow:Plugin listing: is_active() for text took 0.003 seconds\n",
      "INFO:tensorflow:TextPlugin index_impl() thread ending after 0.004 sec\n",
      "INFO:tensorflow:Plugin listing: is_active() for profile took 0.000 seconds\n"
     ]
    },
    {
     "name": "stderr",
     "output_type": "stream",
     "text": [
      "172.20.40.81 - - [26/Sep/2018 00:44:04] \"\u001b[37mGET /data/plugins_listing HTTP/1.1\u001b[0m\" 200 -\n",
      "172.20.40.81 - - [26/Sep/2018 00:44:04] \"\u001b[37mGET /data/plugin/scalars/tags HTTP/1.1\u001b[0m\" 200 -\n",
      "172.20.40.81 - - [26/Sep/2018 00:44:04] \"\u001b[37mGET /data/plugin/scalars/scalars?run=.&tag=acc HTTP/1.1\u001b[0m\" 200 -\n",
      "172.20.40.81 - - [26/Sep/2018 00:44:04] \"\u001b[37mGET /data/plugin/scalars/scalars?run=.&tag=loss HTTP/1.1\u001b[0m\" 200 -\n",
      "172.20.40.81 - - [26/Sep/2018 00:44:04] \"\u001b[37mGET /data/plugin/scalars/scalars?run=.&tag=val_loss HTTP/1.1\u001b[0m\" 200 -\n"
     ]
    },
    {
     "name": "stdout",
     "output_type": "stream",
     "text": [
      "INFO:tensorflow:TensorBoard reload process beginning\n",
      "INFO:tensorflow:Starting AddRunsFromDirectory: C:\\Users\\rruzzo\\Documents\\GitHub\\Deep_Learning_Work\\module_0\\week_3\\logs\n",
      "INFO:tensorflow:GetLogdirSubdirectories: Starting to list directories via walking.\n",
      "INFO:tensorflow:Adding run from directory C:\\Users\\rruzzo\\Documents\\GitHub\\Deep_Learning_Work\\module_0\\week_3\\logs\n",
      "INFO:tensorflow:Done with AddRunsFromDirectory: C:\\Users\\rruzzo\\Documents\\GitHub\\Deep_Learning_Work\\module_0\\week_3\\logs\n",
      "INFO:tensorflow:TensorBoard reload process: Reload the whole Multiplexer\n",
      "INFO:tensorflow:Beginning EventMultiplexer.Reload()\n",
      "INFO:tensorflow:Reloading runs serially (one after another) on the main thread.\n",
      "INFO:tensorflow:No path found after C:\\Users\\rruzzo\\Documents\\GitHub\\Deep_Learning_Work\\module_0\\week_3\\logs\\events.out.tfevents.1537936844.DESKTOP-V3AEQVL\n",
      "INFO:tensorflow:Finished with EventMultiplexer.Reload()\n",
      "INFO:tensorflow:TensorBoard done reloading. Load took 0.016 secs\n",
      "INFO:tensorflow:TensorBoard reload process beginning\n",
      "INFO:tensorflow:Starting AddRunsFromDirectory: C:\\Users\\rruzzo\\Documents\\GitHub\\Deep_Learning_Work\\module_0\\week_3\\logs\n",
      "INFO:tensorflow:GetLogdirSubdirectories: Starting to list directories via walking.\n",
      "INFO:tensorflow:Adding run from directory C:\\Users\\rruzzo\\Documents\\GitHub\\Deep_Learning_Work\\module_0\\week_3\\logs\n",
      "INFO:tensorflow:Done with AddRunsFromDirectory: C:\\Users\\rruzzo\\Documents\\GitHub\\Deep_Learning_Work\\module_0\\week_3\\logs\n",
      "INFO:tensorflow:TensorBoard reload process: Reload the whole Multiplexer\n",
      "INFO:tensorflow:Beginning EventMultiplexer.Reload()\n",
      "INFO:tensorflow:Reloading runs serially (one after another) on the main thread.\n",
      "INFO:tensorflow:No path found after C:\\Users\\rruzzo\\Documents\\GitHub\\Deep_Learning_Work\\module_0\\week_3\\logs\\events.out.tfevents.1537936844.DESKTOP-V3AEQVL\n",
      "INFO:tensorflow:Finished with EventMultiplexer.Reload()\n",
      "INFO:tensorflow:TensorBoard done reloading. Load took 0.028 secs\n",
      "INFO:tensorflow:TensorBoard reload process beginning\n",
      "INFO:tensorflow:Starting AddRunsFromDirectory: C:\\Users\\rruzzo\\Documents\\GitHub\\Deep_Learning_Work\\module_0\\week_3\\logs\n",
      "INFO:tensorflow:GetLogdirSubdirectories: Starting to list directories via walking.\n",
      "INFO:tensorflow:Adding run from directory C:\\Users\\rruzzo\\Documents\\GitHub\\Deep_Learning_Work\\module_0\\week_3\\logs\n",
      "INFO:tensorflow:Done with AddRunsFromDirectory: C:\\Users\\rruzzo\\Documents\\GitHub\\Deep_Learning_Work\\module_0\\week_3\\logs\n",
      "INFO:tensorflow:TensorBoard reload process: Reload the whole Multiplexer\n",
      "INFO:tensorflow:Beginning EventMultiplexer.Reload()\n",
      "INFO:tensorflow:Reloading runs serially (one after another) on the main thread.\n",
      "INFO:tensorflow:No path found after C:\\Users\\rruzzo\\Documents\\GitHub\\Deep_Learning_Work\\module_0\\week_3\\logs\\events.out.tfevents.1537936844.DESKTOP-V3AEQVL\n",
      "INFO:tensorflow:Finished with EventMultiplexer.Reload()\n",
      "INFO:tensorflow:TensorBoard done reloading. Load took 0.017 secs\n",
      "INFO:tensorflow:TensorBoard reload process beginning\n",
      "INFO:tensorflow:Starting AddRunsFromDirectory: C:\\Users\\rruzzo\\Documents\\GitHub\\Deep_Learning_Work\\module_0\\week_3\\logs\n",
      "INFO:tensorflow:GetLogdirSubdirectories: Starting to list directories via walking.\n",
      "INFO:tensorflow:Adding run from directory C:\\Users\\rruzzo\\Documents\\GitHub\\Deep_Learning_Work\\module_0\\week_3\\logs\n",
      "INFO:tensorflow:Done with AddRunsFromDirectory: C:\\Users\\rruzzo\\Documents\\GitHub\\Deep_Learning_Work\\module_0\\week_3\\logs\n",
      "INFO:tensorflow:TensorBoard reload process: Reload the whole Multiplexer\n",
      "INFO:tensorflow:Beginning EventMultiplexer.Reload()\n",
      "INFO:tensorflow:Reloading runs serially (one after another) on the main thread.\n",
      "INFO:tensorflow:No path found after C:\\Users\\rruzzo\\Documents\\GitHub\\Deep_Learning_Work\\module_0\\week_3\\logs\\events.out.tfevents.1537936844.DESKTOP-V3AEQVL\n",
      "INFO:tensorflow:Finished with EventMultiplexer.Reload()\n",
      "INFO:tensorflow:TensorBoard done reloading. Load took 0.016 secs\n",
      "INFO:tensorflow:TensorBoard reload process beginning\n",
      "INFO:tensorflow:Starting AddRunsFromDirectory: C:\\Users\\rruzzo\\Documents\\GitHub\\Deep_Learning_Work\\module_0\\week_3\\logs\n",
      "INFO:tensorflow:GetLogdirSubdirectories: Starting to list directories via walking.\n",
      "INFO:tensorflow:Adding run from directory C:\\Users\\rruzzo\\Documents\\GitHub\\Deep_Learning_Work\\module_0\\week_3\\logs\n",
      "INFO:tensorflow:Done with AddRunsFromDirectory: C:\\Users\\rruzzo\\Documents\\GitHub\\Deep_Learning_Work\\module_0\\week_3\\logs\n",
      "INFO:tensorflow:TensorBoard reload process: Reload the whole Multiplexer\n",
      "INFO:tensorflow:Beginning EventMultiplexer.Reload()\n",
      "INFO:tensorflow:Reloading runs serially (one after another) on the main thread.\n",
      "INFO:tensorflow:No path found after C:\\Users\\rruzzo\\Documents\\GitHub\\Deep_Learning_Work\\module_0\\week_3\\logs\\events.out.tfevents.1537936844.DESKTOP-V3AEQVL\n",
      "INFO:tensorflow:Finished with EventMultiplexer.Reload()\n",
      "INFO:tensorflow:TensorBoard done reloading. Load took 0.016 secs\n",
      "INFO:tensorflow:TensorBoard reload process beginning\n",
      "INFO:tensorflow:Starting AddRunsFromDirectory: C:\\Users\\rruzzo\\Documents\\GitHub\\Deep_Learning_Work\\module_0\\week_3\\logs\n",
      "INFO:tensorflow:GetLogdirSubdirectories: Starting to list directories via walking.\n",
      "INFO:tensorflow:Adding run from directory C:\\Users\\rruzzo\\Documents\\GitHub\\Deep_Learning_Work\\module_0\\week_3\\logs\n",
      "INFO:tensorflow:Done with AddRunsFromDirectory: C:\\Users\\rruzzo\\Documents\\GitHub\\Deep_Learning_Work\\module_0\\week_3\\logs\n",
      "INFO:tensorflow:TensorBoard reload process: Reload the whole Multiplexer\n",
      "INFO:tensorflow:Beginning EventMultiplexer.Reload()\n",
      "INFO:tensorflow:Reloading runs serially (one after another) on the main thread.\n",
      "INFO:tensorflow:No path found after C:\\Users\\rruzzo\\Documents\\GitHub\\Deep_Learning_Work\\module_0\\week_3\\logs\\events.out.tfevents.1537936844.DESKTOP-V3AEQVL\n",
      "INFO:tensorflow:Finished with EventMultiplexer.Reload()\n",
      "INFO:tensorflow:TensorBoard done reloading. Load took 0.026 secs\n"
     ]
    },
    {
     "name": "stderr",
     "output_type": "stream",
     "text": [
      "172.20.40.81 - - [26/Sep/2018 00:44:34] \"\u001b[37mGET /data/environment HTTP/1.1\u001b[0m\" 200 -\n"
     ]
    },
    {
     "name": "stdout",
     "output_type": "stream",
     "text": [
      "INFO:tensorflow:Plugin listing: is_active() for core took 0.000 seconds\n"
     ]
    },
    {
     "name": "stderr",
     "output_type": "stream",
     "text": [
      "172.20.40.81 - - [26/Sep/2018 00:44:34] \"\u001b[37mGET /data/runs HTTP/1.1\u001b[0m\" 200 -\n"
     ]
    },
    {
     "name": "stdout",
     "output_type": "stream",
     "text": [
      "INFO:tensorflow:Plugin listing: is_active() for beholder took 0.002 seconds\n"
     ]
    },
    {
     "name": "stderr",
     "output_type": "stream",
     "text": [
      "172.20.40.81 - - [26/Sep/2018 00:44:34] \"\u001b[37mGET /data/experiments HTTP/1.1\u001b[0m\" 200 -\n"
     ]
    },
    {
     "name": "stdout",
     "output_type": "stream",
     "text": [
      "INFO:tensorflow:Plugin listing: is_active() for scalars took 0.000 seconds\n",
      "INFO:tensorflow:Plugin listing: is_active() for custom_scalars took 0.000 seconds\n",
      "INFO:tensorflow:Plugin listing: is_active() for images took 0.000 seconds\n",
      "INFO:tensorflow:Plugin listing: is_active() for audio took 0.000 seconds\n",
      "INFO:tensorflow:Plugin listing: is_active() for graphs took 0.000 seconds\n",
      "INFO:tensorflow:Plugin listing: is_active() for distributions took 0.007 seconds\n",
      "INFO:tensorflow:Plugin listing: is_active() for histograms took 0.007 seconds\n",
      "INFO:tensorflow:Plugin listing: is_active() for pr_curves took 0.000 seconds\n",
      "INFO:tensorflow:Plugin listing: is_active() for projector took 0.001 seconds\n",
      "INFO:tensorflow:TextPlugin computing index_impl() in a new thread\n",
      "INFO:tensorflow:Plugin listing: is_active() for text took 0.003 seconds\n",
      "INFO:tensorflow:TextPlugin index_impl() thread ending after 0.003 sec\n",
      "INFO:tensorflow:Plugin listing: is_active() for profile took 0.001 seconds\n"
     ]
    },
    {
     "name": "stderr",
     "output_type": "stream",
     "text": [
      "172.20.40.81 - - [26/Sep/2018 00:44:34] \"\u001b[37mGET /data/plugins_listing HTTP/1.1\u001b[0m\" 200 -\n",
      "172.20.40.81 - - [26/Sep/2018 00:44:34] \"\u001b[37mGET /data/plugin/scalars/tags HTTP/1.1\u001b[0m\" 200 -\n",
      "172.20.40.81 - - [26/Sep/2018 00:44:34] \"\u001b[37mGET /data/plugin/scalars/scalars?run=.&tag=acc HTTP/1.1\u001b[0m\" 200 -\n",
      "172.20.40.81 - - [26/Sep/2018 00:44:34] \"\u001b[37mGET /data/plugin/scalars/scalars?run=.&tag=loss HTTP/1.1\u001b[0m\" 200 -\n",
      "172.20.40.81 - - [26/Sep/2018 00:44:34] \"\u001b[37mGET /data/plugin/scalars/scalars?run=.&tag=val_loss HTTP/1.1\u001b[0m\" 200 -\n"
     ]
    },
    {
     "name": "stdout",
     "output_type": "stream",
     "text": [
      "INFO:tensorflow:TensorBoard reload process beginning\n",
      "INFO:tensorflow:Starting AddRunsFromDirectory: C:\\Users\\rruzzo\\Documents\\GitHub\\Deep_Learning_Work\\module_0\\week_3\\logs\n",
      "INFO:tensorflow:GetLogdirSubdirectories: Starting to list directories via walking.\n",
      "INFO:tensorflow:Adding run from directory C:\\Users\\rruzzo\\Documents\\GitHub\\Deep_Learning_Work\\module_0\\week_3\\logs\n",
      "INFO:tensorflow:Done with AddRunsFromDirectory: C:\\Users\\rruzzo\\Documents\\GitHub\\Deep_Learning_Work\\module_0\\week_3\\logs\n",
      "INFO:tensorflow:TensorBoard reload process: Reload the whole Multiplexer\n",
      "INFO:tensorflow:Beginning EventMultiplexer.Reload()\n",
      "INFO:tensorflow:Reloading runs serially (one after another) on the main thread.\n",
      "INFO:tensorflow:No path found after C:\\Users\\rruzzo\\Documents\\GitHub\\Deep_Learning_Work\\module_0\\week_3\\logs\\events.out.tfevents.1537936844.DESKTOP-V3AEQVL\n",
      "INFO:tensorflow:Finished with EventMultiplexer.Reload()\n",
      "INFO:tensorflow:TensorBoard done reloading. Load took 0.016 secs\n",
      "INFO:tensorflow:TensorBoard reload process beginning\n",
      "INFO:tensorflow:Starting AddRunsFromDirectory: C:\\Users\\rruzzo\\Documents\\GitHub\\Deep_Learning_Work\\module_0\\week_3\\logs\n",
      "INFO:tensorflow:GetLogdirSubdirectories: Starting to list directories via walking.\n",
      "INFO:tensorflow:Adding run from directory C:\\Users\\rruzzo\\Documents\\GitHub\\Deep_Learning_Work\\module_0\\week_3\\logs\n",
      "INFO:tensorflow:Done with AddRunsFromDirectory: C:\\Users\\rruzzo\\Documents\\GitHub\\Deep_Learning_Work\\module_0\\week_3\\logs\n",
      "INFO:tensorflow:TensorBoard reload process: Reload the whole Multiplexer\n",
      "INFO:tensorflow:Beginning EventMultiplexer.Reload()\n",
      "INFO:tensorflow:Reloading runs serially (one after another) on the main thread.\n",
      "INFO:tensorflow:No path found after C:\\Users\\rruzzo\\Documents\\GitHub\\Deep_Learning_Work\\module_0\\week_3\\logs\\events.out.tfevents.1537936844.DESKTOP-V3AEQVL\n",
      "INFO:tensorflow:Finished with EventMultiplexer.Reload()\n",
      "INFO:tensorflow:TensorBoard done reloading. Load took 0.015 secs\n",
      "INFO:tensorflow:TensorBoard reload process beginning\n",
      "INFO:tensorflow:Starting AddRunsFromDirectory: C:\\Users\\rruzzo\\Documents\\GitHub\\Deep_Learning_Work\\module_0\\week_3\\logs\n",
      "INFO:tensorflow:GetLogdirSubdirectories: Starting to list directories via walking.\n",
      "INFO:tensorflow:Adding run from directory C:\\Users\\rruzzo\\Documents\\GitHub\\Deep_Learning_Work\\module_0\\week_3\\logs\n",
      "INFO:tensorflow:Done with AddRunsFromDirectory: C:\\Users\\rruzzo\\Documents\\GitHub\\Deep_Learning_Work\\module_0\\week_3\\logs\n",
      "INFO:tensorflow:TensorBoard reload process: Reload the whole Multiplexer\n",
      "INFO:tensorflow:Beginning EventMultiplexer.Reload()\n",
      "INFO:tensorflow:Reloading runs serially (one after another) on the main thread.\n",
      "INFO:tensorflow:No path found after C:\\Users\\rruzzo\\Documents\\GitHub\\Deep_Learning_Work\\module_0\\week_3\\logs\\events.out.tfevents.1537936844.DESKTOP-V3AEQVL\n",
      "INFO:tensorflow:Finished with EventMultiplexer.Reload()\n",
      "INFO:tensorflow:TensorBoard done reloading. Load took 0.023 secs\n",
      "INFO:tensorflow:TensorBoard reload process beginning\n",
      "INFO:tensorflow:Starting AddRunsFromDirectory: C:\\Users\\rruzzo\\Documents\\GitHub\\Deep_Learning_Work\\module_0\\week_3\\logs\n",
      "INFO:tensorflow:GetLogdirSubdirectories: Starting to list directories via walking.\n",
      "INFO:tensorflow:Adding run from directory C:\\Users\\rruzzo\\Documents\\GitHub\\Deep_Learning_Work\\module_0\\week_3\\logs\n",
      "INFO:tensorflow:Done with AddRunsFromDirectory: C:\\Users\\rruzzo\\Documents\\GitHub\\Deep_Learning_Work\\module_0\\week_3\\logs\n",
      "INFO:tensorflow:TensorBoard reload process: Reload the whole Multiplexer\n",
      "INFO:tensorflow:Beginning EventMultiplexer.Reload()\n",
      "INFO:tensorflow:Reloading runs serially (one after another) on the main thread.\n",
      "INFO:tensorflow:No path found after C:\\Users\\rruzzo\\Documents\\GitHub\\Deep_Learning_Work\\module_0\\week_3\\logs\\events.out.tfevents.1537936844.DESKTOP-V3AEQVL\n",
      "INFO:tensorflow:Finished with EventMultiplexer.Reload()\n",
      "INFO:tensorflow:TensorBoard done reloading. Load took 0.017 secs\n",
      "INFO:tensorflow:TensorBoard reload process beginning\n",
      "INFO:tensorflow:Starting AddRunsFromDirectory: C:\\Users\\rruzzo\\Documents\\GitHub\\Deep_Learning_Work\\module_0\\week_3\\logs\n",
      "INFO:tensorflow:GetLogdirSubdirectories: Starting to list directories via walking.\n",
      "INFO:tensorflow:Adding run from directory C:\\Users\\rruzzo\\Documents\\GitHub\\Deep_Learning_Work\\module_0\\week_3\\logs\n",
      "INFO:tensorflow:Done with AddRunsFromDirectory: C:\\Users\\rruzzo\\Documents\\GitHub\\Deep_Learning_Work\\module_0\\week_3\\logs\n",
      "INFO:tensorflow:TensorBoard reload process: Reload the whole Multiplexer\n",
      "INFO:tensorflow:Beginning EventMultiplexer.Reload()\n",
      "INFO:tensorflow:Reloading runs serially (one after another) on the main thread.\n",
      "INFO:tensorflow:No path found after C:\\Users\\rruzzo\\Documents\\GitHub\\Deep_Learning_Work\\module_0\\week_3\\logs\\events.out.tfevents.1537936844.DESKTOP-V3AEQVL\n",
      "INFO:tensorflow:Finished with EventMultiplexer.Reload()\n",
      "INFO:tensorflow:TensorBoard done reloading. Load took 0.015 secs\n",
      "INFO:tensorflow:TensorBoard reload process beginning\n",
      "INFO:tensorflow:Starting AddRunsFromDirectory: C:\\Users\\rruzzo\\Documents\\GitHub\\Deep_Learning_Work\\module_0\\week_3\\logs\n",
      "INFO:tensorflow:GetLogdirSubdirectories: Starting to list directories via walking.\n",
      "INFO:tensorflow:Adding run from directory C:\\Users\\rruzzo\\Documents\\GitHub\\Deep_Learning_Work\\module_0\\week_3\\logs\n",
      "INFO:tensorflow:Done with AddRunsFromDirectory: C:\\Users\\rruzzo\\Documents\\GitHub\\Deep_Learning_Work\\module_0\\week_3\\logs\n",
      "INFO:tensorflow:TensorBoard reload process: Reload the whole Multiplexer\n",
      "INFO:tensorflow:Beginning EventMultiplexer.Reload()\n",
      "INFO:tensorflow:Reloading runs serially (one after another) on the main thread.\n",
      "INFO:tensorflow:No path found after C:\\Users\\rruzzo\\Documents\\GitHub\\Deep_Learning_Work\\module_0\\week_3\\logs\\events.out.tfevents.1537936844.DESKTOP-V3AEQVL\n",
      "INFO:tensorflow:Finished with EventMultiplexer.Reload()\n",
      "INFO:tensorflow:TensorBoard done reloading. Load took 0.016 secs\n"
     ]
    },
    {
     "name": "stderr",
     "output_type": "stream",
     "text": [
      "172.20.40.81 - - [26/Sep/2018 00:45:04] \"\u001b[37mGET /data/environment HTTP/1.1\u001b[0m\" 200 -\n"
     ]
    },
    {
     "name": "stdout",
     "output_type": "stream",
     "text": [
      "INFO:tensorflow:Plugin listing: is_active() for core took 0.000 seconds\n",
      "INFO:tensorflow:Plugin listing: is_active() for beholder took 0.001 seconds\n"
     ]
    },
    {
     "name": "stderr",
     "output_type": "stream",
     "text": [
      "172.20.40.81 - - [26/Sep/2018 00:45:04] \"\u001b[37mGET /data/runs HTTP/1.1\u001b[0m\" 200 -\n"
     ]
    },
    {
     "name": "stdout",
     "output_type": "stream",
     "text": [
      "INFO:tensorflow:Plugin listing: is_active() for scalars took 0.000 seconds\n"
     ]
    },
    {
     "name": "stderr",
     "output_type": "stream",
     "text": [
      "172.20.40.81 - - [26/Sep/2018 00:45:04] \"\u001b[37mGET /data/experiments HTTP/1.1\u001b[0m\" 200 -\n"
     ]
    },
    {
     "name": "stdout",
     "output_type": "stream",
     "text": [
      "INFO:tensorflow:Plugin listing: is_active() for custom_scalars took 0.000 seconds\n",
      "INFO:tensorflow:Plugin listing: is_active() for images took 0.000 seconds\n",
      "INFO:tensorflow:Plugin listing: is_active() for audio took 0.000 seconds\n",
      "INFO:tensorflow:Plugin listing: is_active() for graphs took 0.000 seconds\n",
      "INFO:tensorflow:Plugin listing: is_active() for distributions took 0.008 seconds\n",
      "INFO:tensorflow:Plugin listing: is_active() for histograms took 0.007 seconds\n",
      "INFO:tensorflow:Plugin listing: is_active() for pr_curves took 0.000 seconds\n",
      "INFO:tensorflow:Plugin listing: is_active() for projector took 0.000 seconds\n",
      "INFO:tensorflow:TextPlugin computing index_impl() in a new thread\n",
      "INFO:tensorflow:Plugin listing: is_active() for text took 0.003 seconds\n",
      "INFO:tensorflow:TextPlugin index_impl() thread ending after 0.003 sec\n",
      "INFO:tensorflow:Plugin listing: is_active() for profile took 0.001 seconds\n"
     ]
    },
    {
     "name": "stderr",
     "output_type": "stream",
     "text": [
      "172.20.40.81 - - [26/Sep/2018 00:45:04] \"\u001b[37mGET /data/plugins_listing HTTP/1.1\u001b[0m\" 200 -\n",
      "172.20.40.81 - - [26/Sep/2018 00:45:04] \"\u001b[37mGET /data/plugin/scalars/tags HTTP/1.1\u001b[0m\" 200 -\n",
      "172.20.40.81 - - [26/Sep/2018 00:45:04] \"\u001b[37mGET /data/plugin/scalars/scalars?run=.&tag=acc HTTP/1.1\u001b[0m\" 200 -\n",
      "172.20.40.81 - - [26/Sep/2018 00:45:04] \"\u001b[37mGET /data/plugin/scalars/scalars?run=.&tag=val_loss HTTP/1.1\u001b[0m\" 200 -\n",
      "172.20.40.81 - - [26/Sep/2018 00:45:04] \"\u001b[37mGET /data/plugin/scalars/scalars?run=.&tag=loss HTTP/1.1\u001b[0m\" 200 -\n"
     ]
    },
    {
     "name": "stdout",
     "output_type": "stream",
     "text": [
      "INFO:tensorflow:TensorBoard reload process beginning\n",
      "INFO:tensorflow:Starting AddRunsFromDirectory: C:\\Users\\rruzzo\\Documents\\GitHub\\Deep_Learning_Work\\module_0\\week_3\\logs\n",
      "INFO:tensorflow:GetLogdirSubdirectories: Starting to list directories via walking.\n",
      "INFO:tensorflow:Adding run from directory C:\\Users\\rruzzo\\Documents\\GitHub\\Deep_Learning_Work\\module_0\\week_3\\logs\n",
      "INFO:tensorflow:Done with AddRunsFromDirectory: C:\\Users\\rruzzo\\Documents\\GitHub\\Deep_Learning_Work\\module_0\\week_3\\logs\n",
      "INFO:tensorflow:TensorBoard reload process: Reload the whole Multiplexer\n",
      "INFO:tensorflow:Beginning EventMultiplexer.Reload()\n",
      "INFO:tensorflow:Reloading runs serially (one after another) on the main thread.\n",
      "INFO:tensorflow:No path found after C:\\Users\\rruzzo\\Documents\\GitHub\\Deep_Learning_Work\\module_0\\week_3\\logs\\events.out.tfevents.1537936844.DESKTOP-V3AEQVL\n",
      "INFO:tensorflow:Finished with EventMultiplexer.Reload()\n",
      "INFO:tensorflow:TensorBoard done reloading. Load took 0.016 secs\n",
      "INFO:tensorflow:TensorBoard reload process beginning\n",
      "INFO:tensorflow:Starting AddRunsFromDirectory: C:\\Users\\rruzzo\\Documents\\GitHub\\Deep_Learning_Work\\module_0\\week_3\\logs\n",
      "INFO:tensorflow:GetLogdirSubdirectories: Starting to list directories via walking.\n",
      "INFO:tensorflow:Adding run from directory C:\\Users\\rruzzo\\Documents\\GitHub\\Deep_Learning_Work\\module_0\\week_3\\logs\n",
      "INFO:tensorflow:Done with AddRunsFromDirectory: C:\\Users\\rruzzo\\Documents\\GitHub\\Deep_Learning_Work\\module_0\\week_3\\logs\n",
      "INFO:tensorflow:TensorBoard reload process: Reload the whole Multiplexer\n",
      "INFO:tensorflow:Beginning EventMultiplexer.Reload()\n",
      "INFO:tensorflow:Reloading runs serially (one after another) on the main thread.\n",
      "INFO:tensorflow:No path found after C:\\Users\\rruzzo\\Documents\\GitHub\\Deep_Learning_Work\\module_0\\week_3\\logs\\events.out.tfevents.1537936844.DESKTOP-V3AEQVL\n",
      "INFO:tensorflow:Finished with EventMultiplexer.Reload()\n",
      "INFO:tensorflow:TensorBoard done reloading. Load took 0.037 secs\n",
      "INFO:tensorflow:TensorBoard reload process beginning\n",
      "INFO:tensorflow:Starting AddRunsFromDirectory: C:\\Users\\rruzzo\\Documents\\GitHub\\Deep_Learning_Work\\module_0\\week_3\\logs\n",
      "INFO:tensorflow:GetLogdirSubdirectories: Starting to list directories via walking.\n",
      "INFO:tensorflow:Adding run from directory C:\\Users\\rruzzo\\Documents\\GitHub\\Deep_Learning_Work\\module_0\\week_3\\logs\n",
      "INFO:tensorflow:Done with AddRunsFromDirectory: C:\\Users\\rruzzo\\Documents\\GitHub\\Deep_Learning_Work\\module_0\\week_3\\logs\n",
      "INFO:tensorflow:TensorBoard reload process: Reload the whole Multiplexer\n",
      "INFO:tensorflow:Beginning EventMultiplexer.Reload()\n",
      "INFO:tensorflow:Reloading runs serially (one after another) on the main thread.\n",
      "INFO:tensorflow:No path found after C:\\Users\\rruzzo\\Documents\\GitHub\\Deep_Learning_Work\\module_0\\week_3\\logs\\events.out.tfevents.1537936844.DESKTOP-V3AEQVL\n",
      "INFO:tensorflow:Finished with EventMultiplexer.Reload()\n",
      "INFO:tensorflow:TensorBoard done reloading. Load took 0.021 secs\n",
      "INFO:tensorflow:TensorBoard reload process beginning\n",
      "INFO:tensorflow:Starting AddRunsFromDirectory: C:\\Users\\rruzzo\\Documents\\GitHub\\Deep_Learning_Work\\module_0\\week_3\\logs\n",
      "INFO:tensorflow:GetLogdirSubdirectories: Starting to list directories via walking.\n",
      "INFO:tensorflow:Adding run from directory C:\\Users\\rruzzo\\Documents\\GitHub\\Deep_Learning_Work\\module_0\\week_3\\logs\n",
      "INFO:tensorflow:Done with AddRunsFromDirectory: C:\\Users\\rruzzo\\Documents\\GitHub\\Deep_Learning_Work\\module_0\\week_3\\logs\n",
      "INFO:tensorflow:TensorBoard reload process: Reload the whole Multiplexer\n",
      "INFO:tensorflow:Beginning EventMultiplexer.Reload()\n",
      "INFO:tensorflow:Reloading runs serially (one after another) on the main thread.\n",
      "INFO:tensorflow:No path found after C:\\Users\\rruzzo\\Documents\\GitHub\\Deep_Learning_Work\\module_0\\week_3\\logs\\events.out.tfevents.1537936844.DESKTOP-V3AEQVL\n",
      "INFO:tensorflow:Finished with EventMultiplexer.Reload()\n",
      "INFO:tensorflow:TensorBoard done reloading. Load took 0.044 secs\n",
      "INFO:tensorflow:TensorBoard reload process beginning\n",
      "INFO:tensorflow:Starting AddRunsFromDirectory: C:\\Users\\rruzzo\\Documents\\GitHub\\Deep_Learning_Work\\module_0\\week_3\\logs\n",
      "INFO:tensorflow:GetLogdirSubdirectories: Starting to list directories via walking.\n",
      "INFO:tensorflow:Adding run from directory C:\\Users\\rruzzo\\Documents\\GitHub\\Deep_Learning_Work\\module_0\\week_3\\logs\n",
      "INFO:tensorflow:Done with AddRunsFromDirectory: C:\\Users\\rruzzo\\Documents\\GitHub\\Deep_Learning_Work\\module_0\\week_3\\logs\n",
      "INFO:tensorflow:TensorBoard reload process: Reload the whole Multiplexer\n",
      "INFO:tensorflow:Beginning EventMultiplexer.Reload()\n",
      "INFO:tensorflow:Reloading runs serially (one after another) on the main thread.\n",
      "INFO:tensorflow:No path found after C:\\Users\\rruzzo\\Documents\\GitHub\\Deep_Learning_Work\\module_0\\week_3\\logs\\events.out.tfevents.1537936844.DESKTOP-V3AEQVL\n",
      "INFO:tensorflow:Finished with EventMultiplexer.Reload()\n",
      "INFO:tensorflow:TensorBoard done reloading. Load took 0.043 secs\n",
      "INFO:tensorflow:TensorBoard reload process beginning\n",
      "INFO:tensorflow:Starting AddRunsFromDirectory: C:\\Users\\rruzzo\\Documents\\GitHub\\Deep_Learning_Work\\module_0\\week_3\\logs\n",
      "INFO:tensorflow:GetLogdirSubdirectories: Starting to list directories via walking.\n",
      "INFO:tensorflow:Adding run from directory C:\\Users\\rruzzo\\Documents\\GitHub\\Deep_Learning_Work\\module_0\\week_3\\logs\n",
      "INFO:tensorflow:Done with AddRunsFromDirectory: C:\\Users\\rruzzo\\Documents\\GitHub\\Deep_Learning_Work\\module_0\\week_3\\logs\n",
      "INFO:tensorflow:TensorBoard reload process: Reload the whole Multiplexer\n",
      "INFO:tensorflow:Beginning EventMultiplexer.Reload()\n",
      "INFO:tensorflow:Reloading runs serially (one after another) on the main thread.\n",
      "INFO:tensorflow:No path found after C:\\Users\\rruzzo\\Documents\\GitHub\\Deep_Learning_Work\\module_0\\week_3\\logs\\events.out.tfevents.1537936844.DESKTOP-V3AEQVL\n",
      "INFO:tensorflow:Finished with EventMultiplexer.Reload()\n",
      "INFO:tensorflow:TensorBoard done reloading. Load took 0.017 secs\n"
     ]
    },
    {
     "name": "stderr",
     "output_type": "stream",
     "text": [
      "172.20.40.81 - - [26/Sep/2018 00:45:34] \"\u001b[37mGET /data/environment HTTP/1.1\u001b[0m\" 200 -\n"
     ]
    },
    {
     "name": "stdout",
     "output_type": "stream",
     "text": [
      "INFO:tensorflow:Plugin listing: is_active() for core took 0.000 seconds\n"
     ]
    },
    {
     "name": "stderr",
     "output_type": "stream",
     "text": [
      "172.20.40.81 - - [26/Sep/2018 00:45:34] \"\u001b[37mGET /data/runs HTTP/1.1\u001b[0m\" 200 -\n"
     ]
    },
    {
     "name": "stdout",
     "output_type": "stream",
     "text": [
      "INFO:tensorflow:Plugin listing: is_active() for beholder took 0.002 seconds\n",
      "INFO:tensorflow:Plugin listing: is_active() for scalars took 0.000 seconds\n"
     ]
    },
    {
     "name": "stderr",
     "output_type": "stream",
     "text": [
      "172.20.40.81 - - [26/Sep/2018 00:45:34] \"\u001b[37mGET /data/experiments HTTP/1.1\u001b[0m\" 200 -\n"
     ]
    },
    {
     "name": "stdout",
     "output_type": "stream",
     "text": [
      "INFO:tensorflow:Plugin listing: is_active() for custom_scalars took 0.000 seconds\n",
      "INFO:tensorflow:Plugin listing: is_active() for images took 0.000 seconds\n",
      "INFO:tensorflow:Plugin listing: is_active() for audio took 0.000 seconds\n",
      "INFO:tensorflow:Plugin listing: is_active() for graphs took 0.000 seconds\n",
      "INFO:tensorflow:Plugin listing: is_active() for distributions took 0.009 seconds\n",
      "INFO:tensorflow:Plugin listing: is_active() for histograms took 0.006 seconds\n",
      "INFO:tensorflow:Plugin listing: is_active() for pr_curves took 0.000 seconds\n",
      "INFO:tensorflow:Plugin listing: is_active() for projector took 0.001 seconds\n",
      "INFO:tensorflow:TextPlugin computing index_impl() in a new thread\n",
      "INFO:tensorflow:Plugin listing: is_active() for text took 0.003 seconds\n",
      "INFO:tensorflow:TextPlugin index_impl() thread ending after 0.003 sec\n",
      "INFO:tensorflow:Plugin listing: is_active() for profile took 0.000 seconds\n"
     ]
    },
    {
     "name": "stderr",
     "output_type": "stream",
     "text": [
      "172.20.40.81 - - [26/Sep/2018 00:45:34] \"\u001b[37mGET /data/plugins_listing HTTP/1.1\u001b[0m\" 200 -\n",
      "172.20.40.81 - - [26/Sep/2018 00:45:34] \"\u001b[37mGET /data/plugin/scalars/tags HTTP/1.1\u001b[0m\" 200 -\n",
      "172.20.40.81 - - [26/Sep/2018 00:45:34] \"\u001b[37mGET /data/plugin/scalars/scalars?run=.&tag=acc HTTP/1.1\u001b[0m\" 200 -\n",
      "172.20.40.81 - - [26/Sep/2018 00:45:34] \"\u001b[37mGET /data/plugin/scalars/scalars?run=.&tag=loss HTTP/1.1\u001b[0m\" 200 -\n",
      "172.20.40.81 - - [26/Sep/2018 00:45:34] \"\u001b[37mGET /data/plugin/scalars/scalars?run=.&tag=val_loss HTTP/1.1\u001b[0m\" 200 -\n"
     ]
    },
    {
     "name": "stdout",
     "output_type": "stream",
     "text": [
      "INFO:tensorflow:TensorBoard reload process beginning\n",
      "INFO:tensorflow:Starting AddRunsFromDirectory: C:\\Users\\rruzzo\\Documents\\GitHub\\Deep_Learning_Work\\module_0\\week_3\\logs\n",
      "INFO:tensorflow:GetLogdirSubdirectories: Starting to list directories via walking.\n",
      "INFO:tensorflow:Adding run from directory C:\\Users\\rruzzo\\Documents\\GitHub\\Deep_Learning_Work\\module_0\\week_3\\logs\n",
      "INFO:tensorflow:Done with AddRunsFromDirectory: C:\\Users\\rruzzo\\Documents\\GitHub\\Deep_Learning_Work\\module_0\\week_3\\logs\n",
      "INFO:tensorflow:TensorBoard reload process: Reload the whole Multiplexer\n",
      "INFO:tensorflow:Beginning EventMultiplexer.Reload()\n",
      "INFO:tensorflow:Reloading runs serially (one after another) on the main thread.\n",
      "INFO:tensorflow:No path found after C:\\Users\\rruzzo\\Documents\\GitHub\\Deep_Learning_Work\\module_0\\week_3\\logs\\events.out.tfevents.1537936844.DESKTOP-V3AEQVL\n",
      "INFO:tensorflow:Finished with EventMultiplexer.Reload()\n",
      "INFO:tensorflow:TensorBoard done reloading. Load took 0.024 secs\n",
      "INFO:tensorflow:TensorBoard reload process beginning\n",
      "INFO:tensorflow:Starting AddRunsFromDirectory: C:\\Users\\rruzzo\\Documents\\GitHub\\Deep_Learning_Work\\module_0\\week_3\\logs\n",
      "INFO:tensorflow:GetLogdirSubdirectories: Starting to list directories via walking.\n",
      "INFO:tensorflow:Adding run from directory C:\\Users\\rruzzo\\Documents\\GitHub\\Deep_Learning_Work\\module_0\\week_3\\logs\n",
      "INFO:tensorflow:Done with AddRunsFromDirectory: C:\\Users\\rruzzo\\Documents\\GitHub\\Deep_Learning_Work\\module_0\\week_3\\logs\n",
      "INFO:tensorflow:TensorBoard reload process: Reload the whole Multiplexer\n",
      "INFO:tensorflow:Beginning EventMultiplexer.Reload()\n",
      "INFO:tensorflow:Reloading runs serially (one after another) on the main thread.\n",
      "INFO:tensorflow:No path found after C:\\Users\\rruzzo\\Documents\\GitHub\\Deep_Learning_Work\\module_0\\week_3\\logs\\events.out.tfevents.1537936844.DESKTOP-V3AEQVL\n",
      "INFO:tensorflow:Finished with EventMultiplexer.Reload()\n",
      "INFO:tensorflow:TensorBoard done reloading. Load took 0.025 secs\n",
      "INFO:tensorflow:TensorBoard reload process beginning\n",
      "INFO:tensorflow:Starting AddRunsFromDirectory: C:\\Users\\rruzzo\\Documents\\GitHub\\Deep_Learning_Work\\module_0\\week_3\\logs\n",
      "INFO:tensorflow:GetLogdirSubdirectories: Starting to list directories via walking.\n",
      "INFO:tensorflow:Adding run from directory C:\\Users\\rruzzo\\Documents\\GitHub\\Deep_Learning_Work\\module_0\\week_3\\logs\n",
      "INFO:tensorflow:Done with AddRunsFromDirectory: C:\\Users\\rruzzo\\Documents\\GitHub\\Deep_Learning_Work\\module_0\\week_3\\logs\n",
      "INFO:tensorflow:TensorBoard reload process: Reload the whole Multiplexer\n",
      "INFO:tensorflow:Beginning EventMultiplexer.Reload()\n",
      "INFO:tensorflow:Reloading runs serially (one after another) on the main thread.\n",
      "INFO:tensorflow:No path found after C:\\Users\\rruzzo\\Documents\\GitHub\\Deep_Learning_Work\\module_0\\week_3\\logs\\events.out.tfevents.1537936844.DESKTOP-V3AEQVL\n",
      "INFO:tensorflow:Finished with EventMultiplexer.Reload()\n",
      "INFO:tensorflow:TensorBoard done reloading. Load took 0.016 secs\n",
      "INFO:tensorflow:TensorBoard reload process beginning\n",
      "INFO:tensorflow:Starting AddRunsFromDirectory: C:\\Users\\rruzzo\\Documents\\GitHub\\Deep_Learning_Work\\module_0\\week_3\\logs\n",
      "INFO:tensorflow:GetLogdirSubdirectories: Starting to list directories via walking.\n",
      "INFO:tensorflow:Adding run from directory C:\\Users\\rruzzo\\Documents\\GitHub\\Deep_Learning_Work\\module_0\\week_3\\logs\n",
      "INFO:tensorflow:Done with AddRunsFromDirectory: C:\\Users\\rruzzo\\Documents\\GitHub\\Deep_Learning_Work\\module_0\\week_3\\logs\n",
      "INFO:tensorflow:TensorBoard reload process: Reload the whole Multiplexer\n",
      "INFO:tensorflow:Beginning EventMultiplexer.Reload()\n",
      "INFO:tensorflow:Reloading runs serially (one after another) on the main thread.\n",
      "INFO:tensorflow:No path found after C:\\Users\\rruzzo\\Documents\\GitHub\\Deep_Learning_Work\\module_0\\week_3\\logs\\events.out.tfevents.1537936844.DESKTOP-V3AEQVL\n",
      "INFO:tensorflow:Finished with EventMultiplexer.Reload()\n",
      "INFO:tensorflow:TensorBoard done reloading. Load took 0.017 secs\n",
      "INFO:tensorflow:TensorBoard reload process beginning\n",
      "INFO:tensorflow:Starting AddRunsFromDirectory: C:\\Users\\rruzzo\\Documents\\GitHub\\Deep_Learning_Work\\module_0\\week_3\\logs\n",
      "INFO:tensorflow:GetLogdirSubdirectories: Starting to list directories via walking.\n",
      "INFO:tensorflow:Adding run from directory C:\\Users\\rruzzo\\Documents\\GitHub\\Deep_Learning_Work\\module_0\\week_3\\logs\n",
      "INFO:tensorflow:Done with AddRunsFromDirectory: C:\\Users\\rruzzo\\Documents\\GitHub\\Deep_Learning_Work\\module_0\\week_3\\logs\n",
      "INFO:tensorflow:TensorBoard reload process: Reload the whole Multiplexer\n",
      "INFO:tensorflow:Beginning EventMultiplexer.Reload()\n",
      "INFO:tensorflow:Reloading runs serially (one after another) on the main thread.\n",
      "INFO:tensorflow:No path found after C:\\Users\\rruzzo\\Documents\\GitHub\\Deep_Learning_Work\\module_0\\week_3\\logs\\events.out.tfevents.1537936844.DESKTOP-V3AEQVL\n",
      "INFO:tensorflow:Finished with EventMultiplexer.Reload()\n",
      "INFO:tensorflow:TensorBoard done reloading. Load took 0.028 secs\n",
      "INFO:tensorflow:TensorBoard reload process beginning\n",
      "INFO:tensorflow:Starting AddRunsFromDirectory: C:\\Users\\rruzzo\\Documents\\GitHub\\Deep_Learning_Work\\module_0\\week_3\\logs\n",
      "INFO:tensorflow:GetLogdirSubdirectories: Starting to list directories via walking.\n",
      "INFO:tensorflow:Adding run from directory C:\\Users\\rruzzo\\Documents\\GitHub\\Deep_Learning_Work\\module_0\\week_3\\logs\n",
      "INFO:tensorflow:Done with AddRunsFromDirectory: C:\\Users\\rruzzo\\Documents\\GitHub\\Deep_Learning_Work\\module_0\\week_3\\logs\n",
      "INFO:tensorflow:TensorBoard reload process: Reload the whole Multiplexer\n",
      "INFO:tensorflow:Beginning EventMultiplexer.Reload()\n",
      "INFO:tensorflow:Reloading runs serially (one after another) on the main thread.\n",
      "INFO:tensorflow:No path found after C:\\Users\\rruzzo\\Documents\\GitHub\\Deep_Learning_Work\\module_0\\week_3\\logs\\events.out.tfevents.1537936844.DESKTOP-V3AEQVL\n",
      "INFO:tensorflow:Finished with EventMultiplexer.Reload()\n",
      "INFO:tensorflow:TensorBoard done reloading. Load took 0.016 secs\n"
     ]
    },
    {
     "name": "stderr",
     "output_type": "stream",
     "text": [
      "172.20.40.81 - - [26/Sep/2018 00:46:04] \"\u001b[37mGET /data/environment HTTP/1.1\u001b[0m\" 200 -\n"
     ]
    },
    {
     "name": "stdout",
     "output_type": "stream",
     "text": [
      "INFO:tensorflow:Plugin listing: is_active() for core took 0.000 seconds\n",
      "INFO:tensorflow:Plugin listing: is_active() for beholder took 0.000 seconds\n"
     ]
    },
    {
     "name": "stderr",
     "output_type": "stream",
     "text": [
      "172.20.40.81 - - [26/Sep/2018 00:46:04] \"\u001b[37mGET /data/runs HTTP/1.1\u001b[0m\" 200 -\n"
     ]
    },
    {
     "name": "stdout",
     "output_type": "stream",
     "text": [
      "INFO:tensorflow:Plugin listing: is_active() for scalars took 0.000 seconds\n"
     ]
    },
    {
     "name": "stderr",
     "output_type": "stream",
     "text": [
      "172.20.40.81 - - [26/Sep/2018 00:46:04] \"\u001b[37mGET /data/experiments HTTP/1.1\u001b[0m\" 200 -\n"
     ]
    },
    {
     "name": "stdout",
     "output_type": "stream",
     "text": [
      "INFO:tensorflow:Plugin listing: is_active() for custom_scalars took 0.000 seconds\n",
      "INFO:tensorflow:Plugin listing: is_active() for images took 0.000 seconds\n",
      "INFO:tensorflow:Plugin listing: is_active() for audio took 0.000 seconds\n",
      "INFO:tensorflow:Plugin listing: is_active() for graphs took 0.000 seconds\n",
      "INFO:tensorflow:Plugin listing: is_active() for distributions took 0.007 seconds\n",
      "INFO:tensorflow:Plugin listing: is_active() for histograms took 0.007 seconds\n",
      "INFO:tensorflow:Plugin listing: is_active() for pr_curves took 0.000 seconds\n",
      "INFO:tensorflow:Plugin listing: is_active() for projector took 0.001 seconds\n",
      "INFO:tensorflow:TextPlugin computing index_impl() in a new thread\n",
      "INFO:tensorflow:Plugin listing: is_active() for text took 0.003 seconds\n",
      "INFO:tensorflow:TextPlugin index_impl() thread ending after 0.004 sec\n",
      "INFO:tensorflow:Plugin listing: is_active() for profile took 0.001 seconds\n"
     ]
    },
    {
     "name": "stderr",
     "output_type": "stream",
     "text": [
      "172.20.40.81 - - [26/Sep/2018 00:46:04] \"\u001b[37mGET /data/plugins_listing HTTP/1.1\u001b[0m\" 200 -\n",
      "172.20.40.81 - - [26/Sep/2018 00:46:04] \"\u001b[37mGET /data/plugin/scalars/tags HTTP/1.1\u001b[0m\" 200 -\n",
      "172.20.40.81 - - [26/Sep/2018 00:46:04] \"\u001b[37mGET /data/plugin/scalars/scalars?run=.&tag=acc HTTP/1.1\u001b[0m\" 200 -\n",
      "172.20.40.81 - - [26/Sep/2018 00:46:04] \"\u001b[37mGET /data/plugin/scalars/scalars?run=.&tag=loss HTTP/1.1\u001b[0m\" 200 -\n",
      "172.20.40.81 - - [26/Sep/2018 00:46:04] \"\u001b[37mGET /data/plugin/scalars/scalars?run=.&tag=val_loss HTTP/1.1\u001b[0m\" 200 -\n"
     ]
    },
    {
     "name": "stdout",
     "output_type": "stream",
     "text": [
      "INFO:tensorflow:TensorBoard reload process beginning\n",
      "INFO:tensorflow:Starting AddRunsFromDirectory: C:\\Users\\rruzzo\\Documents\\GitHub\\Deep_Learning_Work\\module_0\\week_3\\logs\n",
      "INFO:tensorflow:GetLogdirSubdirectories: Starting to list directories via walking.\n",
      "INFO:tensorflow:Adding run from directory C:\\Users\\rruzzo\\Documents\\GitHub\\Deep_Learning_Work\\module_0\\week_3\\logs\n",
      "INFO:tensorflow:Done with AddRunsFromDirectory: C:\\Users\\rruzzo\\Documents\\GitHub\\Deep_Learning_Work\\module_0\\week_3\\logs\n",
      "INFO:tensorflow:TensorBoard reload process: Reload the whole Multiplexer\n",
      "INFO:tensorflow:Beginning EventMultiplexer.Reload()\n",
      "INFO:tensorflow:Reloading runs serially (one after another) on the main thread.\n",
      "INFO:tensorflow:No path found after C:\\Users\\rruzzo\\Documents\\GitHub\\Deep_Learning_Work\\module_0\\week_3\\logs\\events.out.tfevents.1537936844.DESKTOP-V3AEQVL\n",
      "INFO:tensorflow:Finished with EventMultiplexer.Reload()\n",
      "INFO:tensorflow:TensorBoard done reloading. Load took 0.027 secs\n",
      "INFO:tensorflow:TensorBoard reload process beginning\n",
      "INFO:tensorflow:Starting AddRunsFromDirectory: C:\\Users\\rruzzo\\Documents\\GitHub\\Deep_Learning_Work\\module_0\\week_3\\logs\n",
      "INFO:tensorflow:GetLogdirSubdirectories: Starting to list directories via walking.\n",
      "INFO:tensorflow:Adding run from directory C:\\Users\\rruzzo\\Documents\\GitHub\\Deep_Learning_Work\\module_0\\week_3\\logs\n",
      "INFO:tensorflow:Done with AddRunsFromDirectory: C:\\Users\\rruzzo\\Documents\\GitHub\\Deep_Learning_Work\\module_0\\week_3\\logs\n",
      "INFO:tensorflow:TensorBoard reload process: Reload the whole Multiplexer\n",
      "INFO:tensorflow:Beginning EventMultiplexer.Reload()\n",
      "INFO:tensorflow:Reloading runs serially (one after another) on the main thread.\n",
      "INFO:tensorflow:No path found after C:\\Users\\rruzzo\\Documents\\GitHub\\Deep_Learning_Work\\module_0\\week_3\\logs\\events.out.tfevents.1537936844.DESKTOP-V3AEQVL\n",
      "INFO:tensorflow:Finished with EventMultiplexer.Reload()\n",
      "INFO:tensorflow:TensorBoard done reloading. Load took 0.030 secs\n",
      "INFO:tensorflow:TensorBoard reload process beginning\n",
      "INFO:tensorflow:Starting AddRunsFromDirectory: C:\\Users\\rruzzo\\Documents\\GitHub\\Deep_Learning_Work\\module_0\\week_3\\logs\n",
      "INFO:tensorflow:GetLogdirSubdirectories: Starting to list directories via walking.\n",
      "INFO:tensorflow:Adding run from directory C:\\Users\\rruzzo\\Documents\\GitHub\\Deep_Learning_Work\\module_0\\week_3\\logs\n",
      "INFO:tensorflow:Done with AddRunsFromDirectory: C:\\Users\\rruzzo\\Documents\\GitHub\\Deep_Learning_Work\\module_0\\week_3\\logs\n",
      "INFO:tensorflow:TensorBoard reload process: Reload the whole Multiplexer\n",
      "INFO:tensorflow:Beginning EventMultiplexer.Reload()\n",
      "INFO:tensorflow:Reloading runs serially (one after another) on the main thread.\n",
      "INFO:tensorflow:No path found after C:\\Users\\rruzzo\\Documents\\GitHub\\Deep_Learning_Work\\module_0\\week_3\\logs\\events.out.tfevents.1537936844.DESKTOP-V3AEQVL\n",
      "INFO:tensorflow:Finished with EventMultiplexer.Reload()\n",
      "INFO:tensorflow:TensorBoard done reloading. Load took 0.015 secs\n",
      "INFO:tensorflow:TensorBoard reload process beginning\n",
      "INFO:tensorflow:Starting AddRunsFromDirectory: C:\\Users\\rruzzo\\Documents\\GitHub\\Deep_Learning_Work\\module_0\\week_3\\logs\n",
      "INFO:tensorflow:GetLogdirSubdirectories: Starting to list directories via walking.\n",
      "INFO:tensorflow:Adding run from directory C:\\Users\\rruzzo\\Documents\\GitHub\\Deep_Learning_Work\\module_0\\week_3\\logs\n",
      "INFO:tensorflow:Done with AddRunsFromDirectory: C:\\Users\\rruzzo\\Documents\\GitHub\\Deep_Learning_Work\\module_0\\week_3\\logs\n",
      "INFO:tensorflow:TensorBoard reload process: Reload the whole Multiplexer\n",
      "INFO:tensorflow:Beginning EventMultiplexer.Reload()\n",
      "INFO:tensorflow:Reloading runs serially (one after another) on the main thread.\n",
      "INFO:tensorflow:No path found after C:\\Users\\rruzzo\\Documents\\GitHub\\Deep_Learning_Work\\module_0\\week_3\\logs\\events.out.tfevents.1537936844.DESKTOP-V3AEQVL\n",
      "INFO:tensorflow:Finished with EventMultiplexer.Reload()\n",
      "INFO:tensorflow:TensorBoard done reloading. Load took 0.015 secs\n",
      "INFO:tensorflow:TensorBoard reload process beginning\n",
      "INFO:tensorflow:Starting AddRunsFromDirectory: C:\\Users\\rruzzo\\Documents\\GitHub\\Deep_Learning_Work\\module_0\\week_3\\logs\n",
      "INFO:tensorflow:GetLogdirSubdirectories: Starting to list directories via walking.\n",
      "INFO:tensorflow:Adding run from directory C:\\Users\\rruzzo\\Documents\\GitHub\\Deep_Learning_Work\\module_0\\week_3\\logs\n",
      "INFO:tensorflow:Done with AddRunsFromDirectory: C:\\Users\\rruzzo\\Documents\\GitHub\\Deep_Learning_Work\\module_0\\week_3\\logs\n",
      "INFO:tensorflow:TensorBoard reload process: Reload the whole Multiplexer\n",
      "INFO:tensorflow:Beginning EventMultiplexer.Reload()\n",
      "INFO:tensorflow:Reloading runs serially (one after another) on the main thread.\n",
      "INFO:tensorflow:No path found after C:\\Users\\rruzzo\\Documents\\GitHub\\Deep_Learning_Work\\module_0\\week_3\\logs\\events.out.tfevents.1537936844.DESKTOP-V3AEQVL\n",
      "INFO:tensorflow:Finished with EventMultiplexer.Reload()\n",
      "INFO:tensorflow:TensorBoard done reloading. Load took 0.016 secs\n",
      "INFO:tensorflow:TensorBoard reload process beginning\n",
      "INFO:tensorflow:Starting AddRunsFromDirectory: C:\\Users\\rruzzo\\Documents\\GitHub\\Deep_Learning_Work\\module_0\\week_3\\logs\n",
      "INFO:tensorflow:GetLogdirSubdirectories: Starting to list directories via walking.\n",
      "INFO:tensorflow:Adding run from directory C:\\Users\\rruzzo\\Documents\\GitHub\\Deep_Learning_Work\\module_0\\week_3\\logs\n",
      "INFO:tensorflow:Done with AddRunsFromDirectory: C:\\Users\\rruzzo\\Documents\\GitHub\\Deep_Learning_Work\\module_0\\week_3\\logs\n",
      "INFO:tensorflow:TensorBoard reload process: Reload the whole Multiplexer\n",
      "INFO:tensorflow:Beginning EventMultiplexer.Reload()\n",
      "INFO:tensorflow:Reloading runs serially (one after another) on the main thread.\n",
      "INFO:tensorflow:No path found after C:\\Users\\rruzzo\\Documents\\GitHub\\Deep_Learning_Work\\module_0\\week_3\\logs\\events.out.tfevents.1537936844.DESKTOP-V3AEQVL\n",
      "INFO:tensorflow:Finished with EventMultiplexer.Reload()\n",
      "INFO:tensorflow:TensorBoard done reloading. Load took 0.043 secs\n"
     ]
    },
    {
     "name": "stderr",
     "output_type": "stream",
     "text": [
      "172.20.40.81 - - [26/Sep/2018 00:46:34] \"\u001b[37mGET /data/environment HTTP/1.1\u001b[0m\" 200 -\n",
      "172.20.40.81 - - [26/Sep/2018 00:46:34] \"\u001b[37mGET /data/runs HTTP/1.1\u001b[0m\" 200 -\n"
     ]
    },
    {
     "name": "stdout",
     "output_type": "stream",
     "text": [
      "INFO:tensorflow:Plugin listing: is_active() for core took 0.000 seconds\n"
     ]
    },
    {
     "name": "stderr",
     "output_type": "stream",
     "text": [
      "172.20.40.81 - - [26/Sep/2018 00:46:34] \"\u001b[37mGET /data/experiments HTTP/1.1\u001b[0m\" 200 -\n"
     ]
    },
    {
     "name": "stdout",
     "output_type": "stream",
     "text": [
      "INFO:tensorflow:Plugin listing: is_active() for beholder took 0.006 seconds\n",
      "INFO:tensorflow:Plugin listing: is_active() for scalars took 0.000 seconds\n",
      "INFO:tensorflow:Plugin listing: is_active() for custom_scalars took 0.000 seconds\n",
      "INFO:tensorflow:Plugin listing: is_active() for images took 0.000 seconds\n",
      "INFO:tensorflow:Plugin listing: is_active() for audio took 0.000 seconds\n",
      "INFO:tensorflow:Plugin listing: is_active() for graphs took 0.000 seconds\n",
      "INFO:tensorflow:Plugin listing: is_active() for distributions took 0.015 seconds\n",
      "INFO:tensorflow:Plugin listing: is_active() for histograms took 0.008 seconds\n",
      "INFO:tensorflow:Plugin listing: is_active() for pr_curves took 0.000 seconds\n",
      "INFO:tensorflow:Plugin listing: is_active() for projector took 0.001 seconds\n",
      "INFO:tensorflow:TextPlugin computing index_impl() in a new thread\n",
      "INFO:tensorflow:Plugin listing: is_active() for text took 0.003 seconds\n",
      "INFO:tensorflow:TextPlugin index_impl() thread ending after 0.003 sec\n",
      "INFO:tensorflow:Plugin listing: is_active() for profile took 0.000 seconds\n"
     ]
    },
    {
     "name": "stderr",
     "output_type": "stream",
     "text": [
      "172.20.40.81 - - [26/Sep/2018 00:46:34] \"\u001b[37mGET /data/plugins_listing HTTP/1.1\u001b[0m\" 200 -\n",
      "172.20.40.81 - - [26/Sep/2018 00:46:34] \"\u001b[37mGET /data/plugin/scalars/tags HTTP/1.1\u001b[0m\" 200 -\n",
      "172.20.40.81 - - [26/Sep/2018 00:46:34] \"\u001b[37mGET /data/plugin/scalars/scalars?run=.&tag=acc HTTP/1.1\u001b[0m\" 200 -\n",
      "172.20.40.81 - - [26/Sep/2018 00:46:34] \"\u001b[37mGET /data/plugin/scalars/scalars?run=.&tag=val_loss HTTP/1.1\u001b[0m\" 200 -\n",
      "172.20.40.81 - - [26/Sep/2018 00:46:34] \"\u001b[37mGET /data/plugin/scalars/scalars?run=.&tag=loss HTTP/1.1\u001b[0m\" 200 -\n"
     ]
    },
    {
     "name": "stdout",
     "output_type": "stream",
     "text": [
      "INFO:tensorflow:TensorBoard reload process beginning\n",
      "INFO:tensorflow:Starting AddRunsFromDirectory: C:\\Users\\rruzzo\\Documents\\GitHub\\Deep_Learning_Work\\module_0\\week_3\\logs\n",
      "INFO:tensorflow:GetLogdirSubdirectories: Starting to list directories via walking.\n",
      "INFO:tensorflow:Adding run from directory C:\\Users\\rruzzo\\Documents\\GitHub\\Deep_Learning_Work\\module_0\\week_3\\logs\n",
      "INFO:tensorflow:Done with AddRunsFromDirectory: C:\\Users\\rruzzo\\Documents\\GitHub\\Deep_Learning_Work\\module_0\\week_3\\logs\n",
      "INFO:tensorflow:TensorBoard reload process: Reload the whole Multiplexer\n",
      "INFO:tensorflow:Beginning EventMultiplexer.Reload()\n",
      "INFO:tensorflow:Reloading runs serially (one after another) on the main thread.\n",
      "INFO:tensorflow:No path found after C:\\Users\\rruzzo\\Documents\\GitHub\\Deep_Learning_Work\\module_0\\week_3\\logs\\events.out.tfevents.1537936844.DESKTOP-V3AEQVL\n",
      "INFO:tensorflow:Finished with EventMultiplexer.Reload()\n",
      "INFO:tensorflow:TensorBoard done reloading. Load took 0.016 secs\n",
      "INFO:tensorflow:TensorBoard reload process beginning\n",
      "INFO:tensorflow:Starting AddRunsFromDirectory: C:\\Users\\rruzzo\\Documents\\GitHub\\Deep_Learning_Work\\module_0\\week_3\\logs\n",
      "INFO:tensorflow:GetLogdirSubdirectories: Starting to list directories via walking.\n",
      "INFO:tensorflow:Adding run from directory C:\\Users\\rruzzo\\Documents\\GitHub\\Deep_Learning_Work\\module_0\\week_3\\logs\n",
      "INFO:tensorflow:Done with AddRunsFromDirectory: C:\\Users\\rruzzo\\Documents\\GitHub\\Deep_Learning_Work\\module_0\\week_3\\logs\n",
      "INFO:tensorflow:TensorBoard reload process: Reload the whole Multiplexer\n",
      "INFO:tensorflow:Beginning EventMultiplexer.Reload()\n",
      "INFO:tensorflow:Reloading runs serially (one after another) on the main thread.\n",
      "INFO:tensorflow:No path found after C:\\Users\\rruzzo\\Documents\\GitHub\\Deep_Learning_Work\\module_0\\week_3\\logs\\events.out.tfevents.1537936844.DESKTOP-V3AEQVL\n",
      "INFO:tensorflow:Finished with EventMultiplexer.Reload()\n",
      "INFO:tensorflow:TensorBoard done reloading. Load took 0.039 secs\n",
      "INFO:tensorflow:TensorBoard reload process beginning\n",
      "INFO:tensorflow:Starting AddRunsFromDirectory: C:\\Users\\rruzzo\\Documents\\GitHub\\Deep_Learning_Work\\module_0\\week_3\\logs\n",
      "INFO:tensorflow:GetLogdirSubdirectories: Starting to list directories via walking.\n",
      "INFO:tensorflow:Adding run from directory C:\\Users\\rruzzo\\Documents\\GitHub\\Deep_Learning_Work\\module_0\\week_3\\logs\n",
      "INFO:tensorflow:Done with AddRunsFromDirectory: C:\\Users\\rruzzo\\Documents\\GitHub\\Deep_Learning_Work\\module_0\\week_3\\logs\n",
      "INFO:tensorflow:TensorBoard reload process: Reload the whole Multiplexer\n",
      "INFO:tensorflow:Beginning EventMultiplexer.Reload()\n",
      "INFO:tensorflow:Reloading runs serially (one after another) on the main thread.\n",
      "INFO:tensorflow:No path found after C:\\Users\\rruzzo\\Documents\\GitHub\\Deep_Learning_Work\\module_0\\week_3\\logs\\events.out.tfevents.1537936844.DESKTOP-V3AEQVL\n",
      "INFO:tensorflow:Finished with EventMultiplexer.Reload()\n",
      "INFO:tensorflow:TensorBoard done reloading. Load took 0.035 secs\n",
      "INFO:tensorflow:TensorBoard reload process beginning\n",
      "INFO:tensorflow:Starting AddRunsFromDirectory: C:\\Users\\rruzzo\\Documents\\GitHub\\Deep_Learning_Work\\module_0\\week_3\\logs\n",
      "INFO:tensorflow:GetLogdirSubdirectories: Starting to list directories via walking.\n",
      "INFO:tensorflow:Adding run from directory C:\\Users\\rruzzo\\Documents\\GitHub\\Deep_Learning_Work\\module_0\\week_3\\logs\n",
      "INFO:tensorflow:Done with AddRunsFromDirectory: C:\\Users\\rruzzo\\Documents\\GitHub\\Deep_Learning_Work\\module_0\\week_3\\logs\n",
      "INFO:tensorflow:TensorBoard reload process: Reload the whole Multiplexer\n",
      "INFO:tensorflow:Beginning EventMultiplexer.Reload()\n",
      "INFO:tensorflow:Reloading runs serially (one after another) on the main thread.\n",
      "INFO:tensorflow:No path found after C:\\Users\\rruzzo\\Documents\\GitHub\\Deep_Learning_Work\\module_0\\week_3\\logs\\events.out.tfevents.1537936844.DESKTOP-V3AEQVL\n",
      "INFO:tensorflow:Finished with EventMultiplexer.Reload()\n",
      "INFO:tensorflow:TensorBoard done reloading. Load took 0.035 secs\n",
      "INFO:tensorflow:TensorBoard reload process beginning\n",
      "INFO:tensorflow:Starting AddRunsFromDirectory: C:\\Users\\rruzzo\\Documents\\GitHub\\Deep_Learning_Work\\module_0\\week_3\\logs\n",
      "INFO:tensorflow:GetLogdirSubdirectories: Starting to list directories via walking.\n",
      "INFO:tensorflow:Adding run from directory C:\\Users\\rruzzo\\Documents\\GitHub\\Deep_Learning_Work\\module_0\\week_3\\logs\n",
      "INFO:tensorflow:Done with AddRunsFromDirectory: C:\\Users\\rruzzo\\Documents\\GitHub\\Deep_Learning_Work\\module_0\\week_3\\logs\n",
      "INFO:tensorflow:TensorBoard reload process: Reload the whole Multiplexer\n",
      "INFO:tensorflow:Beginning EventMultiplexer.Reload()\n",
      "INFO:tensorflow:Reloading runs serially (one after another) on the main thread.\n",
      "INFO:tensorflow:No path found after C:\\Users\\rruzzo\\Documents\\GitHub\\Deep_Learning_Work\\module_0\\week_3\\logs\\events.out.tfevents.1537936844.DESKTOP-V3AEQVL\n",
      "INFO:tensorflow:Finished with EventMultiplexer.Reload()\n",
      "INFO:tensorflow:TensorBoard done reloading. Load took 0.037 secs\n",
      "INFO:tensorflow:TensorBoard reload process beginning\n",
      "INFO:tensorflow:Starting AddRunsFromDirectory: C:\\Users\\rruzzo\\Documents\\GitHub\\Deep_Learning_Work\\module_0\\week_3\\logs\n",
      "INFO:tensorflow:GetLogdirSubdirectories: Starting to list directories via walking.\n",
      "INFO:tensorflow:Adding run from directory C:\\Users\\rruzzo\\Documents\\GitHub\\Deep_Learning_Work\\module_0\\week_3\\logs\n",
      "INFO:tensorflow:Done with AddRunsFromDirectory: C:\\Users\\rruzzo\\Documents\\GitHub\\Deep_Learning_Work\\module_0\\week_3\\logs\n",
      "INFO:tensorflow:TensorBoard reload process: Reload the whole Multiplexer\n",
      "INFO:tensorflow:Beginning EventMultiplexer.Reload()\n",
      "INFO:tensorflow:Reloading runs serially (one after another) on the main thread.\n",
      "INFO:tensorflow:No path found after C:\\Users\\rruzzo\\Documents\\GitHub\\Deep_Learning_Work\\module_0\\week_3\\logs\\events.out.tfevents.1537936844.DESKTOP-V3AEQVL\n",
      "INFO:tensorflow:Finished with EventMultiplexer.Reload()\n",
      "INFO:tensorflow:TensorBoard done reloading. Load took 0.028 secs\n"
     ]
    },
    {
     "name": "stderr",
     "output_type": "stream",
     "text": [
      "172.20.40.81 - - [26/Sep/2018 00:47:04] \"\u001b[37mGET /data/environment HTTP/1.1\u001b[0m\" 200 -\n"
     ]
    },
    {
     "name": "stdout",
     "output_type": "stream",
     "text": [
      "INFO:tensorflow:Plugin listing: is_active() for core took 0.000 seconds\n"
     ]
    },
    {
     "name": "stderr",
     "output_type": "stream",
     "text": [
      "172.20.40.81 - - [26/Sep/2018 00:47:04] \"\u001b[37mGET /data/experiments HTTP/1.1\u001b[0m\" 200 -\n"
     ]
    },
    {
     "name": "stdout",
     "output_type": "stream",
     "text": [
      "INFO:tensorflow:Plugin listing: is_active() for beholder took 0.004 seconds\n"
     ]
    },
    {
     "name": "stderr",
     "output_type": "stream",
     "text": [
      "172.20.40.81 - - [26/Sep/2018 00:47:04] \"\u001b[37mGET /data/runs HTTP/1.1\u001b[0m\" 200 -\n"
     ]
    },
    {
     "name": "stdout",
     "output_type": "stream",
     "text": [
      "INFO:tensorflow:Plugin listing: is_active() for scalars took 0.000 seconds\n",
      "INFO:tensorflow:Plugin listing: is_active() for custom_scalars took 0.000 seconds\n",
      "INFO:tensorflow:Plugin listing: is_active() for images took 0.000 seconds\n",
      "INFO:tensorflow:Plugin listing: is_active() for audio took 0.000 seconds\n",
      "INFO:tensorflow:Plugin listing: is_active() for graphs took 0.000 seconds\n",
      "INFO:tensorflow:Plugin listing: is_active() for distributions took 0.008 seconds\n",
      "INFO:tensorflow:Plugin listing: is_active() for histograms took 0.006 seconds\n",
      "INFO:tensorflow:Plugin listing: is_active() for pr_curves took 0.000 seconds\n",
      "INFO:tensorflow:Plugin listing: is_active() for projector took 0.000 seconds\n",
      "INFO:tensorflow:TextPlugin computing index_impl() in a new thread\n",
      "INFO:tensorflow:Plugin listing: is_active() for text took 0.003 seconds\n",
      "INFO:tensorflow:TextPlugin index_impl() thread ending after 0.003 sec\n",
      "INFO:tensorflow:Plugin listing: is_active() for profile took 0.000 seconds\n"
     ]
    },
    {
     "name": "stderr",
     "output_type": "stream",
     "text": [
      "172.20.40.81 - - [26/Sep/2018 00:47:04] \"\u001b[37mGET /data/plugins_listing HTTP/1.1\u001b[0m\" 200 -\n",
      "172.20.40.81 - - [26/Sep/2018 00:47:04] \"\u001b[37mGET /data/plugin/scalars/tags HTTP/1.1\u001b[0m\" 200 -\n",
      "172.20.40.81 - - [26/Sep/2018 00:47:04] \"\u001b[37mGET /data/plugin/scalars/scalars?run=.&tag=acc HTTP/1.1\u001b[0m\" 200 -\n",
      "172.20.40.81 - - [26/Sep/2018 00:47:04] \"\u001b[37mGET /data/plugin/scalars/scalars?run=.&tag=loss HTTP/1.1\u001b[0m\" 200 -\n",
      "172.20.40.81 - - [26/Sep/2018 00:47:04] \"\u001b[37mGET /data/plugin/scalars/scalars?run=.&tag=val_loss HTTP/1.1\u001b[0m\" 200 -\n"
     ]
    },
    {
     "name": "stdout",
     "output_type": "stream",
     "text": [
      "INFO:tensorflow:TensorBoard reload process beginning\n",
      "INFO:tensorflow:Starting AddRunsFromDirectory: C:\\Users\\rruzzo\\Documents\\GitHub\\Deep_Learning_Work\\module_0\\week_3\\logs\n",
      "INFO:tensorflow:GetLogdirSubdirectories: Starting to list directories via walking.\n",
      "INFO:tensorflow:Adding run from directory C:\\Users\\rruzzo\\Documents\\GitHub\\Deep_Learning_Work\\module_0\\week_3\\logs\n",
      "INFO:tensorflow:Done with AddRunsFromDirectory: C:\\Users\\rruzzo\\Documents\\GitHub\\Deep_Learning_Work\\module_0\\week_3\\logs\n",
      "INFO:tensorflow:TensorBoard reload process: Reload the whole Multiplexer\n",
      "INFO:tensorflow:Beginning EventMultiplexer.Reload()\n",
      "INFO:tensorflow:Reloading runs serially (one after another) on the main thread.\n",
      "INFO:tensorflow:No path found after C:\\Users\\rruzzo\\Documents\\GitHub\\Deep_Learning_Work\\module_0\\week_3\\logs\\events.out.tfevents.1537936844.DESKTOP-V3AEQVL\n",
      "INFO:tensorflow:Finished with EventMultiplexer.Reload()\n",
      "INFO:tensorflow:TensorBoard done reloading. Load took 0.028 secs\n",
      "INFO:tensorflow:TensorBoard reload process beginning\n",
      "INFO:tensorflow:Starting AddRunsFromDirectory: C:\\Users\\rruzzo\\Documents\\GitHub\\Deep_Learning_Work\\module_0\\week_3\\logs\n",
      "INFO:tensorflow:GetLogdirSubdirectories: Starting to list directories via walking.\n",
      "INFO:tensorflow:Adding run from directory C:\\Users\\rruzzo\\Documents\\GitHub\\Deep_Learning_Work\\module_0\\week_3\\logs\n",
      "INFO:tensorflow:Done with AddRunsFromDirectory: C:\\Users\\rruzzo\\Documents\\GitHub\\Deep_Learning_Work\\module_0\\week_3\\logs\n",
      "INFO:tensorflow:TensorBoard reload process: Reload the whole Multiplexer\n",
      "INFO:tensorflow:Beginning EventMultiplexer.Reload()\n",
      "INFO:tensorflow:Reloading runs serially (one after another) on the main thread.\n",
      "INFO:tensorflow:No path found after C:\\Users\\rruzzo\\Documents\\GitHub\\Deep_Learning_Work\\module_0\\week_3\\logs\\events.out.tfevents.1537936844.DESKTOP-V3AEQVL\n",
      "INFO:tensorflow:Finished with EventMultiplexer.Reload()\n",
      "INFO:tensorflow:TensorBoard done reloading. Load took 0.016 secs\n",
      "INFO:tensorflow:TensorBoard reload process beginning\n",
      "INFO:tensorflow:Starting AddRunsFromDirectory: C:\\Users\\rruzzo\\Documents\\GitHub\\Deep_Learning_Work\\module_0\\week_3\\logs\n",
      "INFO:tensorflow:GetLogdirSubdirectories: Starting to list directories via walking.\n",
      "INFO:tensorflow:Adding run from directory C:\\Users\\rruzzo\\Documents\\GitHub\\Deep_Learning_Work\\module_0\\week_3\\logs\n",
      "INFO:tensorflow:Done with AddRunsFromDirectory: C:\\Users\\rruzzo\\Documents\\GitHub\\Deep_Learning_Work\\module_0\\week_3\\logs\n",
      "INFO:tensorflow:TensorBoard reload process: Reload the whole Multiplexer\n",
      "INFO:tensorflow:Beginning EventMultiplexer.Reload()\n",
      "INFO:tensorflow:Reloading runs serially (one after another) on the main thread.\n",
      "INFO:tensorflow:No path found after C:\\Users\\rruzzo\\Documents\\GitHub\\Deep_Learning_Work\\module_0\\week_3\\logs\\events.out.tfevents.1537936844.DESKTOP-V3AEQVL\n",
      "INFO:tensorflow:Finished with EventMultiplexer.Reload()\n",
      "INFO:tensorflow:TensorBoard done reloading. Load took 0.015 secs\n",
      "INFO:tensorflow:TensorBoard reload process beginning\n",
      "INFO:tensorflow:Starting AddRunsFromDirectory: C:\\Users\\rruzzo\\Documents\\GitHub\\Deep_Learning_Work\\module_0\\week_3\\logs\n",
      "INFO:tensorflow:GetLogdirSubdirectories: Starting to list directories via walking.\n",
      "INFO:tensorflow:Adding run from directory C:\\Users\\rruzzo\\Documents\\GitHub\\Deep_Learning_Work\\module_0\\week_3\\logs\n",
      "INFO:tensorflow:Done with AddRunsFromDirectory: C:\\Users\\rruzzo\\Documents\\GitHub\\Deep_Learning_Work\\module_0\\week_3\\logs\n",
      "INFO:tensorflow:TensorBoard reload process: Reload the whole Multiplexer\n",
      "INFO:tensorflow:Beginning EventMultiplexer.Reload()\n",
      "INFO:tensorflow:Reloading runs serially (one after another) on the main thread.\n",
      "INFO:tensorflow:No path found after C:\\Users\\rruzzo\\Documents\\GitHub\\Deep_Learning_Work\\module_0\\week_3\\logs\\events.out.tfevents.1537936844.DESKTOP-V3AEQVL\n",
      "INFO:tensorflow:Finished with EventMultiplexer.Reload()\n",
      "INFO:tensorflow:TensorBoard done reloading. Load took 0.030 secs\n",
      "INFO:tensorflow:TensorBoard reload process beginning\n",
      "INFO:tensorflow:Starting AddRunsFromDirectory: C:\\Users\\rruzzo\\Documents\\GitHub\\Deep_Learning_Work\\module_0\\week_3\\logs\n",
      "INFO:tensorflow:GetLogdirSubdirectories: Starting to list directories via walking.\n",
      "INFO:tensorflow:Adding run from directory C:\\Users\\rruzzo\\Documents\\GitHub\\Deep_Learning_Work\\module_0\\week_3\\logs\n",
      "INFO:tensorflow:Done with AddRunsFromDirectory: C:\\Users\\rruzzo\\Documents\\GitHub\\Deep_Learning_Work\\module_0\\week_3\\logs\n",
      "INFO:tensorflow:TensorBoard reload process: Reload the whole Multiplexer\n",
      "INFO:tensorflow:Beginning EventMultiplexer.Reload()\n",
      "INFO:tensorflow:Reloading runs serially (one after another) on the main thread.\n",
      "INFO:tensorflow:No path found after C:\\Users\\rruzzo\\Documents\\GitHub\\Deep_Learning_Work\\module_0\\week_3\\logs\\events.out.tfevents.1537936844.DESKTOP-V3AEQVL\n",
      "INFO:tensorflow:Finished with EventMultiplexer.Reload()\n",
      "INFO:tensorflow:TensorBoard done reloading. Load took 0.018 secs\n"
     ]
    },
    {
     "data": {
      "text/plain": [
       "0"
      ]
     },
     "execution_count": 2,
     "metadata": {},
     "output_type": "execute_result"
    }
   ],
   "source": [
    "my_directory = os.getcwd()+'\\\\logs'\n",
    "tb = program.TensorBoard(default.PLUGIN_LOADERS, default.get_assets_zip_provider())\n",
    "tb.configure(argv=['--logdir', my_directory])\n",
    "tb.main()"
   ]
  },
  {
   "cell_type": "code",
   "execution_count": null,
   "metadata": {},
   "outputs": [],
   "source": []
  }
 ],
 "metadata": {
  "kernelspec": {
   "display_name": "Python 3",
   "language": "python",
   "name": "python3"
  },
  "language_info": {
   "codemirror_mode": {
    "name": "ipython",
    "version": 3
   },
   "file_extension": ".py",
   "mimetype": "text/x-python",
   "name": "python",
   "nbconvert_exporter": "python",
   "pygments_lexer": "ipython3",
   "version": "3.6.5"
  }
 },
 "nbformat": 4,
 "nbformat_minor": 2
}
