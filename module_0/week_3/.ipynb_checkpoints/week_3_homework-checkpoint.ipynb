{
 "cells": [
  {
   "cell_type": "code",
   "execution_count": 1,
   "metadata": {},
   "outputs": [
    {
     "name": "stderr",
     "output_type": "stream",
     "text": [
      "C:\\Users\\rruzzo\\Anaconda3\\lib\\site-packages\\h5py\\__init__.py:36: FutureWarning: Conversion of the second argument of issubdtype from `float` to `np.floating` is deprecated. In future, it will be treated as `np.float64 == np.dtype(float).type`.\n",
      "  from ._conv import register_converters as _register_converters\n",
      "Using TensorFlow backend.\n"
     ]
    }
   ],
   "source": [
    "import pandas as pd\n",
    "import numpy as np\n",
    "from matplotlib import pyplot as plt\n",
    "from sklearn.model_selection import train_test_split\n",
    "from sklearn.preprocessing import StandardScaler\n",
    "from keras.utils import to_categorical\n",
    "from keras.models import Model\n",
    "from keras.layers import Input, Dense, Dropout\n",
    "from keras.callbacks import TensorBoard, ModelCheckpoint\n",
    "from sklearn.metrics import classification_report\n",
    "import numpy as np\n",
    "import os\n",
    "%matplotlib inline\n"
   ]
  },
  {
   "cell_type": "code",
   "execution_count": 2,
   "metadata": {},
   "outputs": [],
   "source": [
    "os.environ[\"CUDA_VISIBLE_DEVICES\"]=\"-1\""
   ]
  },
  {
   "cell_type": "code",
   "execution_count": 3,
   "metadata": {},
   "outputs": [],
   "source": [
    "df = pd.read_csv(\"train.csv.zip\", index_col=0)"
   ]
  },
  {
   "cell_type": "code",
   "execution_count": 4,
   "metadata": {},
   "outputs": [
    {
     "data": {
      "text/html": [
       "<div>\n",
       "<style scoped>\n",
       "    .dataframe tbody tr th:only-of-type {\n",
       "        vertical-align: middle;\n",
       "    }\n",
       "\n",
       "    .dataframe tbody tr th {\n",
       "        vertical-align: top;\n",
       "    }\n",
       "\n",
       "    .dataframe thead th {\n",
       "        text-align: right;\n",
       "    }\n",
       "</style>\n",
       "<table border=\"1\" class=\"dataframe\">\n",
       "  <thead>\n",
       "    <tr style=\"text-align: right;\">\n",
       "      <th></th>\n",
       "      <th>Elevation</th>\n",
       "      <th>Aspect</th>\n",
       "      <th>Slope</th>\n",
       "      <th>Horizontal_Distance_To_Hydrology</th>\n",
       "      <th>Vertical_Distance_To_Hydrology</th>\n",
       "      <th>Horizontal_Distance_To_Roadways</th>\n",
       "      <th>Hillshade_9am</th>\n",
       "      <th>Hillshade_Noon</th>\n",
       "      <th>Hillshade_3pm</th>\n",
       "      <th>Horizontal_Distance_To_Fire_Points</th>\n",
       "      <th>...</th>\n",
       "      <th>Soil_Type32</th>\n",
       "      <th>Soil_Type33</th>\n",
       "      <th>Soil_Type34</th>\n",
       "      <th>Soil_Type35</th>\n",
       "      <th>Soil_Type36</th>\n",
       "      <th>Soil_Type37</th>\n",
       "      <th>Soil_Type38</th>\n",
       "      <th>Soil_Type39</th>\n",
       "      <th>Soil_Type40</th>\n",
       "      <th>Cover_Type</th>\n",
       "    </tr>\n",
       "    <tr>\n",
       "      <th>Id</th>\n",
       "      <th></th>\n",
       "      <th></th>\n",
       "      <th></th>\n",
       "      <th></th>\n",
       "      <th></th>\n",
       "      <th></th>\n",
       "      <th></th>\n",
       "      <th></th>\n",
       "      <th></th>\n",
       "      <th></th>\n",
       "      <th></th>\n",
       "      <th></th>\n",
       "      <th></th>\n",
       "      <th></th>\n",
       "      <th></th>\n",
       "      <th></th>\n",
       "      <th></th>\n",
       "      <th></th>\n",
       "      <th></th>\n",
       "      <th></th>\n",
       "      <th></th>\n",
       "    </tr>\n",
       "  </thead>\n",
       "  <tbody>\n",
       "    <tr>\n",
       "      <th>1</th>\n",
       "      <td>2596</td>\n",
       "      <td>51</td>\n",
       "      <td>3</td>\n",
       "      <td>258</td>\n",
       "      <td>0</td>\n",
       "      <td>510</td>\n",
       "      <td>221</td>\n",
       "      <td>232</td>\n",
       "      <td>148</td>\n",
       "      <td>6279</td>\n",
       "      <td>...</td>\n",
       "      <td>0</td>\n",
       "      <td>0</td>\n",
       "      <td>0</td>\n",
       "      <td>0</td>\n",
       "      <td>0</td>\n",
       "      <td>0</td>\n",
       "      <td>0</td>\n",
       "      <td>0</td>\n",
       "      <td>0</td>\n",
       "      <td>5</td>\n",
       "    </tr>\n",
       "    <tr>\n",
       "      <th>2</th>\n",
       "      <td>2590</td>\n",
       "      <td>56</td>\n",
       "      <td>2</td>\n",
       "      <td>212</td>\n",
       "      <td>-6</td>\n",
       "      <td>390</td>\n",
       "      <td>220</td>\n",
       "      <td>235</td>\n",
       "      <td>151</td>\n",
       "      <td>6225</td>\n",
       "      <td>...</td>\n",
       "      <td>0</td>\n",
       "      <td>0</td>\n",
       "      <td>0</td>\n",
       "      <td>0</td>\n",
       "      <td>0</td>\n",
       "      <td>0</td>\n",
       "      <td>0</td>\n",
       "      <td>0</td>\n",
       "      <td>0</td>\n",
       "      <td>5</td>\n",
       "    </tr>\n",
       "    <tr>\n",
       "      <th>3</th>\n",
       "      <td>2804</td>\n",
       "      <td>139</td>\n",
       "      <td>9</td>\n",
       "      <td>268</td>\n",
       "      <td>65</td>\n",
       "      <td>3180</td>\n",
       "      <td>234</td>\n",
       "      <td>238</td>\n",
       "      <td>135</td>\n",
       "      <td>6121</td>\n",
       "      <td>...</td>\n",
       "      <td>0</td>\n",
       "      <td>0</td>\n",
       "      <td>0</td>\n",
       "      <td>0</td>\n",
       "      <td>0</td>\n",
       "      <td>0</td>\n",
       "      <td>0</td>\n",
       "      <td>0</td>\n",
       "      <td>0</td>\n",
       "      <td>2</td>\n",
       "    </tr>\n",
       "    <tr>\n",
       "      <th>4</th>\n",
       "      <td>2785</td>\n",
       "      <td>155</td>\n",
       "      <td>18</td>\n",
       "      <td>242</td>\n",
       "      <td>118</td>\n",
       "      <td>3090</td>\n",
       "      <td>238</td>\n",
       "      <td>238</td>\n",
       "      <td>122</td>\n",
       "      <td>6211</td>\n",
       "      <td>...</td>\n",
       "      <td>0</td>\n",
       "      <td>0</td>\n",
       "      <td>0</td>\n",
       "      <td>0</td>\n",
       "      <td>0</td>\n",
       "      <td>0</td>\n",
       "      <td>0</td>\n",
       "      <td>0</td>\n",
       "      <td>0</td>\n",
       "      <td>2</td>\n",
       "    </tr>\n",
       "    <tr>\n",
       "      <th>5</th>\n",
       "      <td>2595</td>\n",
       "      <td>45</td>\n",
       "      <td>2</td>\n",
       "      <td>153</td>\n",
       "      <td>-1</td>\n",
       "      <td>391</td>\n",
       "      <td>220</td>\n",
       "      <td>234</td>\n",
       "      <td>150</td>\n",
       "      <td>6172</td>\n",
       "      <td>...</td>\n",
       "      <td>0</td>\n",
       "      <td>0</td>\n",
       "      <td>0</td>\n",
       "      <td>0</td>\n",
       "      <td>0</td>\n",
       "      <td>0</td>\n",
       "      <td>0</td>\n",
       "      <td>0</td>\n",
       "      <td>0</td>\n",
       "      <td>5</td>\n",
       "    </tr>\n",
       "  </tbody>\n",
       "</table>\n",
       "<p>5 rows × 55 columns</p>\n",
       "</div>"
      ],
      "text/plain": [
       "    Elevation  Aspect  Slope  Horizontal_Distance_To_Hydrology  \\\n",
       "Id                                                               \n",
       "1        2596      51      3                               258   \n",
       "2        2590      56      2                               212   \n",
       "3        2804     139      9                               268   \n",
       "4        2785     155     18                               242   \n",
       "5        2595      45      2                               153   \n",
       "\n",
       "    Vertical_Distance_To_Hydrology  Horizontal_Distance_To_Roadways  \\\n",
       "Id                                                                    \n",
       "1                                0                              510   \n",
       "2                               -6                              390   \n",
       "3                               65                             3180   \n",
       "4                              118                             3090   \n",
       "5                               -1                              391   \n",
       "\n",
       "    Hillshade_9am  Hillshade_Noon  Hillshade_3pm  \\\n",
       "Id                                                 \n",
       "1             221             232            148   \n",
       "2             220             235            151   \n",
       "3             234             238            135   \n",
       "4             238             238            122   \n",
       "5             220             234            150   \n",
       "\n",
       "    Horizontal_Distance_To_Fire_Points     ...      Soil_Type32  Soil_Type33  \\\n",
       "Id                                         ...                                 \n",
       "1                                 6279     ...                0            0   \n",
       "2                                 6225     ...                0            0   \n",
       "3                                 6121     ...                0            0   \n",
       "4                                 6211     ...                0            0   \n",
       "5                                 6172     ...                0            0   \n",
       "\n",
       "    Soil_Type34  Soil_Type35  Soil_Type36  Soil_Type37  Soil_Type38  \\\n",
       "Id                                                                    \n",
       "1             0            0            0            0            0   \n",
       "2             0            0            0            0            0   \n",
       "3             0            0            0            0            0   \n",
       "4             0            0            0            0            0   \n",
       "5             0            0            0            0            0   \n",
       "\n",
       "    Soil_Type39  Soil_Type40  Cover_Type  \n",
       "Id                                        \n",
       "1             0            0           5  \n",
       "2             0            0           5  \n",
       "3             0            0           2  \n",
       "4             0            0           2  \n",
       "5             0            0           5  \n",
       "\n",
       "[5 rows x 55 columns]"
      ]
     },
     "execution_count": 4,
     "metadata": {},
     "output_type": "execute_result"
    }
   ],
   "source": [
    "df.head()"
   ]
  },
  {
   "cell_type": "markdown",
   "metadata": {},
   "source": [
    "## Forest Cover Dataset\n",
    "\n",
    "This is the 'sort of famous' forest cover dataset.  Our goal is to predict the forest cover type, given the other variables.\n",
    "\n",
    "That means that'Cover_Type' is our dependent variable."
   ]
  },
  {
   "cell_type": "markdown",
   "metadata": {},
   "source": [
    "Q1:  What columns are present in the dataframe?"
   ]
  },
  {
   "cell_type": "code",
   "execution_count": 5,
   "metadata": {},
   "outputs": [],
   "source": [
    "#list(df)"
   ]
  },
  {
   "cell_type": "markdown",
   "metadata": {},
   "source": [
    "Q2: What is the distribution of the dependent variable?\n",
    "\n",
    "It has a mean of 4 with a STD of 2, max is 7 min is 1."
   ]
  },
  {
   "cell_type": "code",
   "execution_count": 6,
   "metadata": {},
   "outputs": [],
   "source": [
    "#df.describe().transpose()"
   ]
  },
  {
   "cell_type": "code",
   "execution_count": 7,
   "metadata": {},
   "outputs": [
    {
     "data": {
      "image/png": "[encoded data removed]",
      "text/plain": [
       "<Figure size 432x288 with 1 Axes>"
      ]
     },
     "metadata": {},
     "output_type": "display_data"
    }
   ],
   "source": [
    "df['Cover_Type'].hist(bins=20)\n",
    "plt.show()"
   ]
  },
  {
   "cell_type": "code",
   "execution_count": 8,
   "metadata": {},
   "outputs": [],
   "source": [
    "def load_data():\n",
    "    df = pd.read_csv(\"train.csv.zip\", index_col=0)\n",
    "    y = df.Cover_Type\n",
    "    y = to_categorical(y)\n",
    "    X = df.drop([\"Cover_Type\"], axis=1)\n",
    "    scaler = StandardScaler()\n",
    "    X = scaler.fit_transform(X)\n",
    "    X_train, X_test, y_train, y_test= train_test_split(X,y, test_size=0.3)\n",
    "    X_val, X_test, y_val, y_test = train_test_split(X_test, y_test, test_size=0.5)\n",
    "    return X_train, X_val, X_test, y_train, y_val, y_test, scaler"
   ]
  },
  {
   "cell_type": "markdown",
   "metadata": {},
   "source": [
    "Q3: In the above code, what purpose does to_categorical serve?\n",
    "In the above, the to_categorical serves the purpose much like it says to make the variable a category. The overall purpose would be that when the network performs its task, instead of the ouput being numerical per se, which can have any real number value, it forces the output to be one of a finite number of categories. You would not want an output of 2.342938598 to represent a Cover_Type of 2. Thus it would force the output to be a 2 or 3."
   ]
  },
  {
   "cell_type": "code",
   "execution_count": 9,
   "metadata": {},
   "outputs": [],
   "source": [
    "def build_network(input_features=None):\n",
    "    inputs = Input(shape=(input_features,), name=\"input\")\n",
    "    #implement the code to create a keras MLP here.  \n",
    "    # remember your output layer will need to use softmax activation\n",
    "    x=Dense(54, activation='relu', name=\"hidden1\")(inputs)\n",
    "    #x=Dropout(0.5)(x)\n",
    "    x=Dense(54, activation='relu', name=\"hidden2\")(x)\n",
    "    #x=Dropout(0.5)(x)\n",
    "    x=Dense(54, activation='relu', name=\"hidden3\")(x)\n",
    "    #x=Dropout(0.5)(x)\n",
    "    x=Dense(54, activation='relu', name=\"hidden4\")(x)\n",
    "    #x=Dropout(0.5)(x)\n",
    "    #x=Dense(26, activation='relu', name=\"hidden5\")(x)\n",
    "    #x=Dropout(0.5)(x)\n",
    "   \n",
    "    prediction = Dense(8, activation='softmax', name=\"output\")(x)\n",
    "    model = Model(inputs=inputs, outputs=prediction)\n",
    "    model.compile(optimizer='adam', loss='categorical_crossentropy', metrics=[\"accuracy\"])\n",
    "    return model"
   ]
  },
  {
   "cell_type": "code",
   "execution_count": 10,
   "metadata": {},
   "outputs": [],
   "source": [
    "def create_callbacks():\n",
    "    fn = os.getcwd()\n",
    "    tensorboard_callback=TensorBoard(log_dir=fn+'\\\\logs',\n",
    "                                    histogram_freq=1, batch_size=32, write_graph=True,\n",
    "                                    write_grads=False)\n",
    "    return [tensorboard_callback]"
   ]
  },
  {
   "cell_type": "code",
   "execution_count": 11,
   "metadata": {},
   "outputs": [],
   "source": [
    "X_train, X_val, X_test, y_train, y_val, y_test, scaler = load_data()\n",
    "callbacks = create_callbacks()\n",
    "model = build_network(X_train.shape[1])"
   ]
  },
  {
   "cell_type": "code",
   "execution_count": 12,
   "metadata": {},
   "outputs": [
    {
     "name": "stdout",
     "output_type": "stream",
     "text": [
      "Train on 10584 samples, validate on 2268 samples\n",
      "Epoch 1/50\n",
      "10584/10584 [==============================] - 0s 39us/step - loss: 1.3017 - acc: 0.5204 - val_loss: 0.9273 - val_acc: 0.6045\n",
      "Epoch 2/50\n",
      "10584/10584 [==============================] - 0s 21us/step - loss: 0.8227 - acc: 0.6552 - val_loss: 0.7991 - val_acc: 0.6574\n",
      "Epoch 3/50\n",
      "10584/10584 [==============================] - 0s 20us/step - loss: 0.7437 - acc: 0.6913 - val_loss: 0.7399 - val_acc: 0.6843\n",
      "Epoch 4/50\n",
      "10584/10584 [==============================] - 0s 22us/step - loss: 0.6864 - acc: 0.7209 - val_loss: 0.6994 - val_acc: 0.7002\n",
      "Epoch 5/50\n",
      "10584/10584 [==============================] - 0s 22us/step - loss: 0.6413 - acc: 0.7343 - val_loss: 0.6470 - val_acc: 0.7130\n",
      "Epoch 6/50\n",
      "10584/10584 [==============================] - 0s 22us/step - loss: 0.6096 - acc: 0.7478 - val_loss: 0.6441 - val_acc: 0.7235\n",
      "Epoch 7/50\n",
      "10584/10584 [==============================] - 0s 26us/step - loss: 0.5866 - acc: 0.7538 - val_loss: 0.6014 - val_acc: 0.7403\n",
      "Epoch 8/50\n",
      "10584/10584 [==============================] - 0s 23us/step - loss: 0.5650 - acc: 0.7660 - val_loss: 0.6129 - val_acc: 0.7451\n",
      "Epoch 9/50\n",
      "10584/10584 [==============================] - 0s 22us/step - loss: 0.5596 - acc: 0.7703 - val_loss: 0.5714 - val_acc: 0.7535\n",
      "Epoch 10/50\n",
      "10584/10584 [==============================] - 0s 23us/step - loss: 0.5394 - acc: 0.7753 - val_loss: 0.5591 - val_acc: 0.7646\n",
      "Epoch 11/50\n",
      "10584/10584 [==============================] - 0s 22us/step - loss: 0.5249 - acc: 0.7798 - val_loss: 0.5731 - val_acc: 0.7557\n",
      "Epoch 12/50\n",
      "10584/10584 [==============================] - 0s 22us/step - loss: 0.5265 - acc: 0.7799 - val_loss: 0.5765 - val_acc: 0.7544\n",
      "Epoch 13/50\n",
      "10584/10584 [==============================] - 0s 22us/step - loss: 0.5101 - acc: 0.7886 - val_loss: 0.5502 - val_acc: 0.7628\n",
      "Epoch 14/50\n",
      "10584/10584 [==============================] - 0s 23us/step - loss: 0.5062 - acc: 0.7885 - val_loss: 0.5479 - val_acc: 0.7641\n",
      "Epoch 15/50\n",
      "10584/10584 [==============================] - 0s 22us/step - loss: 0.4923 - acc: 0.7960 - val_loss: 0.5401 - val_acc: 0.7707\n",
      "Epoch 16/50\n",
      "10584/10584 [==============================] - 0s 23us/step - loss: 0.4829 - acc: 0.7957 - val_loss: 0.5431 - val_acc: 0.7707\n",
      "Epoch 17/50\n",
      "10584/10584 [==============================] - 0s 23us/step - loss: 0.4818 - acc: 0.8045 - val_loss: 0.5242 - val_acc: 0.7835\n",
      "Epoch 18/50\n",
      "10584/10584 [==============================] - 0s 22us/step - loss: 0.4711 - acc: 0.8021 - val_loss: 0.5432 - val_acc: 0.7668\n",
      "Epoch 19/50\n",
      "10584/10584 [==============================] - 0s 25us/step - loss: 0.4682 - acc: 0.8051 - val_loss: 0.5102 - val_acc: 0.7835\n",
      "Epoch 20/50\n",
      "10584/10584 [==============================] - 0s 22us/step - loss: 0.4588 - acc: 0.8136 - val_loss: 0.5296 - val_acc: 0.7813\n",
      "Epoch 21/50\n",
      "10584/10584 [==============================] - 0s 22us/step - loss: 0.4518 - acc: 0.8161 - val_loss: 0.5226 - val_acc: 0.7897\n",
      "Epoch 22/50\n",
      "10584/10584 [==============================] - 0s 22us/step - loss: 0.4510 - acc: 0.8161 - val_loss: 0.5291 - val_acc: 0.7831\n",
      "Epoch 23/50\n",
      "10584/10584 [==============================] - 0s 22us/step - loss: 0.4421 - acc: 0.8191 - val_loss: 0.5040 - val_acc: 0.7914\n",
      "Epoch 24/50\n",
      "10584/10584 [==============================] - 0s 22us/step - loss: 0.4317 - acc: 0.8211 - val_loss: 0.5132 - val_acc: 0.7844\n",
      "Epoch 25/50\n",
      "10584/10584 [==============================] - 0s 23us/step - loss: 0.4307 - acc: 0.8232 - val_loss: 0.4993 - val_acc: 0.7963\n",
      "Epoch 26/50\n",
      "10584/10584 [==============================] - 0s 22us/step - loss: 0.4246 - acc: 0.8231 - val_loss: 0.5126 - val_acc: 0.7862\n",
      "Epoch 27/50\n",
      "10584/10584 [==============================] - 0s 24us/step - loss: 0.4296 - acc: 0.8206 - val_loss: 0.4967 - val_acc: 0.7985\n",
      "Epoch 28/50\n",
      "10584/10584 [==============================] - 0s 25us/step - loss: 0.4132 - acc: 0.8312 - val_loss: 0.4878 - val_acc: 0.8069\n",
      "Epoch 29/50\n",
      "10584/10584 [==============================] - 0s 22us/step - loss: 0.4157 - acc: 0.8295 - val_loss: 0.5193 - val_acc: 0.7870\n",
      "Epoch 30/50\n",
      "10584/10584 [==============================] - 0s 23us/step - loss: 0.4011 - acc: 0.8358 - val_loss: 0.5074 - val_acc: 0.8029\n",
      "Epoch 31/50\n",
      "10584/10584 [==============================] - 0s 25us/step - loss: 0.4074 - acc: 0.8312 - val_loss: 0.5229 - val_acc: 0.7897\n",
      "Epoch 32/50\n",
      "10584/10584 [==============================] - 0s 24us/step - loss: 0.4026 - acc: 0.8366 - val_loss: 0.4873 - val_acc: 0.8051\n",
      "Epoch 33/50\n",
      "10584/10584 [==============================] - 0s 22us/step - loss: 0.3958 - acc: 0.8375 - val_loss: 0.4880 - val_acc: 0.8042\n",
      "Epoch 34/50\n",
      "10584/10584 [==============================] - 0s 22us/step - loss: 0.3812 - acc: 0.8447 - val_loss: 0.5119 - val_acc: 0.7959\n",
      "Epoch 35/50\n",
      "10584/10584 [==============================] - 0s 22us/step - loss: 0.3902 - acc: 0.8437 - val_loss: 0.4887 - val_acc: 0.8113\n",
      "Epoch 36/50\n",
      "10584/10584 [==============================] - 0s 23us/step - loss: 0.3747 - acc: 0.8503 - val_loss: 0.5060 - val_acc: 0.7972\n",
      "Epoch 37/50\n",
      "10584/10584 [==============================] - 0s 24us/step - loss: 0.3783 - acc: 0.8473 - val_loss: 0.5151 - val_acc: 0.8011\n",
      "Epoch 38/50\n",
      "10584/10584 [==============================] - 0s 24us/step - loss: 0.3812 - acc: 0.8414 - val_loss: 0.4850 - val_acc: 0.8082\n",
      "Epoch 39/50\n",
      "10584/10584 [==============================] - 0s 23us/step - loss: 0.3614 - acc: 0.8552 - val_loss: 0.4819 - val_acc: 0.8078\n",
      "Epoch 40/50\n",
      "10584/10584 [==============================] - 0s 24us/step - loss: 0.3566 - acc: 0.8544 - val_loss: 0.4754 - val_acc: 0.8135\n",
      "Epoch 41/50\n",
      "10584/10584 [==============================] - 0s 23us/step - loss: 0.3569 - acc: 0.8561 - val_loss: 0.5153 - val_acc: 0.7985\n",
      "Epoch 42/50\n",
      "10584/10584 [==============================] - 0s 22us/step - loss: 0.3575 - acc: 0.8554 - val_loss: 0.5112 - val_acc: 0.8060\n",
      "Epoch 43/50\n",
      "10584/10584 [==============================] - 0s 25us/step - loss: 0.3520 - acc: 0.8588 - val_loss: 0.5072 - val_acc: 0.8108\n",
      "Epoch 44/50\n",
      "10584/10584 [==============================] - 0s 26us/step - loss: 0.3576 - acc: 0.8582 - val_loss: 0.4871 - val_acc: 0.8056\n",
      "Epoch 45/50\n",
      "10584/10584 [==============================] - 0s 23us/step - loss: 0.3417 - acc: 0.8651 - val_loss: 0.5067 - val_acc: 0.8020\n",
      "Epoch 46/50\n",
      "10584/10584 [==============================] - 0s 23us/step - loss: 0.3341 - acc: 0.8690 - val_loss: 0.4900 - val_acc: 0.8095\n",
      "Epoch 47/50\n",
      "10584/10584 [==============================] - 0s 22us/step - loss: 0.3389 - acc: 0.8652 - val_loss: 0.4929 - val_acc: 0.8104\n",
      "Epoch 48/50\n",
      "10584/10584 [==============================] - 0s 22us/step - loss: 0.3339 - acc: 0.8688 - val_loss: 0.5062 - val_acc: 0.8117\n",
      "Epoch 49/50\n",
      "10584/10584 [==============================] - 0s 23us/step - loss: 0.3364 - acc: 0.8683 - val_loss: 0.4928 - val_acc: 0.8042\n",
      "Epoch 50/50\n",
      "10584/10584 [==============================] - 0s 23us/step - loss: 0.3236 - acc: 0.8724 - val_loss: 0.5094 - val_acc: 0.8064\n"
     ]
    },
    {
     "data": {
      "text/plain": [
       "<keras.callbacks.History at 0x191eb2e9f28>"
      ]
     },
     "execution_count": 12,
     "metadata": {},
     "output_type": "execute_result"
    }
   ],
   "source": [
    "model.fit(x=X_train, y=y_train,\n",
    "          batch_size=100,\n",
    "          epochs=50,\n",
    "          validation_data=(X_val, y_val),\n",
    "          verbose=1,callbacks=callbacks)"
   ]
  },
  {
   "cell_type": "markdown",
   "metadata": {},
   "source": [
    "### Build the best model you can, experimenting with hyperparameters before proceeding"
   ]
  },
  {
   "cell_type": "code",
   "execution_count": 13,
   "metadata": {},
   "outputs": [
    {
     "name": "stdout",
     "output_type": "stream",
     "text": [
      "2268/2268 [==============================] - 0s 19us/step\n",
      "\n",
      " model test loss is 0.5039726387466282 accuracy is 0.8134920634920635\n"
     ]
    }
   ],
   "source": [
    "loss, accuracy = model.evaluate(X_test, y=y_test)\n",
    "print(\"\\n model test loss is \"+str(loss)+\" accuracy is \"+str(accuracy))"
   ]
  },
  {
   "cell_type": "code",
   "execution_count": 14,
   "metadata": {
    "scrolled": true
   },
   "outputs": [
    {
     "name": "stdout",
     "output_type": "stream",
     "text": [
      "             precision    recall  f1-score   support\n",
      "\n",
      "          1       0.69      0.81      0.74       295\n",
      "          2       0.79      0.56      0.66       307\n",
      "          3       0.74      0.70      0.72       315\n",
      "          4       0.87      0.97      0.92       331\n",
      "          5       0.81      0.96      0.88       342\n",
      "          6       0.82      0.77      0.79       350\n",
      "          7       0.96      0.89      0.92       328\n",
      "\n",
      "avg / total       0.82      0.81      0.81      2268\n",
      "\n"
     ]
    }
   ],
   "source": [
    "y_softmax = model.predict(X_test)  # this is an n x class matrix of probabilities\n",
    "y_hat = y_softmax.argmax(axis=-1)  # this will be the class number.\n",
    "y_test_cat = y_test.argmax(axis=-1)  # our test data is also categorical\n",
    "print(classification_report(y_test_cat, y_hat))"
   ]
  },
  {
   "cell_type": "markdown",
   "metadata": {},
   "source": [
    "Q4: Explain in your own words what precsion, recall, and f1-score are.\n",
    "\n",
    "Precision is the Ratio of items predicted true that are actually true and not falsely true. Thus for this example, if the precision value is lower, it means that there are a lot of false positives, or classifications that are untrue. Such as something being designated a 1 when it is really a 2 for Cover_Type. Recall is the ratio of items that are true with respect to those that are true and those that are falsely negative (which should be true) Thus a low value for recall would suggest that there are for excample category 1 items that are being declared as any of the other categories. F1 is composed of the precision and recall and varies from 0 to 1 or if scaled 0 to 100. F1 is a helpful measure when uneven class distributions exist. It is often a good measure of accuracy as it takes into consideration the precision and recall.\n",
    "\n",
    "Q5: Is there a particular class that the model is best at predicting?\n",
    "It seems like class 4 and class 7 are modeled the best.\n"
   ]
  },
  {
   "cell_type": "markdown",
   "metadata": {},
   "source": [
    "Additional Notes:\n",
    "Things I experimented with:\n",
    "Dropout All Layers, single layer, starting at 0.5, used 0.8 Didnt really improve\n",
    "More Epochs Tested to 100. Noticed that the Val_loss increased, overfitting suspected as Val_loss was about 0.2 higher than training loss. Changed it back to 50. Added layers 1 at a time up to 6. Looks like 5 layers of 54 nodes did the trick. I experimented with node sizes and when I decreased them everything seemed to go in the opposide direction. \n",
    "\n",
    "Unfortunately for me, this project had to be redone this morning and I didnt get to spend the time on it that I wanted.  A few days ago a power line near my house got struck by lightning and took out half the electronics in my house. Had to dig out an old laptop and replace my whole network despite being on surge protectors.\n",
    "\n",
    "As you can probably see above I had to specify not to use GPU as mine isnt compatible. Also I had to use a separate file to house Tensorboard. That made things easier. (Next Time I will use a separate thread)\n",
    "\n",
    "The code for that page is below:\n",
    "import os\n",
    "from tensorboard import default\n",
    "from tensorboard import program\n",
    "\n",
    "my_directory = os.getcwd()+'\\\\logs'\n",
    "tb = program.TensorBoard(default.PLUGIN_LOADERS, default.get_assets_zip_provider())\n",
    "tb.configure(argv=['--logdir', my_directory])\n",
    "tb.main()\n",
    "\n",
    "I wonder what the expected accuracy is, and if its 100% then wow... im in trouble. Please post solutions to your problems after grading if you would. (or upload to github)"
   ]
  }
 ],
 "metadata": {
  "kernelspec": {
   "display_name": "Python 3",
   "language": "python",
   "name": "python3"
  },
  "language_info": {
   "codemirror_mode": {
    "name": "ipython",
    "version": 3
   },
   "file_extension": ".py",
   "mimetype": "text/x-python",
   "name": "python",
   "nbconvert_exporter": "python",
   "pygments_lexer": "ipython3",
   "version": "3.6.5"
  }
 },
 "nbformat": 4,
 "nbformat_minor": 2
}
